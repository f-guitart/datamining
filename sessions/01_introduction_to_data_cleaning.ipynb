{
 "cells": [
  {
   "cell_type": "markdown",
   "metadata": {},
   "source": [
    "# Introduction to Data Cleaning"
   ]
  },
  {
   "cell_type": "markdown",
   "metadata": {},
   "source": [
    "## Introduction"
   ]
  },
  {
   "cell_type": "markdown",
   "metadata": {},
   "source": [
    "The aim of this session is to introduce some of the basic data cleaning concepts and identify which are the sources of problems from gathering to transformations.\n",
    "\n",
    "It is often said that 80% of data analysis is spent on the process of cleaning and preparing the data (Dasu T, Johnson T (2003). Exploratory Data Mining and Data Cleaning. Wiley-IEEE.), so it's worth devoting some time to understand the main issues we can find in this cleaning process.\n",
    "\n",
    "The main problem Data Cleaning tries to solve is to transform Dirty Data into data that is ready for analysis or any other kind of meaningful management (i.e. model building, summarization, visualization)\n",
    "\n",
    "### What is Dirty Data?\n",
    "There's probably no definition of dirty data nor Clean Data, so we will try to answer this question by identifying data sources and the problems they have when we try to process the data.\n",
    "\n",
    "### What you will learn in this session\n",
    "* Which are the main sources of data\n",
    "* What we understand for Dirty Data and Clean Data\n",
    "* How to apporach the data cleaning problem in 5 steps\n",
    "* What kind of problems we may face during the process\n",
    "* What kind of data can a data source contain"
   ]
  },
  {
   "cell_type": "markdown",
   "metadata": {},
   "source": [
    "### Contents\n",
    "\n",
    "* [Data Sources](#Data-Sources)"
   ]
  },
  {
   "cell_type": "markdown",
   "metadata": {},
   "source": [
    "## Data Sources\n",
    "\n",
    "Let's begin with the identification of the main sources where we may gather data. \n",
    "\n",
    "We will define a Data Source as \"*a digital register or sets of digital registers that contain named values*\".\n",
    "\n",
    "Each source can be a focus of non properly saved data and have its own problems.\n",
    "\n",
    "* **Federated data:** data coming from one data base or a group of databases through a unified model.\n",
    "    * Example of SQL normalized database (real example):\n",
    "        * **Objective:** build a model to predict the weight of a cow during its breeding\n",
    "        * **Data source:** MySQL 'normalized' database with multiple tables\n",
    "        * **Approach:** Transform data to build a dataset ready to feed a supervised learning model \n",
    "        * **Problems found:**\n",
    "            * *The carton milk cow:* cows that entered in the farm but at some point were lost and no out record found\n",
    "            * *The zombie cow:* cows that after been registered as dead, appeared at some part of the farm"
   ]
  },
  {
   "cell_type": "markdown",
   "metadata": {},
   "source": [
    "##### How to load data from a database?:\n",
    "1. Dumping data into a file, then scrap (SQL example). We will use the example MySQL DB form: https://github.com/datacharmer/test_db. Clone the repo to `data/`."
   ]
  },
  {
   "cell_type": "code",
   "execution_count": 3,
   "metadata": {},
   "outputs": [
    {
     "data": {
      "text/plain": [
       "\"INSERT INTO `employees` VALUES (10001,'1953-09-02','Georgi','Facello','M','1986-06-26'),\\n(10002,'196\""
      ]
     },
     "execution_count": 3,
     "metadata": {},
     "output_type": "execute_result"
    }
   ],
   "source": [
    "with open(\"../data/test_db/load_employees.dump\", \"r\") as f:\n",
    "    sql_dump = f.read()\n",
    "sql_dump[:100]"
   ]
  },
  {
   "cell_type": "code",
   "execution_count": 13,
   "metadata": {},
   "outputs": [
    {
     "data": {
      "text/plain": [
       "[[' (10001', \"'1953-09-02'\", \"'Georgi'\", \"'Facello'\", \"'M'\", \"'1986-06-26')\"],\n",
       " ['(10002', \"'1964-06-02'\", \"'Bezalel'\", \"'Simmel'\", \"'F'\", \"'1985-11-21')\"],\n",
       " ['(10003', \"'1959-12-03'\", \"'Parto'\", \"'Bamford'\", \"'M'\", \"'1986-08-28')\"]]"
      ]
     },
     "execution_count": 13,
     "metadata": {},
     "output_type": "execute_result"
    }
   ],
   "source": [
    "sql_values = sql_dump.split(\"VALUES\")\n",
    "sql_values = [line.split(\",\")[:-1] for line in sql_values[1].split(\"\\n\")]\n",
    "sql_values[:3]"
   ]
  },
  {
   "cell_type": "code",
   "execution_count": 23,
   "metadata": {},
   "outputs": [],
   "source": [
    "import re\n",
    "\n",
    "def clean_symbols(in_string):\n",
    "    out_string =  re.sub(r'[^\\w]', '', in_string)\n",
    "    return out_string\n",
    "\n",
    "clean_dataset = []\n",
    "for register in sql_values:\n",
    "    clean_dataset.append([clean_symbols(line) for line in register])"
   ]
  },
  {
   "cell_type": "code",
   "execution_count": 24,
   "metadata": {},
   "outputs": [
    {
     "data": {
      "text/plain": [
       "[['10001', '19530902', 'Georgi', 'Facello', 'M', '19860626'],\n",
       " ['10002', '19640602', 'Bezalel', 'Simmel', 'F', '19851121'],\n",
       " ['10003', '19591203', 'Parto', 'Bamford', 'M', '19860828']]"
      ]
     },
     "execution_count": 24,
     "metadata": {},
     "output_type": "execute_result"
    }
   ],
   "source": [
    "clean_dataset[:3]"
   ]
  },
  {
   "cell_type": "markdown",
   "metadata": {},
   "source": [
    "2. Progamatically quering (you'll need to install `mysql`):"
   ]
  },
  {
   "cell_type": "code",
   "execution_count": 32,
   "metadata": {},
   "outputs": [],
   "source": [
    "import json\n",
    "# put your credentials into a json file in resources/mysql_credentials.json\n",
    "def load_credentials(my_credentials):\n",
    "    with open(my_credentials, \"r\") as f:\n",
    "        cred = json.load(f)\n",
    "        \n",
    "    return cred[\"user\"], cred[\"password\"]\n",
    "\n",
    "user, password = load_credentials(\"../resources/mysql_credentials.json\")"
   ]
  },
  {
   "cell_type": "code",
   "execution_count": 33,
   "metadata": {},
   "outputs": [],
   "source": [
    "#!/usr/bin/python\n",
    "import MySQLdb\n",
    "\n",
    "db = MySQLdb.connect(host=\"localhost\",    # your host, usually localhost\n",
    "                     user=user,         # your username\n",
    "                     passwd=password,  # your password\n",
    "                     db=\"employees\")        # name of the data base\n",
    "\n",
    "# you must create a Cursor object. It will let\n",
    "#  you execute all the queries you need\n",
    "cur = db.cursor()\n",
    "\n",
    "# Use all the SQL you like\n",
    "cur.execute(\"SELECT * FROM employees\")\n",
    "\n",
    "emplyees = [row for row in cur.fetchall()]\n",
    "db.close()"
   ]
  },
  {
   "cell_type": "code",
   "execution_count": 34,
   "metadata": {},
   "outputs": [
    {
     "data": {
      "text/plain": [
       "[(10001,\n",
       "  datetime.date(1953, 9, 2),\n",
       "  'Georgi',\n",
       "  'Facello',\n",
       "  'M',\n",
       "  datetime.date(1986, 6, 26)),\n",
       " (10002,\n",
       "  datetime.date(1964, 6, 2),\n",
       "  'Bezalel',\n",
       "  'Simmel',\n",
       "  'F',\n",
       "  datetime.date(1985, 11, 21)),\n",
       " (10003,\n",
       "  datetime.date(1959, 12, 3),\n",
       "  'Parto',\n",
       "  'Bamford',\n",
       "  'M',\n",
       "  datetime.date(1986, 8, 28))]"
      ]
     },
     "execution_count": 34,
     "metadata": {},
     "output_type": "execute_result"
    }
   ],
   "source": [
    "emplyees[:3]"
   ]
  },
  {
   "cell_type": "markdown",
   "metadata": {},
   "source": [
    "* **High dimensional data:** Let’s say we have $n$ samples (a.k.a. data points, instances) and $p$ features (a.k.a. attributes, independent variables, explanatory variables). \n",
    "\n",
    "    There's no precise definition of how many dimensions are \"high dimensional\" so the imprecise definition is that high dimensional data is simply a data set with a very large p (semtimes around 1000)\n",
    "    * **Medical records:** genomic data have large $p$ and small $n$\n",
    "    * **Images:** for example a 320x480 image means that we have 153600 variables\n",
    "    * **Natural Language:** the bag-of-words apporach maps each word of a language to a variable, if we use a one-hot encoding approach it makes a simple sentence to be high dimensional"
   ]
  },
  {
   "cell_type": "markdown",
   "metadata": {},
   "source": [
    "##### Data Sparsity and Data Density\n",
    "\n",
    "We may have scenarios with high dimensional spaces that are dense (i.e. images).\n",
    "\n",
    "In this case we will use the MNIST dataset. This dataset is a very famous dataset for image classification, and it consists of a set of 28x28 handwritten digit images."
   ]
  },
  {
   "cell_type": "code",
   "execution_count": 69,
   "metadata": {},
   "outputs": [
    {
     "name": "stdout",
     "output_type": "stream",
     "text": [
      "--2019-11-11 12:36:48--  http://yann.lecun.com/exdb/mnist/train-images-idx3-ubyte.gz\n",
      "S'està resolent yann.lecun.com (yann.lecun.com)… 216.165.22.6\n",
      "S'està connectant a yann.lecun.com (yann.lecun.com)|216.165.22.6|:80… connectat.\n",
      "HTTP: s'ha enviat la petició, s'està esperant una resposta… 200 OK\n",
      "Mida: 9912422 (9,5M) [application/x-gzip]\n",
      "S'està desant a: «train-images-idx3-ubyte.gz»\n",
      "\n",
      "train-images-idx3-u 100%[===================>]   9,45M  3,11MB/s    in 3,0s    \n",
      "\n",
      "2019-11-11 12:36:51 (3,11 MB/s) - s'ha desat «train-images-idx3-ubyte.gz» [9912422/9912422]\n",
      "\n"
     ]
    }
   ],
   "source": [
    "!cd ../data/ && wget http://yann.lecun.com/exdb/mnist/train-images-idx3-ubyte.gz"
   ]
  },
  {
   "cell_type": "code",
   "execution_count": 70,
   "metadata": {},
   "outputs": [],
   "source": [
    "import requests\n",
    "import gzip\n",
    "\n",
    "f = gzip.open(\"../data/train-images-idx3-ubyte.gz\",'r')\n",
    "\n",
    "image_size = 28\n",
    "num_images = 5\n",
    "\n",
    "import numpy as np\n",
    "f.read(16)\n",
    "buf = f.read(image_size * image_size * num_images)\n",
    "data = np.frombuffer(buf, dtype=np.uint8).astype(np.float32)\n",
    "data = data.reshape(num_images, image_size, image_size, 1)"
   ]
  },
  {
   "cell_type": "code",
   "execution_count": 71,
   "metadata": {},
   "outputs": [
    {
     "data": {
      "text/plain": [
       "(28, 28, 1)"
      ]
     },
     "execution_count": 71,
     "metadata": {},
     "output_type": "execute_result"
    }
   ],
   "source": [
    "data[0].shape"
   ]
  },
  {
   "cell_type": "code",
   "execution_count": 72,
   "metadata": {},
   "outputs": [
    {
     "data": {
      "image/png": "[encoded data removed]",
      "text/plain": [
       "<Figure size 432x288 with 1 Axes>"
      ]
     },
     "metadata": {
      "needs_background": "light"
     },
     "output_type": "display_data"
    }
   ],
   "source": [
    "import matplotlib.pyplot as plt\n",
    "image = np.asarray(data[0]).squeeze()\n",
    "plt.imshow(image)\n",
    "plt.show()"
   ]
  },
  {
   "cell_type": "code",
   "execution_count": 79,
   "metadata": {},
   "outputs": [
    {
     "name": "stdout",
     "output_type": "stream",
     "text": [
      "num of zeros: 618 (78.8265306122449% of the image)\n"
     ]
    }
   ],
   "source": [
    "num_zeros = 0\n",
    "for row in image.tolist():\n",
    "    for pixel in row:\n",
    "        if pixel == 0:\n",
    "            num_zeros += 1\n",
    "print(\"num of zeros: {} ({}% of the image)\".format(num_zeros, 100*num_zeros/(image.shape[0]*image.shape[1])))\n"
   ]
  },
  {
   "cell_type": "code",
   "execution_count": 93,
   "metadata": {},
   "outputs": [
    {
     "name": "stdout",
     "output_type": "stream",
     "text": [
      "Status code: 200\n"
     ]
    },
    {
     "data": {
      "image/png": "[encoded data removed]",
      "text/plain": [
       "<Figure size 432x288 with 1 Axes>"
      ]
     },
     "metadata": {
      "needs_background": "light"
     },
     "output_type": "display_data"
    }
   ],
   "source": [
    "from PIL import Image\n",
    "import io\n",
    "\n",
    "url = \"https://studios.disneyresearch.com/wp-content/uploads/2019/04/mickeylogo.png\"\n",
    "r = requests.get(url)\n",
    "print(\"Status code: {}\".format(r.status_code))\n",
    "image_data = r.content\n",
    "\n",
    "image = Image.open(io.BytesIO(image_data))\n",
    "plt.imshow(image)\n",
    "plt.show()"
   ]
  },
  {
   "cell_type": "code",
   "execution_count": 99,
   "metadata": {},
   "outputs": [
    {
     "data": {
      "text/plain": [
       "(176, 602, 4)"
      ]
     },
     "execution_count": 99,
     "metadata": {},
     "output_type": "execute_result"
    }
   ],
   "source": [
    "image.shape"
   ]
  },
  {
   "cell_type": "code",
   "execution_count": 101,
   "metadata": {},
   "outputs": [
    {
     "name": "stdout",
     "output_type": "stream",
     "text": [
      "num of zeros: 352326 (83.13340003020235% of the image)\n"
     ]
    }
   ],
   "source": [
    "num_zeros = 0\n",
    "image = np.array(image)\n",
    "for channel in image.tolist():\n",
    "    for row in channel:\n",
    "        for pixel in row:\n",
    "            if pixel == 0:\n",
    "                num_zeros += 1\n",
    "print(\"num of zeros: {} ({}% of the image)\".format(\n",
    "    num_zeros, \n",
    "    100*num_zeros/(image.shape[0]*image.shape[1]*image.shape[2]))\n",
    ")"
   ]
  },
  {
   "cell_type": "markdown",
   "metadata": {},
   "source": [
    "##### Course of dimensionality (from [KDnuggets post](https://www.kdnuggets.com/2017/04/must-know-curse-dimensionality.html))\n",
    "\n",
    "*\"As the number of features or dimensions grows, the amount of data we need to generalize accurately grows exponentially.\"*\n",
    "\n",
    "- Charles Isbell, Professor and Senior Associate Dean, School of Interactive Computing, Georgia Tech\n",
    "\n",
    "So imagine we have 3 observations of an individuum (*i.e.* age of a cow) that is tanged from 0 to 10"
   ]
  },
  {
   "cell_type": "code",
   "execution_count": 107,
   "metadata": {},
   "outputs": [],
   "source": [
    "x = [3, 2, 7]"
   ]
  },
  {
   "cell_type": "markdown",
   "metadata": {},
   "source": [
    "This is a fairly small dataset, however our dimension space is 10 as we may want to represent any obsevation."
   ]
  },
  {
   "cell_type": "code",
   "execution_count": 143,
   "metadata": {},
   "outputs": [
    {
     "name": "stdout",
     "output_type": "stream",
     "text": [
      "400 bytes\n",
      "space dimension: 10.0\n"
     ]
    }
   ],
   "source": [
    "import sys\n",
    "\n",
    "# size in bytes\n",
    "x_space = np.linspace(0,10)\n",
    "print(\"%d bytes\" % (x_space.nbytes))\n",
    "print(\"space dimension: {}\".format(max(x_space)))"
   ]
  },
  {
   "cell_type": "markdown",
   "metadata": {},
   "source": [
    "Now we want to add a new feature (*i.e.* colour). This variable has a range of 10 colours"
   ]
  },
  {
   "cell_type": "code",
   "execution_count": 144,
   "metadata": {},
   "outputs": [
    {
     "name": "stdout",
     "output_type": "stream",
     "text": [
      "800 bytes\n",
      "space dimension: 100.0\n"
     ]
    }
   ],
   "source": [
    "y = [0, 1, 2]\n",
    "y_space = np.linspace(0,10)\n",
    "\n",
    "# size in bytes\n",
    "print(\"%d bytes\" % (np.array([x_space, y_space]).nbytes))\n",
    "print(\"space dimension: {}\".format(max(x_space) * max(y_space)))"
   ]
  },
  {
   "cell_type": "markdown",
   "metadata": {},
   "source": [
    "Once again, we add a new variable. Say number of diseases during first year, and we again range this variable to 10 values."
   ]
  },
  {
   "cell_type": "code",
   "execution_count": 145,
   "metadata": {},
   "outputs": [
    {
     "name": "stdout",
     "output_type": "stream",
     "text": [
      "1200 bytes\n",
      "space dimension: 1000.0\n"
     ]
    }
   ],
   "source": [
    "z = [0, 6, 9]\n",
    "z_space = np.linspace(0,10)\n",
    "\n",
    "# size in bytes\n",
    "print(\"%d bytes\" % (np.array([x_space, y_space, z_space]).nbytes))\n",
    "print(\"space dimension: {}\".format(max(x_space) * max(y_space) * max(z_space)))"
   ]
  },
  {
   "cell_type": "code",
   "execution_count": 136,
   "metadata": {},
   "outputs": [
    {
     "data": {
      "image/png": "[encoded data removed]",
      "text/plain": [
       "<Figure size 864x576 with 1 Axes>"
      ]
     },
     "metadata": {
      "needs_background": "light"
     },
     "output_type": "display_data"
    }
   ],
   "source": [
    "import matplotlib.pyplot as plt\n",
    "from mpl_toolkits.mplot3d import Axes3D\n",
    "\n",
    "fig = plt.figure(figsize=(12, 8))\n",
    "ax = fig.add_subplot(111, projection='3d')\n",
    "\n",
    "ax.scatter(x,y,z, s=60)\n",
    "ax.set_xlim([0, 10])\n",
    "ax.set_xlabel('age (years)')\n",
    "\n",
    "ax.set_ylim([0, 10])\n",
    "ax.set_ylabel('colour')\n",
    "\n",
    "ax.set_zlim([0, 10])\n",
    "ax.set_zlabel('diseases')\n",
    "\n",
    "\n",
    "plt.show()"
   ]
  },
  {
   "cell_type": "markdown",
   "metadata": {},
   "source": [
    "##### Bigger than memory problem\n",
    "\n",
    "This problem happens when our dataset is bigger than our RAM memory.\n",
    "\n",
    "It is a common problem when dealing with high-dimensional data (*i.e.* images, videos).\n",
    "\n",
    "Take into account that we may have a large Hard Disk, where our data set can be allocated without any problem. However, say we want to transform the dataset or perform some analysis.\n",
    "\n",
    "The most naïve way of doing such a task is loading the dataset into batches, and perform the action batch per batch."
   ]
  },
  {
   "cell_type": "markdown",
   "metadata": {},
   "source": [
    "* **Descriptive data:** a descriptive statistic (in the count noun sense) is a summary statistic that quantitatively describes or summarizes features of a collection of information. \n",
    "\n",
    "For example: https://www.ine.es/dyngs/INEbase/es/operacion.htm?c=Estadistica_C&cid=1254736176906&menu=resultados&idp=1254735576820"
   ]
  },
  {
   "cell_type": "markdown",
   "metadata": {},
   "source": [
    "* **Longitudinal data:** Longitudinal data, sometimes called panel data, is a collection of repeated observations of the same subjects, taken from a larger population, over some time  (track the same sample at different points in time)"
   ]
  },
  {
   "cell_type": "markdown",
   "metadata": {},
   "source": [
    "* **Streaming data:** Streaming data is data that is continuously generated by different sources\n",
    "    * A increasing scenario due to IoT raise\n",
    "    * High frequency: needs of high performance computing\n",
    "    * High value degradation: validity of data is really short, it has to be consumed at high paces"
   ]
  },
  {
   "cell_type": "markdown",
   "metadata": {},
   "source": [
    "* **Web (scraped) data:** Potentially unstructred data coded for visualization (i.e. HTML coding)"
   ]
  },
  {
   "cell_type": "markdown",
   "metadata": {},
   "source": [
    "# Exercises\n",
    "\n",
    "**Exercise 1:** Load  `data/iqsize.csv` using only the Python Standard Library (you can use the `csv` module if you want. The result should be a **list of lists** containing the values in the csv file.\n",
    "\n",
    "**Exercise 2:** Instead of using list of lists, do you think that there exist any advantage of using dictionaries (e.g a list of dictionaries)?\n",
    "\n",
    "**Exercise 3:** Load `data/iqsize.csv` taking advantage of indexes and dictionaries. Describe the problems that you faced so far with this approach.\n"
   ]
  },
  {
   "cell_type": "markdown",
   "metadata": {},
   "source": [
    "# Bibliography and referencesc"
   ]
  },
  {
   "cell_type": "markdown",
   "metadata": {},
   "source": [
    "[1] Jonge van der Loo, Introduction to data cleaning with R - https://cran.r-project.org/doc/contrib/de_Jonge+van_der_Loo-Introduction_to_data_cleaning_with_R.pdf\n",
    "\n",
    "[2] Dasu T, Johnson T (2003). Exploratory Data Mining and Data Cleaning. Wiley-IEEE.\n",
    "\n",
    "[3] Hadley Wickman. Tidy Data. http://vita.had.co.nz/papers/tidy-data.pdf \n",
    "\n",
    "[4] http://stattrek.com/descriptive-statistics/variables.aspx\n",
    "\n",
    "[5] Notes of the Introduction to Data Science Course by John Canny"
   ]
  }
 ],
 "metadata": {
  "anaconda-cloud": {},
  "kernelspec": {
   "display_name": "Python 3",
   "language": "python",
   "name": "python3"
  },
  "language_info": {
   "codemirror_mode": {
    "name": "ipython",
    "version": 3
   },
   "file_extension": ".py",
   "mimetype": "text/x-python",
   "name": "python",
   "nbconvert_exporter": "python",
   "pygments_lexer": "ipython3",
   "version": "3.7.3"
  }
 },
 "nbformat": 4,
 "nbformat_minor": 1
}
