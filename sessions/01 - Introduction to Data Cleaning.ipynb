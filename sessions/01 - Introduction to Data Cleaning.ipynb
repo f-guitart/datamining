{
 "cells": [
  {
   "cell_type": "markdown",
   "metadata": {},
   "source": [
    "# Introduction to Data Cleaning"
   ]
  },
  {
   "cell_type": "markdown",
   "metadata": {},
   "source": [
    "## Introduction"
   ]
  },
  {
   "cell_type": "markdown",
   "metadata": {},
   "source": [
    "The aim of this notebook is to introduce you to basic data cleaning using Python and Pandas. Most of the contents follow the ideas presented the great report of Jonge van der Loo - <cite>[Introduction to data cleaning with R][1]</cite>. \n",
    "\n",
    "It is often said that 80% of data analysis is spent on the process of cleaning and preparing the data (Dasu T, Johnson T (2003). Exploratory Data Mining and Data Cleaning. Wiley-IEEE.). \n",
    "\n",
    "Of course one can find data sources date are ready to go, but usually these sources are already explored data sets on practical examples. \n",
    "\n",
    "The Data Scientist mission is to convert these raw data sources into consistent data sets that can be used as input for further analysis.\n",
    "\n",
    "Even with technically correct data sets, and after hard work on cleaning, checking, filling data sets can lack of a  standard way to organize data values within a dataset.\n",
    "\n",
    "\n"
   ]
  },
  {
   "cell_type": "markdown",
   "metadata": {},
   "source": [
    "## Statistical Analysis in Five Steps"
   ]
  },
  {
   "cell_type": "markdown",
   "metadata": {},
   "source": [
    "Statistical data analysis can be divided into five steps:\n",
    "1. **Raw data:** type checking, normalizing. Among the errors we can find there are: wrong types, different variable encoding, data without labels, etc.         \n",
    "2. **Technically correct data:** fix and impute. At this stage data has the proper \"shape\" with correct names, types, labels and so on. However variables may be out of range or potentially inconsistent (relations between variables)  \n",
    "3. **Consistent data:** estimate, analyze, derive, etc. At this stage, data is ready for statistical inference. For example the total amount of incomes in a year is the sum of all months incomes.\n",
    "4. **Statistical results:** tabulate, plot\n",
    "5. **Formatted output**"
   ]
  },
  {
   "cell_type": "markdown",
   "metadata": {},
   "source": [
    "## Kind Reminder on (statistical) variables"
   ]
  },
  {
   "cell_type": "markdown",
   "metadata": {},
   "source": [
    "Data cleaning can be seen as the first step on statistical analysis, and as programmers we tend to forget or mess the statistical terms. \n",
    "\n",
    "**What an statistician says when it says variable?** For a computer programmer, a variable is a memory space that can be filled with a know (or unknown) quantity of information (a.k.a. value). Moreover, this space has an associated notation alias that can be used in a program in running time to modify the value of the variable. Well, don't take this as an exact definition, but it helps to provide us a general refresh of what a variable is (for us the CS).\n",
    "\n",
    "Well, statisticians have their own variables, lets have an (again) informal definition. In statistics, a variable is an attribute that describes a person, place, thing, or idea (often referred as feature). \n",
    "\n",
    "As an example, we can take the list of physical characteristics of 10 persons. The objects of the matrix are the persons, the variables are the measured properties, such as the weight or the color of the eyes. "
   ]
  },
  {
   "cell_type": "code",
   "execution_count": 1,
   "metadata": {},
   "outputs": [
    {
     "data": {
      "text/html": [
       "<div>\n",
       "<style scoped>\n",
       "    .dataframe tbody tr th:only-of-type {\n",
       "        vertical-align: middle;\n",
       "    }\n",
       "\n",
       "    .dataframe tbody tr th {\n",
       "        vertical-align: top;\n",
       "    }\n",
       "\n",
       "    .dataframe thead th {\n",
       "        text-align: right;\n",
       "    }\n",
       "</style>\n",
       "<table border=\"1\" class=\"dataframe\">\n",
       "  <thead>\n",
       "    <tr style=\"text-align: right;\">\n",
       "      <th></th>\n",
       "      <th>Age[years]</th>\n",
       "      <th>Sex</th>\n",
       "      <th>Weight[kg]</th>\n",
       "      <th>Eye Color</th>\n",
       "      <th>Body Temperature[C]</th>\n",
       "    </tr>\n",
       "  </thead>\n",
       "  <tbody>\n",
       "    <tr>\n",
       "      <th>individuum 1</th>\n",
       "      <td>42</td>\n",
       "      <td>female</td>\n",
       "      <td>52.9</td>\n",
       "      <td>brown</td>\n",
       "      <td>36.9</td>\n",
       "    </tr>\n",
       "    <tr>\n",
       "      <th>individuum 2</th>\n",
       "      <td>37</td>\n",
       "      <td>male</td>\n",
       "      <td>87.0</td>\n",
       "      <td>green</td>\n",
       "      <td>36.3</td>\n",
       "    </tr>\n",
       "    <tr>\n",
       "      <th>individuum 3</th>\n",
       "      <td>29</td>\n",
       "      <td>male</td>\n",
       "      <td>82.1</td>\n",
       "      <td>blue</td>\n",
       "      <td>36.4</td>\n",
       "    </tr>\n",
       "    <tr>\n",
       "      <th>individuum 4</th>\n",
       "      <td>61</td>\n",
       "      <td>female</td>\n",
       "      <td>62.5</td>\n",
       "      <td>blue</td>\n",
       "      <td>36.7</td>\n",
       "    </tr>\n",
       "    <tr>\n",
       "      <th>individuum 5</th>\n",
       "      <td>77</td>\n",
       "      <td>female</td>\n",
       "      <td>55.5</td>\n",
       "      <td>gray</td>\n",
       "      <td>36.6</td>\n",
       "    </tr>\n",
       "    <tr>\n",
       "      <th>individuum 6</th>\n",
       "      <td>33</td>\n",
       "      <td>male</td>\n",
       "      <td>95.2</td>\n",
       "      <td>green</td>\n",
       "      <td>36.5</td>\n",
       "    </tr>\n",
       "    <tr>\n",
       "      <th>individuum 7</th>\n",
       "      <td>32</td>\n",
       "      <td>female</td>\n",
       "      <td>81.8</td>\n",
       "      <td>brown</td>\n",
       "      <td>37.0</td>\n",
       "    </tr>\n",
       "    <tr>\n",
       "      <th>individuum 8</th>\n",
       "      <td>45</td>\n",
       "      <td>male</td>\n",
       "      <td>78.9</td>\n",
       "      <td>brown</td>\n",
       "      <td>36.3</td>\n",
       "    </tr>\n",
       "    <tr>\n",
       "      <th>individuum 9</th>\n",
       "      <td>18</td>\n",
       "      <td>male</td>\n",
       "      <td>83.4</td>\n",
       "      <td>green</td>\n",
       "      <td>36.6</td>\n",
       "    </tr>\n",
       "    <tr>\n",
       "      <th>individuum 10</th>\n",
       "      <td>19</td>\n",
       "      <td>male</td>\n",
       "      <td>84.7</td>\n",
       "      <td>gray</td>\n",
       "      <td>36.1</td>\n",
       "    </tr>\n",
       "  </tbody>\n",
       "</table>\n",
       "</div>"
      ],
      "text/plain": [
       "               Age[years]      Sex  Weight[kg] Eye Color  Body Temperature[C]\n",
       "individuum 1           42   female        52.9     brown                 36.9\n",
       "individuum 2           37     male        87.0     green                 36.3\n",
       "individuum 3           29     male        82.1      blue                 36.4\n",
       "individuum 4           61   female        62.5      blue                 36.7\n",
       "individuum 5           77   female        55.5      gray                 36.6\n",
       "individuum 6           33     male        95.2     green                 36.5\n",
       "individuum 7           32   female        81.8     brown                 37.0\n",
       "individuum 8           45     male        78.9     brown                 36.3\n",
       "individuum 9           18     male        83.4     green                 36.6\n",
       "individuum 10          19     male        84.7      gray                 36.1"
      ]
     },
     "execution_count": 1,
     "metadata": {},
     "output_type": "execute_result"
    }
   ],
   "source": [
    "import pandas as pd\n",
    "df = pd.read_csv('../data/people.csv',index_col=0)\n",
    "df"
   ]
  },
  {
   "cell_type": "markdown",
   "metadata": {},
   "source": [
    "Variables can be classified as **qualitative** (*aka, categorical*) or **quantitative** (*aka, numeric*).\n",
    "\n",
    "* **Qualitative:** Qualitative variables take on values that are **names** or **labels**. The eye color (e.g., brown, green, gray, etc.) or the sex of the person (e.g., female, male) would be examples of qualitative or categorical variables.\n",
    "\n",
    "* **Quantitative:** Quantitative variables are numeric. They represent a measurable quantity. For example, when we speak of the age of a person, we are talking about the time past from its birth - a measurable attribute of the persom. Therefore, age would be a qualitative variable."
   ]
  },
  {
   "cell_type": "markdown",
   "metadata": {},
   "source": [
    "Basically in Pandas there are two fundamental data structures Series and DataFrame. According to the previous definition of statistical variables, a Series would be a variable an a DataFrame would be a set of variables. Moreover, if we slice a DataFrame (set of variables) we get a Series (variable)."
   ]
  },
  {
   "cell_type": "code",
   "execution_count": 2,
   "metadata": {},
   "outputs": [
    {
     "data": {
      "text/plain": [
       "pandas.core.series.Series"
      ]
     },
     "execution_count": 2,
     "metadata": {},
     "output_type": "execute_result"
    }
   ],
   "source": [
    "type(df[\"Sex\"])"
   ]
  },
  {
   "cell_type": "markdown",
   "metadata": {},
   "source": [
    "And what kind of variable is for example the weight of a person?"
   ]
  },
  {
   "cell_type": "code",
   "execution_count": 3,
   "metadata": {},
   "outputs": [
    {
     "data": {
      "text/plain": [
       "dtype('int64')"
      ]
     },
     "execution_count": 3,
     "metadata": {},
     "output_type": "execute_result"
    }
   ],
   "source": [
    "df[\"Age[years]\"].dtype"
   ]
  },
  {
   "cell_type": "markdown",
   "metadata": {},
   "source": [
    "And what about categorical variables? Well, that deserve more than a word, so commonly for us categorical variables will have object dtype."
   ]
  },
  {
   "cell_type": "code",
   "execution_count": 8,
   "metadata": {},
   "outputs": [
    {
     "data": {
      "text/plain": [
       "dtype('O')"
      ]
     },
     "execution_count": 8,
     "metadata": {},
     "output_type": "execute_result"
    }
   ],
   "source": [
    "df[\"Sex\"].dtype"
   ]
  },
  {
   "cell_type": "code",
   "execution_count": 7,
   "metadata": {},
   "outputs": [
    {
     "data": {
      "text/plain": [
       "dtype('O')"
      ]
     },
     "execution_count": 7,
     "metadata": {},
     "output_type": "execute_result"
    }
   ],
   "source": [
    "df[\"Eye Color\"].dtype"
   ]
  },
  {
   "cell_type": "markdown",
   "metadata": {},
   "source": [
    "To know more about this, give a read to these links:\n",
    "* http://stackoverflow.com/questions/21018654/strings-in-a-dataframe-but-dtype-is-object\n",
    "* http://pandas.pydata.org/pandas-docs/stable/categorical.html\n",
    "* http://pandas.pydata.org/pandas-docs/version/0.15.2/text.html"
   ]
  },
  {
   "cell_type": "markdown",
   "metadata": {},
   "source": [
    "## Special Values\n",
    "\n",
    "There are some values that are considered as special. \n",
    "\n",
    "This is the case when we have missing data (this is when no data value is stored for the variable in an observation). \n",
    "\n",
    "There are other cases, such as Inf and -Inf, etc.\n",
    "\n",
    "### Missing data\n",
    "\n",
    "Let's suppose that we are getting individuum attributes, and we loose or the height of an individuum can't be taken. \n",
    "\n",
    "We will always try to store all the information we can, so the best way to deal with this kind of situations is to mark these value as missing.\n",
    "\n",
    "The reason is... it is sure that this person has a weight, however we don't know it"
   ]
  },
  {
   "cell_type": "code",
   "execution_count": 12,
   "metadata": {},
   "outputs": [
    {
     "data": {
      "text/html": [
       "<div>\n",
       "<style scoped>\n",
       "    .dataframe tbody tr th:only-of-type {\n",
       "        vertical-align: middle;\n",
       "    }\n",
       "\n",
       "    .dataframe tbody tr th {\n",
       "        vertical-align: top;\n",
       "    }\n",
       "\n",
       "    .dataframe thead th {\n",
       "        text-align: right;\n",
       "    }\n",
       "</style>\n",
       "<table border=\"1\" class=\"dataframe\">\n",
       "  <thead>\n",
       "    <tr style=\"text-align: right;\">\n",
       "      <th></th>\n",
       "      <th>Age[years]</th>\n",
       "      <th>Sex</th>\n",
       "      <th>Weight[kg]</th>\n",
       "      <th>Eye Color</th>\n",
       "      <th>Body Temperature[C]</th>\n",
       "    </tr>\n",
       "  </thead>\n",
       "  <tbody>\n",
       "    <tr>\n",
       "      <th>individuum 1</th>\n",
       "      <td>42</td>\n",
       "      <td>female</td>\n",
       "      <td>52.9</td>\n",
       "      <td>brown</td>\n",
       "      <td>36.9</td>\n",
       "    </tr>\n",
       "    <tr>\n",
       "      <th>individuum 2</th>\n",
       "      <td>37</td>\n",
       "      <td>male</td>\n",
       "      <td>87.0</td>\n",
       "      <td>green</td>\n",
       "      <td>36.3</td>\n",
       "    </tr>\n",
       "    <tr>\n",
       "      <th>individuum 3</th>\n",
       "      <td>29</td>\n",
       "      <td>male</td>\n",
       "      <td>82.1</td>\n",
       "      <td>blue</td>\n",
       "      <td>36.4</td>\n",
       "    </tr>\n",
       "    <tr>\n",
       "      <th>individuum 4</th>\n",
       "      <td>61</td>\n",
       "      <td>female</td>\n",
       "      <td>62.5</td>\n",
       "      <td>blue</td>\n",
       "      <td>36.7</td>\n",
       "    </tr>\n",
       "    <tr>\n",
       "      <th>individuum 5</th>\n",
       "      <td>77</td>\n",
       "      <td>female</td>\n",
       "      <td>55.5</td>\n",
       "      <td>gray</td>\n",
       "      <td>36.6</td>\n",
       "    </tr>\n",
       "    <tr>\n",
       "      <th>individuum 6</th>\n",
       "      <td>33</td>\n",
       "      <td>male</td>\n",
       "      <td>95.2</td>\n",
       "      <td>green</td>\n",
       "      <td>36.5</td>\n",
       "    </tr>\n",
       "    <tr>\n",
       "      <th>individuum 7</th>\n",
       "      <td>32</td>\n",
       "      <td>female</td>\n",
       "      <td>81.8</td>\n",
       "      <td>brown</td>\n",
       "      <td>37.0</td>\n",
       "    </tr>\n",
       "    <tr>\n",
       "      <th>individuum 8</th>\n",
       "      <td>45</td>\n",
       "      <td>male</td>\n",
       "      <td>78.9</td>\n",
       "      <td>brown</td>\n",
       "      <td>36.3</td>\n",
       "    </tr>\n",
       "    <tr>\n",
       "      <th>individuum 9</th>\n",
       "      <td>18</td>\n",
       "      <td>male</td>\n",
       "      <td>NaN</td>\n",
       "      <td>green</td>\n",
       "      <td>36.6</td>\n",
       "    </tr>\n",
       "    <tr>\n",
       "      <th>individuum 10</th>\n",
       "      <td>19</td>\n",
       "      <td>male</td>\n",
       "      <td>84.7</td>\n",
       "      <td>gray</td>\n",
       "      <td>36.1</td>\n",
       "    </tr>\n",
       "  </tbody>\n",
       "</table>\n",
       "</div>"
      ],
      "text/plain": [
       "               Age[years]      Sex  Weight[kg] Eye Color  Body Temperature[C]\n",
       "individuum 1           42   female        52.9     brown                 36.9\n",
       "individuum 2           37     male        87.0     green                 36.3\n",
       "individuum 3           29     male        82.1      blue                 36.4\n",
       "individuum 4           61   female        62.5      blue                 36.7\n",
       "individuum 5           77   female        55.5      gray                 36.6\n",
       "individuum 6           33     male        95.2     green                 36.5\n",
       "individuum 7           32   female        81.8     brown                 37.0\n",
       "individuum 8           45     male        78.9     brown                 36.3\n",
       "individuum 9           18     male         NaN     green                 36.6\n",
       "individuum 10          19     male        84.7      gray                 36.1"
      ]
     },
     "execution_count": 12,
     "metadata": {},
     "output_type": "execute_result"
    }
   ],
   "source": [
    "df = pd.read_csv('../data/people_with_nas.csv',index_col=0,na_values=\"NaN\")\n",
    "df"
   ]
  },
  {
   "cell_type": "code",
   "execution_count": 13,
   "metadata": {},
   "outputs": [
    {
     "data": {
      "text/plain": [
       "individuum 1     52.9\n",
       "individuum 2     87.0\n",
       "individuum 3     82.1\n",
       "individuum 4     62.5\n",
       "individuum 5     55.5\n",
       "individuum 6     95.2\n",
       "individuum 7     81.8\n",
       "individuum 8     78.9\n",
       "individuum 9      NaN\n",
       "individuum 10    84.7\n",
       "Name: Weight[kg], dtype: float64"
      ]
     },
     "execution_count": 13,
     "metadata": {},
     "output_type": "execute_result"
    }
   ],
   "source": [
    "df[\"Weight[kg]\"]"
   ]
  },
  {
   "cell_type": "code",
   "execution_count": 14,
   "metadata": {},
   "outputs": [
    {
     "data": {
      "text/plain": [
       "individuum 1     False\n",
       "individuum 2     False\n",
       "individuum 3     False\n",
       "individuum 4     False\n",
       "individuum 5     False\n",
       "individuum 6     False\n",
       "individuum 7     False\n",
       "individuum 8     False\n",
       "individuum 9      True\n",
       "individuum 10    False\n",
       "Name: Weight[kg], dtype: bool"
      ]
     },
     "execution_count": 14,
     "metadata": {},
     "output_type": "execute_result"
    }
   ],
   "source": [
    "pd.isnull(df[\"Weight[kg]\"])"
   ]
  },
  {
   "cell_type": "markdown",
   "metadata": {},
   "source": [
    "You should be asking yourself... *Why using np.nan and not None*\n",
    "\n",
    "The answer is (or at least should be) that `np.nan` allows vectorized operations."
   ]
  },
  {
   "cell_type": "code",
   "execution_count": 22,
   "metadata": {},
   "outputs": [
    {
     "data": {
      "text/plain": [
       "0     1.0\n",
       "1     4.0\n",
       "2     NaN\n",
       "3    16.0\n",
       "dtype: float64"
      ]
     },
     "metadata": {},
     "output_type": "display_data"
    },
    {
     "data": {
      "text/plain": [
       "nan"
      ]
     },
     "metadata": {},
     "output_type": "display_data"
    }
   ],
   "source": [
    "import numpy as np\n",
    "\n",
    "v1 = pd.Series([1,2,3,4])\n",
    "v2 = pd.Series([1,2,None,4])\n",
    "v3 = pd.Series([1,2,np.nan,4])\n",
    "\n",
    "# this can provoke problems\n",
    "display(v1 * v2)\n",
    "display(v1[2] * v2[2])"
   ]
  },
  {
   "cell_type": "code",
   "execution_count": 21,
   "metadata": {},
   "outputs": [
    {
     "data": {
      "text/plain": [
       "0     1.0\n",
       "1     4.0\n",
       "2     NaN\n",
       "3    16.0\n",
       "dtype: float64"
      ]
     },
     "execution_count": 21,
     "metadata": {},
     "output_type": "execute_result"
    }
   ],
   "source": [
    "# this shouldn't\n",
    "v2 * v3"
   ]
  },
  {
   "cell_type": "markdown",
   "metadata": {},
   "source": [
    "Further reading: \n",
    "* http://pandas.pydata.org/pandas-docs/stable/missing_data.html\n",
    "* http://stackoverflow.com/questions/17534106/what-is-the-difference-between-nan-and-none"
   ]
  },
  {
   "cell_type": "markdown",
   "metadata": {},
   "source": [
    "# Exercises\n",
    "\n",
    "**Exercise 1:** Load iqsize.csv using csv library. The result should be a list of lists.\n",
    "\n",
    "**Exercise 2:** Do you think that there exist any advantage of using dictionaries?\n",
    "\n",
    "**Exercise 3:** Load iqsize.csv taking advantage of indexes and dictionaries. Describe the problems that you faced so far.\n",
    "\n",
    "**Exercise 4:** Identify dataset variables. Are they quantitative or qualitative? Can you identify the units? If you have enough time change unit to metric system.\n",
    "\n",
    "**Exercise 5:** Check the range of quantitative variables. Are they correct? If not correct how would you correct it (don't expend many time). (If you have and error, treat the exception and pass it)\n",
    "\n",
    "**Exercise 6:** Check the labels of qualitative variables. Are they correct? If not correct them, how would you correct them?\n",
    "\n",
    "**Exercise 7:** For quantitative variables, compute the mean and median.\n",
    "\n",
    "**Exercise 8:** For qualitative variables, count how many observations of each label exist.\n",
    "\n",
    "**Exercise 9:** Compute Exercise 7 statistics, but now for each label in Sex variable.\n"
   ]
  },
  {
   "cell_type": "markdown",
   "metadata": {},
   "source": [
    "# Bibliography"
   ]
  },
  {
   "cell_type": "markdown",
   "metadata": {},
   "source": [
    "[1] Jonge van der Loo, Introduction to data cleaning with R - https://cran.r-project.org/doc/contrib/de_Jonge+van_der_Loo-Introduction_to_data_cleaning_with_R.pdf\n",
    "\n",
    "[2] Dasu T, Johnson T (2003). Exploratory Data Mining and Data Cleaning. Wiley-IEEE.\n",
    "\n",
    "[3] Hadley Wickman. Tidy Data. http://vita.had.co.nz/papers/tidy-data.pdf \n",
    "\n",
    "[4] http://stattrek.com/descriptive-statistics/variables.aspx"
   ]
  }
 ],
 "metadata": {
  "anaconda-cloud": {},
  "kernelspec": {
   "display_name": "Python 3",
   "language": "python",
   "name": "python3"
  },
  "language_info": {
   "codemirror_mode": {
    "name": "ipython",
    "version": 3
   },
   "file_extension": ".py",
   "mimetype": "text/x-python",
   "name": "python",
   "nbconvert_exporter": "python",
   "pygments_lexer": "ipython3",
   "version": "3.7.3"
  }
 },
 "nbformat": 4,
 "nbformat_minor": 1
}
