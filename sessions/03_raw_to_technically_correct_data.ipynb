{
 "cells": [
  {
   "cell_type": "markdown",
   "metadata": {
    "nbpresent": {
     "id": "99c2dc44-3917-4e28-8d1e-22c746f1023c"
    }
   },
   "source": [
    "#  From Raw to Technically Correct Data\n",
    "\n",
    "## Introduction\n",
    "\n",
    "*(from de Jonge van der Loo)*\n",
    "\n",
    "A **dataset** is a collection of data that describes attribute values (variables) of a number of real-world objects (units). \n",
    "\n",
    "With data that are ***technically correct***, we understand a data set where **each value**:\n",
    "\n",
    "1. can be directly recognized as **belonging to certain variable**, and\n",
    "2. is **stored in a data type** that represents the value domain of the real-world variable.\n",
    "\n",
    "This two requisites are often not guaranteed in the datasets we create or we download. Without this two requisites, we can not move forward in the path to provide value to data.\n",
    "\n",
    "Remember the approach we take to **clean data**:\n",
    "1. **Raw Data:** we gather data from a data source\n",
    "2. **Technically correct:** using data science tools and libraries we align values to variables and coerce values to a certain data type\n",
    "3. **Consistent data:** data agrees with itself\n",
    "\n",
    "## What you will learn in this session\n",
    " * How to load data in a DataFrame with suitable columns and index names\n",
    " * How to organize data values into DataFrames columns\n",
    " * Guarantee that column values belong to the most appropriate data type\n",
    " * Do it all without loosing data (or at least as less as possible)\n",
    " \n",
    "## What you will **not** learn in this session\n",
    " * We won't check if data makes sense\n",
    " * We don't explore the values\n",
    " \n",
    "\n",
    "## Contents\n",
    "* [Loading text data into `DataFrame`s](#Loading-text-data-into-DataFrames)\n",
    "    * [CSV reading](#CSV-reading)\n",
    "    * [Excel reading](#XLS-reading)\n",
    "    * [Non-Tabular data](#Non-Tabular-data)\n",
    "* [Value Operations in Pandas](#Value-Operations-in-Pandas)\n",
    "    * [`DataFrame` iteration](#DataFrame-iteration)\n",
    "    * [Applying functions](#Applying-functions)\n",
    "* [String Manipulation](#String-Manipulation)\n",
    "    * [Column Name Normalization](#Column-Name-Normalization)\n",
    "    * [Replacing strings](#Replacing-strings)\n",
    "    * [Indexing string values](#Indexing-string-values)\n",
    "    * [Extracting Substrings](#Extracting-Substrings)\n",
    "    * [Matching String Pattern](#Matching-String-Pattern)\n",
    "* [Exercises](#Exercises)"
   ]
  },
  {
   "cell_type": "markdown",
   "metadata": {},
   "source": [
    "## Loading text data into DataFrames\n",
    "\n",
    "We have already seen in previous session that `Pandas` provides functions to load `DataFrame`s directly form files. \n",
    "\n",
    "This is probably the most suitable way of loading data in `Pandas` in most of our use cases. \n",
    "\n",
    "However, we always can make use of the Python Standard Library (e.g. using the [`csv`](https://docs.python.org/3/library/csv.html) package or [File and Directory Access](https://docs.python.org/3/library/filesys.html) modules)\n",
    "\n",
    "The described approach using the Python Standard Library is:\n",
    "1. load data into Python structures (e.g. `dict`, `list`, etc.)\n",
    "2. use the `DataFrame` constructor to create a `DataFrame` with the loaded data\n",
    "\n",
    "We will cover some of the most common uses of Pandas regarding the csv file format reading libraries, for other file formats and further options, please refer to http://pandas.pydata.org/pandas-docs/stable/io.html."
   ]
  },
  {
   "cell_type": "markdown",
   "metadata": {},
   "source": [
    "### CSV reading\n",
    "\n",
    "CSV files are tabular data files where column values are separated using commas (`,`) and rows are separated using newline characters (`\\n`). \n",
    "\n",
    "Column values can also be separated using semi-colon and tabular spaces (these files are commonly named as `tsv`)\n",
    "\n",
    "We can load a csv file using `File.readlines()` method to see what each row contains."
   ]
  },
  {
   "cell_type": "code",
   "execution_count": 1,
   "metadata": {
    "nbpresent": {
     "id": "59112c70-3bbd-4bef-9666-1ec55c5f4524"
    }
   },
   "outputs": [
    {
     "name": "stdout",
     "output_type": "stream",
     "text": [
      "[',Age[years],Sex,Weight[kg],Eye Color,Body Temperature[C]\\n', 'individuum 1, 42, female, 52.9, brown, 36.9\\n', 'individuum 2, 37, male, 87.0, green, 36.3\\n', 'individuum 3, 29, male, 82.1, blue, 36.4\\n', 'individuum 4, 61, female, 62.5, blue, 36.7\\n']\n"
     ]
    }
   ],
   "source": [
    "fname = \"../data/people.csv\"\n",
    "with open(fname) as f:\n",
    "    content = f.readlines()\n",
    "print(content[:5])"
   ]
  },
  {
   "cell_type": "markdown",
   "metadata": {},
   "source": [
    "We can parse lines to create a new `DataFrame`"
   ]
  },
  {
   "cell_type": "code",
   "execution_count": 2,
   "metadata": {},
   "outputs": [
    {
     "data": {
      "text/plain": [
       "[['', 'Age[years]', 'Sex', 'Weight[kg]', 'Eye Color', 'Body Temperature[C]'],\n",
       " ['individuum 1', ' 42', ' female', ' 52.9', ' brown', ' 36.9'],\n",
       " ['individuum 2', ' 37', ' male', ' 87.0', ' green', ' 36.3'],\n",
       " ['individuum 3', ' 29', ' male', ' 82.1', ' blue', ' 36.4'],\n",
       " ['individuum 4', ' 61', ' female', ' 62.5', ' blue', ' 36.7'],\n",
       " ['individuum 5', ' 77', ' female', ' 55.5', ' gray', ' 36.6'],\n",
       " ['individuum 6', ' 33', ' male', ' 95.2', ' green', ' 36.5'],\n",
       " ['individuum 7', ' 32', ' female', ' 81.8', ' brown', ' 37.0'],\n",
       " ['individuum 8', ' 45', ' male', ' 78.9', ' brown', ' 36.3'],\n",
       " ['individuum 9', ' 18', ' male', ' 83.4', ' green', ' 36.6'],\n",
       " ['individuum 10', ' 19', ' male', ' 84.7', ' gray', ' 36.1']]"
      ]
     },
     "metadata": {},
     "output_type": "display_data"
    }
   ],
   "source": [
    "new_content_list = []\n",
    "for row in content:\n",
    "    new_content_list.append(row.strip(\"\\n\").split(\",\"))\n",
    "display(new_content_list)"
   ]
  },
  {
   "cell_type": "markdown",
   "metadata": {},
   "source": [
    "We can use the `DataFrame` constructor passing a list of list to it, and setting first row as `column` index"
   ]
  },
  {
   "cell_type": "code",
   "execution_count": 3,
   "metadata": {},
   "outputs": [
    {
     "data": {
      "text/html": [
       "<div>\n",
       "<style scoped>\n",
       "    .dataframe tbody tr th:only-of-type {\n",
       "        vertical-align: middle;\n",
       "    }\n",
       "\n",
       "    .dataframe tbody tr th {\n",
       "        vertical-align: top;\n",
       "    }\n",
       "\n",
       "    .dataframe thead th {\n",
       "        text-align: right;\n",
       "    }\n",
       "</style>\n",
       "<table border=\"1\" class=\"dataframe\">\n",
       "  <thead>\n",
       "    <tr style=\"text-align: right;\">\n",
       "      <th></th>\n",
       "      <th>Age[years]</th>\n",
       "      <th>Sex</th>\n",
       "      <th>Weight[kg]</th>\n",
       "      <th>Eye Color</th>\n",
       "      <th>Body Temperature[C]</th>\n",
       "    </tr>\n",
       "    <tr>\n",
       "      <th></th>\n",
       "      <th></th>\n",
       "      <th></th>\n",
       "      <th></th>\n",
       "      <th></th>\n",
       "      <th></th>\n",
       "    </tr>\n",
       "  </thead>\n",
       "  <tbody>\n",
       "    <tr>\n",
       "      <th>individuum 1</th>\n",
       "      <td>42</td>\n",
       "      <td>female</td>\n",
       "      <td>52.9</td>\n",
       "      <td>brown</td>\n",
       "      <td>36.9</td>\n",
       "    </tr>\n",
       "    <tr>\n",
       "      <th>individuum 2</th>\n",
       "      <td>37</td>\n",
       "      <td>male</td>\n",
       "      <td>87.0</td>\n",
       "      <td>green</td>\n",
       "      <td>36.3</td>\n",
       "    </tr>\n",
       "    <tr>\n",
       "      <th>individuum 3</th>\n",
       "      <td>29</td>\n",
       "      <td>male</td>\n",
       "      <td>82.1</td>\n",
       "      <td>blue</td>\n",
       "      <td>36.4</td>\n",
       "    </tr>\n",
       "    <tr>\n",
       "      <th>individuum 4</th>\n",
       "      <td>61</td>\n",
       "      <td>female</td>\n",
       "      <td>62.5</td>\n",
       "      <td>blue</td>\n",
       "      <td>36.7</td>\n",
       "    </tr>\n",
       "    <tr>\n",
       "      <th>individuum 5</th>\n",
       "      <td>77</td>\n",
       "      <td>female</td>\n",
       "      <td>55.5</td>\n",
       "      <td>gray</td>\n",
       "      <td>36.6</td>\n",
       "    </tr>\n",
       "    <tr>\n",
       "      <th>individuum 6</th>\n",
       "      <td>33</td>\n",
       "      <td>male</td>\n",
       "      <td>95.2</td>\n",
       "      <td>green</td>\n",
       "      <td>36.5</td>\n",
       "    </tr>\n",
       "    <tr>\n",
       "      <th>individuum 7</th>\n",
       "      <td>32</td>\n",
       "      <td>female</td>\n",
       "      <td>81.8</td>\n",
       "      <td>brown</td>\n",
       "      <td>37.0</td>\n",
       "    </tr>\n",
       "    <tr>\n",
       "      <th>individuum 8</th>\n",
       "      <td>45</td>\n",
       "      <td>male</td>\n",
       "      <td>78.9</td>\n",
       "      <td>brown</td>\n",
       "      <td>36.3</td>\n",
       "    </tr>\n",
       "    <tr>\n",
       "      <th>individuum 9</th>\n",
       "      <td>18</td>\n",
       "      <td>male</td>\n",
       "      <td>83.4</td>\n",
       "      <td>green</td>\n",
       "      <td>36.6</td>\n",
       "    </tr>\n",
       "    <tr>\n",
       "      <th>individuum 10</th>\n",
       "      <td>19</td>\n",
       "      <td>male</td>\n",
       "      <td>84.7</td>\n",
       "      <td>gray</td>\n",
       "      <td>36.1</td>\n",
       "    </tr>\n",
       "  </tbody>\n",
       "</table>\n",
       "</div>"
      ],
      "text/plain": [
       "              Age[years]      Sex Weight[kg] Eye Color Body Temperature[C]\n",
       "                                                                          \n",
       "individuum 1          42   female       52.9     brown                36.9\n",
       "individuum 2          37     male       87.0     green                36.3\n",
       "individuum 3          29     male       82.1      blue                36.4\n",
       "individuum 4          61   female       62.5      blue                36.7\n",
       "individuum 5          77   female       55.5      gray                36.6\n",
       "individuum 6          33     male       95.2     green                36.5\n",
       "individuum 7          32   female       81.8     brown                37.0\n",
       "individuum 8          45     male       78.9     brown                36.3\n",
       "individuum 9          18     male       83.4     green                36.6\n",
       "individuum 10         19     male       84.7      gray                36.1"
      ]
     },
     "metadata": {},
     "output_type": "display_data"
    }
   ],
   "source": [
    "import pandas as pd\n",
    "\n",
    "df = pd.DataFrame(new_content_list[1:], columns=new_content_list[0])\n",
    "df.set_index(\"\", inplace=True)\n",
    "display(df)"
   ]
  },
  {
   "cell_type": "markdown",
   "metadata": {},
   "source": [
    "Note the following details:\n",
    "* We have sliced `new_content_list` to select the header and the \"content\"\n",
    "* We have used the firs column as `index` using the `DataFrame.set_index()` method\n",
    "* We have passed `inplace=True` as parameter, so the dataset is modified"
   ]
  },
  {
   "cell_type": "markdown",
   "metadata": {},
   "source": [
    "Pandas provide `pandas.read_csv` function, which takes a path to a csv file as input, and returns a `DataFrame`."
   ]
  },
  {
   "cell_type": "code",
   "execution_count": 5,
   "metadata": {
    "nbpresent": {
     "id": "734dbd76-3515-4e59-bcab-d7e40fe6c5fd"
    }
   },
   "outputs": [
    {
     "data": {
      "text/html": [
       "<div>\n",
       "<style scoped>\n",
       "    .dataframe tbody tr th:only-of-type {\n",
       "        vertical-align: middle;\n",
       "    }\n",
       "\n",
       "    .dataframe tbody tr th {\n",
       "        vertical-align: top;\n",
       "    }\n",
       "\n",
       "    .dataframe thead th {\n",
       "        text-align: right;\n",
       "    }\n",
       "</style>\n",
       "<table border=\"1\" class=\"dataframe\">\n",
       "  <thead>\n",
       "    <tr style=\"text-align: right;\">\n",
       "      <th></th>\n",
       "      <th>Unnamed: 0</th>\n",
       "      <th>Age[years]</th>\n",
       "      <th>Sex</th>\n",
       "      <th>Weight[kg]</th>\n",
       "      <th>Eye Color</th>\n",
       "      <th>Body Temperature[C]</th>\n",
       "    </tr>\n",
       "  </thead>\n",
       "  <tbody>\n",
       "    <tr>\n",
       "      <th>0</th>\n",
       "      <td>individuum 1</td>\n",
       "      <td>42</td>\n",
       "      <td>female</td>\n",
       "      <td>52.9</td>\n",
       "      <td>brown</td>\n",
       "      <td>36.9</td>\n",
       "    </tr>\n",
       "    <tr>\n",
       "      <th>1</th>\n",
       "      <td>individuum 2</td>\n",
       "      <td>37</td>\n",
       "      <td>male</td>\n",
       "      <td>87.0</td>\n",
       "      <td>green</td>\n",
       "      <td>36.3</td>\n",
       "    </tr>\n",
       "    <tr>\n",
       "      <th>2</th>\n",
       "      <td>individuum 3</td>\n",
       "      <td>29</td>\n",
       "      <td>male</td>\n",
       "      <td>82.1</td>\n",
       "      <td>blue</td>\n",
       "      <td>36.4</td>\n",
       "    </tr>\n",
       "    <tr>\n",
       "      <th>3</th>\n",
       "      <td>individuum 4</td>\n",
       "      <td>61</td>\n",
       "      <td>female</td>\n",
       "      <td>62.5</td>\n",
       "      <td>blue</td>\n",
       "      <td>36.7</td>\n",
       "    </tr>\n",
       "    <tr>\n",
       "      <th>4</th>\n",
       "      <td>individuum 5</td>\n",
       "      <td>77</td>\n",
       "      <td>female</td>\n",
       "      <td>55.5</td>\n",
       "      <td>gray</td>\n",
       "      <td>36.6</td>\n",
       "    </tr>\n",
       "    <tr>\n",
       "      <th>5</th>\n",
       "      <td>individuum 6</td>\n",
       "      <td>33</td>\n",
       "      <td>male</td>\n",
       "      <td>95.2</td>\n",
       "      <td>green</td>\n",
       "      <td>36.5</td>\n",
       "    </tr>\n",
       "    <tr>\n",
       "      <th>6</th>\n",
       "      <td>individuum 7</td>\n",
       "      <td>32</td>\n",
       "      <td>female</td>\n",
       "      <td>81.8</td>\n",
       "      <td>brown</td>\n",
       "      <td>37.0</td>\n",
       "    </tr>\n",
       "    <tr>\n",
       "      <th>7</th>\n",
       "      <td>individuum 8</td>\n",
       "      <td>45</td>\n",
       "      <td>male</td>\n",
       "      <td>78.9</td>\n",
       "      <td>brown</td>\n",
       "      <td>36.3</td>\n",
       "    </tr>\n",
       "    <tr>\n",
       "      <th>8</th>\n",
       "      <td>individuum 9</td>\n",
       "      <td>18</td>\n",
       "      <td>male</td>\n",
       "      <td>83.4</td>\n",
       "      <td>green</td>\n",
       "      <td>36.6</td>\n",
       "    </tr>\n",
       "    <tr>\n",
       "      <th>9</th>\n",
       "      <td>individuum 10</td>\n",
       "      <td>19</td>\n",
       "      <td>male</td>\n",
       "      <td>84.7</td>\n",
       "      <td>gray</td>\n",
       "      <td>36.1</td>\n",
       "    </tr>\n",
       "  </tbody>\n",
       "</table>\n",
       "</div>"
      ],
      "text/plain": [
       "      Unnamed: 0  Age[years]      Sex  Weight[kg] Eye Color  \\\n",
       "0   individuum 1          42   female        52.9     brown   \n",
       "1   individuum 2          37     male        87.0     green   \n",
       "2   individuum 3          29     male        82.1      blue   \n",
       "3   individuum 4          61   female        62.5      blue   \n",
       "4   individuum 5          77   female        55.5      gray   \n",
       "5   individuum 6          33     male        95.2     green   \n",
       "6   individuum 7          32   female        81.8     brown   \n",
       "7   individuum 8          45     male        78.9     brown   \n",
       "8   individuum 9          18     male        83.4     green   \n",
       "9  individuum 10          19     male        84.7      gray   \n",
       "\n",
       "   Body Temperature[C]  \n",
       "0                 36.9  \n",
       "1                 36.3  \n",
       "2                 36.4  \n",
       "3                 36.7  \n",
       "4                 36.6  \n",
       "5                 36.5  \n",
       "6                 37.0  \n",
       "7                 36.3  \n",
       "8                 36.6  \n",
       "9                 36.1  "
      ]
     },
     "metadata": {},
     "output_type": "display_data"
    }
   ],
   "source": [
    "path_to_file = \"../data/people.csv\"\n",
    "df = pd.read_csv(path_to_file)\n",
    "display(df)"
   ]
  },
  {
   "cell_type": "markdown",
   "metadata": {},
   "source": [
    "As in the DataFrame creation using the constructor method, in this case we have type inference, where `pandas` assigns a suitable `dtype` to each of the columns."
   ]
  },
  {
   "cell_type": "code",
   "execution_count": 10,
   "metadata": {},
   "outputs": [
    {
     "data": {
      "text/plain": [
       "Unnamed: 0              object\n",
       "Age[years]               int64\n",
       "Sex                     object\n",
       "Weight[kg]             float64\n",
       "Eye Color               object\n",
       "Body Temperature[C]    float64\n",
       "dtype: object"
      ]
     },
     "metadata": {},
     "output_type": "display_data"
    }
   ],
   "source": [
    "display(df.dtypes)"
   ]
  },
  {
   "cell_type": "markdown",
   "metadata": {},
   "source": [
    "We can observe some differences between now and the previous case (using the constructor method). The `pandas.read_csv` does:\n",
    "\n",
    "* recognize the first line as column names\n",
    "* automatically assign a row index\n",
    "\n",
    "This behaviour is grounded by the default values to its signature parameters.\n",
    "\n",
    "Let's see some useful options of `pandas.read_csv`:"
   ]
  },
  {
   "cell_type": "markdown",
   "metadata": {},
   "source": [
    " * **sep :** str, defaults to ',' for read_csv(), \\t for read_table()\n",
    " \n",
    "    Delimiter to use. If sep is None, will try to automatically determine this. Separators longer than 1 character and different from '\\s+' will be interpreted as regular expressions, will force use of the python parsing engine and will ignore quotes in the data. Regex example: '\\\\r\\\\t'."
   ]
  },
  {
   "cell_type": "code",
   "execution_count": 9,
   "metadata": {},
   "outputs": [
    {
     "data": {
      "text/html": [
       "<div>\n",
       "<style scoped>\n",
       "    .dataframe tbody tr th:only-of-type {\n",
       "        vertical-align: middle;\n",
       "    }\n",
       "\n",
       "    .dataframe tbody tr th {\n",
       "        vertical-align: top;\n",
       "    }\n",
       "\n",
       "    .dataframe thead th {\n",
       "        text-align: right;\n",
       "    }\n",
       "</style>\n",
       "<table border=\"1\" class=\"dataframe\">\n",
       "  <thead>\n",
       "    <tr style=\"text-align: right;\">\n",
       "      <th></th>\n",
       "      <th>Unnamed: 0</th>\n",
       "      <th>Age[years]</th>\n",
       "      <th>Sex</th>\n",
       "      <th>Weight[kg]</th>\n",
       "      <th>Eye Color</th>\n",
       "      <th>Body Temperature[C]</th>\n",
       "    </tr>\n",
       "  </thead>\n",
       "  <tbody>\n",
       "    <tr>\n",
       "      <th>0</th>\n",
       "      <td>individuum 1</td>\n",
       "      <td>42</td>\n",
       "      <td>female</td>\n",
       "      <td>52.9</td>\n",
       "      <td>brown</td>\n",
       "      <td>36.9</td>\n",
       "    </tr>\n",
       "    <tr>\n",
       "      <th>1</th>\n",
       "      <td>individuum 2</td>\n",
       "      <td>37</td>\n",
       "      <td>male</td>\n",
       "      <td>87.0</td>\n",
       "      <td>green</td>\n",
       "      <td>36.3</td>\n",
       "    </tr>\n",
       "    <tr>\n",
       "      <th>2</th>\n",
       "      <td>individuum 3</td>\n",
       "      <td>29</td>\n",
       "      <td>male</td>\n",
       "      <td>82.1</td>\n",
       "      <td>blue</td>\n",
       "      <td>36.4</td>\n",
       "    </tr>\n",
       "  </tbody>\n",
       "</table>\n",
       "</div>"
      ],
      "text/plain": [
       "     Unnamed: 0  Age[years]      Sex  Weight[kg] Eye Color  \\\n",
       "0  individuum 1          42   female        52.9     brown   \n",
       "1  individuum 2          37     male        87.0     green   \n",
       "2  individuum 3          29     male        82.1      blue   \n",
       "\n",
       "   Body Temperature[C]  \n",
       "0                 36.9  \n",
       "1                 36.3  \n",
       "2                 36.4  "
      ]
     },
     "execution_count": 9,
     "metadata": {},
     "output_type": "execute_result"
    }
   ],
   "source": [
    "df = pd.read_csv(path_to_file, sep=\",\")\n",
    "df.head(3)"
   ]
  },
  {
   "cell_type": "markdown",
   "metadata": {},
   "source": [
    "* **header :** int or list of ints, default 'infer'\n",
    "\n",
    "    Row number(s) to use as the column names, and the start of the data. Default behavior is as if header=0 if no names passed, otherwise as if header=None. Explicitly pass header=0 to be able to replace existing names. The header can be a list of ints that specify row locations for a multi-index on the columns e.g. [0,1,3]. Intervening rows that are not specified will be skipped (e.g. 2 in this example is skipped). Note that this parameter ignores commented lines and empty lines if skip_blank_lines=True, so header=0 denotes the first line of data rather than the first line of the file."
   ]
  },
  {
   "cell_type": "code",
   "execution_count": 12,
   "metadata": {},
   "outputs": [
    {
     "data": {
      "text/html": [
       "<div>\n",
       "<style scoped>\n",
       "    .dataframe tbody tr th:only-of-type {\n",
       "        vertical-align: middle;\n",
       "    }\n",
       "\n",
       "    .dataframe tbody tr th {\n",
       "        vertical-align: top;\n",
       "    }\n",
       "\n",
       "    .dataframe thead th {\n",
       "        text-align: right;\n",
       "    }\n",
       "</style>\n",
       "<table border=\"1\" class=\"dataframe\">\n",
       "  <thead>\n",
       "    <tr style=\"text-align: right;\">\n",
       "      <th></th>\n",
       "      <th>Unnamed: 0</th>\n",
       "      <th>Age[years]</th>\n",
       "      <th>Sex</th>\n",
       "      <th>Weight[kg]</th>\n",
       "      <th>Eye Color</th>\n",
       "      <th>Body Temperature[C]</th>\n",
       "    </tr>\n",
       "  </thead>\n",
       "  <tbody>\n",
       "    <tr>\n",
       "      <th>0</th>\n",
       "      <td>individuum 1</td>\n",
       "      <td>42</td>\n",
       "      <td>female</td>\n",
       "      <td>52.9</td>\n",
       "      <td>brown</td>\n",
       "      <td>36.9</td>\n",
       "    </tr>\n",
       "    <tr>\n",
       "      <th>1</th>\n",
       "      <td>individuum 2</td>\n",
       "      <td>37</td>\n",
       "      <td>male</td>\n",
       "      <td>87.0</td>\n",
       "      <td>green</td>\n",
       "      <td>36.3</td>\n",
       "    </tr>\n",
       "    <tr>\n",
       "      <th>2</th>\n",
       "      <td>individuum 3</td>\n",
       "      <td>29</td>\n",
       "      <td>male</td>\n",
       "      <td>82.1</td>\n",
       "      <td>blue</td>\n",
       "      <td>36.4</td>\n",
       "    </tr>\n",
       "  </tbody>\n",
       "</table>\n",
       "</div>"
      ],
      "text/plain": [
       "     Unnamed: 0  Age[years]      Sex  Weight[kg] Eye Color  \\\n",
       "0  individuum 1          42   female        52.9     brown   \n",
       "1  individuum 2          37     male        87.0     green   \n",
       "2  individuum 3          29     male        82.1      blue   \n",
       "\n",
       "   Body Temperature[C]  \n",
       "0                 36.9  \n",
       "1                 36.3  \n",
       "2                 36.4  "
      ]
     },
     "execution_count": 12,
     "metadata": {},
     "output_type": "execute_result"
    }
   ],
   "source": [
    "df = pd.read_csv(path_to_file)\n",
    "df.head(3)"
   ]
  },
  {
   "cell_type": "code",
   "execution_count": 13,
   "metadata": {},
   "outputs": [
    {
     "data": {
      "text/plain": [
       "Unnamed: 0              object\n",
       "Age[years]               int64\n",
       "Sex                     object\n",
       "Weight[kg]             float64\n",
       "Eye Color               object\n",
       "Body Temperature[C]    float64\n",
       "dtype: object"
      ]
     },
     "execution_count": 13,
     "metadata": {},
     "output_type": "execute_result"
    }
   ],
   "source": [
    "df.dtypes"
   ]
  },
  {
   "cell_type": "code",
   "execution_count": 17,
   "metadata": {},
   "outputs": [
    {
     "data": {
      "text/html": [
       "<div>\n",
       "<style scoped>\n",
       "    .dataframe tbody tr th:only-of-type {\n",
       "        vertical-align: middle;\n",
       "    }\n",
       "\n",
       "    .dataframe tbody tr th {\n",
       "        vertical-align: top;\n",
       "    }\n",
       "\n",
       "    .dataframe thead th {\n",
       "        text-align: right;\n",
       "    }\n",
       "</style>\n",
       "<table border=\"1\" class=\"dataframe\">\n",
       "  <thead>\n",
       "    <tr style=\"text-align: right;\">\n",
       "      <th></th>\n",
       "      <th>Unnamed: 0</th>\n",
       "      <th>Age[years]</th>\n",
       "      <th>Sex</th>\n",
       "      <th>Weight[kg]</th>\n",
       "      <th>Eye Color</th>\n",
       "      <th>Body Temperature[C]</th>\n",
       "    </tr>\n",
       "  </thead>\n",
       "  <tbody>\n",
       "    <tr>\n",
       "      <th>0</th>\n",
       "      <td>individuum 1</td>\n",
       "      <td>42</td>\n",
       "      <td>female</td>\n",
       "      <td>52.9</td>\n",
       "      <td>brown</td>\n",
       "      <td>36.9</td>\n",
       "    </tr>\n",
       "    <tr>\n",
       "      <th>1</th>\n",
       "      <td>individuum 2</td>\n",
       "      <td>37</td>\n",
       "      <td>male</td>\n",
       "      <td>87.0</td>\n",
       "      <td>green</td>\n",
       "      <td>36.3</td>\n",
       "    </tr>\n",
       "    <tr>\n",
       "      <th>2</th>\n",
       "      <td>individuum 3</td>\n",
       "      <td>29</td>\n",
       "      <td>male</td>\n",
       "      <td>82.1</td>\n",
       "      <td>blue</td>\n",
       "      <td>36.4</td>\n",
       "    </tr>\n",
       "  </tbody>\n",
       "</table>\n",
       "</div>"
      ],
      "text/plain": [
       "     Unnamed: 0  Age[years]      Sex  Weight[kg] Eye Color  \\\n",
       "0  individuum 1          42   female        52.9     brown   \n",
       "1  individuum 2          37     male        87.0     green   \n",
       "2  individuum 3          29     male        82.1      blue   \n",
       "\n",
       "   Body Temperature[C]  \n",
       "0                 36.9  \n",
       "1                 36.3  \n",
       "2                 36.4  "
      ]
     },
     "execution_count": 17,
     "metadata": {},
     "output_type": "execute_result"
    }
   ],
   "source": [
    "df = pd.read_csv(path_to_file, header=0)\n",
    "df.head(3)"
   ]
  },
  {
   "cell_type": "code",
   "execution_count": 18,
   "metadata": {},
   "outputs": [
    {
     "data": {
      "text/html": [
       "<div>\n",
       "<style scoped>\n",
       "    .dataframe tbody tr th:only-of-type {\n",
       "        vertical-align: middle;\n",
       "    }\n",
       "\n",
       "    .dataframe tbody tr th {\n",
       "        vertical-align: top;\n",
       "    }\n",
       "\n",
       "    .dataframe thead th {\n",
       "        text-align: right;\n",
       "    }\n",
       "</style>\n",
       "<table border=\"1\" class=\"dataframe\">\n",
       "  <thead>\n",
       "    <tr style=\"text-align: right;\">\n",
       "      <th></th>\n",
       "      <th>individuum 1</th>\n",
       "      <th>42</th>\n",
       "      <th>female</th>\n",
       "      <th>52.9</th>\n",
       "      <th>brown</th>\n",
       "      <th>36.9</th>\n",
       "    </tr>\n",
       "  </thead>\n",
       "  <tbody>\n",
       "    <tr>\n",
       "      <th>0</th>\n",
       "      <td>individuum 2</td>\n",
       "      <td>37</td>\n",
       "      <td>male</td>\n",
       "      <td>87.0</td>\n",
       "      <td>green</td>\n",
       "      <td>36.3</td>\n",
       "    </tr>\n",
       "    <tr>\n",
       "      <th>1</th>\n",
       "      <td>individuum 3</td>\n",
       "      <td>29</td>\n",
       "      <td>male</td>\n",
       "      <td>82.1</td>\n",
       "      <td>blue</td>\n",
       "      <td>36.4</td>\n",
       "    </tr>\n",
       "    <tr>\n",
       "      <th>2</th>\n",
       "      <td>individuum 4</td>\n",
       "      <td>61</td>\n",
       "      <td>female</td>\n",
       "      <td>62.5</td>\n",
       "      <td>blue</td>\n",
       "      <td>36.7</td>\n",
       "    </tr>\n",
       "  </tbody>\n",
       "</table>\n",
       "</div>"
      ],
      "text/plain": [
       "   individuum 1   42   female   52.9   brown   36.9\n",
       "0  individuum 2   37     male   87.0   green   36.3\n",
       "1  individuum 3   29     male   82.1    blue   36.4\n",
       "2  individuum 4   61   female   62.5    blue   36.7"
      ]
     },
     "execution_count": 18,
     "metadata": {},
     "output_type": "execute_result"
    }
   ],
   "source": [
    "df = pd.read_csv(path_to_file, header=1)\n",
    "df.head(3)"
   ]
  },
  {
   "cell_type": "markdown",
   "metadata": {},
   "source": [
    "* **names :** array-like, default None\n",
    "\n",
    "    List of column names to use. If file contains no header row, then you should explicitly pass header=None."
   ]
  },
  {
   "cell_type": "code",
   "execution_count": 14,
   "metadata": {},
   "outputs": [
    {
     "data": {
      "text/html": [
       "<div>\n",
       "<style scoped>\n",
       "    .dataframe tbody tr th:only-of-type {\n",
       "        vertical-align: middle;\n",
       "    }\n",
       "\n",
       "    .dataframe tbody tr th {\n",
       "        vertical-align: top;\n",
       "    }\n",
       "\n",
       "    .dataframe thead th {\n",
       "        text-align: right;\n",
       "    }\n",
       "</style>\n",
       "<table border=\"1\" class=\"dataframe\">\n",
       "  <thead>\n",
       "    <tr style=\"text-align: right;\">\n",
       "      <th></th>\n",
       "      <th>a</th>\n",
       "      <th>b</th>\n",
       "      <th>c</th>\n",
       "      <th>d</th>\n",
       "      <th>e</th>\n",
       "      <th>f</th>\n",
       "    </tr>\n",
       "  </thead>\n",
       "  <tbody>\n",
       "    <tr>\n",
       "      <th>0</th>\n",
       "      <td>individuum 1</td>\n",
       "      <td>42</td>\n",
       "      <td>female</td>\n",
       "      <td>52.9</td>\n",
       "      <td>brown</td>\n",
       "      <td>36.9</td>\n",
       "    </tr>\n",
       "    <tr>\n",
       "      <th>1</th>\n",
       "      <td>individuum 2</td>\n",
       "      <td>37</td>\n",
       "      <td>male</td>\n",
       "      <td>87.0</td>\n",
       "      <td>green</td>\n",
       "      <td>36.3</td>\n",
       "    </tr>\n",
       "    <tr>\n",
       "      <th>2</th>\n",
       "      <td>individuum 3</td>\n",
       "      <td>29</td>\n",
       "      <td>male</td>\n",
       "      <td>82.1</td>\n",
       "      <td>blue</td>\n",
       "      <td>36.4</td>\n",
       "    </tr>\n",
       "  </tbody>\n",
       "</table>\n",
       "</div>"
      ],
      "text/plain": [
       "              a   b        c     d       e     f\n",
       "0  individuum 1  42   female  52.9   brown  36.9\n",
       "1  individuum 2  37     male  87.0   green  36.3\n",
       "2  individuum 3  29     male  82.1    blue  36.4"
      ]
     },
     "execution_count": 14,
     "metadata": {},
     "output_type": "execute_result"
    }
   ],
   "source": [
    "df = pd.read_csv(\n",
    "    path_to_file, \n",
    "    header=0, \n",
    "    names=[\"a\", \"b\", \"c\", \"d\", \"e\", \"f\"])\n",
    "df.head(3)"
   ]
  },
  {
   "cell_type": "markdown",
   "metadata": {},
   "source": [
    "* **index_col :** int or sequence or False, default None\n",
    "\n",
    "    Column to use as the row labels of the DataFrame. If a sequence is given, a MultiIndex is used. If you have a malformed file with delimiters at the end of each line, you might consider index_col=False to force pandas to not use the first column as the index (row names)."
   ]
  },
  {
   "cell_type": "code",
   "execution_count": 15,
   "metadata": {},
   "outputs": [
    {
     "data": {
      "text/html": [
       "<div>\n",
       "<style scoped>\n",
       "    .dataframe tbody tr th:only-of-type {\n",
       "        vertical-align: middle;\n",
       "    }\n",
       "\n",
       "    .dataframe tbody tr th {\n",
       "        vertical-align: top;\n",
       "    }\n",
       "\n",
       "    .dataframe thead th {\n",
       "        text-align: right;\n",
       "    }\n",
       "</style>\n",
       "<table border=\"1\" class=\"dataframe\">\n",
       "  <thead>\n",
       "    <tr style=\"text-align: right;\">\n",
       "      <th></th>\n",
       "      <th>Age[years]</th>\n",
       "      <th>Sex</th>\n",
       "      <th>Weight[kg]</th>\n",
       "      <th>Eye Color</th>\n",
       "      <th>Body Temperature[C]</th>\n",
       "    </tr>\n",
       "  </thead>\n",
       "  <tbody>\n",
       "    <tr>\n",
       "      <th>individuum 1</th>\n",
       "      <td>42</td>\n",
       "      <td>female</td>\n",
       "      <td>52.9</td>\n",
       "      <td>brown</td>\n",
       "      <td>36.9</td>\n",
       "    </tr>\n",
       "    <tr>\n",
       "      <th>individuum 2</th>\n",
       "      <td>37</td>\n",
       "      <td>male</td>\n",
       "      <td>87.0</td>\n",
       "      <td>green</td>\n",
       "      <td>36.3</td>\n",
       "    </tr>\n",
       "    <tr>\n",
       "      <th>individuum 3</th>\n",
       "      <td>29</td>\n",
       "      <td>male</td>\n",
       "      <td>82.1</td>\n",
       "      <td>blue</td>\n",
       "      <td>36.4</td>\n",
       "    </tr>\n",
       "  </tbody>\n",
       "</table>\n",
       "</div>"
      ],
      "text/plain": [
       "              Age[years]      Sex  Weight[kg] Eye Color  Body Temperature[C]\n",
       "individuum 1          42   female        52.9     brown                 36.9\n",
       "individuum 2          37     male        87.0     green                 36.3\n",
       "individuum 3          29     male        82.1      blue                 36.4"
      ]
     },
     "execution_count": 15,
     "metadata": {},
     "output_type": "execute_result"
    }
   ],
   "source": [
    "# we could have used this instead of\n",
    "# df.read_csv(path_to_file, header=0)\n",
    "# df.set_index(0, inplace=True)\n",
    "\n",
    "pd.read_csv(path_to_file, header=0, index_col=0).head(3)"
   ]
  },
  {
   "cell_type": "markdown",
   "metadata": {},
   "source": [
    "* **dtype :** Type name or dict of column -> type, default None\n",
    "\n",
    "    Data type for data or columns. E.g. {'a': np.float64, 'b': np.int32} (unsupported with engine='python'). Use str or object to preserve and not interpret dtype."
   ]
  },
  {
   "cell_type": "code",
   "execution_count": 17,
   "metadata": {},
   "outputs": [
    {
     "data": {
      "text/html": [
       "<div>\n",
       "<style scoped>\n",
       "    .dataframe tbody tr th:only-of-type {\n",
       "        vertical-align: middle;\n",
       "    }\n",
       "\n",
       "    .dataframe tbody tr th {\n",
       "        vertical-align: top;\n",
       "    }\n",
       "\n",
       "    .dataframe thead th {\n",
       "        text-align: right;\n",
       "    }\n",
       "</style>\n",
       "<table border=\"1\" class=\"dataframe\">\n",
       "  <thead>\n",
       "    <tr style=\"text-align: right;\">\n",
       "      <th></th>\n",
       "      <th>Age[years]</th>\n",
       "      <th>Sex</th>\n",
       "      <th>Weight[kg]</th>\n",
       "      <th>Eye Color</th>\n",
       "      <th>Body Temperature[C]</th>\n",
       "    </tr>\n",
       "  </thead>\n",
       "  <tbody>\n",
       "    <tr>\n",
       "      <th>individuum 1</th>\n",
       "      <td>42.0</td>\n",
       "      <td>female</td>\n",
       "      <td>52.9</td>\n",
       "      <td>brown</td>\n",
       "      <td>36.9</td>\n",
       "    </tr>\n",
       "    <tr>\n",
       "      <th>individuum 2</th>\n",
       "      <td>37.0</td>\n",
       "      <td>male</td>\n",
       "      <td>87.0</td>\n",
       "      <td>green</td>\n",
       "      <td>36.3</td>\n",
       "    </tr>\n",
       "    <tr>\n",
       "      <th>individuum 3</th>\n",
       "      <td>29.0</td>\n",
       "      <td>male</td>\n",
       "      <td>82.1</td>\n",
       "      <td>blue</td>\n",
       "      <td>36.4</td>\n",
       "    </tr>\n",
       "  </tbody>\n",
       "</table>\n",
       "</div>"
      ],
      "text/plain": [
       "              Age[years]      Sex  Weight[kg] Eye Color  Body Temperature[C]\n",
       "individuum 1        42.0   female        52.9     brown                 36.9\n",
       "individuum 2        37.0     male        87.0     green                 36.3\n",
       "individuum 3        29.0     male        82.1      blue                 36.4"
      ]
     },
     "execution_count": 17,
     "metadata": {},
     "output_type": "execute_result"
    }
   ],
   "source": [
    "import numpy as np\n",
    "pd.read_csv(\n",
    "    path_to_file, \n",
    "    header=0, \n",
    "    index_col=0, \n",
    "    dtype={\"Age[years]\": np.float32}\n",
    ").head(3)"
   ]
  },
  {
   "cell_type": "markdown",
   "metadata": {},
   "source": [
    "* **skiprows :** list-like or integer, default None\n",
    "\n",
    "    Line numbers to skip (0-indexed) or number of lines to skip (int) at the start of the file."
   ]
  },
  {
   "cell_type": "code",
   "execution_count": 18,
   "metadata": {},
   "outputs": [
    {
     "data": {
      "text/html": [
       "<div>\n",
       "<style scoped>\n",
       "    .dataframe tbody tr th:only-of-type {\n",
       "        vertical-align: middle;\n",
       "    }\n",
       "\n",
       "    .dataframe tbody tr th {\n",
       "        vertical-align: top;\n",
       "    }\n",
       "\n",
       "    .dataframe thead th {\n",
       "        text-align: right;\n",
       "    }\n",
       "</style>\n",
       "<table border=\"1\" class=\"dataframe\">\n",
       "  <thead>\n",
       "    <tr style=\"text-align: right;\">\n",
       "      <th></th>\n",
       "      <th>Age[years]</th>\n",
       "      <th>Sex</th>\n",
       "      <th>Weight[kg]</th>\n",
       "      <th>Eye Color</th>\n",
       "      <th>Body Temperature[C]</th>\n",
       "    </tr>\n",
       "  </thead>\n",
       "  <tbody>\n",
       "    <tr>\n",
       "      <th>individuum 2</th>\n",
       "      <td>37.0</td>\n",
       "      <td>male</td>\n",
       "      <td>87.0</td>\n",
       "      <td>green</td>\n",
       "      <td>36.3</td>\n",
       "    </tr>\n",
       "    <tr>\n",
       "      <th>individuum 4</th>\n",
       "      <td>61.0</td>\n",
       "      <td>female</td>\n",
       "      <td>62.5</td>\n",
       "      <td>blue</td>\n",
       "      <td>36.7</td>\n",
       "    </tr>\n",
       "    <tr>\n",
       "      <th>individuum 5</th>\n",
       "      <td>77.0</td>\n",
       "      <td>female</td>\n",
       "      <td>55.5</td>\n",
       "      <td>gray</td>\n",
       "      <td>36.6</td>\n",
       "    </tr>\n",
       "  </tbody>\n",
       "</table>\n",
       "</div>"
      ],
      "text/plain": [
       "              Age[years]      Sex  Weight[kg] Eye Color  Body Temperature[C]\n",
       "individuum 2        37.0     male        87.0     green                 36.3\n",
       "individuum 4        61.0   female        62.5      blue                 36.7\n",
       "individuum 5        77.0   female        55.5      gray                 36.6"
      ]
     },
     "execution_count": 18,
     "metadata": {},
     "output_type": "execute_result"
    }
   ],
   "source": [
    "pd.read_csv(\n",
    "    path_to_file, \n",
    "    header=0, \n",
    "    index_col=0, \n",
    "    dtype={\"Age[years]\": np.float32},\n",
    "    skiprows=[1, 3]\n",
    ").head(3)"
   ]
  },
  {
   "cell_type": "markdown",
   "metadata": {},
   "source": [
    "* **skipfooter :** int, default 0\n",
    "\n",
    "    Number of lines at bottom of file to skip (unsupported with engine=’c’)."
   ]
  },
  {
   "cell_type": "code",
   "execution_count": 33,
   "metadata": {},
   "outputs": [
    {
     "data": {
      "text/html": [
       "<div>\n",
       "<style scoped>\n",
       "    .dataframe tbody tr th:only-of-type {\n",
       "        vertical-align: middle;\n",
       "    }\n",
       "\n",
       "    .dataframe tbody tr th {\n",
       "        vertical-align: top;\n",
       "    }\n",
       "\n",
       "    .dataframe thead th {\n",
       "        text-align: right;\n",
       "    }\n",
       "</style>\n",
       "<table border=\"1\" class=\"dataframe\">\n",
       "  <thead>\n",
       "    <tr style=\"text-align: right;\">\n",
       "      <th></th>\n",
       "      <th>Age[years]</th>\n",
       "      <th>Sex</th>\n",
       "      <th>Weight[kg]</th>\n",
       "      <th>Eye Color</th>\n",
       "      <th>Body Temperature[C]</th>\n",
       "    </tr>\n",
       "  </thead>\n",
       "  <tbody>\n",
       "    <tr>\n",
       "      <th>individuum 7</th>\n",
       "      <td>32.0</td>\n",
       "      <td>female</td>\n",
       "      <td>81.8</td>\n",
       "      <td>brown</td>\n",
       "      <td>37.0</td>\n",
       "    </tr>\n",
       "    <tr>\n",
       "      <th>individuum 8</th>\n",
       "      <td>45.0</td>\n",
       "      <td>male</td>\n",
       "      <td>78.9</td>\n",
       "      <td>brown</td>\n",
       "      <td>36.3</td>\n",
       "    </tr>\n",
       "    <tr>\n",
       "      <th>individuum 9</th>\n",
       "      <td>18.0</td>\n",
       "      <td>male</td>\n",
       "      <td>83.4</td>\n",
       "      <td>green</td>\n",
       "      <td>36.6</td>\n",
       "    </tr>\n",
       "  </tbody>\n",
       "</table>\n",
       "</div>"
      ],
      "text/plain": [
       "              Age[years]      Sex  Weight[kg] Eye Color  Body Temperature[C]\n",
       "individuum 7        32.0   female        81.8     brown                 37.0\n",
       "individuum 8        45.0     male        78.9     brown                 36.3\n",
       "individuum 9        18.0     male        83.4     green                 36.6"
      ]
     },
     "execution_count": 33,
     "metadata": {},
     "output_type": "execute_result"
    }
   ],
   "source": [
    "pd.read_csv(\n",
    "    path_to_file, \n",
    "    header=0, \n",
    "    index_col=0, \n",
    "    dtype={\"Age[years]\": np.float32},\n",
    "    skiprows=[1, 3],\n",
    "    skipfooter=1,\n",
    "    engine=\"python\"\n",
    ").tail(3)"
   ]
  },
  {
   "cell_type": "markdown",
   "metadata": {},
   "source": [
    "* **nrows :** int, default None\n",
    "\n",
    "    Number of rows of file to read. Useful for reading pieces of large files."
   ]
  },
  {
   "cell_type": "code",
   "execution_count": 34,
   "metadata": {},
   "outputs": [
    {
     "data": {
      "text/html": [
       "<div>\n",
       "<style scoped>\n",
       "    .dataframe tbody tr th:only-of-type {\n",
       "        vertical-align: middle;\n",
       "    }\n",
       "\n",
       "    .dataframe tbody tr th {\n",
       "        vertical-align: top;\n",
       "    }\n",
       "\n",
       "    .dataframe thead th {\n",
       "        text-align: right;\n",
       "    }\n",
       "</style>\n",
       "<table border=\"1\" class=\"dataframe\">\n",
       "  <thead>\n",
       "    <tr style=\"text-align: right;\">\n",
       "      <th></th>\n",
       "      <th>Age[years]</th>\n",
       "      <th>Sex</th>\n",
       "      <th>Weight[kg]</th>\n",
       "      <th>Eye Color</th>\n",
       "      <th>Body Temperature[C]</th>\n",
       "    </tr>\n",
       "  </thead>\n",
       "  <tbody>\n",
       "    <tr>\n",
       "      <th>individuum 1</th>\n",
       "      <td>42.0</td>\n",
       "      <td>female</td>\n",
       "      <td>52.9</td>\n",
       "      <td>brown</td>\n",
       "      <td>36.9</td>\n",
       "    </tr>\n",
       "    <tr>\n",
       "      <th>individuum 2</th>\n",
       "      <td>37.0</td>\n",
       "      <td>male</td>\n",
       "      <td>87.0</td>\n",
       "      <td>green</td>\n",
       "      <td>36.3</td>\n",
       "    </tr>\n",
       "    <tr>\n",
       "      <th>individuum 3</th>\n",
       "      <td>29.0</td>\n",
       "      <td>male</td>\n",
       "      <td>82.1</td>\n",
       "      <td>blue</td>\n",
       "      <td>36.4</td>\n",
       "    </tr>\n",
       "  </tbody>\n",
       "</table>\n",
       "</div>"
      ],
      "text/plain": [
       "              Age[years]      Sex  Weight[kg] Eye Color  Body Temperature[C]\n",
       "individuum 1        42.0   female        52.9     brown                 36.9\n",
       "individuum 2        37.0     male        87.0     green                 36.3\n",
       "individuum 3        29.0     male        82.1      blue                 36.4"
      ]
     },
     "execution_count": 34,
     "metadata": {},
     "output_type": "execute_result"
    }
   ],
   "source": [
    "pd.read_csv(\n",
    "    path_to_file, \n",
    "    header=0, \n",
    "    index_col=0, \n",
    "    dtype={\"Age[years]\": np.float32},\n",
    "    nrows=3,\n",
    ")"
   ]
  },
  {
   "cell_type": "markdown",
   "metadata": {
    "nbpresent": {
     "id": "efb9a000-0a42-4896-b3a9-73784cba271d"
    }
   },
   "source": [
    "### XLS reading\n",
    "\n",
    "Another common source of data are excel files. This file format is the `xls` or `xlsx` file that contains an excel spreadsheet. \n",
    "\n",
    "One of the biggest advantages of excel spreadsheets is that it is a very popular format, easy to read and easy to edit.\n",
    "\n",
    "For excel spreadsheets, each cell is a `DataFrame` cell, and columns are `DataFrame` columns and the same holds for rows."
   ]
  },
  {
   "cell_type": "code",
   "execution_count": 3,
   "metadata": {},
   "outputs": [
    {
     "data": {
      "text/html": [
       "<div>\n",
       "<style scoped>\n",
       "    .dataframe tbody tr th:only-of-type {\n",
       "        vertical-align: middle;\n",
       "    }\n",
       "\n",
       "    .dataframe tbody tr th {\n",
       "        vertical-align: top;\n",
       "    }\n",
       "\n",
       "    .dataframe thead th {\n",
       "        text-align: right;\n",
       "    }\n",
       "</style>\n",
       "<table border=\"1\" class=\"dataframe\">\n",
       "  <thead>\n",
       "    <tr style=\"text-align: right;\">\n",
       "      <th></th>\n",
       "      <th>Unnamed: 0</th>\n",
       "      <th>Unnamed: 1</th>\n",
       "      <th>Economy</th>\n",
       "      <th>Code</th>\n",
       "      <th>Unnamed: 4</th>\n",
       "      <th>Region</th>\n",
       "      <th>Income group</th>\n",
       "      <th>Lending category</th>\n",
       "      <th>Other</th>\n",
       "    </tr>\n",
       "  </thead>\n",
       "  <tbody>\n",
       "    <tr>\n",
       "      <th>0</th>\n",
       "      <td>NaN</td>\n",
       "      <td>NaN</td>\n",
       "      <td>NaN</td>\n",
       "      <td>NaN</td>\n",
       "      <td>NaN</td>\n",
       "      <td>NaN</td>\n",
       "      <td>NaN</td>\n",
       "      <td>NaN</td>\n",
       "      <td>NaN</td>\n",
       "    </tr>\n",
       "    <tr>\n",
       "      <th>1</th>\n",
       "      <td>1</td>\n",
       "      <td>NaN</td>\n",
       "      <td>Afghanistan</td>\n",
       "      <td>AFG</td>\n",
       "      <td>NaN</td>\n",
       "      <td>South Asia</td>\n",
       "      <td>Low income</td>\n",
       "      <td>IDA</td>\n",
       "      <td>HIPC</td>\n",
       "    </tr>\n",
       "    <tr>\n",
       "      <th>2</th>\n",
       "      <td>2</td>\n",
       "      <td>NaN</td>\n",
       "      <td>Albania</td>\n",
       "      <td>ALB</td>\n",
       "      <td>NaN</td>\n",
       "      <td>Europe &amp; Central Asia</td>\n",
       "      <td>Upper middle income</td>\n",
       "      <td>IBRD</td>\n",
       "      <td>NaN</td>\n",
       "    </tr>\n",
       "    <tr>\n",
       "      <th>3</th>\n",
       "      <td>3</td>\n",
       "      <td>NaN</td>\n",
       "      <td>Algeria</td>\n",
       "      <td>DZA</td>\n",
       "      <td>NaN</td>\n",
       "      <td>Middle East &amp; North Africa</td>\n",
       "      <td>Upper middle income</td>\n",
       "      <td>IBRD</td>\n",
       "      <td>NaN</td>\n",
       "    </tr>\n",
       "    <tr>\n",
       "      <th>4</th>\n",
       "      <td>4</td>\n",
       "      <td>NaN</td>\n",
       "      <td>American Samoa</td>\n",
       "      <td>ASM</td>\n",
       "      <td>NaN</td>\n",
       "      <td>East Asia &amp; Pacific</td>\n",
       "      <td>Upper middle income</td>\n",
       "      <td>..</td>\n",
       "      <td>NaN</td>\n",
       "    </tr>\n",
       "    <tr>\n",
       "      <th>5</th>\n",
       "      <td>5</td>\n",
       "      <td>NaN</td>\n",
       "      <td>Andorra</td>\n",
       "      <td>ADO</td>\n",
       "      <td>NaN</td>\n",
       "      <td>Europe &amp; Central Asia</td>\n",
       "      <td>High income</td>\n",
       "      <td>..</td>\n",
       "      <td>NaN</td>\n",
       "    </tr>\n",
       "    <tr>\n",
       "      <th>6</th>\n",
       "      <td>6</td>\n",
       "      <td>NaN</td>\n",
       "      <td>Angola</td>\n",
       "      <td>AGO</td>\n",
       "      <td>NaN</td>\n",
       "      <td>Sub-Saharan Africa</td>\n",
       "      <td>Upper middle income</td>\n",
       "      <td>IBRD</td>\n",
       "      <td>NaN</td>\n",
       "    </tr>\n",
       "    <tr>\n",
       "      <th>7</th>\n",
       "      <td>7</td>\n",
       "      <td>NaN</td>\n",
       "      <td>Antigua and Barbuda</td>\n",
       "      <td>ATG</td>\n",
       "      <td>NaN</td>\n",
       "      <td>Latin America &amp; Caribbean</td>\n",
       "      <td>High income</td>\n",
       "      <td>IBRD</td>\n",
       "      <td>NaN</td>\n",
       "    </tr>\n",
       "  </tbody>\n",
       "</table>\n",
       "</div>"
      ],
      "text/plain": [
       "  Unnamed: 0  Unnamed: 1              Economy Code  Unnamed: 4  \\\n",
       "0        NaN         NaN                  NaN  NaN         NaN   \n",
       "1          1         NaN          Afghanistan  AFG         NaN   \n",
       "2          2         NaN              Albania  ALB         NaN   \n",
       "3          3         NaN              Algeria  DZA         NaN   \n",
       "4          4         NaN       American Samoa  ASM         NaN   \n",
       "5          5         NaN              Andorra  ADO         NaN   \n",
       "6          6         NaN               Angola  AGO         NaN   \n",
       "7          7         NaN  Antigua and Barbuda  ATG         NaN   \n",
       "\n",
       "                       Region         Income group Lending category Other  \n",
       "0                         NaN                  NaN              NaN   NaN  \n",
       "1                  South Asia           Low income              IDA  HIPC  \n",
       "2       Europe & Central Asia  Upper middle income             IBRD   NaN  \n",
       "3  Middle East & North Africa  Upper middle income             IBRD   NaN  \n",
       "4         East Asia & Pacific  Upper middle income               ..   NaN  \n",
       "5       Europe & Central Asia          High income               ..   NaN  \n",
       "6          Sub-Saharan Africa  Upper middle income             IBRD   NaN  \n",
       "7   Latin America & Caribbean          High income             IBRD   NaN  "
      ]
     },
     "execution_count": 3,
     "metadata": {},
     "output_type": "execute_result"
    }
   ],
   "source": [
    "import pandas as pd\n",
    "\n",
    "country_df = pd.read_excel(\"../data/country_info_worldbank.xls\",skiprows=[0,1,2],header=1)\n",
    "country_df.head(8)"
   ]
  },
  {
   "cell_type": "markdown",
   "metadata": {},
   "source": [
    "Let's see some useful options of `pandas.read_excel`:"
   ]
  },
  {
   "cell_type": "markdown",
   "metadata": {},
   "source": [
    "* **sheetname :** string, int, mixed list of strings/ints, or None, default 0\n",
    "\n",
    "    Strings are used for sheet names, Integers are used in zero-indexed sheet positions.\n",
    "\n",
    "    Lists of strings/integers are used to request multiple sheets.\n",
    "\n",
    "    Specify None to get all sheets.\n",
    "\n",
    "    str|int -> DataFrame is returned. list|None -> Dict of DataFrames is returned, with keys representing sheets.\n",
    "\n",
    "    Available Cases\n",
    "\n",
    "        Defaults to 0 -> 1st sheet as a DataFrame\n",
    "        1 -> 2nd sheet as a DataFrame\n",
    "        “Sheet1” -> 1st sheet as a DataFrame\n",
    "        [0,1,”Sheet5”] -> 1st, 2nd & 5th sheet as a dictionary of DataFrames\n",
    "        None -> All sheets as a dictionary of DataFrames"
   ]
  },
  {
   "cell_type": "markdown",
   "metadata": {},
   "source": [
    "* **header :** int, list of ints, default 0\n",
    "\n",
    "    Row (0-indexed) to use for the column labels of the parsed DataFrame. If a list of integers is passed those row positions will be combined into a MultiIndex"
   ]
  },
  {
   "cell_type": "markdown",
   "metadata": {},
   "source": [
    "* **skiprows :** list-like\n",
    "\n",
    "    Rows to skip at the beginning (0-indexed)"
   ]
  },
  {
   "cell_type": "markdown",
   "metadata": {},
   "source": [
    "* **index_col :** int, list of ints, default None\n",
    "\n",
    "    Column (0-indexed) to use as the row labels of the DataFrame. Pass None if there is no such column. If a list is passed, those columns will be combined into a MultiIndex"
   ]
  },
  {
   "cell_type": "markdown",
   "metadata": {},
   "source": [
    "### Non-Tabular data\n",
    "\n",
    "It is very easy to read (in general) datasets that contain rows with the same number of values and columns with the same number of labels. This means that we can read `csv` or `xls` when data is tabular.\n",
    "\n",
    "However, we may find some situations where this property is not hold, and we must be able to still load data into `DataFrames`\n",
    "\n",
    "To convert the text file to a DataFrame we will follow 5 steps:\n",
    "\n",
    "1. Read data\n",
    "2. Select data values\n",
    "3. Split values and map variables\n",
    "4. Convert to `DataFrame`\n",
    "5. Correct types: normalize and coerce"
   ]
  },
  {
   "cell_type": "markdown",
   "metadata": {},
   "source": [
    "#### 1. Read data\n",
    "\n",
    "We can do this with the standard Python approach for reading a text file."
   ]
  },
  {
   "cell_type": "code",
   "execution_count": 36,
   "metadata": {},
   "outputs": [],
   "source": [
    "fname = \"../data/non_tabular_data.txt\"\n",
    "with open(fname) as f:\n",
    "    content = f.readlines()"
   ]
  },
  {
   "cell_type": "markdown",
   "metadata": {},
   "source": [
    "If we take a look into the contents we will see several formatting problems:"
   ]
  },
  {
   "cell_type": "code",
   "execution_count": 2,
   "metadata": {},
   "outputs": [
    {
     "data": {
      "text/plain": [
       "['# data from experiment A\\n',\n",
       " '/Name/Age/Time\\n',\n",
       " 'Alice,22,23:20\\n',\n",
       " 'BOB,,26:43\\n',\n",
       " '#the following people has a penalization of 3minutes\\n',\n",
       " 'Charlie ,\"22\",24:09\\n',\n",
       " ' David,,\\n',\n",
       " '##############\\n']"
      ]
     },
     "execution_count": 2,
     "metadata": {},
     "output_type": "execute_result"
    }
   ],
   "source": [
    "content"
   ]
  },
  {
   "cell_type": "markdown",
   "metadata": {},
   "source": [
    "#### 2. Select lines containing data\n",
    "\n",
    "We can use several methods to accomplish this (regular expressions, string methods, etc.), the most important thing is to have a clear idea of the properties of the data we want to keep.\n",
    "\n",
    "In our case we will keep lines not starting with `#`"
   ]
  },
  {
   "cell_type": "code",
   "execution_count": 40,
   "metadata": {},
   "outputs": [
    {
     "data": {
      "text/plain": [
       "['/Name/Age/Time\\n',\n",
       " 'Alice,22,23:20\\n',\n",
       " 'BOB,,26:43\\n',\n",
       " 'Charlie ,\"22\",24:09\\n',\n",
       " ' David,,\\n']"
      ]
     },
     "execution_count": 40,
     "metadata": {},
     "output_type": "execute_result"
    }
   ],
   "source": [
    "# using regular expressions\n",
    "import re \n",
    "data = [l for l in content if re.match(\"^(?!#).+\",l)]\n",
    "data"
   ]
  },
  {
   "cell_type": "code",
   "execution_count": 41,
   "metadata": {},
   "outputs": [
    {
     "data": {
      "text/plain": [
       "['/Name/Age/Time\\n',\n",
       " 'Alice,22,23:20\\n',\n",
       " 'BOB,,26:43\\n',\n",
       " 'Charlie ,\"22\",24:09\\n',\n",
       " ' David,,\\n']"
      ]
     },
     "execution_count": 41,
     "metadata": {},
     "output_type": "execute_result"
    }
   ],
   "source": [
    "# using string methods\n",
    "import re \n",
    "data = [l for l in content if not l.startswith(\"#\")]\n",
    "data"
   ]
  },
  {
   "cell_type": "markdown",
   "metadata": {},
   "source": [
    "Once we have the data, we will select our header and split it from the content. We use the `string.strip()` method to delete newline characters."
   ]
  },
  {
   "cell_type": "code",
   "execution_count": 42,
   "metadata": {},
   "outputs": [
    {
     "data": {
      "text/plain": [
       "['/Name/Age/Time',\n",
       " 'Alice,22,23:20\\n',\n",
       " 'BOB,,26:43\\n',\n",
       " 'Charlie ,\"22\",24:09\\n',\n",
       " ' David,,\\n']"
      ]
     },
     "execution_count": 42,
     "metadata": {},
     "output_type": "execute_result"
    }
   ],
   "source": [
    "header = data[0].strip(\"\\n\")\n",
    "data = data[1:]\n",
    "[header] + data"
   ]
  },
  {
   "cell_type": "markdown",
   "metadata": {},
   "source": [
    "#### 3. Split values and map variables\n",
    "\n",
    "Next we want to select values and assign them to correct variables. We see that in our example, we have empty fields."
   ]
  },
  {
   "cell_type": "code",
   "execution_count": 43,
   "metadata": {},
   "outputs": [
    {
     "data": {
      "text/plain": [
       "[['Name', 'Age', 'Time'],\n",
       " ['Alice', '22', '23:20\\n'],\n",
       " ['BOB', '', '26:43\\n'],\n",
       " ['Charlie ', '\"22\"', '24:09\\n'],\n",
       " [' David', '', '\\n']]"
      ]
     },
     "execution_count": 43,
     "metadata": {},
     "output_type": "execute_result"
    }
   ],
   "source": [
    "data_str = [header.split(\"/\")[1:]]+[l.split(\",\") for l in data]\n",
    "data_str"
   ]
  },
  {
   "cell_type": "markdown",
   "metadata": {},
   "source": [
    "#### 4. Convert to `DataFrame`\n",
    "To standardize rows we will load the structures that we already have to a DataFrame. \n",
    "\n",
    "Remember that the constructor of a DataFrame using list needs the list to be of the same length."
   ]
  },
  {
   "cell_type": "code",
   "execution_count": 45,
   "metadata": {},
   "outputs": [
    {
     "data": {
      "text/html": [
       "<div>\n",
       "<style scoped>\n",
       "    .dataframe tbody tr th:only-of-type {\n",
       "        vertical-align: middle;\n",
       "    }\n",
       "\n",
       "    .dataframe tbody tr th {\n",
       "        vertical-align: top;\n",
       "    }\n",
       "\n",
       "    .dataframe thead th {\n",
       "        text-align: right;\n",
       "    }\n",
       "</style>\n",
       "<table border=\"1\" class=\"dataframe\">\n",
       "  <thead>\n",
       "    <tr style=\"text-align: right;\">\n",
       "      <th></th>\n",
       "      <th>Name</th>\n",
       "      <th>Age</th>\n",
       "      <th>Time</th>\n",
       "    </tr>\n",
       "  </thead>\n",
       "  <tbody>\n",
       "    <tr>\n",
       "      <th>0</th>\n",
       "      <td>Alice</td>\n",
       "      <td>22</td>\n",
       "      <td>23:20\\n</td>\n",
       "    </tr>\n",
       "    <tr>\n",
       "      <th>1</th>\n",
       "      <td>BOB</td>\n",
       "      <td></td>\n",
       "      <td>26:43\\n</td>\n",
       "    </tr>\n",
       "    <tr>\n",
       "      <th>2</th>\n",
       "      <td>Charlie</td>\n",
       "      <td>\"22\"</td>\n",
       "      <td>24:09\\n</td>\n",
       "    </tr>\n",
       "    <tr>\n",
       "      <th>3</th>\n",
       "      <td>David</td>\n",
       "      <td></td>\n",
       "      <td>\\n</td>\n",
       "    </tr>\n",
       "  </tbody>\n",
       "</table>\n",
       "</div>"
      ],
      "text/plain": [
       "       Name   Age     Time\n",
       "0     Alice    22  23:20\\n\n",
       "1       BOB        26:43\\n\n",
       "2  Charlie   \"22\"  24:09\\n\n",
       "3     David             \\n"
      ]
     },
     "execution_count": 45,
     "metadata": {},
     "output_type": "execute_result"
    }
   ],
   "source": [
    "df = pd.DataFrame(data_str[1:], columns=pd.Series(data_str[0]))\n",
    "df"
   ]
  },
  {
   "cell_type": "markdown",
   "metadata": {},
   "source": [
    "#### 5. Normalize and coerce to correct types\n",
    "\n",
    "One last problem we find is that **values are not in the correct type**. We must convert values to the proper types.\n",
    "\n",
    "The most straightforward way of doing such task is using one of the following functions:\n",
    "* `pandas.to_numeric()`: Convert `Series` to a numeric type\n",
    "* `pandas.to_datetime()`: Convert `Series` to datetime\n",
    "* `pandas.to_timedelta()`: Convert `Series` to timedelta\n",
    "    \n",
    "    \n",
    "You can check the full function signature in the [https://pandas.pydata.org/pandas-docs/stable/reference/api/pandas.to_numeric.html](documentation), however, let's take a look to one particular argument: `errors`\n",
    "\n",
    "`errors` may take the following values: `{‘ignore’, ‘raise’, ‘coerce’}`, its default is `raise`"
   ]
  },
  {
   "cell_type": "markdown",
   "metadata": {},
   "source": [
    "* If `raise`, then invalid parsing will raise an exception"
   ]
  },
  {
   "cell_type": "code",
   "execution_count": 49,
   "metadata": {},
   "outputs": [
    {
     "ename": "ValueError",
     "evalue": "Unable to parse string \"\"22\"\" at position 2",
     "output_type": "error",
     "traceback": [
      "\u001b[0;31m---------------------------------------------------------------------------\u001b[0m",
      "\u001b[0;31mValueError\u001b[0m                                Traceback (most recent call last)",
      "\u001b[0;32mpandas/_libs/lib.pyx\u001b[0m in \u001b[0;36mpandas._libs.lib.maybe_convert_numeric\u001b[0;34m()\u001b[0m\n",
      "\u001b[0;31mValueError\u001b[0m: Unable to parse string \"\"22\"\"",
      "\nDuring handling of the above exception, another exception occurred:\n",
      "\u001b[0;31mValueError\u001b[0m                                Traceback (most recent call last)",
      "\u001b[0;32m<ipython-input-49-d6582c11ff07>\u001b[0m in \u001b[0;36m<module>\u001b[0;34m\u001b[0m\n\u001b[0;32m----> 1\u001b[0;31m \u001b[0mpd\u001b[0m\u001b[0;34m.\u001b[0m\u001b[0mto_numeric\u001b[0m\u001b[0;34m(\u001b[0m\u001b[0mdf\u001b[0m\u001b[0;34m[\u001b[0m\u001b[0;34m\"Age\"\u001b[0m\u001b[0;34m]\u001b[0m\u001b[0;34m,\u001b[0m\u001b[0merrors\u001b[0m\u001b[0;34m=\u001b[0m\u001b[0;34m\"raise\"\u001b[0m\u001b[0;34m)\u001b[0m\u001b[0;34m\u001b[0m\u001b[0;34m\u001b[0m\u001b[0m\n\u001b[0m",
      "\u001b[0;32m~/anaconda3/envs/p37_mltools/lib/python3.7/site-packages/pandas/core/tools/numeric.py\u001b[0m in \u001b[0;36mto_numeric\u001b[0;34m(arg, errors, downcast)\u001b[0m\n\u001b[1;32m    133\u001b[0m             \u001b[0mcoerce_numeric\u001b[0m \u001b[0;34m=\u001b[0m \u001b[0;32mFalse\u001b[0m \u001b[0;32mif\u001b[0m \u001b[0merrors\u001b[0m \u001b[0;32min\u001b[0m \u001b[0;34m(\u001b[0m\u001b[0;34m'ignore'\u001b[0m\u001b[0;34m,\u001b[0m \u001b[0;34m'raise'\u001b[0m\u001b[0;34m)\u001b[0m \u001b[0;32melse\u001b[0m \u001b[0;32mTrue\u001b[0m\u001b[0;34m\u001b[0m\u001b[0;34m\u001b[0m\u001b[0m\n\u001b[1;32m    134\u001b[0m             values = lib.maybe_convert_numeric(values, set(),\n\u001b[0;32m--> 135\u001b[0;31m                                                coerce_numeric=coerce_numeric)\n\u001b[0m\u001b[1;32m    136\u001b[0m \u001b[0;34m\u001b[0m\u001b[0m\n\u001b[1;32m    137\u001b[0m     \u001b[0;32mexcept\u001b[0m \u001b[0mException\u001b[0m\u001b[0;34m:\u001b[0m\u001b[0;34m\u001b[0m\u001b[0;34m\u001b[0m\u001b[0m\n",
      "\u001b[0;32mpandas/_libs/lib.pyx\u001b[0m in \u001b[0;36mpandas._libs.lib.maybe_convert_numeric\u001b[0;34m()\u001b[0m\n",
      "\u001b[0;31mValueError\u001b[0m: Unable to parse string \"\"22\"\" at position 2"
     ]
    }
   ],
   "source": [
    "pd.to_numeric(df[\"Age\"],errors=\"raise\")"
   ]
  },
  {
   "cell_type": "markdown",
   "metadata": {},
   "source": [
    "* If `coerce`, then invalid parsing will be set as `NaN`"
   ]
  },
  {
   "cell_type": "code",
   "execution_count": 47,
   "metadata": {},
   "outputs": [
    {
     "data": {
      "text/plain": [
       "0    22.0\n",
       "1     NaN\n",
       "2     NaN\n",
       "3     NaN\n",
       "Name: Age, dtype: float64"
      ]
     },
     "execution_count": 47,
     "metadata": {},
     "output_type": "execute_result"
    }
   ],
   "source": [
    "pd.to_numeric(df[\"Age\"],errors=\"coerce\")"
   ]
  },
  {
   "cell_type": "markdown",
   "metadata": {},
   "source": [
    "`coerce` can be very convenient to check all formatting errors, as it returns a `Series` with `NaN`s, it can be converted to a `Series` of `bool` to select values with errors."
   ]
  },
  {
   "cell_type": "code",
   "execution_count": 50,
   "metadata": {},
   "outputs": [
    {
     "data": {
      "text/plain": [
       "1        \n",
       "2    \"22\"\n",
       "3        \n",
       "Name: Age, dtype: object"
      ]
     },
     "execution_count": 50,
     "metadata": {},
     "output_type": "execute_result"
    }
   ],
   "source": [
    "idx = pd.isnull(pd.to_numeric(df[\"Age\"],errors=\"coerce\"))\n",
    "df[\"Age\"][idx]"
   ]
  },
  {
   "cell_type": "markdown",
   "metadata": {},
   "source": [
    "* If `ignore`, then invalid parsing will return the input"
   ]
  },
  {
   "cell_type": "code",
   "execution_count": 48,
   "metadata": {},
   "outputs": [
    {
     "data": {
      "text/plain": [
       "0      22\n",
       "1        \n",
       "2    \"22\"\n",
       "3        \n",
       "Name: Age, dtype: object"
      ]
     },
     "execution_count": 48,
     "metadata": {},
     "output_type": "execute_result"
    }
   ],
   "source": [
    "pd.to_numeric(df[\"Age\"],errors=\"ignore\")"
   ]
  },
  {
   "cell_type": "markdown",
   "metadata": {},
   "source": [
    "## Value Operations in Pandas\n",
    "\n",
    "To modify `DataFrame` values we can just overwrite a cell."
   ]
  },
  {
   "cell_type": "code",
   "execution_count": 52,
   "metadata": {},
   "outputs": [
    {
     "data": {
      "text/plain": [
       "22"
      ]
     },
     "execution_count": 52,
     "metadata": {},
     "output_type": "execute_result"
    }
   ],
   "source": [
    "df[\"Age\"][2] = 22\n",
    "df[\"Age\"][2]"
   ]
  },
  {
   "cell_type": "markdown",
   "metadata": {},
   "source": [
    "However, this approach does not scale well, as the size of the `DataFrame` grows, cleaning it becomes harder. Moreover, we may find some patterns that we might want to correct or clean.\n",
    "\n",
    "To this end, we can use the `DataFrame.replace()` method.\n",
    "* It can take scalar, lists or dicts to replace values\n",
    "* It can take regular expressions\n",
    "\n",
    "For further reference visit its [pandas docs](https://pandas.pydata.org/pandas-docs/stable/reference/api/pandas.DataFrame.replace.html) pages"
   ]
  },
  {
   "cell_type": "code",
   "execution_count": 60,
   "metadata": {},
   "outputs": [
    {
     "data": {
      "text/plain": [
       "0    23:20\n",
       "1    26:43\n",
       "2    24:09\n",
       "3         \n",
       "Name: Time, dtype: object"
      ]
     },
     "execution_count": 60,
     "metadata": {},
     "output_type": "execute_result"
    }
   ],
   "source": [
    "df[\"Time\"].replace(to_replace=\"\\n\", value=\"\", regex=True)"
   ]
  },
  {
   "cell_type": "markdown",
   "metadata": {},
   "source": [
    "### `DataFrame` iteration\n",
    "\n",
    "Another option is iterate over values and change it depending on the conditions hold.\n",
    "\n",
    "To do so, we can iterate over `rows` or iterate over `columns`.\n",
    "\n",
    "**Warning:** this is not the preferred way of applying operations over `DataFrames`, you should always try to work in a functional way."
   ]
  },
  {
   "cell_type": "markdown",
   "metadata": {},
   "source": [
    "###### `DataFrame.iterrows()`\n"
   ]
  },
  {
   "cell_type": "code",
   "execution_count": 65,
   "metadata": {},
   "outputs": [
    {
     "name": "stdout",
     "output_type": "stream",
     "text": [
      "Row index: 0 - <class 'int'>\n",
      "Row content: Name      Alice\n",
      "Age          22\n",
      "Time    23:20\\n\n",
      "Name: 0, dtype: object - <class 'pandas.core.series.Series'>\n"
     ]
    }
   ],
   "source": [
    "for row_index, row_content in df.iterrows():\n",
    "    print(\"Row index: {} - {}\".format(row_index, type(row_index)))\n",
    "    print(\"Row content: {} - {}\".format(row_content, type(row_content)))\n",
    "    break"
   ]
  },
  {
   "cell_type": "code",
   "execution_count": 77,
   "metadata": {},
   "outputs": [
    {
     "data": {
      "text/plain": [
       "dtype('O')"
      ]
     },
     "execution_count": 77,
     "metadata": {},
     "output_type": "execute_result"
    }
   ],
   "source": [
    "row_content.dtype"
   ]
  },
  {
   "cell_type": "code",
   "execution_count": 78,
   "metadata": {},
   "outputs": [
    {
     "data": {
      "text/plain": [
       "'22'"
      ]
     },
     "execution_count": 78,
     "metadata": {},
     "output_type": "execute_result"
    }
   ],
   "source": [
    "row_content[1]"
   ]
  },
  {
   "cell_type": "markdown",
   "metadata": {},
   "source": [
    "*(from [`DataFrame.iterrows` docs](https://pandas.pydata.org/pandas-docs/stable/reference/api/pandas.DataFrame.iterrows.html))*\n",
    "\n",
    "**To take into account:**\n",
    "* Because iterrows returns a Series for each row, it does not preserve dtypes across the rows (dtypes are preserved across columns for DataFrames). For example,"
   ]
  },
  {
   "cell_type": "code",
   "execution_count": 74,
   "metadata": {},
   "outputs": [
    {
     "data": {
      "text/plain": [
       "int      1.0\n",
       "float    1.5\n",
       "Name: 0, dtype: float64"
      ]
     },
     "execution_count": 74,
     "metadata": {},
     "output_type": "execute_result"
    }
   ],
   "source": [
    "df2 = pd.DataFrame([[1, 1.5]], columns=['int', 'float'])\n",
    "row = next(df2.iterrows())[1]\n",
    "row"
   ]
  },
  {
   "cell_type": "code",
   "execution_count": 76,
   "metadata": {},
   "outputs": [
    {
     "name": "stdout",
     "output_type": "stream",
     "text": [
      "float64\n",
      "int64\n"
     ]
    }
   ],
   "source": [
    "print(row['int'].dtype)\n",
    "print(df2['int'].dtype)"
   ]
  },
  {
   "cell_type": "markdown",
   "metadata": {},
   "source": [
    "* To preserve dtypes while iterating over the rows, it is better to use itertuples() which returns namedtuples of the values and which is generally faster than iterrows.\n",
    "\n",
    "* You should never modify something you are iterating over. This is not guaranteed to work in all cases. Depending on the data types, the iterator returns a copy and not a view, and writing to it will have no effect."
   ]
  },
  {
   "cell_type": "markdown",
   "metadata": {},
   "source": [
    "###### `DataFrame.items`\n",
    "\n",
    "With `DataFrame.items` the `DataFrame` can be iterated columnwise."
   ]
  },
  {
   "cell_type": "code",
   "execution_count": 81,
   "metadata": {},
   "outputs": [
    {
     "data": {
      "text/plain": [
       "('Name', 0       Alice\n",
       " 1         BOB\n",
       " 2    Charlie \n",
       " 3       David\n",
       " Name: Name, dtype: object)"
      ]
     },
     "metadata": {},
     "output_type": "display_data"
    },
    {
     "data": {
      "text/plain": [
       "('Age', 0    22\n",
       " 1      \n",
       " 2    22\n",
       " 3      \n",
       " Name: Age, dtype: object)"
      ]
     },
     "metadata": {},
     "output_type": "display_data"
    },
    {
     "data": {
      "text/plain": [
       "('Time', 0    23:20\\n\n",
       " 1    26:43\\n\n",
       " 2    24:09\\n\n",
       " 3         \\n\n",
       " Name: Time, dtype: object)"
      ]
     },
     "metadata": {},
     "output_type": "display_data"
    }
   ],
   "source": [
    "for column in df.items():\n",
    "    display(column)"
   ]
  },
  {
   "cell_type": "markdown",
   "metadata": {},
   "source": [
    "### Applying functions\n",
    "\n",
    "Instead of iterating over data structures (**this can be done but it is not elegant**), there is a more functional way of doing the same task.\n",
    "\n",
    "We can apply functions over `DataFrames` and `Series`:\n",
    "* `DataFrame.apply`: applies a function along an **axis** of the DataFrame."
   ]
  },
  {
   "cell_type": "code",
   "execution_count": 82,
   "metadata": {},
   "outputs": [
    {
     "data": {
      "text/html": [
       "<div>\n",
       "<style scoped>\n",
       "    .dataframe tbody tr th:only-of-type {\n",
       "        vertical-align: middle;\n",
       "    }\n",
       "\n",
       "    .dataframe tbody tr th {\n",
       "        vertical-align: top;\n",
       "    }\n",
       "\n",
       "    .dataframe thead th {\n",
       "        text-align: right;\n",
       "    }\n",
       "</style>\n",
       "<table border=\"1\" class=\"dataframe\">\n",
       "  <thead>\n",
       "    <tr style=\"text-align: right;\">\n",
       "      <th></th>\n",
       "      <th>b</th>\n",
       "      <th>d</th>\n",
       "      <th>e</th>\n",
       "    </tr>\n",
       "  </thead>\n",
       "  <tbody>\n",
       "    <tr>\n",
       "      <th>Utah</th>\n",
       "      <td>-1.650048</td>\n",
       "      <td>-0.278878</td>\n",
       "      <td>2.094051</td>\n",
       "    </tr>\n",
       "    <tr>\n",
       "      <th>Ohio</th>\n",
       "      <td>-1.973492</td>\n",
       "      <td>-0.117674</td>\n",
       "      <td>1.255368</td>\n",
       "    </tr>\n",
       "    <tr>\n",
       "      <th>Texas</th>\n",
       "      <td>-0.354307</td>\n",
       "      <td>-0.884569</td>\n",
       "      <td>0.455905</td>\n",
       "    </tr>\n",
       "    <tr>\n",
       "      <th>Oregon</th>\n",
       "      <td>0.186582</td>\n",
       "      <td>0.557469</td>\n",
       "      <td>1.089631</td>\n",
       "    </tr>\n",
       "  </tbody>\n",
       "</table>\n",
       "</div>"
      ],
      "text/plain": [
       "               b         d         e\n",
       "Utah   -1.650048 -0.278878  2.094051\n",
       "Ohio   -1.973492 -0.117674  1.255368\n",
       "Texas  -0.354307 -0.884569  0.455905\n",
       "Oregon  0.186582  0.557469  1.089631"
      ]
     },
     "execution_count": 82,
     "metadata": {},
     "output_type": "execute_result"
    }
   ],
   "source": [
    "import numpy as np\n",
    "\n",
    "df2 = pd.DataFrame(np.random.randn(4, 3), \n",
    "                   columns=list('bde'), \n",
    "                   index=['Utah', 'Ohio', 'Texas', 'Oregon'])\n",
    "df2"
   ]
  },
  {
   "cell_type": "code",
   "execution_count": 86,
   "metadata": {},
   "outputs": [
    {
     "data": {
      "text/plain": [
       "b    2.160075\n",
       "d    1.442038\n",
       "e    1.638146\n",
       "dtype: float64"
      ]
     },
     "execution_count": 86,
     "metadata": {},
     "output_type": "execute_result"
    }
   ],
   "source": [
    "f = lambda x: x.max() - x.min()\n",
    "df2.apply(f)"
   ]
  },
  {
   "cell_type": "code",
   "execution_count": 88,
   "metadata": {},
   "outputs": [
    {
     "data": {
      "text/plain": [
       "Utah      3.744099\n",
       "Ohio      3.228860\n",
       "Texas     1.340474\n",
       "Oregon    0.903049\n",
       "dtype: float64"
      ]
     },
     "execution_count": 88,
     "metadata": {},
     "output_type": "execute_result"
    }
   ],
   "source": [
    "# we can apply the same function but now row wise\n",
    "df2.apply(f,axis=1)"
   ]
  },
  {
   "cell_type": "markdown",
   "metadata": {},
   "source": [
    "* `DataFrame.applymap`: applies a function to a Dataframe elementwise"
   ]
  },
  {
   "cell_type": "code",
   "execution_count": 89,
   "metadata": {},
   "outputs": [
    {
     "name": "stdout",
     "output_type": "stream",
     "text": [
      "               b         d         e\n",
      "Utah    2.722658  0.077773  4.385048\n",
      "Ohio    3.894672  0.013847  1.575948\n",
      "Texas   0.125534  0.782462  0.207849\n",
      "Oregon  0.034813  0.310772  1.187295\n"
     ]
    }
   ],
   "source": [
    "g = lambda x: x**2\n",
    "print(df2.applymap(g))"
   ]
  },
  {
   "cell_type": "markdown",
   "metadata": {},
   "source": [
    "* `Series.apply`: invokes function on values of Series."
   ]
  },
  {
   "cell_type": "code",
   "execution_count": 94,
   "metadata": {},
   "outputs": [
    {
     "data": {
      "text/plain": [
       "Utah      1.650048\n",
       "Ohio      1.973492\n",
       "Texas     0.354307\n",
       "Oregon    0.186582\n",
       "Name: b, dtype: float64"
      ]
     },
     "execution_count": 94,
     "metadata": {},
     "output_type": "execute_result"
    }
   ],
   "source": [
    "df2[\"b\"].apply(np.abs)"
   ]
  },
  {
   "cell_type": "markdown",
   "metadata": {},
   "source": [
    "* `Series.map`: maps values of Series according to input correspondence."
   ]
  },
  {
   "cell_type": "code",
   "execution_count": 98,
   "metadata": {},
   "outputs": [
    {
     "data": {
      "text/plain": [
       "Index(['Salt Lake City', 'Culumbus', 'Dallas', 'Salem'], dtype='object')"
      ]
     },
     "execution_count": 98,
     "metadata": {},
     "output_type": "execute_result"
    }
   ],
   "source": [
    "state_capital_map = {\n",
    "    \"Utah\": \"Salt Lake City\",\n",
    "    \"Ohio\": \"Culumbus\",\n",
    "    \"Texas\": \"Dallas\",\n",
    "    \"Oregon\": \"Salem\"\n",
    "}\n",
    "df2.index.map(state_capital_map)"
   ]
  },
  {
   "cell_type": "markdown",
   "metadata": {},
   "source": [
    "## String Manipulation\n",
    "\n",
    "(*from http://pandas.pydata.org/pandas-docs/stable/text.html*)\n",
    "\n",
    "**`Series` and `Index`** are equipped with a set of string processing methods that make it easy to operate on each element of the array. \n",
    "\n",
    "The advantage of using these methods instead of applying functions or iterating over `DataFrames` are:\n",
    "* These methods exclude missing/NA values automatically \n",
    "* Follow (more or less) the same syntax than the builtin `string` object under the str naming space\n",
    "* Reduces the boilerplate and time writing functions\n",
    "\n",
    "\n",
    "For example, in the dataset we are using, we may want to normalize names.\n",
    "\n",
    "We can use the `Series.str.title()` method."
   ]
  },
  {
   "cell_type": "code",
   "execution_count": 100,
   "metadata": {},
   "outputs": [
    {
     "data": {
      "text/html": [
       "<div>\n",
       "<style scoped>\n",
       "    .dataframe tbody tr th:only-of-type {\n",
       "        vertical-align: middle;\n",
       "    }\n",
       "\n",
       "    .dataframe tbody tr th {\n",
       "        vertical-align: top;\n",
       "    }\n",
       "\n",
       "    .dataframe thead th {\n",
       "        text-align: right;\n",
       "    }\n",
       "</style>\n",
       "<table border=\"1\" class=\"dataframe\">\n",
       "  <thead>\n",
       "    <tr style=\"text-align: right;\">\n",
       "      <th></th>\n",
       "      <th>Name</th>\n",
       "      <th>Age</th>\n",
       "      <th>Time</th>\n",
       "    </tr>\n",
       "  </thead>\n",
       "  <tbody>\n",
       "    <tr>\n",
       "      <th>0</th>\n",
       "      <td>Alice</td>\n",
       "      <td>22</td>\n",
       "      <td>23:20\\n</td>\n",
       "    </tr>\n",
       "    <tr>\n",
       "      <th>1</th>\n",
       "      <td>Bob</td>\n",
       "      <td></td>\n",
       "      <td>26:43\\n</td>\n",
       "    </tr>\n",
       "    <tr>\n",
       "      <th>2</th>\n",
       "      <td>Charlie</td>\n",
       "      <td>22</td>\n",
       "      <td>24:09\\n</td>\n",
       "    </tr>\n",
       "    <tr>\n",
       "      <th>3</th>\n",
       "      <td>David</td>\n",
       "      <td></td>\n",
       "      <td>\\n</td>\n",
       "    </tr>\n",
       "  </tbody>\n",
       "</table>\n",
       "</div>"
      ],
      "text/plain": [
       "       Name Age     Time\n",
       "0     Alice  22  23:20\\n\n",
       "1       Bob      26:43\\n\n",
       "2  Charlie   22  24:09\\n\n",
       "3     David           \\n"
      ]
     },
     "execution_count": 100,
     "metadata": {},
     "output_type": "execute_result"
    }
   ],
   "source": [
    "df[\"Name\"] = df[\"Name\"].str.title()\n",
    "df"
   ]
  },
  {
   "cell_type": "markdown",
   "metadata": {},
   "source": [
    "Or we may want to check the length of the strings. We can use `DataFrame.str.len()`"
   ]
  },
  {
   "cell_type": "code",
   "execution_count": 101,
   "metadata": {},
   "outputs": [
    {
     "data": {
      "text/plain": [
       "0    5\n",
       "1    3\n",
       "2    8\n",
       "3    6\n",
       "Name: Name, dtype: int64"
      ]
     },
     "execution_count": 101,
     "metadata": {},
     "output_type": "execute_result"
    }
   ],
   "source": [
    "df[\"Name\"].str.len()"
   ]
  },
  {
   "cell_type": "markdown",
   "metadata": {},
   "source": [
    "Note that both methods, are `string` methods as well:"
   ]
  },
  {
   "cell_type": "code",
   "execution_count": 103,
   "metadata": {},
   "outputs": [
    {
     "data": {
      "text/plain": [
       "'Bob'"
      ]
     },
     "execution_count": 103,
     "metadata": {},
     "output_type": "execute_result"
    }
   ],
   "source": [
    "\"BOB\".title()"
   ]
  },
  {
   "cell_type": "code",
   "execution_count": 105,
   "metadata": {},
   "outputs": [
    {
     "ename": "AttributeError",
     "evalue": "'str' object has no attribute 'length'",
     "output_type": "error",
     "traceback": [
      "\u001b[0;31m---------------------------------------------------------------------------\u001b[0m",
      "\u001b[0;31mAttributeError\u001b[0m                            Traceback (most recent call last)",
      "\u001b[0;32m<ipython-input-105-76d4001779c9>\u001b[0m in \u001b[0;36m<module>\u001b[0;34m\u001b[0m\n\u001b[0;32m----> 1\u001b[0;31m \u001b[0;34m\"Alice\"\u001b[0m\u001b[0;34m.\u001b[0m\u001b[0mlength\u001b[0m\u001b[0;34m(\u001b[0m\u001b[0;34m)\u001b[0m\u001b[0;34m\u001b[0m\u001b[0;34m\u001b[0m\u001b[0m\n\u001b[0m",
      "\u001b[0;31mAttributeError\u001b[0m: 'str' object has no attribute 'length'"
     ]
    }
   ],
   "source": [
    "# ooooops\n",
    "\"Alice\".len()"
   ]
  },
  {
   "cell_type": "markdown",
   "metadata": {},
   "source": [
    "I said, more or less.\n",
    "\n",
    "Another detail: `Index` has these methods too:"
   ]
  },
  {
   "cell_type": "code",
   "execution_count": 106,
   "metadata": {},
   "outputs": [
    {
     "data": {
      "text/plain": [
       "Index(['name', 'age', 'time'], dtype='object')"
      ]
     },
     "execution_count": 106,
     "metadata": {},
     "output_type": "execute_result"
    }
   ],
   "source": [
    "df.columns.str.lower()"
   ]
  },
  {
   "cell_type": "markdown",
   "metadata": {},
   "source": [
    "### Column Name Normalization\n",
    "\n",
    "The string methods on Index are especially useful for cleaning up or transforming DataFrame columns. \n",
    "\n",
    "For instance, you may have columns with leading or trailing whitespace:"
   ]
  },
  {
   "cell_type": "code",
   "execution_count": 107,
   "metadata": {},
   "outputs": [
    {
     "data": {
      "text/html": [
       "<div>\n",
       "<style scoped>\n",
       "    .dataframe tbody tr th:only-of-type {\n",
       "        vertical-align: middle;\n",
       "    }\n",
       "\n",
       "    .dataframe tbody tr th {\n",
       "        vertical-align: top;\n",
       "    }\n",
       "\n",
       "    .dataframe thead th {\n",
       "        text-align: right;\n",
       "    }\n",
       "</style>\n",
       "<table border=\"1\" class=\"dataframe\">\n",
       "  <thead>\n",
       "    <tr style=\"text-align: right;\">\n",
       "      <th></th>\n",
       "      <th>Column A</th>\n",
       "      <th>Column B</th>\n",
       "    </tr>\n",
       "  </thead>\n",
       "  <tbody>\n",
       "    <tr>\n",
       "      <th>0</th>\n",
       "      <td>-1.447260</td>\n",
       "      <td>-0.415191</td>\n",
       "    </tr>\n",
       "    <tr>\n",
       "      <th>1</th>\n",
       "      <td>1.019530</td>\n",
       "      <td>0.713505</td>\n",
       "    </tr>\n",
       "    <tr>\n",
       "      <th>2</th>\n",
       "      <td>0.241768</td>\n",
       "      <td>0.341431</td>\n",
       "    </tr>\n",
       "  </tbody>\n",
       "</table>\n",
       "</div>"
      ],
      "text/plain": [
       "    Column A    Column B \n",
       "0   -1.447260   -0.415191\n",
       "1    1.019530    0.713505\n",
       "2    0.241768    0.341431"
      ]
     },
     "execution_count": 107,
     "metadata": {},
     "output_type": "execute_result"
    }
   ],
   "source": [
    "import numpy as np\n",
    "\n",
    "df = pd.DataFrame(np.random.randn(3, 2), columns=[' Column A ', ' Column B '],index=range(3))\n",
    "df"
   ]
  },
  {
   "cell_type": "markdown",
   "metadata": {},
   "source": [
    "Since `DataFrame.columns` is an `Index` object, we can use the `Series.str` attribute"
   ]
  },
  {
   "cell_type": "code",
   "execution_count": 109,
   "metadata": {},
   "outputs": [
    {
     "data": {
      "text/plain": [
       "Index(['Column A', 'Column B'], dtype='object')"
      ]
     },
     "execution_count": 109,
     "metadata": {},
     "output_type": "execute_result"
    }
   ],
   "source": [
    "df.columns.str.strip()"
   ]
  },
  {
   "cell_type": "code",
   "execution_count": 110,
   "metadata": {},
   "outputs": [
    {
     "data": {
      "text/plain": [
       "Index([' column a ', ' column b '], dtype='object')"
      ]
     },
     "execution_count": 110,
     "metadata": {},
     "output_type": "execute_result"
    }
   ],
   "source": [
    "df.columns.str.lower()"
   ]
  },
  {
   "cell_type": "markdown",
   "metadata": {},
   "source": [
    "These string methods can then be used to clean up the columns as needed. \n",
    "\n",
    "In the next example we are removing leading and trailing whitespaces, lowercasing all names, and replacing any remaining whitespaces with underscores:\n",
    "* `Series.str.strip()` removes leading or trailing whitespaces\n",
    "* `Series.str.lower()` converts any uppercase letter to lowercase\n",
    "* `Series.str.replace()` replaces string patterns"
   ]
  },
  {
   "cell_type": "code",
   "execution_count": 111,
   "metadata": {},
   "outputs": [
    {
     "data": {
      "text/html": [
       "<div>\n",
       "<style scoped>\n",
       "    .dataframe tbody tr th:only-of-type {\n",
       "        vertical-align: middle;\n",
       "    }\n",
       "\n",
       "    .dataframe tbody tr th {\n",
       "        vertical-align: top;\n",
       "    }\n",
       "\n",
       "    .dataframe thead th {\n",
       "        text-align: right;\n",
       "    }\n",
       "</style>\n",
       "<table border=\"1\" class=\"dataframe\">\n",
       "  <thead>\n",
       "    <tr style=\"text-align: right;\">\n",
       "      <th></th>\n",
       "      <th>column_a</th>\n",
       "      <th>column_b</th>\n",
       "    </tr>\n",
       "  </thead>\n",
       "  <tbody>\n",
       "    <tr>\n",
       "      <th>0</th>\n",
       "      <td>-1.447260</td>\n",
       "      <td>-0.415191</td>\n",
       "    </tr>\n",
       "    <tr>\n",
       "      <th>1</th>\n",
       "      <td>1.019530</td>\n",
       "      <td>0.713505</td>\n",
       "    </tr>\n",
       "    <tr>\n",
       "      <th>2</th>\n",
       "      <td>0.241768</td>\n",
       "      <td>0.341431</td>\n",
       "    </tr>\n",
       "  </tbody>\n",
       "</table>\n",
       "</div>"
      ],
      "text/plain": [
       "   column_a  column_b\n",
       "0 -1.447260 -0.415191\n",
       "1  1.019530  0.713505\n",
       "2  0.241768  0.341431"
      ]
     },
     "execution_count": 111,
     "metadata": {},
     "output_type": "execute_result"
    }
   ],
   "source": [
    "df.columns = df.columns.str.strip().str.lower().str.replace(' ', '_')\n",
    "df"
   ]
  },
  {
   "cell_type": "markdown",
   "metadata": {},
   "source": [
    "### Splitting Strings\n",
    "\n",
    "There are some `str` methods that return `list` or `Series`. \n",
    "\n",
    "For example, if we want to split a `string` into chunks, these chunks are placed in list. Thus, the result is a `Series` of `list`s"
   ]
  },
  {
   "cell_type": "code",
   "execution_count": 113,
   "metadata": {},
   "outputs": [
    {
     "data": {
      "text/plain": [
       "0    [a, b, c]\n",
       "1    [c, d, e]\n",
       "2          NaN\n",
       "3    [f, g, h]\n",
       "dtype: object"
      ]
     },
     "execution_count": 113,
     "metadata": {},
     "output_type": "execute_result"
    }
   ],
   "source": [
    "s2 = pd.Series(['a_b_c', 'c_d_e', np.nan, 'f_g_h'])\n",
    "s2.str.split('_')"
   ]
  },
  {
   "cell_type": "markdown",
   "metadata": {},
   "source": [
    "To access the elements in the splitted result, we can use both method `Series.str.get()` or `Series.str[]` notation:"
   ]
  },
  {
   "cell_type": "code",
   "execution_count": 114,
   "metadata": {},
   "outputs": [
    {
     "data": {
      "text/plain": [
       "0      b\n",
       "1      d\n",
       "2    NaN\n",
       "3      g\n",
       "dtype: object"
      ]
     },
     "execution_count": 114,
     "metadata": {},
     "output_type": "execute_result"
    }
   ],
   "source": [
    "s2.str.split('_').str.get(1)"
   ]
  },
  {
   "cell_type": "code",
   "execution_count": 115,
   "metadata": {},
   "outputs": [
    {
     "data": {
      "text/plain": [
       "0      b\n",
       "1      d\n",
       "2    NaN\n",
       "3      g\n",
       "dtype: object"
      ]
     },
     "execution_count": 115,
     "metadata": {},
     "output_type": "execute_result"
    }
   ],
   "source": [
    "s2.str.split('_').str[1]"
   ]
  },
  {
   "cell_type": "markdown",
   "metadata": {},
   "source": [
    "If we are not happy with a `Series` of `list`s, we can make the result of the split to be a `DataFrame` using the `expand=True` parameter."
   ]
  },
  {
   "cell_type": "code",
   "execution_count": 117,
   "metadata": {},
   "outputs": [
    {
     "data": {
      "text/html": [
       "<div>\n",
       "<style scoped>\n",
       "    .dataframe tbody tr th:only-of-type {\n",
       "        vertical-align: middle;\n",
       "    }\n",
       "\n",
       "    .dataframe tbody tr th {\n",
       "        vertical-align: top;\n",
       "    }\n",
       "\n",
       "    .dataframe thead th {\n",
       "        text-align: right;\n",
       "    }\n",
       "</style>\n",
       "<table border=\"1\" class=\"dataframe\">\n",
       "  <thead>\n",
       "    <tr style=\"text-align: right;\">\n",
       "      <th></th>\n",
       "      <th>0</th>\n",
       "      <th>1</th>\n",
       "      <th>2</th>\n",
       "    </tr>\n",
       "  </thead>\n",
       "  <tbody>\n",
       "    <tr>\n",
       "      <th>0</th>\n",
       "      <td>a</td>\n",
       "      <td>b</td>\n",
       "      <td>c</td>\n",
       "    </tr>\n",
       "    <tr>\n",
       "      <th>1</th>\n",
       "      <td>c</td>\n",
       "      <td>d</td>\n",
       "      <td>e</td>\n",
       "    </tr>\n",
       "    <tr>\n",
       "      <th>2</th>\n",
       "      <td>NaN</td>\n",
       "      <td>NaN</td>\n",
       "      <td>NaN</td>\n",
       "    </tr>\n",
       "    <tr>\n",
       "      <th>3</th>\n",
       "      <td>f</td>\n",
       "      <td>g</td>\n",
       "      <td>h</td>\n",
       "    </tr>\n",
       "  </tbody>\n",
       "</table>\n",
       "</div>"
      ],
      "text/plain": [
       "     0    1    2\n",
       "0    a    b    c\n",
       "1    c    d    e\n",
       "2  NaN  NaN  NaN\n",
       "3    f    g    h"
      ]
     },
     "execution_count": 117,
     "metadata": {},
     "output_type": "execute_result"
    }
   ],
   "source": [
    "s2.str.split('_', expand=True)"
   ]
  },
  {
   "cell_type": "markdown",
   "metadata": {},
   "source": [
    "We can also limit the number of splits:"
   ]
  },
  {
   "cell_type": "code",
   "execution_count": 118,
   "metadata": {},
   "outputs": [
    {
     "data": {
      "text/html": [
       "<div>\n",
       "<style scoped>\n",
       "    .dataframe tbody tr th:only-of-type {\n",
       "        vertical-align: middle;\n",
       "    }\n",
       "\n",
       "    .dataframe tbody tr th {\n",
       "        vertical-align: top;\n",
       "    }\n",
       "\n",
       "    .dataframe thead th {\n",
       "        text-align: right;\n",
       "    }\n",
       "</style>\n",
       "<table border=\"1\" class=\"dataframe\">\n",
       "  <thead>\n",
       "    <tr style=\"text-align: right;\">\n",
       "      <th></th>\n",
       "      <th>0</th>\n",
       "      <th>1</th>\n",
       "    </tr>\n",
       "  </thead>\n",
       "  <tbody>\n",
       "    <tr>\n",
       "      <th>0</th>\n",
       "      <td>a</td>\n",
       "      <td>b_c</td>\n",
       "    </tr>\n",
       "    <tr>\n",
       "      <th>1</th>\n",
       "      <td>c</td>\n",
       "      <td>d_e</td>\n",
       "    </tr>\n",
       "    <tr>\n",
       "      <th>2</th>\n",
       "      <td>NaN</td>\n",
       "      <td>NaN</td>\n",
       "    </tr>\n",
       "    <tr>\n",
       "      <th>3</th>\n",
       "      <td>f</td>\n",
       "      <td>g_h</td>\n",
       "    </tr>\n",
       "  </tbody>\n",
       "</table>\n",
       "</div>"
      ],
      "text/plain": [
       "     0    1\n",
       "0    a  b_c\n",
       "1    c  d_e\n",
       "2  NaN  NaN\n",
       "3    f  g_h"
      ]
     },
     "execution_count": 118,
     "metadata": {},
     "output_type": "execute_result"
    }
   ],
   "source": [
    "s2.str.split('_', expand=True, n=1)"
   ]
  },
  {
   "cell_type": "markdown",
   "metadata": {},
   "source": [
    "If we want to split the string from the end, `Series.str.rsplit()` is similar to `split` except it works in the reverse direction, i.e., from the end of the string to the beginning of the string:"
   ]
  },
  {
   "cell_type": "code",
   "execution_count": 119,
   "metadata": {},
   "outputs": [
    {
     "data": {
      "text/html": [
       "<div>\n",
       "<style scoped>\n",
       "    .dataframe tbody tr th:only-of-type {\n",
       "        vertical-align: middle;\n",
       "    }\n",
       "\n",
       "    .dataframe tbody tr th {\n",
       "        vertical-align: top;\n",
       "    }\n",
       "\n",
       "    .dataframe thead th {\n",
       "        text-align: right;\n",
       "    }\n",
       "</style>\n",
       "<table border=\"1\" class=\"dataframe\">\n",
       "  <thead>\n",
       "    <tr style=\"text-align: right;\">\n",
       "      <th></th>\n",
       "      <th>0</th>\n",
       "      <th>1</th>\n",
       "    </tr>\n",
       "  </thead>\n",
       "  <tbody>\n",
       "    <tr>\n",
       "      <th>0</th>\n",
       "      <td>a_b</td>\n",
       "      <td>c</td>\n",
       "    </tr>\n",
       "    <tr>\n",
       "      <th>1</th>\n",
       "      <td>c_d</td>\n",
       "      <td>e</td>\n",
       "    </tr>\n",
       "    <tr>\n",
       "      <th>2</th>\n",
       "      <td>NaN</td>\n",
       "      <td>NaN</td>\n",
       "    </tr>\n",
       "    <tr>\n",
       "      <th>3</th>\n",
       "      <td>f_g</td>\n",
       "      <td>h</td>\n",
       "    </tr>\n",
       "  </tbody>\n",
       "</table>\n",
       "</div>"
      ],
      "text/plain": [
       "     0    1\n",
       "0  a_b    c\n",
       "1  c_d    e\n",
       "2  NaN  NaN\n",
       "3  f_g    h"
      ]
     },
     "execution_count": 119,
     "metadata": {},
     "output_type": "execute_result"
    }
   ],
   "source": [
    "s2.str.rsplit('_', expand=True, n=1)"
   ]
  },
  {
   "cell_type": "markdown",
   "metadata": {},
   "source": [
    "### Replacing strings\n",
    "\n",
    "Since replacing `string` values is a common task when transforming data, there are some useful methods that allow the use of regular expressions."
   ]
  },
  {
   "cell_type": "code",
   "execution_count": 120,
   "metadata": {},
   "outputs": [
    {
     "data": {
      "text/plain": [
       "0       A\n",
       "1       B\n",
       "2       C\n",
       "3    Aaba\n",
       "4    Baca\n",
       "5        \n",
       "6     NaN\n",
       "7    CABA\n",
       "8     dog\n",
       "9     cat\n",
       "dtype: object"
      ]
     },
     "execution_count": 120,
     "metadata": {},
     "output_type": "execute_result"
    }
   ],
   "source": [
    "s3 = pd.Series(['A', 'B', 'C', 'Aaba', 'Baca','', np.nan, 'CABA', 'dog', 'cat'])\n",
    "s3"
   ]
  },
  {
   "cell_type": "markdown",
   "metadata": {},
   "source": [
    "For example, `Series.str.replace` accepts regular expressions to replace string values."
   ]
  },
  {
   "cell_type": "code",
   "execution_count": 121,
   "metadata": {},
   "outputs": [
    {
     "data": {
      "text/plain": [
       "0           A\n",
       "1           B\n",
       "2           C\n",
       "3    XX-XX ba\n",
       "4    XX-XX ca\n",
       "5            \n",
       "6         NaN\n",
       "7    XX-XX BA\n",
       "8      XX-XX \n",
       "9     XX-XX t\n",
       "dtype: object"
      ]
     },
     "execution_count": 121,
     "metadata": {},
     "output_type": "execute_result"
    }
   ],
   "source": [
    "s3.str.replace('^.a|dog', 'XX-XX ', case=False)"
   ]
  },
  {
   "cell_type": "markdown",
   "metadata": {},
   "source": [
    "### Indexing `string` values"
   ]
  },
  {
   "cell_type": "markdown",
   "metadata": {},
   "source": [
    "We can access directly to all text positions in a text variable using str indexing with `Series.str[]` notation (like we did with lists). \n",
    "\n",
    "If any strings are out of bounds, NaN is returned."
   ]
  },
  {
   "cell_type": "code",
   "execution_count": 122,
   "metadata": {},
   "outputs": [
    {
     "data": {
      "text/plain": [
       "0      A\n",
       "1      B\n",
       "2      C\n",
       "3      A\n",
       "4      B\n",
       "5    NaN\n",
       "6      C\n",
       "7      d\n",
       "8      c\n",
       "dtype: object"
      ]
     },
     "execution_count": 122,
     "metadata": {},
     "output_type": "execute_result"
    }
   ],
   "source": [
    "s = pd.Series(['A', 'B', 'C', 'Aaba', 'Baca', np.nan,'CABA', 'dog', 'cat'])\n",
    "s.str[0]"
   ]
  },
  {
   "cell_type": "code",
   "execution_count": 123,
   "metadata": {},
   "outputs": [
    {
     "data": {
      "text/plain": [
       "0    NaN\n",
       "1    NaN\n",
       "2    NaN\n",
       "3      a\n",
       "4      a\n",
       "5    NaN\n",
       "6      A\n",
       "7      o\n",
       "8      a\n",
       "dtype: object"
      ]
     },
     "execution_count": 123,
     "metadata": {},
     "output_type": "execute_result"
    }
   ],
   "source": [
    "s.str[1]"
   ]
  },
  {
   "cell_type": "markdown",
   "metadata": {},
   "source": [
    "### Extracting Substrings\n",
    "##### Extract first match in each subject (extract)\n",
    "The `Series.str.extract` method accepts a regular expression with at least one capture group.\n",
    "\n",
    "Extracting a regular expression with more than one group returns a `DataFrame` with one column per group."
   ]
  },
  {
   "cell_type": "code",
   "execution_count": 124,
   "metadata": {},
   "outputs": [
    {
     "data": {
      "text/html": [
       "<div>\n",
       "<style scoped>\n",
       "    .dataframe tbody tr th:only-of-type {\n",
       "        vertical-align: middle;\n",
       "    }\n",
       "\n",
       "    .dataframe tbody tr th {\n",
       "        vertical-align: top;\n",
       "    }\n",
       "\n",
       "    .dataframe thead th {\n",
       "        text-align: right;\n",
       "    }\n",
       "</style>\n",
       "<table border=\"1\" class=\"dataframe\">\n",
       "  <thead>\n",
       "    <tr style=\"text-align: right;\">\n",
       "      <th></th>\n",
       "      <th>0</th>\n",
       "      <th>1</th>\n",
       "    </tr>\n",
       "  </thead>\n",
       "  <tbody>\n",
       "    <tr>\n",
       "      <th>0</th>\n",
       "      <td>a</td>\n",
       "      <td>1</td>\n",
       "    </tr>\n",
       "    <tr>\n",
       "      <th>1</th>\n",
       "      <td>b</td>\n",
       "      <td>2</td>\n",
       "    </tr>\n",
       "    <tr>\n",
       "      <th>2</th>\n",
       "      <td>NaN</td>\n",
       "      <td>NaN</td>\n",
       "    </tr>\n",
       "  </tbody>\n",
       "</table>\n",
       "</div>"
      ],
      "text/plain": [
       "     0    1\n",
       "0    a    1\n",
       "1    b    2\n",
       "2  NaN  NaN"
      ]
     },
     "execution_count": 124,
     "metadata": {},
     "output_type": "execute_result"
    }
   ],
   "source": [
    "pd.Series(['a1', 'b2', 'c3']).str.extract('([ab])(\\d)', expand=False)"
   ]
  },
  {
   "cell_type": "markdown",
   "metadata": {},
   "source": [
    "The `expand` attribute set to `False` returns a `Series` when possible. \n",
    "\n",
    "If we set it to `True` a `DataFrame` will always be returned. \n",
    "\n",
    "If multiple regular expressions are grouped, the `DataFrame` is returned in both cases."
   ]
  },
  {
   "cell_type": "code",
   "execution_count": 125,
   "metadata": {},
   "outputs": [
    {
     "data": {
      "text/plain": [
       "0      a\n",
       "1      b\n",
       "2    NaN\n",
       "dtype: object"
      ]
     },
     "execution_count": 125,
     "metadata": {},
     "output_type": "execute_result"
    }
   ],
   "source": [
    "pd.Series(['a1', 'b2', 'c3']).str.extract('([ab])', expand=False)"
   ]
  },
  {
   "cell_type": "code",
   "execution_count": 126,
   "metadata": {},
   "outputs": [
    {
     "data": {
      "text/html": [
       "<div>\n",
       "<style scoped>\n",
       "    .dataframe tbody tr th:only-of-type {\n",
       "        vertical-align: middle;\n",
       "    }\n",
       "\n",
       "    .dataframe tbody tr th {\n",
       "        vertical-align: top;\n",
       "    }\n",
       "\n",
       "    .dataframe thead th {\n",
       "        text-align: right;\n",
       "    }\n",
       "</style>\n",
       "<table border=\"1\" class=\"dataframe\">\n",
       "  <thead>\n",
       "    <tr style=\"text-align: right;\">\n",
       "      <th></th>\n",
       "      <th>0</th>\n",
       "    </tr>\n",
       "  </thead>\n",
       "  <tbody>\n",
       "    <tr>\n",
       "      <th>0</th>\n",
       "      <td>a</td>\n",
       "    </tr>\n",
       "    <tr>\n",
       "      <th>1</th>\n",
       "      <td>b</td>\n",
       "    </tr>\n",
       "    <tr>\n",
       "      <th>2</th>\n",
       "      <td>NaN</td>\n",
       "    </tr>\n",
       "  </tbody>\n",
       "</table>\n",
       "</div>"
      ],
      "text/plain": [
       "     0\n",
       "0    a\n",
       "1    b\n",
       "2  NaN"
      ]
     },
     "execution_count": 126,
     "metadata": {},
     "output_type": "execute_result"
    }
   ],
   "source": [
    "pd.Series(['a1', 'b2', 'c3']).str.extract('([ab])', expand=True)"
   ]
  },
  {
   "cell_type": "markdown",
   "metadata": {},
   "source": [
    "Elements that do not match return a row filled with `NaN`. \n",
    "\n",
    "Thus, a `Series` of messy strings can be “converted” into a indexed `Series` or `DataFrame` of cleaned-up or more useful strings, without needing `Series.str.get()` to access tuples or `re.match` objects. \n",
    "\n",
    "The dtype of the result is always object, even if no match is found and the result only contains NaN."
   ]
  },
  {
   "cell_type": "markdown",
   "metadata": {},
   "source": [
    "Named groups like"
   ]
  },
  {
   "cell_type": "code",
   "execution_count": 38,
   "metadata": {},
   "outputs": [
    {
     "data": {
      "text/html": [
       "<div>\n",
       "<style scoped>\n",
       "    .dataframe tbody tr th:only-of-type {\n",
       "        vertical-align: middle;\n",
       "    }\n",
       "\n",
       "    .dataframe tbody tr th {\n",
       "        vertical-align: top;\n",
       "    }\n",
       "\n",
       "    .dataframe thead th {\n",
       "        text-align: right;\n",
       "    }\n",
       "</style>\n",
       "<table border=\"1\" class=\"dataframe\">\n",
       "  <thead>\n",
       "    <tr style=\"text-align: right;\">\n",
       "      <th></th>\n",
       "      <th>letter</th>\n",
       "      <th>digit</th>\n",
       "    </tr>\n",
       "  </thead>\n",
       "  <tbody>\n",
       "    <tr>\n",
       "      <th>0</th>\n",
       "      <td>a</td>\n",
       "      <td>1</td>\n",
       "    </tr>\n",
       "    <tr>\n",
       "      <th>1</th>\n",
       "      <td>b</td>\n",
       "      <td>2</td>\n",
       "    </tr>\n",
       "    <tr>\n",
       "      <th>2</th>\n",
       "      <td>NaN</td>\n",
       "      <td>NaN</td>\n",
       "    </tr>\n",
       "  </tbody>\n",
       "</table>\n",
       "</div>"
      ],
      "text/plain": [
       "  letter digit\n",
       "0      a     1\n",
       "1      b     2\n",
       "2    NaN   NaN"
      ]
     },
     "execution_count": 38,
     "metadata": {},
     "output_type": "execute_result"
    }
   ],
   "source": [
    "pd.Series(['a1', 'b2', 'c3']).str.extract('(?P<letter>[ab])(?P<digit>\\d)', expand=False)"
   ]
  },
  {
   "cell_type": "markdown",
   "metadata": {},
   "source": [
    "and optional groups like"
   ]
  },
  {
   "cell_type": "code",
   "execution_count": 39,
   "metadata": {},
   "outputs": [
    {
     "data": {
      "text/html": [
       "<div>\n",
       "<style scoped>\n",
       "    .dataframe tbody tr th:only-of-type {\n",
       "        vertical-align: middle;\n",
       "    }\n",
       "\n",
       "    .dataframe tbody tr th {\n",
       "        vertical-align: top;\n",
       "    }\n",
       "\n",
       "    .dataframe thead th {\n",
       "        text-align: right;\n",
       "    }\n",
       "</style>\n",
       "<table border=\"1\" class=\"dataframe\">\n",
       "  <thead>\n",
       "    <tr style=\"text-align: right;\">\n",
       "      <th></th>\n",
       "      <th>0</th>\n",
       "      <th>1</th>\n",
       "    </tr>\n",
       "  </thead>\n",
       "  <tbody>\n",
       "    <tr>\n",
       "      <th>0</th>\n",
       "      <td>a</td>\n",
       "      <td>1</td>\n",
       "    </tr>\n",
       "    <tr>\n",
       "      <th>1</th>\n",
       "      <td>b</td>\n",
       "      <td>2</td>\n",
       "    </tr>\n",
       "    <tr>\n",
       "      <th>2</th>\n",
       "      <td>NaN</td>\n",
       "      <td>3</td>\n",
       "    </tr>\n",
       "  </tbody>\n",
       "</table>\n",
       "</div>"
      ],
      "text/plain": [
       "     0  1\n",
       "0    a  1\n",
       "1    b  2\n",
       "2  NaN  3"
      ]
     },
     "execution_count": 39,
     "metadata": {},
     "output_type": "execute_result"
    }
   ],
   "source": [
    "pd.Series(['a1', 'b2', '3']).str.extract('([ab])?(\\d)', expand=False)"
   ]
  },
  {
   "cell_type": "markdown",
   "metadata": {},
   "source": [
    "Note that any capture group names in the regular expression will be used for column names; otherwise capture group numbers will be used."
   ]
  },
  {
   "cell_type": "markdown",
   "metadata": {},
   "source": [
    "To know more about expand attribute (e.g. when used with Index) refer to: http://pandas.pydata.org/pandas-docs/stable/text.html#extracting-substrings"
   ]
  },
  {
   "cell_type": "markdown",
   "metadata": {},
   "source": [
    "##### Extract all matches in each subject (extractall)¶"
   ]
  },
  {
   "cell_type": "markdown",
   "metadata": {},
   "source": [
    "The `Series.str.extractall` method returns every match. \n",
    "\n",
    "The result of extractall is always a `DataFrame` with a `MultiIndex` on its rows. \n",
    "\n",
    "The last level of the `MultiIndex` is named match and indicates the order in the subject."
   ]
  },
  {
   "cell_type": "code",
   "execution_count": 127,
   "metadata": {},
   "outputs": [
    {
     "data": {
      "text/html": [
       "<div>\n",
       "<style scoped>\n",
       "    .dataframe tbody tr th:only-of-type {\n",
       "        vertical-align: middle;\n",
       "    }\n",
       "\n",
       "    .dataframe tbody tr th {\n",
       "        vertical-align: top;\n",
       "    }\n",
       "\n",
       "    .dataframe thead th {\n",
       "        text-align: right;\n",
       "    }\n",
       "</style>\n",
       "<table border=\"1\" class=\"dataframe\">\n",
       "  <thead>\n",
       "    <tr style=\"text-align: right;\">\n",
       "      <th></th>\n",
       "      <th>letter</th>\n",
       "      <th>digit</th>\n",
       "    </tr>\n",
       "  </thead>\n",
       "  <tbody>\n",
       "    <tr>\n",
       "      <th>A</th>\n",
       "      <td>a</td>\n",
       "      <td>1</td>\n",
       "    </tr>\n",
       "    <tr>\n",
       "      <th>B</th>\n",
       "      <td>b</td>\n",
       "      <td>1</td>\n",
       "    </tr>\n",
       "    <tr>\n",
       "      <th>C</th>\n",
       "      <td>c</td>\n",
       "      <td>1</td>\n",
       "    </tr>\n",
       "  </tbody>\n",
       "</table>\n",
       "</div>"
      ],
      "text/plain": [
       "  letter digit\n",
       "A      a     1\n",
       "B      b     1\n",
       "C      c     1"
      ]
     },
     "execution_count": 127,
     "metadata": {},
     "output_type": "execute_result"
    }
   ],
   "source": [
    "s = pd.Series([\"a1a2\", \"b1\", \"c1\"], index=[\"A\", \"B\", \"C\"])\n",
    "two_groups = '(?P<letter>[a-z])(?P<digit>[0-9])'\n",
    "s.str.extract(two_groups, expand=True)"
   ]
  },
  {
   "cell_type": "code",
   "execution_count": 128,
   "metadata": {},
   "outputs": [
    {
     "data": {
      "text/html": [
       "<div>\n",
       "<style scoped>\n",
       "    .dataframe tbody tr th:only-of-type {\n",
       "        vertical-align: middle;\n",
       "    }\n",
       "\n",
       "    .dataframe tbody tr th {\n",
       "        vertical-align: top;\n",
       "    }\n",
       "\n",
       "    .dataframe thead th {\n",
       "        text-align: right;\n",
       "    }\n",
       "</style>\n",
       "<table border=\"1\" class=\"dataframe\">\n",
       "  <thead>\n",
       "    <tr style=\"text-align: right;\">\n",
       "      <th></th>\n",
       "      <th></th>\n",
       "      <th>letter</th>\n",
       "      <th>digit</th>\n",
       "    </tr>\n",
       "    <tr>\n",
       "      <th></th>\n",
       "      <th>match</th>\n",
       "      <th></th>\n",
       "      <th></th>\n",
       "    </tr>\n",
       "  </thead>\n",
       "  <tbody>\n",
       "    <tr>\n",
       "      <th rowspan=\"2\" valign=\"top\">A</th>\n",
       "      <th>0</th>\n",
       "      <td>a</td>\n",
       "      <td>1</td>\n",
       "    </tr>\n",
       "    <tr>\n",
       "      <th>1</th>\n",
       "      <td>a</td>\n",
       "      <td>2</td>\n",
       "    </tr>\n",
       "    <tr>\n",
       "      <th>B</th>\n",
       "      <th>0</th>\n",
       "      <td>b</td>\n",
       "      <td>1</td>\n",
       "    </tr>\n",
       "    <tr>\n",
       "      <th>C</th>\n",
       "      <th>0</th>\n",
       "      <td>c</td>\n",
       "      <td>1</td>\n",
       "    </tr>\n",
       "  </tbody>\n",
       "</table>\n",
       "</div>"
      ],
      "text/plain": [
       "        letter digit\n",
       "  match             \n",
       "A 0          a     1\n",
       "  1          a     2\n",
       "B 0          b     1\n",
       "C 0          c     1"
      ]
     },
     "execution_count": 128,
     "metadata": {},
     "output_type": "execute_result"
    }
   ],
   "source": [
    "s.str.extractall(two_groups)"
   ]
  },
  {
   "cell_type": "markdown",
   "metadata": {},
   "source": [
    "**How to access multiindex?** \n",
    "\n",
    "You can think in multindex as a tupled index:"
   ]
  },
  {
   "cell_type": "code",
   "execution_count": 129,
   "metadata": {},
   "outputs": [],
   "source": [
    "mi_df = s.str.extractall(two_groups)"
   ]
  },
  {
   "cell_type": "code",
   "execution_count": 130,
   "metadata": {},
   "outputs": [
    {
     "data": {
      "text/plain": [
       "Index(['letter', 'digit'], dtype='object')"
      ]
     },
     "execution_count": 130,
     "metadata": {},
     "output_type": "execute_result"
    }
   ],
   "source": [
    "mi_df.columns"
   ]
  },
  {
   "cell_type": "code",
   "execution_count": 131,
   "metadata": {},
   "outputs": [
    {
     "data": {
      "text/plain": [
       "MultiIndex(levels=[['A', 'B', 'C'], [0, 1]],\n",
       "           codes=[[0, 0, 1, 2], [0, 1, 0, 0]],\n",
       "           names=[None, 'match'])"
      ]
     },
     "execution_count": 131,
     "metadata": {},
     "output_type": "execute_result"
    }
   ],
   "source": [
    "mi_df.index"
   ]
  },
  {
   "cell_type": "code",
   "execution_count": 132,
   "metadata": {},
   "outputs": [
    {
     "data": {
      "text/plain": [
       "letter    a\n",
       "digit     1\n",
       "Name: (A, 0), dtype: object"
      ]
     },
     "execution_count": 132,
     "metadata": {},
     "output_type": "execute_result"
    }
   ],
   "source": [
    "mi_df.loc[(\"A\",0)]"
   ]
  },
  {
   "cell_type": "markdown",
   "metadata": {},
   "source": [
    "To know more: http://pandas.pydata.org/pandas-docs/stable/advanced.html"
   ]
  },
  {
   "cell_type": "markdown",
   "metadata": {},
   "source": [
    "We can use `DataFrame.xs` accessor with level parameter to filter subindex values:"
   ]
  },
  {
   "cell_type": "code",
   "execution_count": 139,
   "metadata": {},
   "outputs": [
    {
     "data": {
      "text/html": [
       "<div>\n",
       "<style scoped>\n",
       "    .dataframe tbody tr th:only-of-type {\n",
       "        vertical-align: middle;\n",
       "    }\n",
       "\n",
       "    .dataframe tbody tr th {\n",
       "        vertical-align: top;\n",
       "    }\n",
       "\n",
       "    .dataframe thead th {\n",
       "        text-align: right;\n",
       "    }\n",
       "</style>\n",
       "<table border=\"1\" class=\"dataframe\">\n",
       "  <thead>\n",
       "    <tr style=\"text-align: right;\">\n",
       "      <th></th>\n",
       "      <th></th>\n",
       "      <th>letter</th>\n",
       "      <th>digit</th>\n",
       "    </tr>\n",
       "    <tr>\n",
       "      <th></th>\n",
       "      <th>match</th>\n",
       "      <th></th>\n",
       "      <th></th>\n",
       "    </tr>\n",
       "  </thead>\n",
       "  <tbody>\n",
       "    <tr>\n",
       "      <th rowspan=\"2\" valign=\"top\">A</th>\n",
       "      <th>0</th>\n",
       "      <td>a</td>\n",
       "      <td>1</td>\n",
       "    </tr>\n",
       "    <tr>\n",
       "      <th>1</th>\n",
       "      <td>a</td>\n",
       "      <td>2</td>\n",
       "    </tr>\n",
       "    <tr>\n",
       "      <th>B</th>\n",
       "      <th>0</th>\n",
       "      <td>b</td>\n",
       "      <td>1</td>\n",
       "    </tr>\n",
       "    <tr>\n",
       "      <th>C</th>\n",
       "      <th>0</th>\n",
       "      <td>c</td>\n",
       "      <td>1</td>\n",
       "    </tr>\n",
       "  </tbody>\n",
       "</table>\n",
       "</div>"
      ],
      "text/plain": [
       "        letter digit\n",
       "  match             \n",
       "A 0          a     1\n",
       "  1          a     2\n",
       "B 0          b     1\n",
       "C 0          c     1"
      ]
     },
     "execution_count": 139,
     "metadata": {},
     "output_type": "execute_result"
    }
   ],
   "source": [
    "extract_result = s.str.extract(two_groups, expand=True)\n",
    "extractall_result = s.str.extractall(two_groups)\n",
    "extractall_result"
   ]
  },
  {
   "cell_type": "code",
   "execution_count": 140,
   "metadata": {},
   "outputs": [
    {
     "data": {
      "text/html": [
       "<div>\n",
       "<style scoped>\n",
       "    .dataframe tbody tr th:only-of-type {\n",
       "        vertical-align: middle;\n",
       "    }\n",
       "\n",
       "    .dataframe tbody tr th {\n",
       "        vertical-align: top;\n",
       "    }\n",
       "\n",
       "    .dataframe thead th {\n",
       "        text-align: right;\n",
       "    }\n",
       "</style>\n",
       "<table border=\"1\" class=\"dataframe\">\n",
       "  <thead>\n",
       "    <tr style=\"text-align: right;\">\n",
       "      <th></th>\n",
       "      <th>letter</th>\n",
       "      <th>digit</th>\n",
       "    </tr>\n",
       "  </thead>\n",
       "  <tbody>\n",
       "    <tr>\n",
       "      <th>A</th>\n",
       "      <td>a</td>\n",
       "      <td>1</td>\n",
       "    </tr>\n",
       "    <tr>\n",
       "      <th>B</th>\n",
       "      <td>b</td>\n",
       "      <td>1</td>\n",
       "    </tr>\n",
       "    <tr>\n",
       "      <th>C</th>\n",
       "      <td>c</td>\n",
       "      <td>1</td>\n",
       "    </tr>\n",
       "  </tbody>\n",
       "</table>\n",
       "</div>"
      ],
      "text/plain": [
       "  letter digit\n",
       "A      a     1\n",
       "B      b     1\n",
       "C      c     1"
      ]
     },
     "execution_count": 140,
     "metadata": {},
     "output_type": "execute_result"
    }
   ],
   "source": [
    "extractall_result.xs(0, level=\"match\")"
   ]
  },
  {
   "cell_type": "code",
   "execution_count": 141,
   "metadata": {},
   "outputs": [
    {
     "data": {
      "text/html": [
       "<div>\n",
       "<style scoped>\n",
       "    .dataframe tbody tr th:only-of-type {\n",
       "        vertical-align: middle;\n",
       "    }\n",
       "\n",
       "    .dataframe tbody tr th {\n",
       "        vertical-align: top;\n",
       "    }\n",
       "\n",
       "    .dataframe thead th {\n",
       "        text-align: right;\n",
       "    }\n",
       "</style>\n",
       "<table border=\"1\" class=\"dataframe\">\n",
       "  <thead>\n",
       "    <tr style=\"text-align: right;\">\n",
       "      <th></th>\n",
       "      <th>letter</th>\n",
       "      <th>digit</th>\n",
       "    </tr>\n",
       "  </thead>\n",
       "  <tbody>\n",
       "    <tr>\n",
       "      <th>A</th>\n",
       "      <td>a</td>\n",
       "      <td>2</td>\n",
       "    </tr>\n",
       "  </tbody>\n",
       "</table>\n",
       "</div>"
      ],
      "text/plain": [
       "  letter digit\n",
       "A      a     2"
      ]
     },
     "execution_count": 141,
     "metadata": {},
     "output_type": "execute_result"
    }
   ],
   "source": [
    "extractall_result.xs(1, level=\"match\")"
   ]
  },
  {
   "cell_type": "markdown",
   "metadata": {},
   "source": [
    "###  Matching String Pattern\n",
    "\n",
    "Using the method `Series.str.contains` you can check whether elements contain a pattern. \n",
    "\n",
    "(*from [pandas docs](https://pandas.pydata.org/pandas-docs/stable/reference/api/pandas.Series.str.contains.html)*) It returns `Boolean` `Series` or `Index` based on whether a given pattern or regex is contained within a string of a `Series` or `Index`.\n",
    "\n",
    "The result is a `Series` of `Boolean` values:"
   ]
  },
  {
   "cell_type": "code",
   "execution_count": 153,
   "metadata": {},
   "outputs": [
    {
     "data": {
      "text/plain": [
       "0    False\n",
       "1    False\n",
       "2    False\n",
       "3    False\n",
       "4    False\n",
       "5     True\n",
       "dtype: bool"
      ]
     },
     "execution_count": 153,
     "metadata": {},
     "output_type": "execute_result"
    }
   ],
   "source": [
    "pattern = r'[a-z][0-9]'\n",
    "pd.Series(['1', '2', '3a', '3b', '03c','***a4a4']).str.contains(pattern)"
   ]
  },
  {
   "cell_type": "markdown",
   "metadata": {},
   "source": [
    "Using `Series.str.match` we have similar results, but it is stricter, as it relies on `re.match` instead of `re.search`."
   ]
  },
  {
   "cell_type": "code",
   "execution_count": 154,
   "metadata": {},
   "outputs": [
    {
     "data": {
      "text/plain": [
       "0    False\n",
       "1    False\n",
       "2    False\n",
       "3    False\n",
       "4    False\n",
       "5    False\n",
       "dtype: bool"
      ]
     },
     "execution_count": 154,
     "metadata": {},
     "output_type": "execute_result"
    }
   ],
   "source": [
    "pd.Series(['1', '2', '3a', '3b', '03c','***a4a4']).str.match(pattern)"
   ]
  },
  {
   "cell_type": "markdown",
   "metadata": {},
   "source": [
    "Methods like:\n",
    "* `Series.str.match`\n",
    "* `Series.str.contains`\n",
    "* `Series.str.startswith`\n",
    "* `Series.str.endswith`\n",
    "\n",
    "can take an extra argument `na` so missing values can be considered as match or not (i.e. if the result should be `True` or `False`): "
   ]
  },
  {
   "cell_type": "code",
   "execution_count": 156,
   "metadata": {},
   "outputs": [
    {
     "data": {
      "text/plain": [
       "0     True\n",
       "1    False\n",
       "2    False\n",
       "3     True\n",
       "4    False\n",
       "5    False\n",
       "6     True\n",
       "7    False\n",
       "8    False\n",
       "dtype: bool"
      ]
     },
     "execution_count": 156,
     "metadata": {},
     "output_type": "execute_result"
    }
   ],
   "source": [
    "s4 = pd.Series(['A', 'B', 'C', 'Aaba', 'Baca', np.nan, 'CABA', 'dog', 'cat'])\n",
    "s4.str.contains('A', na=False)"
   ]
  },
  {
   "cell_type": "markdown",
   "metadata": {},
   "source": [
    "##### Approximate String Matching\n",
    "(*from: http://stackoverflow.com/questions/13636848/is-it-possible-to-do-fuzzy-match-merge-with-python-pandas*)"
   ]
  },
  {
   "cell_type": "code",
   "execution_count": 157,
   "metadata": {},
   "outputs": [
    {
     "data": {
      "text/html": [
       "<div>\n",
       "<style scoped>\n",
       "    .dataframe tbody tr th:only-of-type {\n",
       "        vertical-align: middle;\n",
       "    }\n",
       "\n",
       "    .dataframe tbody tr th {\n",
       "        vertical-align: top;\n",
       "    }\n",
       "\n",
       "    .dataframe thead th {\n",
       "        text-align: right;\n",
       "    }\n",
       "</style>\n",
       "<table border=\"1\" class=\"dataframe\">\n",
       "  <thead>\n",
       "    <tr style=\"text-align: right;\">\n",
       "      <th></th>\n",
       "      <th>number</th>\n",
       "    </tr>\n",
       "  </thead>\n",
       "  <tbody>\n",
       "    <tr>\n",
       "      <th>one</th>\n",
       "      <td>1</td>\n",
       "    </tr>\n",
       "    <tr>\n",
       "      <th>two</th>\n",
       "      <td>2</td>\n",
       "    </tr>\n",
       "    <tr>\n",
       "      <th>three</th>\n",
       "      <td>3</td>\n",
       "    </tr>\n",
       "    <tr>\n",
       "      <th>four</th>\n",
       "      <td>4</td>\n",
       "    </tr>\n",
       "    <tr>\n",
       "      <th>five</th>\n",
       "      <td>5</td>\n",
       "    </tr>\n",
       "  </tbody>\n",
       "</table>\n",
       "</div>"
      ],
      "text/plain": [
       "       number\n",
       "one         1\n",
       "two         2\n",
       "three       3\n",
       "four        4\n",
       "five        5"
      ]
     },
     "execution_count": 157,
     "metadata": {},
     "output_type": "execute_result"
    }
   ],
   "source": [
    "df1 = pd.DataFrame([[1],[2],[3],[4],[5]], \n",
    "                   index=['one','two','three','four','five'], \n",
    "                   columns=['number'])\n",
    "df1"
   ]
  },
  {
   "cell_type": "code",
   "execution_count": 158,
   "metadata": {},
   "outputs": [
    {
     "data": {
      "text/html": [
       "<div>\n",
       "<style scoped>\n",
       "    .dataframe tbody tr th:only-of-type {\n",
       "        vertical-align: middle;\n",
       "    }\n",
       "\n",
       "    .dataframe tbody tr th {\n",
       "        vertical-align: top;\n",
       "    }\n",
       "\n",
       "    .dataframe thead th {\n",
       "        text-align: right;\n",
       "    }\n",
       "</style>\n",
       "<table border=\"1\" class=\"dataframe\">\n",
       "  <thead>\n",
       "    <tr style=\"text-align: right;\">\n",
       "      <th></th>\n",
       "      <th>letter</th>\n",
       "    </tr>\n",
       "  </thead>\n",
       "  <tbody>\n",
       "    <tr>\n",
       "      <th>one</th>\n",
       "      <td>a</td>\n",
       "    </tr>\n",
       "    <tr>\n",
       "      <th>too</th>\n",
       "      <td>b</td>\n",
       "    </tr>\n",
       "    <tr>\n",
       "      <th>three</th>\n",
       "      <td>c</td>\n",
       "    </tr>\n",
       "    <tr>\n",
       "      <th>fours</th>\n",
       "      <td>d</td>\n",
       "    </tr>\n",
       "    <tr>\n",
       "      <th>five</th>\n",
       "      <td>e</td>\n",
       "    </tr>\n",
       "  </tbody>\n",
       "</table>\n",
       "</div>"
      ],
      "text/plain": [
       "      letter\n",
       "one        a\n",
       "too        b\n",
       "three      c\n",
       "fours      d\n",
       "five       e"
      ]
     },
     "execution_count": 158,
     "metadata": {},
     "output_type": "execute_result"
    }
   ],
   "source": [
    "df2 = pd.DataFrame([['a'],['b'],['c'],['d'],['e']], \n",
    "                   index=['one','too','three','fours','five'], \n",
    "                   columns=['letter'])\n",
    "df2"
   ]
  },
  {
   "cell_type": "code",
   "execution_count": 159,
   "metadata": {},
   "outputs": [
    {
     "data": {
      "text/html": [
       "<div>\n",
       "<style scoped>\n",
       "    .dataframe tbody tr th:only-of-type {\n",
       "        vertical-align: middle;\n",
       "    }\n",
       "\n",
       "    .dataframe tbody tr th {\n",
       "        vertical-align: top;\n",
       "    }\n",
       "\n",
       "    .dataframe thead th {\n",
       "        text-align: right;\n",
       "    }\n",
       "</style>\n",
       "<table border=\"1\" class=\"dataframe\">\n",
       "  <thead>\n",
       "    <tr style=\"text-align: right;\">\n",
       "      <th></th>\n",
       "      <th>number</th>\n",
       "      <th>letter</th>\n",
       "    </tr>\n",
       "  </thead>\n",
       "  <tbody>\n",
       "    <tr>\n",
       "      <th>one</th>\n",
       "      <td>1</td>\n",
       "      <td>a</td>\n",
       "    </tr>\n",
       "    <tr>\n",
       "      <th>two</th>\n",
       "      <td>2</td>\n",
       "      <td>b</td>\n",
       "    </tr>\n",
       "    <tr>\n",
       "      <th>three</th>\n",
       "      <td>3</td>\n",
       "      <td>c</td>\n",
       "    </tr>\n",
       "    <tr>\n",
       "      <th>four</th>\n",
       "      <td>4</td>\n",
       "      <td>d</td>\n",
       "    </tr>\n",
       "    <tr>\n",
       "      <th>five</th>\n",
       "      <td>5</td>\n",
       "      <td>e</td>\n",
       "    </tr>\n",
       "  </tbody>\n",
       "</table>\n",
       "</div>"
      ],
      "text/plain": [
       "       number letter\n",
       "one         1      a\n",
       "two         2      b\n",
       "three       3      c\n",
       "four        4      d\n",
       "five        5      e"
      ]
     },
     "execution_count": 159,
     "metadata": {},
     "output_type": "execute_result"
    }
   ],
   "source": [
    "import difflib \n",
    "\n",
    "difflib.get_close_matches\n",
    "df2.index = df2.index.map(lambda x: difflib.get_close_matches(x, df1.index)[0])\n",
    "\n",
    "df1.join(df2)"
   ]
  },
  {
   "cell_type": "markdown",
   "metadata": {},
   "source": [
    "## Exercises"
   ]
  },
  {
   "cell_type": "markdown",
   "metadata": {},
   "source": [
    "* Read [iqsize.csv](https://github.com/f-guitart/data_mining/blob/master/data/iqsize.csv) using `pandas.read_csv` function. Use the  `na_values` parameter to assign missing data."
   ]
  },
  {
   "cell_type": "markdown",
   "metadata": {},
   "source": [
    "\n",
    "* Read [country_info_worldbank.xls](https://github.com/f-guitart/data_mining/blob/master/data/country_info_worldbank.xls) using `pandas.read_xls`. Use the `skiprows` method to eliminate empty lines."
   ]
  },
  {
   "cell_type": "markdown",
   "metadata": {},
   "source": [
    "* Try to load [papers.lst](papers.lst) reading it line by line taking into account that the fields are the following ones:\n",
    " * year\n",
    " * unknown\n",
    " * conference\n",
    " * authors (linked with &)\n",
    " * paper title"
   ]
  },
  {
   "cell_type": "markdown",
   "metadata": {},
   "source": [
    "* Convert to Technically Correct Data: [iqsize.csv](https://github.com/f-guitart/data_mining/blob/master/data/iqsize.csv). "
   ]
  },
  {
   "cell_type": "markdown",
   "metadata": {},
   "source": [
    "* Convert to Technically Correct Data: [country_info_worldbank.xls](https://github.com/f-guitart/data_mining/blob/master/data/country_info_worldbank.xls)."
   ]
  }
 ],
 "metadata": {
  "anaconda-cloud": {},
  "kernelspec": {
   "display_name": "Python 3",
   "language": "python",
   "name": "python3"
  },
  "language_info": {
   "codemirror_mode": {
    "name": "ipython",
    "version": 3
   },
   "file_extension": ".py",
   "mimetype": "text/x-python",
   "name": "python",
   "nbconvert_exporter": "python",
   "pygments_lexer": "ipython3",
   "version": "3.7.3"
  },
  "nbpresent": {
   "slides": {
    "221d637a-868a-4085-9fe1-7ed9020f954c": {
     "id": "221d637a-868a-4085-9fe1-7ed9020f954c",
     "prev": null,
     "regions": {
      "24be0e0e-39a4-4c4c-8c24-efd183160f4b": {
       "attrs": {
        "height": 0.8,
        "width": 0.8,
        "x": 0.1,
        "y": 0.1
       },
       "content": {
        "cell": "99c2dc44-3917-4e28-8d1e-22c746f1023c",
        "part": "whole"
       },
       "id": "24be0e0e-39a4-4c4c-8c24-efd183160f4b"
      }
     }
    },
    "6872ad6e-cf14-4135-9eb5-70e85d06a912": {
     "id": "6872ad6e-cf14-4135-9eb5-70e85d06a912",
     "prev": "9a08f577-08c3-4415-b945-dd598a5e9dd8",
     "regions": {
      "b50e3919-dedb-428a-8991-94fc1e7ea3a8": {
       "attrs": {
        "height": 0.8,
        "width": 0.8,
        "x": 0.1,
        "y": 0.1
       },
       "content": {
        "cell": "efb9a000-0a42-4896-b3a9-73784cba271d",
        "part": "whole"
       },
       "id": "b50e3919-dedb-428a-8991-94fc1e7ea3a8"
      }
     }
    },
    "9a08f577-08c3-4415-b945-dd598a5e9dd8": {
     "id": "9a08f577-08c3-4415-b945-dd598a5e9dd8",
     "prev": "d71df4f9-4b54-464d-b845-79b5f95ba22a",
     "regions": {
      "114a3519-e738-4e44-b999-62aef3028d77": {
       "attrs": {
        "height": 0.8,
        "width": 0.8,
        "x": 0.1,
        "y": 0.1
       },
       "content": {
        "cell": "734dbd76-3515-4e59-bcab-d7e40fe6c5fd",
        "part": "whole"
       },
       "id": "114a3519-e738-4e44-b999-62aef3028d77"
      }
     }
    },
    "d71df4f9-4b54-464d-b845-79b5f95ba22a": {
     "id": "d71df4f9-4b54-464d-b845-79b5f95ba22a",
     "prev": "221d637a-868a-4085-9fe1-7ed9020f954c",
     "regions": {
      "5b120010-391c-4d79-993d-452cef8fdb6e": {
       "attrs": {
        "height": 0.8,
        "width": 0.8,
        "x": 0.1,
        "y": 0.1
       },
       "content": {
        "cell": "59112c70-3bbd-4bef-9666-1ec55c5f4524",
        "part": "whole"
       },
       "id": "5b120010-391c-4d79-993d-452cef8fdb6e"
      }
     }
    }
   },
   "themes": {}
  }
 },
 "nbformat": 4,
 "nbformat_minor": 1
}
