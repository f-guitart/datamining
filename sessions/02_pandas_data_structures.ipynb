{
 "cells": [
  {
   "cell_type": "markdown",
   "metadata": {
    "collapsed": true,
    "nbpresent": {
     "id": "460d8967-e03b-4220-9d1c-2df3242fb783"
    }
   },
   "source": [
    "# Pandas Data Structures\n",
    "\n",
    "## Introduction\n",
    "\n",
    "Managing datasets using the Python Standard Library can be time consuming as there are no specific tools for the main opeartions needed to perform data wrangling and data munging. There are some packages that are very useful (i.e. `csv`, `pickle`, etc.) but they are not toghether under a same syntaxis or API, so the use may be using several libraries to tackle one single problem.\n",
    "\n",
    "### What is Pandas?\n",
    "\n",
    "Pandas stands for \"Python Data Analysis Library\" and it incorporates most of the tools needed for working with datasets and tabular data. \n",
    "\n",
    "It has two main data structures names `DataFrame` and `Series` that represent two dimensional datasets and one dimensional vectors respectivelly, that can be seen as datasets and dataset's columns (variables).  \n",
    "\n",
    "### What you will learn in this session?\n",
    "\n",
    "* Which are the main data structures in the Pandas library\n",
    "* How to create datasets using Pandas\n",
    "* Accessing dataset values\n",
    "\n",
    "## Installing Pandas\n",
    "\n",
    "Pandas can be easily installed using `pip`\n",
    "\n",
    "```bash\n",
    "$ pip install pandas\n",
    "```\n",
    "\n",
    "Pandas is commonly imported using the following Python alias naming:"
   ]
  },
  {
   "cell_type": "code",
   "execution_count": 2,
   "metadata": {
    "collapsed": true
   },
   "outputs": [],
   "source": [
    "import pandas as pd\n",
    "import numpy as np"
   ]
  },
  {
   "cell_type": "markdown",
   "metadata": {
    "nbpresent": {
     "id": "93c4bbfc-5a8b-4818-8742-ba9a83f82c16"
    }
   },
   "source": [
    "## Contents\n",
    "\n",
    "* [Series](#Series)\n",
    "    * [Series Creation](#Series-Creation)\n",
    "    * [Series Name](#Series-Name)\n",
    "    * [Series Values Accessing](#Series-Values-Accessing)\n",
    "    * [Series Operations](#Series-Operations)\n",
    "    * [Series `dtypes`](#Series-dtypes)\n",
    "    * [Series Methods](#Series-Methods)\n",
    "    * [Examples with Series](#Examples-with-Series)\n",
    "    * [Exercises with Series](#Exercises-with-Series)\n",
    "* [DataFrames](#DataFrames)\n",
    "    * [DataFrame Creation](#DataFrame-Creation)\n",
    "    * [Column selection, addition, deletion](#Column-selection,-addition,-deletion)\n",
    "    "
   ]
  },
  {
   "cell_type": "markdown",
   "metadata": {
    "nbpresent": {
     "id": "ae53f425-b430-45a4-96e7-707b3165ab6b"
    }
   },
   "source": [
    "## Series\n",
    "\n",
    "Series is an one-dimension structures that can hold any data type (boolean, integer, float or even Python objects).\n",
    "\n",
    "It can represent columns dataset. Its main attributes are index and dtype.\n",
    "\n",
    "* **`values`** contains a `Numpy.array` with the `Series` values\n",
    "* **`index`** allows to acces `Series` positions using integers or labels\n",
    "* **`dtype`** defines the type of the objects contained in the series. Recall that columns in a dataset are always same tyep values\n",
    "* **`size`** returns the length of the `Series` object\n",
    "\n",
    "Some other functionaitiles are **vectorized operations** and `numpy.ndarray` method mapping.\n",
    "\n",
    "There is a basic detail to keep in mind: **data alignment is intrinsic**. The link between labels and data will not be broken unless done so explicitly by you.\n",
    "\n",
    "Operations between Series (+, -, /, , *) align values based on their associated index values– they need not be the same length. The result index will be the sorted union of the two indexes."
   ]
  },
  {
   "cell_type": "markdown",
   "metadata": {
    "nbpresent": {
     "id": "f97dacea-46ab-4b8d-af8b-7242e1128ea8"
    }
   },
   "source": [
    "### Series Creation"
   ]
  },
  {
   "cell_type": "markdown",
   "metadata": {
    "nbpresent": {
     "id": "98fa0ab9-3feb-4a2f-9667-ad6c4a97c1bc"
    }
   },
   "source": [
    "We can create Series from:\n",
    "* [Python Dictionary](#From-dictionary)\n",
    "* [Python List](#From-list)\n",
    "* [NumPy `ndarray`](#From-numpy-array)\n",
    "* [a scalar value]()\n",
    "\n",
    "As optional parameters, we can provide an `index` and a `dtype`. If `dtype` not specified, this will be inferred from data.\n",
    "\n",
    "The passed **index is a list of axis labels**. Indexes, this will provide an effective way to access data (slicing).\n",
    "\n",
    "Each Series has a dtype that corresponds to the variable type of Series."
   ]
  },
  {
   "cell_type": "markdown",
   "metadata": {
    "nbpresent": {
     "id": "a229ac0d-fde3-4912-a36c-722816ce7f5e"
    }
   },
   "source": [
    "##### From dictionary\n",
    "\n",
    "Basically we pass a dictionary to de constructor method. In this case if no index is provided, it is extracted from dictionary keys, while the data is extracted from dictionary values."
   ]
  },
  {
   "cell_type": "code",
   "execution_count": 3,
   "metadata": {
    "collapsed": true,
    "nbpresent": {
     "id": "085101b3-9840-4b69-8a68-933f4cba671d"
    }
   },
   "outputs": [
    {
     "data": {
      "text/plain": [
       "a    5.0\n",
       "b    5.0\n",
       "c    5.0\n",
       "dtype: float64"
      ]
     },
     "metadata": {},
     "output_type": "display_data"
    },
    {
     "data": {
      "text/plain": [
       "Index(['a', 'b', 'c'], dtype='object')"
      ]
     },
     "metadata": {},
     "output_type": "display_data"
    }
   ],
   "source": [
    "d = {'a':5.,'b':5.,'c':5.}\n",
    "i = ['x','y','z']\n",
    "s1 = pd.Series(d)\n",
    "display(s1)\n",
    "display(s1.index)"
   ]
  },
  {
   "cell_type": "markdown",
   "metadata": {
    "nbpresent": {
     "id": "0d2dceb4-cb9f-462b-b5f1-b179b573105c"
    }
   },
   "source": [
    "If index is passed, values with keys in index are pulled out, the rest are assigned to `NaN`. \n",
    "\n",
    "A `NaN` value means not assigned, and we will have to deal with these values in the future.\n",
    "\n",
    "**What is NaN?**\n",
    "\n",
    "(*from [Pandas docs](http://pandas.pydata.org/pandas-docs/stable/missing_data.html)*)\n",
    "Some might quibble over our usage of missing. By “missing” we simply mean null or “not present for whatever reason”. \n",
    "\n",
    "Many data sets simply arrive with missing data, either because it exists and was not collected or it never existed. \n",
    "\n",
    "For example, in a collection of financial time series, some of the time series might start on different dates. \n",
    "\n",
    "Thus, values prior to the start date would generally be marked as missing."
   ]
  },
  {
   "cell_type": "code",
   "execution_count": 6,
   "metadata": {
    "collapsed": true,
    "nbpresent": {
     "id": "05eb0fe1-ad20-4fef-913d-e9ffa13e6040"
    }
   },
   "outputs": [
    {
     "data": {
      "text/plain": [
       "x    NaN\n",
       "y    NaN\n",
       "a    5.0\n",
       "b    5.0\n",
       "dtype: float64"
      ]
     },
     "metadata": {},
     "output_type": "display_data"
    },
    {
     "data": {
      "text/plain": [
       "dtype('float64')"
      ]
     },
     "metadata": {},
     "output_type": "display_data"
    },
    {
     "data": {
      "text/plain": [
       "Index(['x', 'y', 'a', 'b'], dtype='object')"
      ]
     },
     "metadata": {},
     "output_type": "display_data"
    }
   ],
   "source": [
    "d = {'a':5,'b':5,'c':5}\n",
    "i = ['x','y','a','b']\n",
    "s1 = pd.Series(d, index = i)\n",
    "\n",
    "display(s1)\n",
    "display(s1.dtype)\n",
    "display(s1.index)"
   ]
  },
  {
   "cell_type": "markdown",
   "metadata": {
    "nbpresent": {
     "id": "51fc4011-00ec-4c89-9952-46d9416ee240"
    }
   },
   "source": [
    "###### From list"
   ]
  },
  {
   "cell_type": "markdown",
   "metadata": {
    "nbpresent": {
     "id": "ce6b38da-a8ae-43f0-94c1-32d78ce8cd07"
    }
   },
   "source": [
    "We can create series from lists, againg by passing a `list` as argument to the `Series` constructor method. \n",
    "\n",
    "If no index is pased, the index will be `RangeIndex(start=0, stop=len(list), step=1)`."
   ]
  },
  {
   "cell_type": "code",
   "execution_count": 8,
   "metadata": {
    "collapsed": true,
    "nbpresent": {
     "id": "c2048b1d-09e3-4596-b339-ee39ee5e1ab1"
    }
   },
   "outputs": [
    {
     "data": {
      "text/plain": [
       "0    5\n",
       "1    5\n",
       "2    5\n",
       "dtype: int64"
      ]
     },
     "metadata": {},
     "output_type": "display_data"
    },
    {
     "data": {
      "text/plain": [
       "RangeIndex(start=0, stop=3, step=1)"
      ]
     },
     "metadata": {},
     "output_type": "display_data"
    }
   ],
   "source": [
    "l = [5,5,5]\n",
    "s1 = pd.Series(l)\n",
    "display(s1)\n",
    "display(s1.index)"
   ]
  },
  {
   "cell_type": "markdown",
   "metadata": {},
   "source": [
    "In this case we can provide an index if desired. However, index must have the same length as constructor list."
   ]
  },
  {
   "cell_type": "code",
   "execution_count": 9,
   "metadata": {
    "collapsed": true
   },
   "outputs": [
    {
     "data": {
      "text/plain": [
       "x    5\n",
       "y    5\n",
       "z    5\n",
       "dtype: int64"
      ]
     },
     "metadata": {},
     "output_type": "display_data"
    }
   ],
   "source": [
    "i = ['x','y','z']\n",
    "s1 = pd.Series(l, index = i)\n",
    "display(s1)"
   ]
  },
  {
   "cell_type": "code",
   "execution_count": 5,
   "metadata": {
    "collapsed": true
   },
   "outputs": [
    {
     "data": {
      "text/plain": [
       "dtype('float64')"
      ]
     },
     "metadata": {},
     "output_type": "display_data"
    },
    {
     "data": {
      "text/plain": [
       "Index(['x', 'y', 'a', 'b'], dtype='object')"
      ]
     },
     "metadata": {},
     "output_type": "display_data"
    }
   ],
   "source": [
    "# This would raise an error\n",
    "# i = ['x','y','a','b']\n",
    "# s1 = pd.Series(l, index = i)\n",
    "# print s1\n",
    "display(s1.dtype)\n",
    "display(s1.index)"
   ]
  },
  {
   "cell_type": "markdown",
   "metadata": {
    "nbpresent": {
     "id": "d5b9d35b-fce3-42b7-97ae-e4bd89f524ad"
    }
   },
   "source": [
    "##### From numpy array\n",
    "\n",
    "Very similar to `list` case. It is useful as many Machine Learning libraries return `numpy.ndarray`."
   ]
  },
  {
   "cell_type": "code",
   "execution_count": 34,
   "metadata": {
    "collapsed": true,
    "nbpresent": {
     "id": "c2d865f5-be7f-4258-8014-fe1b01b8b89c"
    }
   },
   "outputs": [
    {
     "data": {
      "text/plain": [
       "a     3\n",
       "b    20\n",
       "c     5\n",
       "dtype: int64"
      ]
     },
     "metadata": {},
     "output_type": "display_data"
    },
    {
     "data": {
      "text/plain": [
       "dtype('int64')"
      ]
     },
     "metadata": {},
     "output_type": "display_data"
    },
    {
     "data": {
      "text/plain": [
       "Index(['a', 'b', 'c'], dtype='object')"
      ]
     },
     "metadata": {},
     "output_type": "display_data"
    }
   ],
   "source": [
    "s2 = pd.Series(np.array([3,20,5]),index=['a','b','c'])\n",
    "display(s2)\n",
    "display(s2.dtype)\n",
    "display(s2.index)"
   ]
  },
  {
   "cell_type": "markdown",
   "metadata": {
    "nbpresent": {
     "id": "90edde86-4314-49c9-90a6-2408bccd1b1c"
    }
   },
   "source": [
    "##### From scalar\n",
    "\n",
    "We can use an scalar as an argument of the `Series` constructor method. Together with an `index` argument is an useful way of creating a `Series` object with a default value."
   ]
  },
  {
   "cell_type": "code",
   "execution_count": 11,
   "metadata": {
    "collapsed": true,
    "nbpresent": {
     "id": "ccd589a2-9878-4eec-9993-84cfa97a6285"
    }
   },
   "outputs": [
    {
     "data": {
      "text/plain": [
       "a    5\n",
       "b    5\n",
       "c    5\n",
       "dtype: int64"
      ]
     },
     "metadata": {},
     "output_type": "display_data"
    },
    {
     "data": {
      "text/plain": [
       "dtype('int64')"
      ]
     },
     "metadata": {},
     "output_type": "display_data"
    },
    {
     "data": {
      "text/plain": [
       "Index(['a', 'b', 'c'], dtype='object')"
      ]
     },
     "metadata": {},
     "output_type": "display_data"
    }
   ],
   "source": [
    "s3 = pd.Series(5,index=['a','b','c'])\n",
    "display(s3)\n",
    "display(s3.dtype)\n",
    "display(s3.index)"
   ]
  },
  {
   "cell_type": "markdown",
   "metadata": {
    "nbpresent": {
     "id": "600309f8-9d06-4879-babd-837cebc81e73"
    }
   },
   "source": [
    "### Series Name\n",
    "Series can have the attribute **name**. This can be seen as the name of the variable/colum\n",
    "\n",
    "When dealing with DataFrames, Series names will be automatically assigned with its column name."
   ]
  },
  {
   "cell_type": "code",
   "execution_count": 12,
   "metadata": {
    "collapsed": true,
    "nbpresent": {
     "id": "36e51e4d-7af1-4bb8-8124-db5bd9e624e4"
    }
   },
   "outputs": [
    {
     "data": {
      "text/plain": [
       "'Age'"
      ]
     },
     "execution_count": 12,
     "metadata": {},
     "output_type": "execute_result"
    }
   ],
   "source": [
    "s3 = pd.Series(5,index=['a','b','c'], name = 'Age')\n",
    "s3.name"
   ]
  },
  {
   "cell_type": "markdown",
   "metadata": {
    "collapsed": true,
    "nbpresent": {
     "id": "315b80fa-b8eb-481b-8604-ccdf4eae22a0"
    }
   },
   "source": [
    "### Series Values Accessing\n",
    "\n",
    "Series can be accessed through diferent methods:\n",
    "* position (numerical index)\n",
    "* boolean list\n",
    "* key (axis of labels)\n",
    "\n",
    "Accessing by position is like working with `numpy.ndarrays` or `list`, while accessing through keys (axis of labels) is like working with dictionaries.\n",
    "\n",
    "##### Position accessing\n",
    "\n",
    "Accessing `Series` values by its position is very similar to working with regular Python `list`.\n",
    "\n",
    "Note that the result of this method is a `dtype` value in case we access to a single value or a if we select more than one it is a `Series` object."
   ]
  },
  {
   "cell_type": "code",
   "execution_count": 13,
   "metadata": {
    "collapsed": true,
    "nbpresent": {
     "id": "1c8e673b-78a0-4b90-84e3-a984a31b931e"
    }
   },
   "outputs": [
    {
     "data": {
      "text/plain": [
       "a     3\n",
       "b    20\n",
       "c     5\n",
       "dtype: int64"
      ]
     },
     "metadata": {},
     "output_type": "display_data"
    },
    {
     "data": {
      "text/plain": [
       "pandas.core.series.Series"
      ]
     },
     "metadata": {},
     "output_type": "display_data"
    }
   ],
   "source": [
    "display(s2)\n",
    "display(type(s2))"
   ]
  },
  {
   "cell_type": "code",
   "execution_count": 14,
   "metadata": {
    "collapsed": true,
    "nbpresent": {
     "id": "c043c4b0-02e0-4f39-b242-6bdeca1be2ba"
    }
   },
   "outputs": [
    {
     "data": {
      "text/plain": [
       "20"
      ]
     },
     "metadata": {},
     "output_type": "display_data"
    },
    {
     "data": {
      "text/plain": [
       "numpy.int64"
      ]
     },
     "metadata": {},
     "output_type": "display_data"
    }
   ],
   "source": [
    "display(s2[1])\n",
    "display(type(s2[1]))"
   ]
  },
  {
   "cell_type": "code",
   "execution_count": 15,
   "metadata": {
    "collapsed": true,
    "nbpresent": {
     "id": "d2b20d93-da12-4928-b0dd-4214a33497f9"
    }
   },
   "outputs": [
    {
     "data": {
      "text/plain": [
       "a    3\n",
       "dtype: int64"
      ]
     },
     "metadata": {},
     "output_type": "display_data"
    },
    {
     "data": {
      "text/plain": [
       "pandas.core.series.Series"
      ]
     },
     "metadata": {},
     "output_type": "display_data"
    }
   ],
   "source": [
    "display(s2[:1])\n",
    "display(type(s2[:1]))"
   ]
  },
  {
   "cell_type": "markdown",
   "metadata": {
    "nbpresent": {
     "id": "420dfa09-a1a6-454a-a840-bdfc04711b85"
    }
   },
   "source": [
    "##### Boolean list accessing\n",
    "\n",
    "This is a very powerful way of accessing values, first let's check how can we select `Series` values using a list of `Boolean` values. \n",
    "\n",
    "The list can be seen as a mask for the `Series` values, so it will return only the values where the position of the `Boolean` list is `True`. \n",
    "\n",
    "If the length of the `Boolean` list is no equal to the `Series.size` value, it will raise an `IndexError`."
   ]
  },
  {
   "cell_type": "code",
   "execution_count": 18,
   "metadata": {
    "collapsed": true,
    "nbpresent": {
     "id": "68a5e109-f83c-45bd-8aff-da067c190463"
    }
   },
   "outputs": [
    {
     "data": {
      "text/plain": [
       "a     3\n",
       "b    20\n",
       "dtype: int64"
      ]
     },
     "execution_count": 18,
     "metadata": {},
     "output_type": "execute_result"
    }
   ],
   "source": [
    "s2[[True,True,False]]"
   ]
  },
  {
   "cell_type": "markdown",
   "metadata": {},
   "source": [
    "We will see later how **vectorized operations** work, but basically we can perform an operation to the whole Series.\n",
    "\n",
    "If we use `Boolean` operations, these return `Boolean` lists that we can use to select certain values of the `Series`"
   ]
  },
  {
   "cell_type": "code",
   "execution_count": 20,
   "metadata": {
    "collapsed": true,
    "nbpresent": {
     "id": "92fb3c51-2e79-408f-88e2-1d5cb3747cb3"
    }
   },
   "outputs": [
    {
     "data": {
      "text/plain": [
       "a    False\n",
       "b     True\n",
       "c     True\n",
       "dtype: bool"
      ]
     },
     "metadata": {},
     "output_type": "display_data"
    },
    {
     "data": {
      "text/plain": [
       "b    20\n",
       "c     5\n",
       "dtype: int64"
      ]
     },
     "metadata": {},
     "output_type": "display_data"
    }
   ],
   "source": [
    "# this is a vecotrized operation\n",
    "boolean_results = s2>4\n",
    "display(boolean_results)\n",
    "display(s2[boolean_results])"
   ]
  },
  {
   "cell_type": "markdown",
   "metadata": {},
   "source": [
    "Normally the auxiliar variable is not used leveraging a more compact syntax"
   ]
  },
  {
   "cell_type": "code",
   "execution_count": 21,
   "metadata": {
    "collapsed": true
   },
   "outputs": [
    {
     "data": {
      "text/plain": [
       "b    20\n",
       "c     5\n",
       "dtype: int64"
      ]
     },
     "execution_count": 21,
     "metadata": {},
     "output_type": "execute_result"
    }
   ],
   "source": [
    "s2[s2>4]"
   ]
  },
  {
   "cell_type": "markdown",
   "metadata": {
    "nbpresent": {
     "id": "1f77d63e-b497-4e96-ac9c-5dbec371ddda"
    }
   },
   "source": [
    "##### Key accessing\n",
    "\n",
    "We can access `Series` values by passing as parameter a `list` containing the keys to select."
   ]
  },
  {
   "cell_type": "code",
   "execution_count": 15,
   "metadata": {
    "collapsed": true,
    "nbpresent": {
     "id": "492be9ec-9520-44d5-bbfe-34de68194ecc"
    }
   },
   "outputs": [
    {
     "data": {
      "text/plain": [
       "a     3\n",
       "b    20\n",
       "dtype: int32"
      ]
     },
     "execution_count": 15,
     "metadata": {},
     "output_type": "execute_result"
    }
   ],
   "source": [
    "s2[['a','b']]"
   ]
  },
  {
   "cell_type": "code",
   "execution_count": 16,
   "metadata": {
    "collapsed": true,
    "nbpresent": {
     "id": "6717a91d-1594-4399-adf3-b06f9bacd848"
    }
   },
   "outputs": [
    {
     "data": {
      "text/plain": [
       "3"
      ]
     },
     "execution_count": 16,
     "metadata": {},
     "output_type": "execute_result"
    }
   ],
   "source": [
    "s2['a']"
   ]
  },
  {
   "cell_type": "markdown",
   "metadata": {},
   "source": [
    "Very similar to position access, but now the key list we pass as parameter has to contain keys in the `Series` `index`, otherwise it will raise a `KeyError`"
   ]
  },
  {
   "cell_type": "code",
   "execution_count": 17,
   "metadata": {
    "collapsed": true,
    "nbpresent": {
     "id": "7f4368f7-a3ff-4d05-8e12-ba49b2c1cfde"
    }
   },
   "outputs": [
    {
     "data": {
      "text/plain": [
       "True"
      ]
     },
     "execution_count": 17,
     "metadata": {},
     "output_type": "execute_result"
    }
   ],
   "source": [
    "'a' in s2"
   ]
  },
  {
   "cell_type": "markdown",
   "metadata": {
    "nbpresent": {
     "id": "19ce7b5f-8eeb-42cb-8b2b-416a60ace56b"
    }
   },
   "source": [
    "In case of accessing an nonexistent key, a `KeyError` exception is thrown"
   ]
  },
  {
   "cell_type": "code",
   "execution_count": 19,
   "metadata": {
    "collapsed": true,
    "nbpresent": {
     "id": "6d1a1e8c-03b1-4867-ae88-ea6662d3cdf6"
    }
   },
   "outputs": [
    {
     "name": "stdout",
     "output_type": "stream",
     "text": [
      "Error handled\n"
     ]
    }
   ],
   "source": [
    "try:\n",
    "    s2['z']\n",
    "except KeyError:\n",
    "    print(\"Error handled\")"
   ]
  },
  {
   "cell_type": "markdown",
   "metadata": {
    "nbpresent": {
     "id": "ce9d988a-c3ef-4ef0-9016-efb9c613d46f"
    }
   },
   "source": [
    "One way to avoid errors, we can use `Series.get` method, where a default value is returned in case of error."
   ]
  },
  {
   "cell_type": "code",
   "execution_count": 22,
   "metadata": {
    "collapsed": true,
    "nbpresent": {
     "id": "f8379142-73a8-4b37-9bfc-1767aa82ce22"
    }
   },
   "outputs": [
    {
     "data": {
      "text/plain": [
       "False"
      ]
     },
     "metadata": {},
     "output_type": "display_data"
    },
    {
     "data": {
      "text/plain": [
       "nan"
      ]
     },
     "metadata": {},
     "output_type": "display_data"
    }
   ],
   "source": [
    "display('x' in s2)\n",
    "display(s2.get('x', np.NaN))"
   ]
  },
  {
   "cell_type": "markdown",
   "metadata": {
    "nbpresent": {
     "id": "3d90bd7c-c9ba-4e7f-b0b2-8b6641f3230b"
    }
   },
   "source": [
    "### Series Operations"
   ]
  },
  {
   "cell_type": "markdown",
   "metadata": {
    "nbpresent": {
     "id": "054c0226-e49d-46f4-8c3b-b11354e77002"
    }
   },
   "source": [
    "**Vectorized operations** can be done over pandas `Series` and also Series are accepted as most of NumPy operations. \n",
    "\n",
    "**Watch out:** The result of an operation between unaligned Series will have **the union of the indexes involved**. \n",
    "\n",
    "If a label is not found in one Series or the other, **the result will be marked as missing NaN**.\n",
    "\n",
    "**Remember:** data alignment is intrinsic. The link between labels and data will not be broken unless done so explicitly by you."
   ]
  },
  {
   "cell_type": "code",
   "execution_count": 22,
   "metadata": {
    "collapsed": true
   },
   "outputs": [
    {
     "data": {
      "text/plain": [
       "a     3\n",
       "b    20\n",
       "c     5\n",
       "dtype: int32"
      ]
     },
     "execution_count": 22,
     "metadata": {},
     "output_type": "execute_result"
    }
   ],
   "source": [
    "s2"
   ]
  },
  {
   "cell_type": "markdown",
   "metadata": {},
   "source": [
    "The result is a `Series` object, resulting in a very functional programming syntax"
   ]
  },
  {
   "cell_type": "code",
   "execution_count": 23,
   "metadata": {
    "collapsed": true,
    "nbpresent": {
     "id": "89d6f43a-c13d-4fa4-bf0c-22c24724762c"
    }
   },
   "outputs": [
    {
     "data": {
      "text/plain": [
       "a    26\n",
       "b    43\n",
       "c    28\n",
       "dtype: int64"
      ]
     },
     "execution_count": 23,
     "metadata": {},
     "output_type": "execute_result"
    }
   ],
   "source": [
    "s2 + 23"
   ]
  },
  {
   "cell_type": "code",
   "execution_count": 24,
   "metadata": {
    "collapsed": true
   },
   "outputs": [
    {
     "data": {
      "text/plain": [
       "a    True\n",
       "b    True\n",
       "c    True\n",
       "dtype: bool"
      ]
     },
     "execution_count": 24,
     "metadata": {},
     "output_type": "execute_result"
    }
   ],
   "source": [
    "# we can apply numpy functions\n",
    "np.add(s2,23) == s2 + 23"
   ]
  },
  {
   "cell_type": "markdown",
   "metadata": {},
   "source": [
    "Note the index-wise operation"
   ]
  },
  {
   "cell_type": "code",
   "execution_count": 25,
   "metadata": {
    "collapsed": true
   },
   "outputs": [
    {
     "data": {
      "text/plain": [
       "x    5\n",
       "y    5\n",
       "z    5\n",
       "dtype: int64"
      ]
     },
     "metadata": {},
     "output_type": "display_data"
    },
    {
     "data": {
      "text/plain": [
       "a     3\n",
       "b    20\n",
       "c     5\n",
       "dtype: int64"
      ]
     },
     "metadata": {},
     "output_type": "display_data"
    },
    {
     "data": {
      "text/plain": [
       "a   NaN\n",
       "b   NaN\n",
       "c   NaN\n",
       "x   NaN\n",
       "y   NaN\n",
       "z   NaN\n",
       "dtype: float64"
      ]
     },
     "metadata": {},
     "output_type": "display_data"
    }
   ],
   "source": [
    "display(s1)\n",
    "display(s2)\n",
    "display(s1+s2)"
   ]
  },
  {
   "cell_type": "markdown",
   "metadata": {},
   "source": [
    "To solve this situation we have to work with `Series.reset_index()` method or replacing `index` attrbute.\n",
    "* `Series.reset_index()`: the index is set to `RangeIndex(start=0, stop=len(Series.values), step=1)` while preserving the old index in a new column. Note that the result contains an `index`, a column with old index named index and the values in a column named 0. Thus, the result is a `DataFrame`"
   ]
  },
  {
   "cell_type": "code",
   "execution_count": 27,
   "metadata": {
    "collapsed": true
   },
   "outputs": [
    {
     "data": {
      "text/html": [
       "<div>\n",
       "<style scoped>\n",
       "    .dataframe tbody tr th:only-of-type {\n",
       "        vertical-align: middle;\n",
       "    }\n",
       "\n",
       "    .dataframe tbody tr th {\n",
       "        vertical-align: top;\n",
       "    }\n",
       "\n",
       "    .dataframe thead th {\n",
       "        text-align: right;\n",
       "    }\n",
       "</style>\n",
       "<table border=\"1\" class=\"dataframe\">\n",
       "  <thead>\n",
       "    <tr style=\"text-align: right;\">\n",
       "      <th></th>\n",
       "      <th>index</th>\n",
       "      <th>0</th>\n",
       "    </tr>\n",
       "  </thead>\n",
       "  <tbody>\n",
       "    <tr>\n",
       "      <th>0</th>\n",
       "      <td>a</td>\n",
       "      <td>3</td>\n",
       "    </tr>\n",
       "    <tr>\n",
       "      <th>1</th>\n",
       "      <td>b</td>\n",
       "      <td>20</td>\n",
       "    </tr>\n",
       "    <tr>\n",
       "      <th>2</th>\n",
       "      <td>c</td>\n",
       "      <td>5</td>\n",
       "    </tr>\n",
       "  </tbody>\n",
       "</table>\n",
       "</div>"
      ],
      "text/plain": [
       "  index   0\n",
       "0     a   3\n",
       "1     b  20\n",
       "2     c   5"
      ]
     },
     "metadata": {},
     "output_type": "display_data"
    },
    {
     "data": {
      "text/plain": [
       "pandas.core.frame.DataFrame"
      ]
     },
     "metadata": {},
     "output_type": "display_data"
    },
    {
     "data": {
      "text/plain": [
       "RangeIndex(start=0, stop=3, step=1)"
      ]
     },
     "metadata": {},
     "output_type": "display_data"
    }
   ],
   "source": [
    "display(s2.reset_index())\n",
    "display(type(s2.reset_index()))\n",
    "display(s2.reset_index().index)"
   ]
  },
  {
   "cell_type": "code",
   "execution_count": 42,
   "metadata": {
    "collapsed": true
   },
   "outputs": [
    {
     "data": {
      "text/html": [
       "<div>\n",
       "<style scoped>\n",
       "    .dataframe tbody tr th:only-of-type {\n",
       "        vertical-align: middle;\n",
       "    }\n",
       "\n",
       "    .dataframe tbody tr th {\n",
       "        vertical-align: top;\n",
       "    }\n",
       "\n",
       "    .dataframe thead th {\n",
       "        text-align: right;\n",
       "    }\n",
       "</style>\n",
       "<table border=\"1\" class=\"dataframe\">\n",
       "  <thead>\n",
       "    <tr style=\"text-align: right;\">\n",
       "      <th></th>\n",
       "      <th>index</th>\n",
       "      <th>0</th>\n",
       "    </tr>\n",
       "  </thead>\n",
       "  <tbody>\n",
       "    <tr>\n",
       "      <th>0</th>\n",
       "      <td>xa</td>\n",
       "      <td>8</td>\n",
       "    </tr>\n",
       "    <tr>\n",
       "      <th>1</th>\n",
       "      <td>yb</td>\n",
       "      <td>25</td>\n",
       "    </tr>\n",
       "    <tr>\n",
       "      <th>2</th>\n",
       "      <td>zc</td>\n",
       "      <td>10</td>\n",
       "    </tr>\n",
       "  </tbody>\n",
       "</table>\n",
       "</div>"
      ],
      "text/plain": [
       "  index   0\n",
       "0    xa   8\n",
       "1    yb  25\n",
       "2    zc  10"
      ]
     },
     "execution_count": 42,
     "metadata": {},
     "output_type": "execute_result"
    }
   ],
   "source": [
    "s1.reset_index() + s2.reset_index()"
   ]
  },
  {
   "cell_type": "markdown",
   "metadata": {},
   "source": [
    "* Replacing `Series.index` with a new `index`"
   ]
  },
  {
   "cell_type": "code",
   "execution_count": 43,
   "metadata": {
    "collapsed": true
   },
   "outputs": [
    {
     "data": {
      "text/plain": [
       "x     8\n",
       "y    25\n",
       "z    10\n",
       "dtype: int64"
      ]
     },
     "execution_count": 43,
     "metadata": {},
     "output_type": "execute_result"
    }
   ],
   "source": [
    "s2.index = s1.index\n",
    "s2 + s1"
   ]
  },
  {
   "cell_type": "markdown",
   "metadata": {},
   "source": [
    "### Series `dtypes`\n",
    "\n",
    "`dtype` can be forced at `Series` creation, if `dtype` is `None`, it will be inferred. "
   ]
  },
  {
   "cell_type": "code",
   "execution_count": 34,
   "metadata": {
    "collapsed": true
   },
   "outputs": [
    {
     "data": {
      "text/plain": [
       "0    1.0\n",
       "1    2.0\n",
       "2    3.0\n",
       "3    4.0\n",
       "4    5.0\n",
       "dtype: float32"
      ]
     },
     "execution_count": 34,
     "metadata": {},
     "output_type": "execute_result"
    }
   ],
   "source": [
    "pd.Series([1,2,3,4,5], dtype=np.float32)"
   ]
  },
  {
   "cell_type": "markdown",
   "metadata": {},
   "source": [
    "For **numerical** variables, most common `dtypes` will be int and float."
   ]
  },
  {
   "cell_type": "markdown",
   "metadata": {},
   "source": [
    "#### Categorical `dtype` (from [Pandas User Guide: Categorical data](https://pandas.pydata.org/pandas-docs/stable/user_guide/categorical.html))\n",
    "\n",
    "For categorical variables strings are common types. \n",
    "\n",
    "Categoricals are a pandas data type corresponding to categorical variables in statistics. \n",
    "\n",
    "A categorical variable takes on a limited, and usually fixed, number of possible values. \n",
    "\n",
    "Examples are:\n",
    "    * gender \n",
    "    * blood type\n",
    "    * country affiliation\n",
    "    * observation time\n",
    "\n",
    "In contrast to statistical categorical variables, categorical data might have an order, some examples:\n",
    " * ‘strongly agree’ vs ‘agree’\n",
    " * 'first observation’ vs. ‘second observation’\n",
    " \n",
    "However, numerical operations (additions, divisions, etc.) are not possible.\n",
    "\n",
    "All values of categorical data are either in categories or np.nan. \n",
    "\n",
    "Order is defined by the order of categories, not lexical order of the values. \n",
    "\n",
    "Internally, the data structure consists of a categories array and an integer array of codes which point to the real value in the categories array.\n",
    "\n",
    "The categorical data type is useful in the following cases:\n",
    "\n",
    "* A string variable consisting of only a few different values. Converting such a string variable to a categorical variable will save some memory.\n",
    "* The lexical order of a variable is not the same as the logical order (“one”, “two”, “three”). By converting to a categorical and specifying an order on the categories, sorting and min/max will use the logical order instead of the lexical order.\n",
    "* As a signal to other Python libraries that this column should be treated as a categorical variable (e.g. to use suitable statistical methods or plot types)."
   ]
  },
  {
   "cell_type": "code",
   "execution_count": 45,
   "metadata": {
    "collapsed": true
   },
   "outputs": [
    {
     "data": {
      "text/plain": [
       "0    a\n",
       "1    b\n",
       "2    c\n",
       "3    a\n",
       "dtype: category\n",
       "Categories (3, object): [a, b, c]"
      ]
     },
     "execution_count": 45,
     "metadata": {},
     "output_type": "execute_result"
    }
   ],
   "source": [
    "s = pd.Series([\"a\", \"b\", \"c\", \"a\"], dtype=\"category\")\n",
    "s"
   ]
  },
  {
   "cell_type": "markdown",
   "metadata": {},
   "source": [
    "In the examples above where we passed `dtype='category'`, we used the default behavior:\n",
    "\n",
    "* Categories are inferred from the data.\n",
    "* Categories are unordered.\n",
    "\n",
    "To control those behaviors, instead of passing `category`, use an instance of `CategoricalDtype`."
   ]
  },
  {
   "cell_type": "code",
   "execution_count": 47,
   "metadata": {
    "collapsed": true
   },
   "outputs": [
    {
     "data": {
      "text/plain": [
       "0    a\n",
       "1    b\n",
       "2    c\n",
       "3    a\n",
       "dtype: object"
      ]
     },
     "metadata": {},
     "output_type": "display_data"
    },
    {
     "data": {
      "text/plain": [
       "0    NaN\n",
       "1      b\n",
       "2      c\n",
       "3    NaN\n",
       "dtype: category\n",
       "Categories (3, object): [b < c < d]"
      ]
     },
     "metadata": {},
     "output_type": "display_data"
    }
   ],
   "source": [
    "from pandas.api.types import CategoricalDtype\n",
    "\n",
    "s = pd.Series([\"a\", \"b\", \"c\", \"a\"])\n",
    "display(s)\n",
    "\n",
    "cat_type = CategoricalDtype(\n",
    "    categories=[\"b\", \"c\", \"d\"],\n",
    "    ordered=True)\n",
    "\n",
    "s_cat = s.astype(cat_type)\n",
    "\n",
    "display(s_cat)"
   ]
  },
  {
   "cell_type": "markdown",
   "metadata": {},
   "source": [
    "We can use `pandas.Categorical` object to a `Series`."
   ]
  },
  {
   "cell_type": "code",
   "execution_count": 53,
   "metadata": {
    "collapsed": true
   },
   "outputs": [
    {
     "data": {
      "text/plain": [
       "0    NaN\n",
       "1      b\n",
       "2      c\n",
       "3    NaN\n",
       "dtype: category\n",
       "Categories (3, object): [b, c, d]"
      ]
     },
     "metadata": {},
     "output_type": "display_data"
    }
   ],
   "source": [
    "raw_cat = pd.Categorical(\n",
    "    [\"a\", \"b\", \"c\", \"a\"], \n",
    "    categories=[\"b\", \"c\", \"d\"],\n",
    "    ordered=False)\n",
    "\n",
    "s = pd.Series(raw_cat)\n",
    "display(s)"
   ]
  },
  {
   "cell_type": "markdown",
   "metadata": {},
   "source": [
    "**Why strings are dtype object?** (*from [StackOverflow thread](http://stackoverflow.com/questions/21018654/strings-in-a-dataframe-but-dtype-is-object)*)\n",
    "\n",
    "The dtype object comes from `NumPy`, it describes the type of element in a `NumPy.ndarray`. \n",
    "\n",
    "Every element in a ndarray must has the same size in byte. For `int64` and `float64`, these are 8 bytes. \n",
    "\n",
    "However, for strings, the length of the string is not fixed. So instead of save the bytes of strings in the `NumPy.ndarray` directly, Pandas use `object` `ndarray`, which save pointers to objects, because of this the `dtype` of this kind `ndarray` is `object`."
   ]
  },
  {
   "cell_type": "code",
   "execution_count": 35,
   "metadata": {
    "collapsed": true
   },
   "outputs": [
    {
     "data": {
      "text/plain": [
       "0    a\n",
       "1    b\n",
       "2    c\n",
       "dtype: object"
      ]
     },
     "execution_count": 35,
     "metadata": {},
     "output_type": "execute_result"
    }
   ],
   "source": [
    "pd.Series([\"a\",\"b\",\"c\"],dtype=str)"
   ]
  },
  {
   "cell_type": "markdown",
   "metadata": {},
   "source": [
    "**Dates are categorical or numeric?**\n",
    "\n",
    "Days of the month, months, days of the week, etc... are considered categorical.\n",
    "\n",
    "Specific dates, such as the day payments are received, birth dates, etc... are numeric."
   ]
  },
  {
   "cell_type": "code",
   "execution_count": 52,
   "metadata": {
    "collapsed": true
   },
   "outputs": [
    {
     "data": {
      "text/plain": [
       "0       Monday\n",
       "1      Tuesday\n",
       "2    Wednesday\n",
       "3     Thursday\n",
       "4       Friday\n",
       "5     Saturday\n",
       "6       Sunday\n",
       "dtype: category\n",
       "Categories (7, object): [Friday, Monday, Saturday, Sunday, Thursday, Tuesday, Wednesday]"
      ]
     },
     "metadata": {},
     "output_type": "display_data"
    },
    {
     "data": {
      "text/plain": [
       "0       Monday\n",
       "1      Tuesday\n",
       "2    Wednesday\n",
       "3     Thursday\n",
       "4       Friday\n",
       "5     Saturday\n",
       "6       Sunday\n",
       "dtype: category\n",
       "Categories (7, object): [Monday < Tuesday < Wednesday < Thursday < Friday < Saturday < Sunday]"
      ]
     },
     "metadata": {},
     "output_type": "display_data"
    }
   ],
   "source": [
    "s_days1 = pd.Series(['Monday', 'Tuesday', 'Wednesday', 'Thursday', 'Friday', 'Saturday', 'Sunday'], dtype=\"category\")\n",
    "display(s_days)\n",
    "raw_cat = pd.Categorical(\n",
    "    ['Monday', 'Tuesday', 'Wednesday', 'Thursday', 'Friday', 'Saturday', 'Sunday'], \n",
    "    categories=['Monday', 'Tuesday', 'Wednesday', 'Thursday', 'Friday', 'Saturday', 'Sunday'],\n",
    "   ordered=True)\n",
    "\n",
    "s_days2 = pd.Series(raw_cat)\n",
    "display(s_days2)"
   ]
  },
  {
   "cell_type": "code",
   "execution_count": 55,
   "metadata": {
    "collapsed": true
   },
   "outputs": [
    {
     "data": {
      "text/plain": [
       "False"
      ]
     },
     "execution_count": 55,
     "metadata": {},
     "output_type": "execute_result"
    }
   ],
   "source": [
    "s_days1.cat.ordered"
   ]
  },
  {
   "cell_type": "code",
   "execution_count": 56,
   "metadata": {
    "collapsed": true
   },
   "outputs": [
    {
     "data": {
      "text/plain": [
       "True"
      ]
     },
     "execution_count": 56,
     "metadata": {},
     "output_type": "execute_result"
    }
   ],
   "source": [
    "s_days2.cat.ordered"
   ]
  },
  {
   "cell_type": "markdown",
   "metadata": {},
   "source": [
    "`pandas` contains extensive capabilities and features for working with time series data for all domains. \n",
    "\n",
    "Using the `NumPy.datetime64` and `timedelta64` dtypes, pandas has consolidated a large number of features from other Python libraries like scikits.timeseries as well as created a tremendous amount of new functionality for manipulating time series data.\n",
    "\n",
    "For more info: https://pandas.pydata.org/pandas-docs/stable/user_guide/timeseries.html"
   ]
  },
  {
   "cell_type": "code",
   "execution_count": 59,
   "metadata": {
    "collapsed": true
   },
   "outputs": [
    {
     "data": {
      "text/plain": [
       "0   2019-11-18 11:23:12.974935\n",
       "1   2019-11-17 11:23:12.974935\n",
       "2   2019-11-16 11:23:12.974935\n",
       "3   2019-11-15 11:23:12.974935\n",
       "4   2019-11-14 11:23:12.974935\n",
       "5   2019-11-13 11:23:12.974935\n",
       "6   2019-11-12 11:23:12.974935\n",
       "dtype: datetime64[ns]"
      ]
     },
     "metadata": {},
     "output_type": "display_data"
    },
    {
     "data": {
      "text/plain": [
       "True"
      ]
     },
     "metadata": {},
     "output_type": "display_data"
    }
   ],
   "source": [
    "import datetime\n",
    "\n",
    "base = datetime.datetime.today()\n",
    "date_list = [base - datetime.timedelta(days=x) for x in range(0, 7)]\n",
    "date_s = pd.Series(date_list)\n",
    "display(date_s)\n",
    "display(date_s[1] > date_s[2])"
   ]
  },
  {
   "cell_type": "markdown",
   "metadata": {},
   "source": [
    "##### Missing Data\n",
    "\n",
    "You can insert missing values by simply assigning to containers. The actual missing value used will be chosen based on the `dtype`.\n",
    "\n",
    "For example, numeric containers will always use `NaN` regardless of the missing value type chosen:"
   ]
  },
  {
   "cell_type": "code",
   "execution_count": 63,
   "metadata": {
    "collapsed": true
   },
   "outputs": [
    {
     "data": {
      "text/plain": [
       "0    None\n",
       "1     NaN\n",
       "2       c\n",
       "dtype: object"
      ]
     },
     "metadata": {},
     "output_type": "display_data"
    }
   ],
   "source": [
    "import numpy as np\n",
    "\n",
    "s = pd.Series([\"a\", \"b\", \"c\"])\n",
    "s.loc[0] = None\n",
    "s.loc[1] = np.nan\n",
    "\n",
    "display(s)"
   ]
  },
  {
   "cell_type": "code",
   "execution_count": 62,
   "metadata": {
    "collapsed": true
   },
   "outputs": [
    {
     "data": {
      "text/plain": [
       "0    NaN\n",
       "1    NaN\n",
       "2    3.0\n",
       "dtype: float64"
      ]
     },
     "metadata": {},
     "output_type": "display_data"
    }
   ],
   "source": [
    "s = pd.Series([1, 2, 3])\n",
    "s.loc[0] = None\n",
    "s.loc[1] = np.nan\n",
    "\n",
    "display(s)"
   ]
  },
  {
   "cell_type": "markdown",
   "metadata": {},
   "source": [
    "Missing values propagate naturally through arithmetic operations between pandas objects."
   ]
  },
  {
   "cell_type": "code",
   "execution_count": 37,
   "metadata": {
    "collapsed": true
   },
   "outputs": [
    {
     "data": {
      "text/plain": [
       "0    2.0\n",
       "1    NaN\n",
       "2    6.0\n",
       "dtype: float64"
      ]
     },
     "execution_count": 37,
     "metadata": {},
     "output_type": "execute_result"
    }
   ],
   "source": [
    "s1 = pd.Series([1,2,3])\n",
    "s2 = pd.Series([1,np.nan,3])\n",
    "\n",
    "s1 + s2"
   ]
  },
  {
   "cell_type": "markdown",
   "metadata": {},
   "source": [
    "The descriptive statistics and computational methods are all written to account for missing data. For example:\n",
    "\n",
    "* When summing data, NA (missing) values will be treated as zero\n",
    "* If the data are all NA, the result will be NA\n",
    "* Methods like cumsum and cumprod ignore NA values, but preserve them in the resulting arrays\n"
   ]
  },
  {
   "cell_type": "markdown",
   "metadata": {},
   "source": [
    "##### Cleaning/filling missing data\n",
    "    \n",
    "pandas objects are equipped with various data manipulation methods for dealing with missing data.\n",
    "\n",
    "* The `fillna()` method can “fill in” NA values with non-null data "
   ]
  },
  {
   "cell_type": "code",
   "execution_count": 66,
   "metadata": {
    "collapsed": true
   },
   "outputs": [
    {
     "data": {
      "text/plain": [
       "0    1.0\n",
       "1    0.0\n",
       "2    3.0\n",
       "dtype: float64"
      ]
     },
     "metadata": {},
     "output_type": "display_data"
    }
   ],
   "source": [
    "s2 = pd.Series([1,np.nan,3])\n",
    "display(s2.fillna(0))"
   ]
  },
  {
   "cell_type": "markdown",
   "metadata": {},
   "source": [
    "* With `dropna()` you can simply exclude labels from a data set which refer to missing data"
   ]
  },
  {
   "cell_type": "code",
   "execution_count": 67,
   "metadata": {
    "collapsed": true
   },
   "outputs": [
    {
     "data": {
      "text/plain": [
       "0    1.0\n",
       "2    3.0\n",
       "dtype: float64"
      ]
     },
     "metadata": {},
     "output_type": "display_data"
    }
   ],
   "source": [
    "display(s2.dropna())"
   ]
  },
  {
   "cell_type": "markdown",
   "metadata": {},
   "source": [
    "* With `isnull()` and `notnull()` you can return a boolean array to select not assigned values"
   ]
  },
  {
   "cell_type": "code",
   "execution_count": 68,
   "metadata": {
    "collapsed": true
   },
   "outputs": [
    {
     "data": {
      "text/plain": [
       "0    False\n",
       "1     True\n",
       "2    False\n",
       "dtype: bool"
      ]
     },
     "metadata": {},
     "output_type": "display_data"
    }
   ],
   "source": [
    "display(s2.isnull())"
   ]
  },
  {
   "cell_type": "code",
   "execution_count": 69,
   "metadata": {
    "collapsed": true
   },
   "outputs": [
    {
     "data": {
      "text/plain": [
       "1   NaN\n",
       "dtype: float64"
      ]
     },
     "execution_count": 69,
     "metadata": {},
     "output_type": "execute_result"
    }
   ],
   "source": [
    "s2[s2.isnull()]"
   ]
  },
  {
   "cell_type": "markdown",
   "metadata": {},
   "source": [
    "### Series Methods\n",
    "\n",
    "You can check the full list of attributes and methods of the `Series` object [here](https://pandas.pydata.org/pandas-docs/stable/reference/series.html).\n",
    "\n",
    "But, for now, let's take a look to some of them that may result interesting and very useful."
   ]
  },
  {
   "cell_type": "code",
   "execution_count": 188,
   "metadata": {
    "collapsed": true
   },
   "outputs": [],
   "source": [
    "s = pd.Series([\"A\", \"b\", \"c\", \"d\", \"a\", \"B\", \"B\"])"
   ]
  },
  {
   "cell_type": "markdown",
   "metadata": {},
   "source": [
    "##### `Series.head(n=5)`\n",
    "It returns the first `n` elements of the `Series` object. By default `n=5`. An analogous method is `Series.tail()`"
   ]
  },
  {
   "cell_type": "code",
   "execution_count": 189,
   "metadata": {
    "collapsed": true
   },
   "outputs": [
    {
     "data": {
      "text/plain": [
       "0    A\n",
       "1    b\n",
       "2    c\n",
       "dtype: object"
      ]
     },
     "metadata": {},
     "output_type": "display_data"
    },
    {
     "data": {
      "text/plain": [
       "4    a\n",
       "5    B\n",
       "6    B\n",
       "dtype: object"
      ]
     },
     "metadata": {},
     "output_type": "display_data"
    }
   ],
   "source": [
    "display(s.head(3))\n",
    "display(s.tail(3))"
   ]
  },
  {
   "cell_type": "markdown",
   "metadata": {},
   "source": [
    "##### `Series.unique()`\n",
    "It returns the set of unique (no repeated) values as `NumPy,array`"
   ]
  },
  {
   "cell_type": "code",
   "execution_count": 202,
   "metadata": {
    "collapsed": true
   },
   "outputs": [
    {
     "data": {
      "text/plain": [
       "array(['A', 'b', 'c', 'd', 'a', 'B'], dtype=object)"
      ]
     },
     "execution_count": 202,
     "metadata": {},
     "output_type": "execute_result"
    }
   ],
   "source": [
    "s.unique()"
   ]
  },
  {
   "cell_type": "markdown",
   "metadata": {},
   "source": [
    "##### `Series.value_counts()`\n",
    "\n",
    "It returns a frequency table. It has some interesting methods like `normalize` and `dropna`"
   ]
  },
  {
   "cell_type": "code",
   "execution_count": 74,
   "metadata": {
    "collapsed": true
   },
   "outputs": [
    {
     "data": {
      "text/plain": [
       "0    A\n",
       "1    b\n",
       "2    c\n",
       "3    d\n",
       "4    a\n",
       "5    B\n",
       "6    B\n",
       "dtype: object"
      ]
     },
     "metadata": {},
     "output_type": "display_data"
    },
    {
     "data": {
      "text/plain": [
       "B    2\n",
       "d    1\n",
       "c    1\n",
       "b    1\n",
       "a    1\n",
       "A    1\n",
       "dtype: int64"
      ]
     },
     "metadata": {},
     "output_type": "display_data"
    }
   ],
   "source": [
    "display(s)\n",
    "display(s.value_counts())"
   ]
  },
  {
   "cell_type": "markdown",
   "metadata": {},
   "source": [
    "###### `Series.describe()`\n",
    "It returns descriptive statistics of the variable (`Series` object)"
   ]
  },
  {
   "cell_type": "code",
   "execution_count": 75,
   "metadata": {
    "collapsed": true
   },
   "outputs": [
    {
     "data": {
      "text/plain": [
       "0    A\n",
       "1    b\n",
       "2    c\n",
       "3    d\n",
       "4    a\n",
       "5    B\n",
       "6    B\n",
       "dtype: object"
      ]
     },
     "metadata": {},
     "output_type": "display_data"
    },
    {
     "data": {
      "text/plain": [
       "count     7\n",
       "unique    6\n",
       "top       B\n",
       "freq      2\n",
       "dtype: object"
      ]
     },
     "metadata": {},
     "output_type": "display_data"
    }
   ],
   "source": [
    "display(s)\n",
    "display(s.describe())"
   ]
  },
  {
   "cell_type": "markdown",
   "metadata": {},
   "source": [
    "###### `Series.map()`\n",
    "It applies the function passed by parameter to the `Series` object."
   ]
  },
  {
   "cell_type": "code",
   "execution_count": 76,
   "metadata": {
    "collapsed": true
   },
   "outputs": [
    {
     "data": {
      "text/plain": [
       "0    a\n",
       "1    b\n",
       "2    c\n",
       "3    d\n",
       "4    a\n",
       "5    b\n",
       "6    b\n",
       "dtype: object"
      ]
     },
     "execution_count": 76,
     "metadata": {},
     "output_type": "execute_result"
    }
   ],
   "source": [
    "s.map(lambda x: x.lower())"
   ]
  },
  {
   "cell_type": "markdown",
   "metadata": {
    "nbpresent": {
     "id": "3548594b-4995-4a6d-9ec1-c13a1f516d23"
    }
   },
   "source": [
    "### Examples with Series\n",
    "\n",
    "We can see some examples of how we can load datasets using `Series` and how to manipulate them."
   ]
  },
  {
   "cell_type": "code",
   "execution_count": 176,
   "metadata": {
    "collapsed": true,
    "nbpresent": {
     "id": "fe3e5df6-4c87-4406-9e8c-2ba1ba0fee0c"
    }
   },
   "outputs": [
    {
     "name": "stdout",
     "output_type": "stream",
     "text": [
      "<class 'list'>\n"
     ]
    }
   ],
   "source": [
    "import csv\n",
    "import requests\n",
    "\n",
    "url = 'https://raw.githubusercontent.com/jpatokal/openflights/master/data/airports.dat'\n",
    "response = requests.get(url)\n",
    "\n",
    "if response.status_code == 200:\n",
    "    data = list(csv.reader(response.content.decode().split(\"\\n\"))) # data is a list of list\n",
    "    # warning, last row is empty\n",
    "    data = data[:-1]\n",
    "    print(type(data))\n",
    "else:\n",
    "    print(\"error requesting\")"
   ]
  },
  {
   "cell_type": "markdown",
   "metadata": {
    "nbpresent": {
     "id": "f9c4f5d2-dfb2-4cde-b87b-aa5ee8721a47"
    }
   },
   "source": [
    "Taking a look at the `data` variable, we can see that it is a list of lists, containing list of rows. We have seen that `Series` map to columns, so first, let's transpose the dataset."
   ]
  },
  {
   "cell_type": "code",
   "execution_count": 177,
   "metadata": {
    "collapsed": true,
    "nbpresent": {
     "id": "3da91f71-d048-421b-ad16-171231c0a398"
    }
   },
   "outputs": [],
   "source": [
    "transposed_dataset = list(map(list, zip(*dataset)))"
   ]
  },
  {
   "cell_type": "markdown",
   "metadata": {},
   "source": [
    "Fourth column is airport country"
   ]
  },
  {
   "cell_type": "code",
   "execution_count": 183,
   "metadata": {
    "collapsed": true
   },
   "outputs": [
    {
     "data": {
      "text/plain": [
       "['Papua New Guinea',\n",
       " 'Papua New Guinea',\n",
       " 'Papua New Guinea',\n",
       " 'Papua New Guinea',\n",
       " 'Papua New Guinea']"
      ]
     },
     "metadata": {},
     "output_type": "display_data"
    }
   ],
   "source": [
    "display(transposed_dataset[3][:5])\n",
    "airport_countries = transposed_dataset[3]"
   ]
  },
  {
   "cell_type": "markdown",
   "metadata": {},
   "source": [
    "Now we can create a `Series` with this list"
   ]
  },
  {
   "cell_type": "code",
   "execution_count": 187,
   "metadata": {
    "collapsed": true,
    "nbpresent": {
     "id": "884cac48-25de-4feb-a174-687a6ff8593c"
    }
   },
   "outputs": [
    {
     "data": {
      "text/plain": [
       "0    Papua New Guinea\n",
       "1    Papua New Guinea\n",
       "2    Papua New Guinea\n",
       "3    Papua New Guinea\n",
       "4    Papua New Guinea\n",
       "5    Papua New Guinea\n",
       "6           Greenland\n",
       "7           Greenland\n",
       "8           Greenland\n",
       "9           Greenland\n",
       "dtype: object"
      ]
     },
     "execution_count": 187,
     "metadata": {},
     "output_type": "execute_result"
    }
   ],
   "source": [
    "countries = pd.Series(airport_countries)\n",
    "# this is a more interesting Series object than a list\n",
    "countries.head(n=10)"
   ]
  },
  {
   "cell_type": "code",
   "execution_count": 184,
   "metadata": {
    "collapsed": true,
    "nbpresent": {
     "id": "e0536967-e923-4503-8062-52054c00a067"
    }
   },
   "outputs": [
    {
     "data": {
      "text/plain": [
       "RangeIndex(start=0, stop=5, step=1)"
      ]
     },
     "metadata": {},
     "output_type": "display_data"
    }
   ],
   "source": [
    "display(countries.index)"
   ]
  },
  {
   "cell_type": "markdown",
   "metadata": {},
   "source": [
    "Access by index"
   ]
  },
  {
   "cell_type": "code",
   "execution_count": 190,
   "metadata": {
    "collapsed": true,
    "nbpresent": {
     "id": "6e0fca55-163b-4c20-9902-e79dd7b86d5b"
    }
   },
   "outputs": [
    {
     "data": {
      "text/plain": [
       "'Papua New Guinea'"
      ]
     },
     "execution_count": 190,
     "metadata": {},
     "output_type": "execute_result"
    }
   ],
   "source": [
    "countries[0]"
   ]
  },
  {
   "cell_type": "markdown",
   "metadata": {},
   "source": [
    "Access using boolean arrays"
   ]
  },
  {
   "cell_type": "code",
   "execution_count": 192,
   "metadata": {
    "collapsed": true
   },
   "outputs": [
    {
     "data": {
      "text/plain": [
       "0    False\n",
       "1    False\n",
       "2    False\n",
       "3    False\n",
       "4    False\n",
       "dtype: bool"
      ]
     },
     "metadata": {},
     "output_type": "display_data"
    }
   ],
   "source": [
    "## we can evaluate a function over all elements to get a boolean series\n",
    "countries == \"Spain\").head()"
   ]
  },
  {
   "cell_type": "code",
   "execution_count": 193,
   "metadata": {
    "collapsed": true
   },
   "outputs": [
    {
     "data": {
      "text/plain": [
       "1028    Spain\n",
       "1029    Spain\n",
       "1030    Spain\n",
       "1031    Spain\n",
       "1032    Spain\n",
       "dtype: object"
      ]
     },
     "metadata": {},
     "output_type": "display_data"
    }
   ],
   "source": [
    "countries[countries == \"Spain\"]).head()"
   ]
  },
  {
   "cell_type": "code",
   "execution_count": 194,
   "metadata": {
    "collapsed": true
   },
   "outputs": [
    {
     "data": {
      "text/plain": [
       "0    Papua New Guinea\n",
       "1    Papua New Guinea\n",
       "2    Papua New Guinea\n",
       "3    Papua New Guinea\n",
       "4    Papua New Guinea\n",
       "dtype: object"
      ]
     },
     "metadata": {},
     "output_type": "display_data"
    }
   ],
   "source": [
    "countries[countries != \"Spain\"]).head()"
   ]
  },
  {
   "cell_type": "code",
   "execution_count": 195,
   "metadata": {
    "collapsed": true
   },
   "outputs": [
    {
     "data": {
      "text/plain": [
       "7693     Russia\n",
       "7694     Russia\n",
       "7695     Russia\n",
       "7696      Chile\n",
       "7697    Ukraine\n",
       "dtype: object"
      ]
     },
     "execution_count": 195,
     "metadata": {},
     "output_type": "execute_result"
    }
   ],
   "source": [
    "countries[countries != \"Spain\"].tail()"
   ]
  },
  {
   "cell_type": "markdown",
   "metadata": {},
   "source": [
    "Get the list of countries that have at least 1 airport"
   ]
  },
  {
   "cell_type": "code",
   "execution_count": 199,
   "metadata": {
    "collapsed": true
   },
   "outputs": [
    {
     "data": {
      "text/plain": [
       "array(['Papua New Guinea', 'Greenland', 'Iceland', 'Canada', 'Algeria'],\n",
       "      dtype=object)"
      ]
     },
     "execution_count": 199,
     "metadata": {},
     "output_type": "execute_result"
    }
   ],
   "source": [
    "countries.unique()[:5]"
   ]
  },
  {
   "cell_type": "markdown",
   "metadata": {},
   "source": [
    "Note that, as keys are integers, accessing by key has the same behaviour"
   ]
  },
  {
   "cell_type": "code",
   "execution_count": 200,
   "metadata": {
    "collapsed": true,
    "nbpresent": {
     "id": "87e730c2-a246-4e83-9496-7db7e842a8d7"
    }
   },
   "outputs": [
    {
     "data": {
      "text/plain": [
       "'Canada'"
      ]
     },
     "execution_count": 200,
     "metadata": {},
     "output_type": "execute_result"
    }
   ],
   "source": [
    "countries[81]"
   ]
  },
  {
   "cell_type": "markdown",
   "metadata": {
    "nbpresent": {
     "id": "36d96c20-0526-40a6-b381-1164436e0963"
    }
   },
   "source": [
    "We can get the list of countries with more airports"
   ]
  },
  {
   "cell_type": "code",
   "execution_count": 204,
   "metadata": {
    "collapsed": true,
    "nbpresent": {
     "id": "5a51257f-1c22-4f37-bc81-58495a2ae106"
    }
   },
   "outputs": [
    {
     "data": {
      "text/plain": [
       "United States    1512\n",
       "Canada            430\n",
       "Australia         334\n",
       "Brazil            264\n",
       "Russia            264\n",
       "dtype: int64"
      ]
     },
     "execution_count": 204,
     "metadata": {},
     "output_type": "execute_result"
    }
   ],
   "source": [
    "countries.value_counts().head()"
   ]
  },
  {
   "cell_type": "code",
   "execution_count": 205,
   "metadata": {
    "collapsed": true
   },
   "outputs": [
    {
     "data": {
      "text/plain": [
       "United States    0.196415\n",
       "Canada           0.055859\n",
       "Australia        0.043388\n",
       "Brazil           0.034295\n",
       "Russia           0.034295\n",
       "dtype: float64"
      ]
     },
     "execution_count": 205,
     "metadata": {},
     "output_type": "execute_result"
    }
   ],
   "source": [
    "countries.value_counts(normalize=True).head()"
   ]
  },
  {
   "cell_type": "markdown",
   "metadata": {},
   "source": [
    "### Exercises with Series"
   ]
  },
  {
   "cell_type": "markdown",
   "metadata": {},
   "source": [
    "1. Load iqsize.csv using the `csv` library as a dictionary of Series.\n"
   ]
  },
  {
   "cell_type": "markdown",
   "metadata": {},
   "source": [
    "\n",
    "2. Check Series `dtype`. Are they correct? Why? \n",
    "\n"
   ]
  },
  {
   "cell_type": "markdown",
   "metadata": {},
   "source": [
    "3. For sex variable, select those that are males (including synonyms). \n"
   ]
  },
  {
   "cell_type": "markdown",
   "metadata": {},
   "source": [
    "\n",
    "4. Count how many women and how many men there are. How many missing elements there are?"
   ]
  },
  {
   "cell_type": "markdown",
   "metadata": {
    "nbpresent": {
     "id": "29c50b82-871b-4212-bc5f-30f2f243386a"
    }
   },
   "source": [
    "## DataFrame\n",
    "\n",
    "A DataFrame is a 2-dimensional **labeled** data structure with columns of different types. \n",
    "\n",
    "It can be seen as a spreadsheet, where columns are `Series` or a Python dictionary where Series can be accessed through labels.\n",
    "\n",
    "Note that now the indexing is two dimensional:\n",
    "* `index` indexes rows\n",
    "* `columns` indexes columns\n",
    "\n",
    "`DataFrame` has the `dtypes` atribute, which is a `Series` object containing `column` `dtypes`\n",
    "\n",
    "The shape of a `DataFrame` is stored in `DataFrame.shape` attribute, which is a tuple of ints: `(n_rows, n_cols)`"
   ]
  },
  {
   "cell_type": "markdown",
   "metadata": {
    "nbpresent": {
     "id": "961ddc3d-44b1-4a94-8627-43896c8588ea"
    }
   },
   "source": [
    "### DataFrame Creation"
   ]
  },
  {
   "cell_type": "markdown",
   "metadata": {
    "nbpresent": {
     "id": "b249e00c-af32-4e86-8928-1f3ebe10ba31"
    }
   },
   "source": [
    "We can create DataFrames from:\n",
    "* [Dict of Series](#From-dict-of-Series-or-dict)\n",
    "* [Dict of `ndarrays` or lists](#From-dict-of-ndarrays-/-lists)\n",
    "* [Structured or record ndarray](#From-structured-or-record-array)\n",
    "* [List of Dicts](#From-a-list-of-dicts)\n",
    "* [Another `DataFrame`](#From-another-DataFrame)"
   ]
  },
  {
   "cell_type": "markdown",
   "metadata": {},
   "source": [
    "##### From dict of Series\n",
    "\n",
    "We can use a dict as constructor of the `DataFrame` object.\n",
    "\n",
    "Dict keys will be used as `column`names.\n",
    "\n",
    "The result **index** will be the **union** of the indexes of the various Series. "
   ]
  },
  {
   "cell_type": "code",
   "execution_count": 261,
   "metadata": {
    "collapsed": true,
    "nbpresent": {
     "id": "1aae5ddc-e526-4065-b81f-4177f6d57c04"
    }
   },
   "outputs": [
    {
     "data": {
      "text/plain": [
       "Index(['a', 'b', 'c', 'z'], dtype='object')"
      ]
     },
     "metadata": {},
     "output_type": "display_data"
    },
    {
     "data": {
      "text/plain": [
       "Index(['one', 'two', 'three'], dtype='object')"
      ]
     },
     "metadata": {},
     "output_type": "display_data"
    },
    {
     "data": {
      "text/plain": [
       "one      float64\n",
       "two        int64\n",
       "three    float64\n",
       "dtype: object"
      ]
     },
     "metadata": {},
     "output_type": "display_data"
    },
    {
     "data": {
      "text/plain": [
       "(4, 3)"
      ]
     },
     "metadata": {},
     "output_type": "display_data"
    }
   ],
   "source": [
    "d = {'one': pd.Series([1,2,3], index=['a','b','c']),\n",
    "     'two': pd.Series([1,2,3,4], index=['a','b','c','z']),\n",
    "     'three':{'a':1}}\n",
    "df = pd.DataFrame(d)\n",
    "display(df.index)\n",
    "display(df.columns)\n",
    "display(df.dtypes)\n",
    "display(df.shape)"
   ]
  },
  {
   "cell_type": "code",
   "execution_count": 260,
   "metadata": {
    "collapsed": true
   },
   "outputs": [
    {
     "data": {
      "text/html": [
       "<div>\n",
       "<style scoped>\n",
       "    .dataframe tbody tr th:only-of-type {\n",
       "        vertical-align: middle;\n",
       "    }\n",
       "\n",
       "    .dataframe tbody tr th {\n",
       "        vertical-align: top;\n",
       "    }\n",
       "\n",
       "    .dataframe thead th {\n",
       "        text-align: right;\n",
       "    }\n",
       "</style>\n",
       "<table border=\"1\" class=\"dataframe\">\n",
       "  <thead>\n",
       "    <tr style=\"text-align: right;\">\n",
       "      <th></th>\n",
       "      <th>one</th>\n",
       "      <th>two</th>\n",
       "      <th>three</th>\n",
       "    </tr>\n",
       "  </thead>\n",
       "  <tbody>\n",
       "    <tr>\n",
       "      <th>a</th>\n",
       "      <td>1.0</td>\n",
       "      <td>1</td>\n",
       "      <td>1.0</td>\n",
       "    </tr>\n",
       "    <tr>\n",
       "      <th>b</th>\n",
       "      <td>2.0</td>\n",
       "      <td>2</td>\n",
       "      <td>NaN</td>\n",
       "    </tr>\n",
       "    <tr>\n",
       "      <th>c</th>\n",
       "      <td>3.0</td>\n",
       "      <td>3</td>\n",
       "      <td>NaN</td>\n",
       "    </tr>\n",
       "    <tr>\n",
       "      <th>z</th>\n",
       "      <td>NaN</td>\n",
       "      <td>4</td>\n",
       "      <td>NaN</td>\n",
       "    </tr>\n",
       "  </tbody>\n",
       "</table>\n",
       "</div>"
      ],
      "text/plain": [
       "   one  two  three\n",
       "a  1.0    1    1.0\n",
       "b  2.0    2    NaN\n",
       "c  3.0    3    NaN\n",
       "z  NaN    4    NaN"
      ]
     },
     "metadata": {},
     "output_type": "display_data"
    }
   ],
   "source": [
    "display(df)"
   ]
  },
  {
   "cell_type": "markdown",
   "metadata": {},
   "source": [
    "If `index` is passed as parameter, only these index in the `Series` will be used to construct the `DataSet` "
   ]
  },
  {
   "cell_type": "code",
   "execution_count": 44,
   "metadata": {
    "collapsed": true,
    "nbpresent": {
     "id": "d9fb9ef4-fcd3-4800-a9d4-315dc219b613"
    }
   },
   "outputs": [
    {
     "data": {
      "text/html": [
       "<div>\n",
       "<style scoped>\n",
       "    .dataframe tbody tr th:only-of-type {\n",
       "        vertical-align: middle;\n",
       "    }\n",
       "\n",
       "    .dataframe tbody tr th {\n",
       "        vertical-align: top;\n",
       "    }\n",
       "\n",
       "    .dataframe thead th {\n",
       "        text-align: right;\n",
       "    }\n",
       "</style>\n",
       "<table border=\"1\" class=\"dataframe\">\n",
       "  <thead>\n",
       "    <tr style=\"text-align: right;\">\n",
       "      <th></th>\n",
       "      <th>one</th>\n",
       "      <th>three</th>\n",
       "      <th>two</th>\n",
       "    </tr>\n",
       "  </thead>\n",
       "  <tbody>\n",
       "    <tr>\n",
       "      <th>d</th>\n",
       "      <td>NaN</td>\n",
       "      <td>NaN</td>\n",
       "      <td>NaN</td>\n",
       "    </tr>\n",
       "    <tr>\n",
       "      <th>b</th>\n",
       "      <td>2.0</td>\n",
       "      <td>NaN</td>\n",
       "      <td>2.0</td>\n",
       "    </tr>\n",
       "    <tr>\n",
       "      <th>a</th>\n",
       "      <td>1.0</td>\n",
       "      <td>1.0</td>\n",
       "      <td>1.0</td>\n",
       "    </tr>\n",
       "  </tbody>\n",
       "</table>\n",
       "</div>"
      ],
      "text/plain": [
       "   one  three  two\n",
       "d  NaN    NaN  NaN\n",
       "b  2.0    NaN  2.0\n",
       "a  1.0    1.0  1.0"
      ]
     },
     "execution_count": 44,
     "metadata": {},
     "output_type": "execute_result"
    }
   ],
   "source": [
    "pd.DataFrame(d, index=['d', 'b', 'a'])"
   ]
  },
  {
   "cell_type": "markdown",
   "metadata": {},
   "source": [
    "The same behaviour works for columns."
   ]
  },
  {
   "cell_type": "code",
   "execution_count": 45,
   "metadata": {
    "collapsed": true,
    "nbpresent": {
     "id": "a660dec2-1c39-4b1b-89bc-7c1a569e4dbd"
    }
   },
   "outputs": [
    {
     "data": {
      "text/html": [
       "<div>\n",
       "<style scoped>\n",
       "    .dataframe tbody tr th:only-of-type {\n",
       "        vertical-align: middle;\n",
       "    }\n",
       "\n",
       "    .dataframe tbody tr th {\n",
       "        vertical-align: top;\n",
       "    }\n",
       "\n",
       "    .dataframe thead th {\n",
       "        text-align: right;\n",
       "    }\n",
       "</style>\n",
       "<table border=\"1\" class=\"dataframe\">\n",
       "  <thead>\n",
       "    <tr style=\"text-align: right;\">\n",
       "      <th></th>\n",
       "      <th>two</th>\n",
       "      <th>three</th>\n",
       "      <th>four</th>\n",
       "    </tr>\n",
       "  </thead>\n",
       "  <tbody>\n",
       "    <tr>\n",
       "      <th>d</th>\n",
       "      <td>NaN</td>\n",
       "      <td>NaN</td>\n",
       "      <td>NaN</td>\n",
       "    </tr>\n",
       "    <tr>\n",
       "      <th>b</th>\n",
       "      <td>2.0</td>\n",
       "      <td>NaN</td>\n",
       "      <td>NaN</td>\n",
       "    </tr>\n",
       "    <tr>\n",
       "      <th>a</th>\n",
       "      <td>1.0</td>\n",
       "      <td>1.0</td>\n",
       "      <td>NaN</td>\n",
       "    </tr>\n",
       "  </tbody>\n",
       "</table>\n",
       "</div>"
      ],
      "text/plain": [
       "   two  three four\n",
       "d  NaN    NaN  NaN\n",
       "b  2.0    NaN  NaN\n",
       "a  1.0    1.0  NaN"
      ]
     },
     "execution_count": 45,
     "metadata": {},
     "output_type": "execute_result"
    }
   ],
   "source": [
    "pd.DataFrame(d, index=['d', 'b', 'a'], \n",
    "             columns=['two', 'three','four'])"
   ]
  },
  {
   "cell_type": "markdown",
   "metadata": {
    "nbpresent": {
     "id": "114f5947-57e1-4653-ba88-ffb1a8f58d2a"
    }
   },
   "source": [
    "##### From dict of `ndarrays` or lists\n",
    "\n",
    "The `ndarrays` must all be the same length. \n",
    "\n",
    "Dictionary `keys` will be used as `column` index\n",
    "\n",
    "If an **index** is passed, it must be the same length as the arrays. \n",
    "\n",
    "If no **index** is passed, the result will be <code>range(n)</code>, where `n` is the array length."
   ]
  },
  {
   "cell_type": "code",
   "execution_count": 213,
   "metadata": {
    "collapsed": true,
    "nbpresent": {
     "id": "988795c7-daac-4445-8c56-922fb7b6a679"
    }
   },
   "outputs": [
    {
     "data": {
      "text/html": [
       "<div>\n",
       "<style scoped>\n",
       "    .dataframe tbody tr th:only-of-type {\n",
       "        vertical-align: middle;\n",
       "    }\n",
       "\n",
       "    .dataframe tbody tr th {\n",
       "        vertical-align: top;\n",
       "    }\n",
       "\n",
       "    .dataframe thead th {\n",
       "        text-align: right;\n",
       "    }\n",
       "</style>\n",
       "<table border=\"1\" class=\"dataframe\">\n",
       "  <thead>\n",
       "    <tr style=\"text-align: right;\">\n",
       "      <th></th>\n",
       "      <th>one</th>\n",
       "      <th>two</th>\n",
       "    </tr>\n",
       "  </thead>\n",
       "  <tbody>\n",
       "    <tr>\n",
       "      <th>0</th>\n",
       "      <td>1.0</td>\n",
       "      <td>4.0</td>\n",
       "    </tr>\n",
       "    <tr>\n",
       "      <th>1</th>\n",
       "      <td>2.0</td>\n",
       "      <td>3.0</td>\n",
       "    </tr>\n",
       "    <tr>\n",
       "      <th>2</th>\n",
       "      <td>3.0</td>\n",
       "      <td>2.0</td>\n",
       "    </tr>\n",
       "    <tr>\n",
       "      <th>3</th>\n",
       "      <td>4.0</td>\n",
       "      <td>1.0</td>\n",
       "    </tr>\n",
       "  </tbody>\n",
       "</table>\n",
       "</div>"
      ],
      "text/plain": [
       "   one  two\n",
       "0  1.0  4.0\n",
       "1  2.0  3.0\n",
       "2  3.0  2.0\n",
       "3  4.0  1.0"
      ]
     },
     "execution_count": 213,
     "metadata": {},
     "output_type": "execute_result"
    }
   ],
   "source": [
    "d = {'one' : [1., 2., 3., 4.], 'two' : [4., 3., 2., 1.]}\n",
    "pd.DataFrame(d)"
   ]
  },
  {
   "cell_type": "markdown",
   "metadata": {},
   "source": [
    "**Important Note:** as in `Series`, operations are index aligned"
   ]
  },
  {
   "cell_type": "code",
   "execution_count": 214,
   "metadata": {
    "collapsed": true,
    "nbpresent": {
     "id": "4bd4cb3a-5c7b-4f14-aa70-b00b4955f66b"
    }
   },
   "outputs": [
    {
     "data": {
      "text/html": [
       "<div>\n",
       "<style scoped>\n",
       "    .dataframe tbody tr th:only-of-type {\n",
       "        vertical-align: middle;\n",
       "    }\n",
       "\n",
       "    .dataframe tbody tr th {\n",
       "        vertical-align: top;\n",
       "    }\n",
       "\n",
       "    .dataframe thead th {\n",
       "        text-align: right;\n",
       "    }\n",
       "</style>\n",
       "<table border=\"1\" class=\"dataframe\">\n",
       "  <thead>\n",
       "    <tr style=\"text-align: right;\">\n",
       "      <th></th>\n",
       "      <th>one</th>\n",
       "      <th>two</th>\n",
       "    </tr>\n",
       "  </thead>\n",
       "  <tbody>\n",
       "    <tr>\n",
       "      <th>0</th>\n",
       "      <td>NaN</td>\n",
       "      <td>NaN</td>\n",
       "    </tr>\n",
       "    <tr>\n",
       "      <th>1</th>\n",
       "      <td>NaN</td>\n",
       "      <td>NaN</td>\n",
       "    </tr>\n",
       "    <tr>\n",
       "      <th>2</th>\n",
       "      <td>NaN</td>\n",
       "      <td>NaN</td>\n",
       "    </tr>\n",
       "    <tr>\n",
       "      <th>3</th>\n",
       "      <td>NaN</td>\n",
       "      <td>NaN</td>\n",
       "    </tr>\n",
       "    <tr>\n",
       "      <th>a</th>\n",
       "      <td>NaN</td>\n",
       "      <td>NaN</td>\n",
       "    </tr>\n",
       "    <tr>\n",
       "      <th>b</th>\n",
       "      <td>NaN</td>\n",
       "      <td>NaN</td>\n",
       "    </tr>\n",
       "    <tr>\n",
       "      <th>c</th>\n",
       "      <td>NaN</td>\n",
       "      <td>NaN</td>\n",
       "    </tr>\n",
       "    <tr>\n",
       "      <th>d</th>\n",
       "      <td>NaN</td>\n",
       "      <td>NaN</td>\n",
       "    </tr>\n",
       "  </tbody>\n",
       "</table>\n",
       "</div>"
      ],
      "text/plain": [
       "   one  two\n",
       "0  NaN  NaN\n",
       "1  NaN  NaN\n",
       "2  NaN  NaN\n",
       "3  NaN  NaN\n",
       "a  NaN  NaN\n",
       "b  NaN  NaN\n",
       "c  NaN  NaN\n",
       "d  NaN  NaN"
      ]
     },
     "execution_count": 214,
     "metadata": {},
     "output_type": "execute_result"
    }
   ],
   "source": [
    "d1 = pd.DataFrame(d) \n",
    "d2 = pd.DataFrame(d, index = ['a','b','c','d'])\n",
    "d1+d2"
   ]
  },
  {
   "cell_type": "markdown",
   "metadata": {
    "nbpresent": {
     "id": "3055a60b-069f-4d48-adf5-e0d9b4a234f5"
    }
   },
   "source": [
    "##### From structured or record array\n",
    "\n",
    "We can use the creation of  `NumPy.ndarrays` with default `dtype`."
   ]
  },
  {
   "cell_type": "code",
   "execution_count": 221,
   "metadata": {
    "collapsed": true,
    "nbpresent": {
     "id": "bf30951f-995e-4b18-8f0a-bf55609041c4"
    }
   },
   "outputs": [
    {
     "data": {
      "text/plain": [
       "array([(0, 0., b''), (0, 0., b'')],\n",
       "      dtype=[('A', '<i4'), ('B', '<f4'), ('C', 'S10')])"
      ]
     },
     "execution_count": 221,
     "metadata": {},
     "output_type": "execute_result"
    }
   ],
   "source": [
    "data = np.zeros((2,), dtype=[('A', 'i4'),('B', 'f4'),('C', 'a10')])\n",
    "data"
   ]
  },
  {
   "cell_type": "markdown",
   "metadata": {},
   "source": [
    "In the example above we are creating an array with two rows and undefined columns (column number, name and `dtype` are specified with `dtype` parameter).\n",
    "\n",
    "We pass a list of three tuples. Each tuple contains a name and `dtype` as string, meaning ([Arrays Interface](https://docs.scipy.org/doc/numpy/reference/arrays.interface.html#arrays-interface) for further reference):\n",
    "* `i4`: 32 bit integer\n",
    "* `f4`: 32 bit float\n",
    "* `a10`: 10-length zero-terminated bytes\n",
    "\n",
    "Then we fill the created `DataFrame` with values"
   ]
  },
  {
   "cell_type": "code",
   "execution_count": 223,
   "metadata": {
    "collapsed": true
   },
   "outputs": [
    {
     "data": {
      "text/plain": [
       "array([(1, 2., b'Hello'), (2, 3., b'World')],\n",
       "      dtype=[('A', '<i4'), ('B', '<f4'), ('C', 'S10')])"
      ]
     },
     "metadata": {},
     "output_type": "display_data"
    }
   ],
   "source": [
    "data[:] = [(1,2.,'Hello'), (2,3.,\"World\")]\n",
    "display(data)"
   ]
  },
  {
   "cell_type": "markdown",
   "metadata": {},
   "source": [
    "Now we can construct the `DataFrame`"
   ]
  },
  {
   "cell_type": "code",
   "execution_count": 224,
   "metadata": {
    "collapsed": true
   },
   "outputs": [
    {
     "data": {
      "text/html": [
       "<div>\n",
       "<style scoped>\n",
       "    .dataframe tbody tr th:only-of-type {\n",
       "        vertical-align: middle;\n",
       "    }\n",
       "\n",
       "    .dataframe tbody tr th {\n",
       "        vertical-align: top;\n",
       "    }\n",
       "\n",
       "    .dataframe thead th {\n",
       "        text-align: right;\n",
       "    }\n",
       "</style>\n",
       "<table border=\"1\" class=\"dataframe\">\n",
       "  <thead>\n",
       "    <tr style=\"text-align: right;\">\n",
       "      <th></th>\n",
       "      <th>A</th>\n",
       "      <th>B</th>\n",
       "      <th>C</th>\n",
       "    </tr>\n",
       "  </thead>\n",
       "  <tbody>\n",
       "    <tr>\n",
       "      <th>0</th>\n",
       "      <td>1</td>\n",
       "      <td>2.0</td>\n",
       "      <td>b'Hello'</td>\n",
       "    </tr>\n",
       "    <tr>\n",
       "      <th>1</th>\n",
       "      <td>2</td>\n",
       "      <td>3.0</td>\n",
       "      <td>b'World'</td>\n",
       "    </tr>\n",
       "  </tbody>\n",
       "</table>\n",
       "</div>"
      ],
      "text/plain": [
       "   A    B         C\n",
       "0  1  2.0  b'Hello'\n",
       "1  2  3.0  b'World'"
      ]
     },
     "metadata": {},
     "output_type": "display_data"
    },
    {
     "data": {
      "text/plain": [
       "A      int32\n",
       "B    float32\n",
       "C     object\n",
       "dtype: object"
      ]
     },
     "metadata": {},
     "output_type": "display_data"
    }
   ],
   "source": [
    "df = pd.DataFrame(data)\n",
    "display(df)\n",
    "display(df.dtypes)"
   ]
  },
  {
   "cell_type": "markdown",
   "metadata": {},
   "source": [
    "In this case we can set row names using `index`"
   ]
  },
  {
   "cell_type": "code",
   "execution_count": 225,
   "metadata": {
    "collapsed": true,
    "nbpresent": {
     "id": "939da919-ffa0-4712-a909-81f9364db52c"
    }
   },
   "outputs": [
    {
     "data": {
      "text/html": [
       "<div>\n",
       "<style scoped>\n",
       "    .dataframe tbody tr th:only-of-type {\n",
       "        vertical-align: middle;\n",
       "    }\n",
       "\n",
       "    .dataframe tbody tr th {\n",
       "        vertical-align: top;\n",
       "    }\n",
       "\n",
       "    .dataframe thead th {\n",
       "        text-align: right;\n",
       "    }\n",
       "</style>\n",
       "<table border=\"1\" class=\"dataframe\">\n",
       "  <thead>\n",
       "    <tr style=\"text-align: right;\">\n",
       "      <th></th>\n",
       "      <th>A</th>\n",
       "      <th>B</th>\n",
       "      <th>C</th>\n",
       "    </tr>\n",
       "  </thead>\n",
       "  <tbody>\n",
       "    <tr>\n",
       "      <th>first</th>\n",
       "      <td>1</td>\n",
       "      <td>2.0</td>\n",
       "      <td>b'Hello'</td>\n",
       "    </tr>\n",
       "    <tr>\n",
       "      <th>second</th>\n",
       "      <td>2</td>\n",
       "      <td>3.0</td>\n",
       "      <td>b'World'</td>\n",
       "    </tr>\n",
       "  </tbody>\n",
       "</table>\n",
       "</div>"
      ],
      "text/plain": [
       "        A    B         C\n",
       "first   1  2.0  b'Hello'\n",
       "second  2  3.0  b'World'"
      ]
     },
     "execution_count": 225,
     "metadata": {},
     "output_type": "execute_result"
    }
   ],
   "source": [
    "pd.DataFrame(data, index=['first', 'second'])"
   ]
  },
  {
   "cell_type": "markdown",
   "metadata": {},
   "source": [
    "Or sort columns"
   ]
  },
  {
   "cell_type": "code",
   "execution_count": 226,
   "metadata": {
    "collapsed": true,
    "nbpresent": {
     "id": "546dfaeb-86eb-4018-bc53-c7ef2728936b"
    }
   },
   "outputs": [
    {
     "data": {
      "text/html": [
       "<div>\n",
       "<style scoped>\n",
       "    .dataframe tbody tr th:only-of-type {\n",
       "        vertical-align: middle;\n",
       "    }\n",
       "\n",
       "    .dataframe tbody tr th {\n",
       "        vertical-align: top;\n",
       "    }\n",
       "\n",
       "    .dataframe thead th {\n",
       "        text-align: right;\n",
       "    }\n",
       "</style>\n",
       "<table border=\"1\" class=\"dataframe\">\n",
       "  <thead>\n",
       "    <tr style=\"text-align: right;\">\n",
       "      <th></th>\n",
       "      <th>C</th>\n",
       "      <th>A</th>\n",
       "      <th>B</th>\n",
       "    </tr>\n",
       "  </thead>\n",
       "  <tbody>\n",
       "    <tr>\n",
       "      <th>0</th>\n",
       "      <td>b'Hello'</td>\n",
       "      <td>1</td>\n",
       "      <td>2.0</td>\n",
       "    </tr>\n",
       "    <tr>\n",
       "      <th>1</th>\n",
       "      <td>b'World'</td>\n",
       "      <td>2</td>\n",
       "      <td>3.0</td>\n",
       "    </tr>\n",
       "  </tbody>\n",
       "</table>\n",
       "</div>"
      ],
      "text/plain": [
       "          C  A    B\n",
       "0  b'Hello'  1  2.0\n",
       "1  b'World'  2  3.0"
      ]
     },
     "execution_count": 226,
     "metadata": {},
     "output_type": "execute_result"
    }
   ],
   "source": [
    "pd.DataFrame(data, columns=['C', 'A', 'B'])"
   ]
  },
  {
   "cell_type": "markdown",
   "metadata": {
    "nbpresent": {
     "id": "64745e83-b13f-4300-b7c9-5c18cd5c7357"
    }
   },
   "source": [
    "##### From a list of dicts\n",
    "\n",
    "Using a list of dicts, each dict will be used as row, and keys/values as column names and datum."
   ]
  },
  {
   "cell_type": "code",
   "execution_count": 229,
   "metadata": {
    "collapsed": true,
    "nbpresent": {
     "id": "589f9200-7fb5-4587-ab20-7be44d624e4e"
    }
   },
   "outputs": [
    {
     "data": {
      "text/html": [
       "<div>\n",
       "<style scoped>\n",
       "    .dataframe tbody tr th:only-of-type {\n",
       "        vertical-align: middle;\n",
       "    }\n",
       "\n",
       "    .dataframe tbody tr th {\n",
       "        vertical-align: top;\n",
       "    }\n",
       "\n",
       "    .dataframe thead th {\n",
       "        text-align: right;\n",
       "    }\n",
       "</style>\n",
       "<table border=\"1\" class=\"dataframe\">\n",
       "  <thead>\n",
       "    <tr style=\"text-align: right;\">\n",
       "      <th></th>\n",
       "      <th>a</th>\n",
       "      <th>b</th>\n",
       "      <th>c</th>\n",
       "    </tr>\n",
       "  </thead>\n",
       "  <tbody>\n",
       "    <tr>\n",
       "      <th>0</th>\n",
       "      <td>1</td>\n",
       "      <td>2</td>\n",
       "      <td>NaN</td>\n",
       "    </tr>\n",
       "    <tr>\n",
       "      <th>1</th>\n",
       "      <td>5</td>\n",
       "      <td>10</td>\n",
       "      <td>20.0</td>\n",
       "    </tr>\n",
       "  </tbody>\n",
       "</table>\n",
       "</div>"
      ],
      "text/plain": [
       "   a   b     c\n",
       "0  1   2   NaN\n",
       "1  5  10  20.0"
      ]
     },
     "execution_count": 229,
     "metadata": {},
     "output_type": "execute_result"
    }
   ],
   "source": [
    "data2 = [{'a': 1, 'b': 2}, {'a': 5, 'b': 10, 'c': 20}]\n",
    "pd.DataFrame(data2)"
   ]
  },
  {
   "cell_type": "markdown",
   "metadata": {},
   "source": [
    "As in previous cases, with no explicit `index` naming, we can use it to set row names"
   ]
  },
  {
   "cell_type": "code",
   "execution_count": 230,
   "metadata": {
    "collapsed": true,
    "nbpresent": {
     "id": "95d10725-9a88-406e-9dd7-aa6e4c0634ab"
    }
   },
   "outputs": [
    {
     "data": {
      "text/html": [
       "<div>\n",
       "<style scoped>\n",
       "    .dataframe tbody tr th:only-of-type {\n",
       "        vertical-align: middle;\n",
       "    }\n",
       "\n",
       "    .dataframe tbody tr th {\n",
       "        vertical-align: top;\n",
       "    }\n",
       "\n",
       "    .dataframe thead th {\n",
       "        text-align: right;\n",
       "    }\n",
       "</style>\n",
       "<table border=\"1\" class=\"dataframe\">\n",
       "  <thead>\n",
       "    <tr style=\"text-align: right;\">\n",
       "      <th></th>\n",
       "      <th>a</th>\n",
       "      <th>b</th>\n",
       "      <th>c</th>\n",
       "    </tr>\n",
       "  </thead>\n",
       "  <tbody>\n",
       "    <tr>\n",
       "      <th>first</th>\n",
       "      <td>1</td>\n",
       "      <td>2</td>\n",
       "      <td>NaN</td>\n",
       "    </tr>\n",
       "    <tr>\n",
       "      <th>second</th>\n",
       "      <td>5</td>\n",
       "      <td>10</td>\n",
       "      <td>20.0</td>\n",
       "    </tr>\n",
       "  </tbody>\n",
       "</table>\n",
       "</div>"
      ],
      "text/plain": [
       "        a   b     c\n",
       "first   1   2   NaN\n",
       "second  5  10  20.0"
      ]
     },
     "execution_count": 230,
     "metadata": {},
     "output_type": "execute_result"
    }
   ],
   "source": [
    "pd.DataFrame(data2, index=['first', 'second'])"
   ]
  },
  {
   "cell_type": "code",
   "execution_count": 231,
   "metadata": {
    "collapsed": true,
    "nbpresent": {
     "id": "cffd08d4-c45f-4727-b277-fdaef38197d6"
    }
   },
   "outputs": [
    {
     "data": {
      "text/html": [
       "<div>\n",
       "<style scoped>\n",
       "    .dataframe tbody tr th:only-of-type {\n",
       "        vertical-align: middle;\n",
       "    }\n",
       "\n",
       "    .dataframe tbody tr th {\n",
       "        vertical-align: top;\n",
       "    }\n",
       "\n",
       "    .dataframe thead th {\n",
       "        text-align: right;\n",
       "    }\n",
       "</style>\n",
       "<table border=\"1\" class=\"dataframe\">\n",
       "  <thead>\n",
       "    <tr style=\"text-align: right;\">\n",
       "      <th></th>\n",
       "      <th>a</th>\n",
       "      <th>b</th>\n",
       "    </tr>\n",
       "  </thead>\n",
       "  <tbody>\n",
       "    <tr>\n",
       "      <th>0</th>\n",
       "      <td>1</td>\n",
       "      <td>2</td>\n",
       "    </tr>\n",
       "    <tr>\n",
       "      <th>1</th>\n",
       "      <td>5</td>\n",
       "      <td>10</td>\n",
       "    </tr>\n",
       "  </tbody>\n",
       "</table>\n",
       "</div>"
      ],
      "text/plain": [
       "   a   b\n",
       "0  1   2\n",
       "1  5  10"
      ]
     },
     "execution_count": 231,
     "metadata": {},
     "output_type": "execute_result"
    }
   ],
   "source": [
    "pd.DataFrame(data2, columns=['a', 'b'])"
   ]
  },
  {
   "cell_type": "markdown",
   "metadata": {
    "nbpresent": {
     "id": "7bc9087e-ee3e-4d0f-8099-462299599b64"
    }
   },
   "source": [
    "##### From another `DataFrame`\n",
    "\n",
    "\n",
    "We will see how to select data from other `DataFrames`, but it can be useful to slice a `DataFrame` to create a new `DataFrame`"
   ]
  },
  {
   "cell_type": "code",
   "execution_count": 232,
   "metadata": {
    "collapsed": true,
    "nbpresent": {
     "id": "9a2a346c-d87d-4e11-b9a3-108c0c867413"
    }
   },
   "outputs": [
    {
     "data": {
      "text/html": [
       "<div>\n",
       "<style scoped>\n",
       "    .dataframe tbody tr th:only-of-type {\n",
       "        vertical-align: middle;\n",
       "    }\n",
       "\n",
       "    .dataframe tbody tr th {\n",
       "        vertical-align: top;\n",
       "    }\n",
       "\n",
       "    .dataframe thead th {\n",
       "        text-align: right;\n",
       "    }\n",
       "</style>\n",
       "<table border=\"1\" class=\"dataframe\">\n",
       "  <thead>\n",
       "    <tr style=\"text-align: right;\">\n",
       "      <th></th>\n",
       "      <th>A</th>\n",
       "      <th>B</th>\n",
       "      <th>C</th>\n",
       "    </tr>\n",
       "  </thead>\n",
       "  <tbody>\n",
       "    <tr>\n",
       "      <th>0</th>\n",
       "      <td>1</td>\n",
       "      <td>2.0</td>\n",
       "      <td>b'Hello'</td>\n",
       "    </tr>\n",
       "    <tr>\n",
       "      <th>1</th>\n",
       "      <td>2</td>\n",
       "      <td>3.0</td>\n",
       "      <td>b'World'</td>\n",
       "    </tr>\n",
       "  </tbody>\n",
       "</table>\n",
       "</div>"
      ],
      "text/plain": [
       "   A    B         C\n",
       "0  1  2.0  b'Hello'\n",
       "1  2  3.0  b'World'"
      ]
     },
     "execution_count": 232,
     "metadata": {},
     "output_type": "execute_result"
    }
   ],
   "source": [
    "pd.DataFrame(df)"
   ]
  },
  {
   "cell_type": "markdown",
   "metadata": {
    "nbpresent": {
     "id": "ddbc9cb7-f2cd-4c1b-98dd-453d86d8c02e"
    }
   },
   "source": [
    "There are other ways of constructing `DataFrames`, for further reference, visit: [Alternate constructors](https://pandas.pydata.org/pandas-docs/stable/getting_started/dsintro.html#dataframe)"
   ]
  },
  {
   "cell_type": "markdown",
   "metadata": {},
   "source": [
    "### Column selection, addition, deletion\n",
    "*(from [Pandas Docs](http://pandas.pydata.org/pandas-docs/stable/dsintro.html#column-selection-addition-deletion))*\n",
    "\n",
    "You can treat a `DataFrame` semantically like a dict of like-indexed `Series` objects. \n",
    "\n",
    "Getting, setting, and deleting columns works with the same syntax as the analogous dict operations:"
   ]
  },
  {
   "cell_type": "code",
   "execution_count": 235,
   "metadata": {
    "collapsed": true
   },
   "outputs": [
    {
     "data": {
      "text/html": [
       "<div>\n",
       "<style scoped>\n",
       "    .dataframe tbody tr th:only-of-type {\n",
       "        vertical-align: middle;\n",
       "    }\n",
       "\n",
       "    .dataframe tbody tr th {\n",
       "        vertical-align: top;\n",
       "    }\n",
       "\n",
       "    .dataframe thead th {\n",
       "        text-align: right;\n",
       "    }\n",
       "</style>\n",
       "<table border=\"1\" class=\"dataframe\">\n",
       "  <thead>\n",
       "    <tr style=\"text-align: right;\">\n",
       "      <th></th>\n",
       "      <th>one</th>\n",
       "      <th>two</th>\n",
       "      <th>three</th>\n",
       "    </tr>\n",
       "  </thead>\n",
       "  <tbody>\n",
       "    <tr>\n",
       "      <th>0</th>\n",
       "      <td>1.6</td>\n",
       "      <td>1.5</td>\n",
       "      <td>1.2</td>\n",
       "    </tr>\n",
       "    <tr>\n",
       "      <th>1</th>\n",
       "      <td>2.2</td>\n",
       "      <td>2.1</td>\n",
       "      <td>2.8</td>\n",
       "    </tr>\n",
       "    <tr>\n",
       "      <th>2</th>\n",
       "      <td>3.4</td>\n",
       "      <td>3.9</td>\n",
       "      <td>3.8</td>\n",
       "    </tr>\n",
       "    <tr>\n",
       "      <th>3</th>\n",
       "      <td>3.5</td>\n",
       "      <td>NaN</td>\n",
       "      <td>NaN</td>\n",
       "    </tr>\n",
       "  </tbody>\n",
       "</table>\n",
       "</div>"
      ],
      "text/plain": [
       "   one  two  three\n",
       "0  1.6  1.5    1.2\n",
       "1  2.2  2.1    2.8\n",
       "2  3.4  3.9    3.8\n",
       "3  3.5  NaN    NaN"
      ]
     },
     "execution_count": 235,
     "metadata": {},
     "output_type": "execute_result"
    }
   ],
   "source": [
    "import pandas as pd\n",
    "df = pd.DataFrame({\"one\":[1.6,2.2,3.4,3.5],\"two\":[1.5,2.1,3.9,np.nan],\"three\":[1.2,2.80,3.80,np.nan]})\n",
    "df"
   ]
  },
  {
   "cell_type": "code",
   "execution_count": 238,
   "metadata": {
    "collapsed": true
   },
   "outputs": [
    {
     "data": {
      "text/html": [
       "<div>\n",
       "<style scoped>\n",
       "    .dataframe tbody tr th:only-of-type {\n",
       "        vertical-align: middle;\n",
       "    }\n",
       "\n",
       "    .dataframe tbody tr th {\n",
       "        vertical-align: top;\n",
       "    }\n",
       "\n",
       "    .dataframe thead th {\n",
       "        text-align: right;\n",
       "    }\n",
       "</style>\n",
       "<table border=\"1\" class=\"dataframe\">\n",
       "  <thead>\n",
       "    <tr style=\"text-align: right;\">\n",
       "      <th></th>\n",
       "      <th>one</th>\n",
       "      <th>two</th>\n",
       "      <th>three</th>\n",
       "      <th>four</th>\n",
       "      <th>flag</th>\n",
       "    </tr>\n",
       "  </thead>\n",
       "  <tbody>\n",
       "    <tr>\n",
       "      <th>0</th>\n",
       "      <td>1.6</td>\n",
       "      <td>1.5</td>\n",
       "      <td>1.2</td>\n",
       "      <td>2.40</td>\n",
       "      <td>False</td>\n",
       "    </tr>\n",
       "    <tr>\n",
       "      <th>1</th>\n",
       "      <td>2.2</td>\n",
       "      <td>2.1</td>\n",
       "      <td>2.8</td>\n",
       "      <td>4.62</td>\n",
       "      <td>True</td>\n",
       "    </tr>\n",
       "    <tr>\n",
       "      <th>2</th>\n",
       "      <td>3.4</td>\n",
       "      <td>3.9</td>\n",
       "      <td>3.8</td>\n",
       "      <td>13.26</td>\n",
       "      <td>True</td>\n",
       "    </tr>\n",
       "    <tr>\n",
       "      <th>3</th>\n",
       "      <td>3.5</td>\n",
       "      <td>NaN</td>\n",
       "      <td>NaN</td>\n",
       "      <td>NaN</td>\n",
       "      <td>True</td>\n",
       "    </tr>\n",
       "  </tbody>\n",
       "</table>\n",
       "</div>"
      ],
      "text/plain": [
       "   one  two  three   four   flag\n",
       "0  1.6  1.5    1.2   2.40  False\n",
       "1  2.2  2.1    2.8   4.62   True\n",
       "2  3.4  3.9    3.8  13.26   True\n",
       "3  3.5  NaN    NaN    NaN   True"
      ]
     },
     "execution_count": 238,
     "metadata": {},
     "output_type": "execute_result"
    }
   ],
   "source": [
    "df['four'] = df['one'] * df['two']\n",
    "df['flag'] = df['one'] > 2\n",
    "df"
   ]
  },
  {
   "cell_type": "markdown",
   "metadata": {},
   "source": [
    "Note that using this syntax, the result will be a `Series` object"
   ]
  },
  {
   "cell_type": "code",
   "execution_count": 239,
   "metadata": {
    "collapsed": true
   },
   "outputs": [
    {
     "data": {
      "text/plain": [
       "pandas.core.series.Series"
      ]
     },
     "execution_count": 239,
     "metadata": {},
     "output_type": "execute_result"
    }
   ],
   "source": [
    "type(df['one'])"
   ]
  },
  {
   "cell_type": "markdown",
   "metadata": {},
   "source": [
    "Columns can be deleted or popped like with a dict:"
   ]
  },
  {
   "cell_type": "code",
   "execution_count": 240,
   "metadata": {
    "collapsed": true
   },
   "outputs": [
    {
     "data": {
      "text/html": [
       "<div>\n",
       "<style scoped>\n",
       "    .dataframe tbody tr th:only-of-type {\n",
       "        vertical-align: middle;\n",
       "    }\n",
       "\n",
       "    .dataframe tbody tr th {\n",
       "        vertical-align: top;\n",
       "    }\n",
       "\n",
       "    .dataframe thead th {\n",
       "        text-align: right;\n",
       "    }\n",
       "</style>\n",
       "<table border=\"1\" class=\"dataframe\">\n",
       "  <thead>\n",
       "    <tr style=\"text-align: right;\">\n",
       "      <th></th>\n",
       "      <th>one</th>\n",
       "      <th>four</th>\n",
       "      <th>flag</th>\n",
       "    </tr>\n",
       "  </thead>\n",
       "  <tbody>\n",
       "    <tr>\n",
       "      <th>0</th>\n",
       "      <td>1.6</td>\n",
       "      <td>2.40</td>\n",
       "      <td>False</td>\n",
       "    </tr>\n",
       "    <tr>\n",
       "      <th>1</th>\n",
       "      <td>2.2</td>\n",
       "      <td>4.62</td>\n",
       "      <td>True</td>\n",
       "    </tr>\n",
       "    <tr>\n",
       "      <th>2</th>\n",
       "      <td>3.4</td>\n",
       "      <td>13.26</td>\n",
       "      <td>True</td>\n",
       "    </tr>\n",
       "    <tr>\n",
       "      <th>3</th>\n",
       "      <td>3.5</td>\n",
       "      <td>NaN</td>\n",
       "      <td>True</td>\n",
       "    </tr>\n",
       "  </tbody>\n",
       "</table>\n",
       "</div>"
      ],
      "text/plain": [
       "   one   four   flag\n",
       "0  1.6   2.40  False\n",
       "1  2.2   4.62   True\n",
       "2  3.4  13.26   True\n",
       "3  3.5    NaN   True"
      ]
     },
     "execution_count": 240,
     "metadata": {},
     "output_type": "execute_result"
    }
   ],
   "source": [
    "del df['two']\n",
    "three = df.pop('three')\n",
    "df"
   ]
  },
  {
   "cell_type": "markdown",
   "metadata": {},
   "source": [
    "When inserting a scalar value, it will naturally be propagated to fill the column:"
   ]
  },
  {
   "cell_type": "code",
   "execution_count": 241,
   "metadata": {
    "collapsed": true
   },
   "outputs": [
    {
     "data": {
      "text/html": [
       "<div>\n",
       "<style scoped>\n",
       "    .dataframe tbody tr th:only-of-type {\n",
       "        vertical-align: middle;\n",
       "    }\n",
       "\n",
       "    .dataframe tbody tr th {\n",
       "        vertical-align: top;\n",
       "    }\n",
       "\n",
       "    .dataframe thead th {\n",
       "        text-align: right;\n",
       "    }\n",
       "</style>\n",
       "<table border=\"1\" class=\"dataframe\">\n",
       "  <thead>\n",
       "    <tr style=\"text-align: right;\">\n",
       "      <th></th>\n",
       "      <th>one</th>\n",
       "      <th>four</th>\n",
       "      <th>flag</th>\n",
       "      <th>foo</th>\n",
       "    </tr>\n",
       "  </thead>\n",
       "  <tbody>\n",
       "    <tr>\n",
       "      <th>0</th>\n",
       "      <td>1.6</td>\n",
       "      <td>2.40</td>\n",
       "      <td>False</td>\n",
       "      <td>bar</td>\n",
       "    </tr>\n",
       "    <tr>\n",
       "      <th>1</th>\n",
       "      <td>2.2</td>\n",
       "      <td>4.62</td>\n",
       "      <td>True</td>\n",
       "      <td>bar</td>\n",
       "    </tr>\n",
       "    <tr>\n",
       "      <th>2</th>\n",
       "      <td>3.4</td>\n",
       "      <td>13.26</td>\n",
       "      <td>True</td>\n",
       "      <td>bar</td>\n",
       "    </tr>\n",
       "    <tr>\n",
       "      <th>3</th>\n",
       "      <td>3.5</td>\n",
       "      <td>NaN</td>\n",
       "      <td>True</td>\n",
       "      <td>bar</td>\n",
       "    </tr>\n",
       "  </tbody>\n",
       "</table>\n",
       "</div>"
      ],
      "text/plain": [
       "   one   four   flag  foo\n",
       "0  1.6   2.40  False  bar\n",
       "1  2.2   4.62   True  bar\n",
       "2  3.4  13.26   True  bar\n",
       "3  3.5    NaN   True  bar"
      ]
     },
     "execution_count": 241,
     "metadata": {},
     "output_type": "execute_result"
    }
   ],
   "source": [
    "df['foo'] = 'bar'\n",
    "df"
   ]
  },
  {
   "cell_type": "markdown",
   "metadata": {},
   "source": [
    "When inserting a `Series` that does not have the same `index` as the `DataFrame`, it will be conformed to the `DataFrame`’s `index`:"
   ]
  },
  {
   "cell_type": "code",
   "execution_count": 60,
   "metadata": {
    "collapsed": true
   },
   "outputs": [
    {
     "data": {
      "text/html": [
       "<div>\n",
       "<style scoped>\n",
       "    .dataframe tbody tr th:only-of-type {\n",
       "        vertical-align: middle;\n",
       "    }\n",
       "\n",
       "    .dataframe tbody tr th {\n",
       "        vertical-align: top;\n",
       "    }\n",
       "\n",
       "    .dataframe thead th {\n",
       "        text-align: right;\n",
       "    }\n",
       "</style>\n",
       "<table border=\"1\" class=\"dataframe\">\n",
       "  <thead>\n",
       "    <tr style=\"text-align: right;\">\n",
       "      <th></th>\n",
       "      <th>one</th>\n",
       "      <th>three</th>\n",
       "      <th>two</th>\n",
       "      <th>four</th>\n",
       "      <th>flag</th>\n",
       "      <th>foo</th>\n",
       "      <th>one_trunc</th>\n",
       "    </tr>\n",
       "  </thead>\n",
       "  <tbody>\n",
       "    <tr>\n",
       "      <th>0</th>\n",
       "      <td>1.6</td>\n",
       "      <td>1.2</td>\n",
       "      <td>1.5</td>\n",
       "      <td>2.40</td>\n",
       "      <td>False</td>\n",
       "      <td>bar</td>\n",
       "      <td>1.6</td>\n",
       "    </tr>\n",
       "    <tr>\n",
       "      <th>1</th>\n",
       "      <td>2.2</td>\n",
       "      <td>2.8</td>\n",
       "      <td>2.1</td>\n",
       "      <td>4.62</td>\n",
       "      <td>True</td>\n",
       "      <td>bar</td>\n",
       "      <td>2.2</td>\n",
       "    </tr>\n",
       "    <tr>\n",
       "      <th>2</th>\n",
       "      <td>3.4</td>\n",
       "      <td>3.8</td>\n",
       "      <td>3.9</td>\n",
       "      <td>13.26</td>\n",
       "      <td>True</td>\n",
       "      <td>bar</td>\n",
       "      <td>NaN</td>\n",
       "    </tr>\n",
       "    <tr>\n",
       "      <th>3</th>\n",
       "      <td>3.5</td>\n",
       "      <td>NaN</td>\n",
       "      <td>NaN</td>\n",
       "      <td>NaN</td>\n",
       "      <td>True</td>\n",
       "      <td>bar</td>\n",
       "      <td>NaN</td>\n",
       "    </tr>\n",
       "  </tbody>\n",
       "</table>\n",
       "</div>"
      ],
      "text/plain": [
       "   one  three  two   four   flag  foo  one_trunc\n",
       "0  1.6    1.2  1.5   2.40  False  bar        1.6\n",
       "1  2.2    2.8  2.1   4.62   True  bar        2.2\n",
       "2  3.4    3.8  3.9  13.26   True  bar        NaN\n",
       "3  3.5    NaN  NaN    NaN   True  bar        NaN"
      ]
     },
     "execution_count": 60,
     "metadata": {},
     "output_type": "execute_result"
    }
   ],
   "source": [
    "df['one_trunc'] = df['one'][:2]\n",
    "df"
   ]
  },
  {
   "cell_type": "code",
   "execution_count": 242,
   "metadata": {
    "collapsed": true
   },
   "outputs": [
    {
     "data": {
      "text/plain": [
       "0    1.6\n",
       "1    2.2\n",
       "Name: one, dtype: float64"
      ]
     },
     "execution_count": 242,
     "metadata": {},
     "output_type": "execute_result"
    }
   ],
   "source": [
    "df['one'][:2]"
   ]
  },
  {
   "cell_type": "markdown",
   "metadata": {},
   "source": [
    "You can insert raw `ndarrays` but their length must match the length of the `DataFrame`’s index.\n",
    "\n",
    "By default, columns get inserted at the end. \n",
    "\n",
    "The `insert` method is available to insert at a particular location in the columns:"
   ]
  },
  {
   "cell_type": "code",
   "execution_count": 243,
   "metadata": {
    "collapsed": true
   },
   "outputs": [
    {
     "data": {
      "text/html": [
       "<div>\n",
       "<style scoped>\n",
       "    .dataframe tbody tr th:only-of-type {\n",
       "        vertical-align: middle;\n",
       "    }\n",
       "\n",
       "    .dataframe tbody tr th {\n",
       "        vertical-align: top;\n",
       "    }\n",
       "\n",
       "    .dataframe thead th {\n",
       "        text-align: right;\n",
       "    }\n",
       "</style>\n",
       "<table border=\"1\" class=\"dataframe\">\n",
       "  <thead>\n",
       "    <tr style=\"text-align: right;\">\n",
       "      <th></th>\n",
       "      <th>one</th>\n",
       "      <th>rand</th>\n",
       "      <th>four</th>\n",
       "      <th>flag</th>\n",
       "      <th>foo</th>\n",
       "    </tr>\n",
       "  </thead>\n",
       "  <tbody>\n",
       "    <tr>\n",
       "      <th>0</th>\n",
       "      <td>1.6</td>\n",
       "      <td>5</td>\n",
       "      <td>2.40</td>\n",
       "      <td>False</td>\n",
       "      <td>bar</td>\n",
       "    </tr>\n",
       "    <tr>\n",
       "      <th>1</th>\n",
       "      <td>2.2</td>\n",
       "      <td>5</td>\n",
       "      <td>4.62</td>\n",
       "      <td>True</td>\n",
       "      <td>bar</td>\n",
       "    </tr>\n",
       "    <tr>\n",
       "      <th>2</th>\n",
       "      <td>3.4</td>\n",
       "      <td>4</td>\n",
       "      <td>13.26</td>\n",
       "      <td>True</td>\n",
       "      <td>bar</td>\n",
       "    </tr>\n",
       "    <tr>\n",
       "      <th>3</th>\n",
       "      <td>3.5</td>\n",
       "      <td>4</td>\n",
       "      <td>NaN</td>\n",
       "      <td>True</td>\n",
       "      <td>bar</td>\n",
       "    </tr>\n",
       "  </tbody>\n",
       "</table>\n",
       "</div>"
      ],
      "text/plain": [
       "   one  rand   four   flag  foo\n",
       "0  1.6     5   2.40  False  bar\n",
       "1  2.2     5   4.62   True  bar\n",
       "2  3.4     4  13.26   True  bar\n",
       "3  3.5     4    NaN   True  bar"
      ]
     },
     "execution_count": 243,
     "metadata": {},
     "output_type": "execute_result"
    }
   ],
   "source": [
    "df.insert(1, 'rand', np.random.randint(1,10,df[\"one\"].size))\n",
    "df"
   ]
  },
  {
   "cell_type": "markdown",
   "metadata": {},
   "source": [
    "## `DataFrame` slicing\n",
    "\n",
    "Cuting `DataFrames` into smaller `DataFrames` or `Series` is called slicing. \n",
    "\n",
    "It is a basic operation in the `pandas` library. We can do it in several ways, let's have an overview to the most used ones.\n",
    "\n",
    "##### Square bracket syntax\n",
    "We can pass a column name, rows slice or a Boolean list\n",
    "* `df[col]`: Select column *(returns Series)*\t\n",
    "* `df[5:10]`: Slice rows *(returns DataFrame)* \t                       \t          \n",
    "* `df[bool_vec]`: Select rows by boolean vector *(returns DataFrame)*   \t   \t      "
   ]
  },
  {
   "cell_type": "code",
   "execution_count": 244,
   "metadata": {
    "collapsed": true
   },
   "outputs": [
    {
     "data": {
      "text/html": [
       "<div>\n",
       "<style scoped>\n",
       "    .dataframe tbody tr th:only-of-type {\n",
       "        vertical-align: middle;\n",
       "    }\n",
       "\n",
       "    .dataframe tbody tr th {\n",
       "        vertical-align: top;\n",
       "    }\n",
       "\n",
       "    .dataframe thead th {\n",
       "        text-align: right;\n",
       "    }\n",
       "</style>\n",
       "<table border=\"1\" class=\"dataframe\">\n",
       "  <thead>\n",
       "    <tr style=\"text-align: right;\">\n",
       "      <th></th>\n",
       "      <th>one</th>\n",
       "      <th>rand</th>\n",
       "      <th>four</th>\n",
       "      <th>flag</th>\n",
       "      <th>foo</th>\n",
       "    </tr>\n",
       "  </thead>\n",
       "  <tbody>\n",
       "    <tr>\n",
       "      <th>0</th>\n",
       "      <td>1.6</td>\n",
       "      <td>5</td>\n",
       "      <td>2.40</td>\n",
       "      <td>False</td>\n",
       "      <td>bar</td>\n",
       "    </tr>\n",
       "    <tr>\n",
       "      <th>1</th>\n",
       "      <td>2.2</td>\n",
       "      <td>5</td>\n",
       "      <td>4.62</td>\n",
       "      <td>True</td>\n",
       "      <td>bar</td>\n",
       "    </tr>\n",
       "    <tr>\n",
       "      <th>2</th>\n",
       "      <td>3.4</td>\n",
       "      <td>4</td>\n",
       "      <td>13.26</td>\n",
       "      <td>True</td>\n",
       "      <td>bar</td>\n",
       "    </tr>\n",
       "    <tr>\n",
       "      <th>3</th>\n",
       "      <td>3.5</td>\n",
       "      <td>4</td>\n",
       "      <td>NaN</td>\n",
       "      <td>True</td>\n",
       "      <td>bar</td>\n",
       "    </tr>\n",
       "  </tbody>\n",
       "</table>\n",
       "</div>"
      ],
      "text/plain": [
       "   one  rand   four   flag  foo\n",
       "0  1.6     5   2.40  False  bar\n",
       "1  2.2     5   4.62   True  bar\n",
       "2  3.4     4  13.26   True  bar\n",
       "3  3.5     4    NaN   True  bar"
      ]
     },
     "execution_count": 244,
     "metadata": {},
     "output_type": "execute_result"
    }
   ],
   "source": [
    "df"
   ]
  },
  {
   "cell_type": "code",
   "execution_count": 246,
   "metadata": {
    "collapsed": true
   },
   "outputs": [
    {
     "data": {
      "text/plain": [
       "0    1.6\n",
       "1    2.2\n",
       "2    3.4\n",
       "3    3.5\n",
       "Name: one, dtype: float64"
      ]
     },
     "execution_count": 246,
     "metadata": {},
     "output_type": "execute_result"
    }
   ],
   "source": [
    "# Select column\n",
    "df[\"one\"]"
   ]
  },
  {
   "cell_type": "code",
   "execution_count": 247,
   "metadata": {
    "collapsed": true
   },
   "outputs": [
    {
     "data": {
      "text/html": [
       "<div>\n",
       "<style scoped>\n",
       "    .dataframe tbody tr th:only-of-type {\n",
       "        vertical-align: middle;\n",
       "    }\n",
       "\n",
       "    .dataframe tbody tr th {\n",
       "        vertical-align: top;\n",
       "    }\n",
       "\n",
       "    .dataframe thead th {\n",
       "        text-align: right;\n",
       "    }\n",
       "</style>\n",
       "<table border=\"1\" class=\"dataframe\">\n",
       "  <thead>\n",
       "    <tr style=\"text-align: right;\">\n",
       "      <th></th>\n",
       "      <th>one</th>\n",
       "      <th>rand</th>\n",
       "      <th>four</th>\n",
       "      <th>flag</th>\n",
       "      <th>foo</th>\n",
       "    </tr>\n",
       "  </thead>\n",
       "  <tbody>\n",
       "    <tr>\n",
       "      <th>2</th>\n",
       "      <td>3.4</td>\n",
       "      <td>4</td>\n",
       "      <td>13.26</td>\n",
       "      <td>True</td>\n",
       "      <td>bar</td>\n",
       "    </tr>\n",
       "    <tr>\n",
       "      <th>3</th>\n",
       "      <td>3.5</td>\n",
       "      <td>4</td>\n",
       "      <td>NaN</td>\n",
       "      <td>True</td>\n",
       "      <td>bar</td>\n",
       "    </tr>\n",
       "  </tbody>\n",
       "</table>\n",
       "</div>"
      ],
      "text/plain": [
       "   one  rand   four  flag  foo\n",
       "2  3.4     4  13.26  True  bar\n",
       "3  3.5     4    NaN  True  bar"
      ]
     },
     "execution_count": 247,
     "metadata": {},
     "output_type": "execute_result"
    }
   ],
   "source": [
    "# Select row by integer location\n",
    "df[2:4]"
   ]
  },
  {
   "cell_type": "code",
   "execution_count": 248,
   "metadata": {
    "collapsed": true
   },
   "outputs": [
    {
     "data": {
      "text/html": [
       "<div>\n",
       "<style scoped>\n",
       "    .dataframe tbody tr th:only-of-type {\n",
       "        vertical-align: middle;\n",
       "    }\n",
       "\n",
       "    .dataframe tbody tr th {\n",
       "        vertical-align: top;\n",
       "    }\n",
       "\n",
       "    .dataframe thead th {\n",
       "        text-align: right;\n",
       "    }\n",
       "</style>\n",
       "<table border=\"1\" class=\"dataframe\">\n",
       "  <thead>\n",
       "    <tr style=\"text-align: right;\">\n",
       "      <th></th>\n",
       "      <th>one</th>\n",
       "      <th>rand</th>\n",
       "      <th>four</th>\n",
       "      <th>flag</th>\n",
       "      <th>foo</th>\n",
       "    </tr>\n",
       "  </thead>\n",
       "  <tbody>\n",
       "    <tr>\n",
       "      <th>0</th>\n",
       "      <td>1.6</td>\n",
       "      <td>5</td>\n",
       "      <td>2.40</td>\n",
       "      <td>False</td>\n",
       "      <td>bar</td>\n",
       "    </tr>\n",
       "    <tr>\n",
       "      <th>1</th>\n",
       "      <td>2.2</td>\n",
       "      <td>5</td>\n",
       "      <td>4.62</td>\n",
       "      <td>True</td>\n",
       "      <td>bar</td>\n",
       "    </tr>\n",
       "    <tr>\n",
       "      <th>2</th>\n",
       "      <td>3.4</td>\n",
       "      <td>4</td>\n",
       "      <td>13.26</td>\n",
       "      <td>True</td>\n",
       "      <td>bar</td>\n",
       "    </tr>\n",
       "  </tbody>\n",
       "</table>\n",
       "</div>"
      ],
      "text/plain": [
       "   one  rand   four   flag  foo\n",
       "0  1.6     5   2.40  False  bar\n",
       "1  2.2     5   4.62   True  bar\n",
       "2  3.4     4  13.26   True  bar"
      ]
     },
     "execution_count": 248,
     "metadata": {},
     "output_type": "execute_result"
    }
   ],
   "source": [
    "# Select rows by boolean vector\n",
    "df[[True,True,True,False]]"
   ]
  },
  {
   "cell_type": "markdown",
   "metadata": {},
   "source": [
    "##### DataFrame.loc[`rows`, `columns`] attribute:\n",
    "* It expects index values as `rows` and `columns`\n",
    "* We can use the syntactic sugar `:` to select all `rows` or `columns`"
   ]
  },
  {
   "cell_type": "code",
   "execution_count": null,
   "metadata": {
    "collapsed": true
   },
   "outputs": [],
   "source": [
    "# Slice the whole DF\n",
    "print(df.loc[:,:])"
   ]
  },
  {
   "cell_type": "code",
   "execution_count": 249,
   "metadata": {
    "collapsed": true
   },
   "outputs": [
    {
     "name": "stdout",
     "output_type": "stream",
     "text": [
      "one      2.2\n",
      "rand       5\n",
      "four    4.62\n",
      "flag    True\n",
      "foo      bar\n",
      "Name: 1, dtype: object\n"
     ]
    }
   ],
   "source": [
    "# Slice one row\n",
    "print(df.loc[1,:])\n"
   ]
  },
  {
   "cell_type": "code",
   "execution_count": 250,
   "metadata": {
    "collapsed": true
   },
   "outputs": [
    {
     "data": {
      "text/plain": [
       "0    1.6\n",
       "1    2.2\n",
       "2    3.4\n",
       "3    3.5\n",
       "Name: one, dtype: float64"
      ]
     },
     "execution_count": 250,
     "metadata": {},
     "output_type": "execute_result"
    }
   ],
   "source": [
    "# Slice one column\n",
    "df.loc[:,\"one\"]"
   ]
  },
  {
   "cell_type": "code",
   "execution_count": 252,
   "metadata": {
    "collapsed": true
   },
   "outputs": [
    {
     "data": {
      "text/html": [
       "<div>\n",
       "<style scoped>\n",
       "    .dataframe tbody tr th:only-of-type {\n",
       "        vertical-align: middle;\n",
       "    }\n",
       "\n",
       "    .dataframe tbody tr th {\n",
       "        vertical-align: top;\n",
       "    }\n",
       "\n",
       "    .dataframe thead th {\n",
       "        text-align: right;\n",
       "    }\n",
       "</style>\n",
       "<table border=\"1\" class=\"dataframe\">\n",
       "  <thead>\n",
       "    <tr style=\"text-align: right;\">\n",
       "      <th></th>\n",
       "      <th>one</th>\n",
       "      <th>rand</th>\n",
       "    </tr>\n",
       "  </thead>\n",
       "  <tbody>\n",
       "    <tr>\n",
       "      <th>0</th>\n",
       "      <td>1.6</td>\n",
       "      <td>5</td>\n",
       "    </tr>\n",
       "    <tr>\n",
       "      <th>1</th>\n",
       "      <td>2.2</td>\n",
       "      <td>5</td>\n",
       "    </tr>\n",
       "    <tr>\n",
       "      <th>2</th>\n",
       "      <td>3.4</td>\n",
       "      <td>4</td>\n",
       "    </tr>\n",
       "    <tr>\n",
       "      <th>3</th>\n",
       "      <td>3.5</td>\n",
       "      <td>4</td>\n",
       "    </tr>\n",
       "  </tbody>\n",
       "</table>\n",
       "</div>"
      ],
      "text/plain": [
       "   one  rand\n",
       "0  1.6     5\n",
       "1  2.2     5\n",
       "2  3.4     4\n",
       "3  3.5     4"
      ]
     },
     "execution_count": 252,
     "metadata": {},
     "output_type": "execute_result"
    }
   ],
   "source": [
    "# Slice two columns\n",
    "df.loc[:,[\"one\",\"rand\"]]"
   ]
  },
  {
   "cell_type": "code",
   "execution_count": 251,
   "metadata": {
    "collapsed": true
   },
   "outputs": [
    {
     "data": {
      "text/html": [
       "<div>\n",
       "<style scoped>\n",
       "    .dataframe tbody tr th:only-of-type {\n",
       "        vertical-align: middle;\n",
       "    }\n",
       "\n",
       "    .dataframe tbody tr th {\n",
       "        vertical-align: top;\n",
       "    }\n",
       "\n",
       "    .dataframe thead th {\n",
       "        text-align: right;\n",
       "    }\n",
       "</style>\n",
       "<table border=\"1\" class=\"dataframe\">\n",
       "  <thead>\n",
       "    <tr style=\"text-align: right;\">\n",
       "      <th></th>\n",
       "      <th>one</th>\n",
       "      <th>rand</th>\n",
       "    </tr>\n",
       "  </thead>\n",
       "  <tbody>\n",
       "    <tr>\n",
       "      <th>1</th>\n",
       "      <td>2.2</td>\n",
       "      <td>5</td>\n",
       "    </tr>\n",
       "    <tr>\n",
       "      <th>2</th>\n",
       "      <td>3.4</td>\n",
       "      <td>4</td>\n",
       "    </tr>\n",
       "  </tbody>\n",
       "</table>\n",
       "</div>"
      ],
      "text/plain": [
       "   one  rand\n",
       "1  2.2     5\n",
       "2  3.4     4"
      ]
     },
     "execution_count": 251,
     "metadata": {},
     "output_type": "execute_result"
    }
   ],
   "source": [
    "# Slice two columns and two rows\n",
    "df.loc[[1,2],[\"one\",\"rand\"]]"
   ]
  },
  {
   "cell_type": "markdown",
   "metadata": {},
   "source": [
    "##### DataFrame.iloc[`rows`, `columns`] attribute:\n",
    "* It expects `rows` and `columns` positions\n",
    "* We can use the syntactic sugar `:` to select all `rows` or `columns`"
   ]
  },
  {
   "cell_type": "code",
   "execution_count": 253,
   "metadata": {
    "collapsed": true
   },
   "outputs": [
    {
     "name": "stdout",
     "output_type": "stream",
     "text": [
      "   one  rand   four   flag  foo\n",
      "0  1.6     5   2.40  False  bar\n",
      "1  2.2     5   4.62   True  bar\n",
      "2  3.4     4  13.26   True  bar\n",
      "3  3.5     4    NaN   True  bar\n"
     ]
    }
   ],
   "source": [
    "# Slice the whole DF\n",
    "print(df.iloc[:,:])"
   ]
  },
  {
   "cell_type": "code",
   "execution_count": 254,
   "metadata": {
    "collapsed": true
   },
   "outputs": [
    {
     "data": {
      "text/plain": [
       "one      2.2\n",
       "rand       5\n",
       "four    4.62\n",
       "flag    True\n",
       "foo      bar\n",
       "Name: 1, dtype: object"
      ]
     },
     "execution_count": 254,
     "metadata": {},
     "output_type": "execute_result"
    }
   ],
   "source": [
    "# Slice one row\n",
    "df.iloc[1,:]"
   ]
  },
  {
   "cell_type": "code",
   "execution_count": 255,
   "metadata": {
    "collapsed": true
   },
   "outputs": [
    {
     "data": {
      "text/plain": [
       "0    5\n",
       "1    5\n",
       "2    4\n",
       "3    4\n",
       "Name: rand, dtype: int64"
      ]
     },
     "execution_count": 255,
     "metadata": {},
     "output_type": "execute_result"
    }
   ],
   "source": [
    "# Slice one column\n",
    "df.iloc[:,1]"
   ]
  },
  {
   "cell_type": "code",
   "execution_count": 256,
   "metadata": {
    "collapsed": true
   },
   "outputs": [
    {
     "data": {
      "text/html": [
       "<div>\n",
       "<style scoped>\n",
       "    .dataframe tbody tr th:only-of-type {\n",
       "        vertical-align: middle;\n",
       "    }\n",
       "\n",
       "    .dataframe tbody tr th {\n",
       "        vertical-align: top;\n",
       "    }\n",
       "\n",
       "    .dataframe thead th {\n",
       "        text-align: right;\n",
       "    }\n",
       "</style>\n",
       "<table border=\"1\" class=\"dataframe\">\n",
       "  <thead>\n",
       "    <tr style=\"text-align: right;\">\n",
       "      <th></th>\n",
       "      <th>rand</th>\n",
       "      <th>four</th>\n",
       "    </tr>\n",
       "  </thead>\n",
       "  <tbody>\n",
       "    <tr>\n",
       "      <th>0</th>\n",
       "      <td>5</td>\n",
       "      <td>2.40</td>\n",
       "    </tr>\n",
       "    <tr>\n",
       "      <th>1</th>\n",
       "      <td>5</td>\n",
       "      <td>4.62</td>\n",
       "    </tr>\n",
       "    <tr>\n",
       "      <th>2</th>\n",
       "      <td>4</td>\n",
       "      <td>13.26</td>\n",
       "    </tr>\n",
       "    <tr>\n",
       "      <th>3</th>\n",
       "      <td>4</td>\n",
       "      <td>NaN</td>\n",
       "    </tr>\n",
       "  </tbody>\n",
       "</table>\n",
       "</div>"
      ],
      "text/plain": [
       "   rand   four\n",
       "0     5   2.40\n",
       "1     5   4.62\n",
       "2     4  13.26\n",
       "3     4    NaN"
      ]
     },
     "execution_count": 256,
     "metadata": {},
     "output_type": "execute_result"
    }
   ],
   "source": [
    "# Slice two columns\n",
    "df.iloc[:,[1,2]]"
   ]
  },
  {
   "cell_type": "code",
   "execution_count": 257,
   "metadata": {
    "collapsed": true
   },
   "outputs": [
    {
     "data": {
      "text/html": [
       "<div>\n",
       "<style scoped>\n",
       "    .dataframe tbody tr th:only-of-type {\n",
       "        vertical-align: middle;\n",
       "    }\n",
       "\n",
       "    .dataframe tbody tr th {\n",
       "        vertical-align: top;\n",
       "    }\n",
       "\n",
       "    .dataframe thead th {\n",
       "        text-align: right;\n",
       "    }\n",
       "</style>\n",
       "<table border=\"1\" class=\"dataframe\">\n",
       "  <thead>\n",
       "    <tr style=\"text-align: right;\">\n",
       "      <th></th>\n",
       "      <th>rand</th>\n",
       "      <th>four</th>\n",
       "    </tr>\n",
       "  </thead>\n",
       "  <tbody>\n",
       "    <tr>\n",
       "      <th>1</th>\n",
       "      <td>5</td>\n",
       "      <td>4.62</td>\n",
       "    </tr>\n",
       "    <tr>\n",
       "      <th>2</th>\n",
       "      <td>4</td>\n",
       "      <td>13.26</td>\n",
       "    </tr>\n",
       "  </tbody>\n",
       "</table>\n",
       "</div>"
      ],
      "text/plain": [
       "   rand   four\n",
       "1     5   4.62\n",
       "2     4  13.26"
      ]
     },
     "execution_count": 257,
     "metadata": {},
     "output_type": "execute_result"
    }
   ],
   "source": [
    "# Slice two columns and two rows\n",
    "df.iloc[[1,2],[1,2]]"
   ]
  },
  {
   "cell_type": "markdown",
   "metadata": {},
   "source": [
    "### Loading DataFrames\n",
    "\n",
    "We will focus on three formats to read and store our data in disk:\n",
    "* **CSV:** comma separated value. Two standard sparators:\n",
    "    * comma: american\n",
    "    * semicolon: eurpean \n",
    "* **XLS:** excel file (xls or xlsx)\n",
    "* **Pickle:** python serialized file format\n",
    "\n",
    "Pandas provide functions to load csv, xls and pickle files:\n",
    "* Reading:\n",
    "  * `pandas.read_csv(...)`: [API Reference](https://pandas.pydata.org/pandas-docs/stable/generated/pandas.read_csv.html)\n",
    "  * `pandas.read_excel(...)`: [API Reference](https://pandas.pydata.org/pandas-docs/stable/generated/pandas.read_excel.html)\n",
    "  * `pandas.read_pickle(...)` [API Reference](https://pandas.pydata.org/pandas-docs/stable/generated/pandas.read_pickle.html)\n",
    "* Writting:\n",
    "  * `object.to_csv(...)`: [API Reference](https://pandas.pydata.org/pandas-docs/stable/generated/pandas.DataFrame.to_csv.html)\n",
    "  * `object.to_excel(...)`: [API Reference](https://pandas.pydata.org/pandas-docs/stable/generated/pandas.DataFrame.to_excel.html)\n",
    "  * `object.to_pickle(...)`: [API Reference](https://pandas.pydata.org/pandas-docs/stable/generated/pandas.DataFrame.to_pickle.html)\n",
    "  "
   ]
  },
  {
   "cell_type": "markdown",
   "metadata": {},
   "source": [
    "##### From CSV"
   ]
  },
  {
   "cell_type": "code",
   "execution_count": null,
   "metadata": {
    "collapsed": true
   },
   "outputs": [],
   "source": [
    "iqsize = pd.read_csv(\"https://raw.githubusercontent.com/f-guitart/data_mining/master/data/iqsize.csv\")\n",
    "iqsize.head()"
   ]
  },
  {
   "cell_type": "code",
   "execution_count": null,
   "metadata": {
    "collapsed": true
   },
   "outputs": [],
   "source": [
    "type(iqsize)"
   ]
  },
  {
   "cell_type": "code",
   "execution_count": null,
   "metadata": {
    "collapsed": true
   },
   "outputs": [],
   "source": [
    "iqsize[\"sex\"][:10]"
   ]
  },
  {
   "cell_type": "code",
   "execution_count": null,
   "metadata": {
    "collapsed": true
   },
   "outputs": [],
   "source": [
    "iqsize[\"sex\"].to_csv(\"myseries.csv\")\n",
    "%ls myseries.csv"
   ]
  },
  {
   "cell_type": "markdown",
   "metadata": {},
   "source": [
    "###### From XLSX\n",
    "\n",
    "With excel files we can start the other way round: writting first."
   ]
  },
  {
   "cell_type": "code",
   "execution_count": null,
   "metadata": {
    "collapsed": true
   },
   "outputs": [],
   "source": [
    "iqsize.to_excel(\"iqsize.xlsx\")\n",
    "%ls iqsize.xlsx"
   ]
  },
  {
   "cell_type": "code",
   "execution_count": null,
   "metadata": {
    "collapsed": true
   },
   "outputs": [],
   "source": [
    "xls_iqsize = pd.read_excel(\"iqsize.xlsx\")\n",
    "xls_iqsize.head()"
   ]
  },
  {
   "cell_type": "markdown",
   "metadata": {},
   "source": [
    "##### From Pickle\n",
    "Why do we need serialized wirtting features?\n",
    "\n",
    "Becasue sometimes we do want to store wierd things:\n",
    "* DataFrames with dictionaries, lists or objects in columns\n",
    "* Dictionaries of dataframes"
   ]
  },
  {
   "cell_type": "code",
   "execution_count": null,
   "metadata": {
    "collapsed": true
   },
   "outputs": [],
   "source": [
    "my_df = pd.DataFrame({\"a\" : [{\"apples\": [1,2,3,4,6], \"pears\":2}, None, None, {\"bannanas\":4}],\n",
    "                     \"b\" : [0,1,2,3]})\n",
    "my_df.to_csv(\"mydf.csv\")"
   ]
  },
  {
   "cell_type": "code",
   "execution_count": null,
   "metadata": {
    "collapsed": true
   },
   "outputs": [],
   "source": [
    "my_df2 = pd.read_csv(\"mydf.csv\")\n",
    "type(my_df2.iloc[0,1])"
   ]
  },
  {
   "cell_type": "code",
   "execution_count": null,
   "metadata": {
    "collapsed": true
   },
   "outputs": [],
   "source": [
    "my_df.to_pickle(\"mydf.pickle\")\n",
    "my_df3 = pd.read_pickle(\"mydf.pickle\")\n",
    "my_df3.head()"
   ]
  },
  {
   "cell_type": "code",
   "execution_count": null,
   "metadata": {
    "collapsed": true
   },
   "outputs": [],
   "source": [
    "type(my_df3.iloc[0,0])"
   ]
  },
  {
   "cell_type": "code",
   "execution_count": null,
   "metadata": {
    "collapsed": true
   },
   "outputs": [],
   "source": [
    "train = pd.Series([1,2,3,4,5,6,7,8])\n",
    "test = pd.Series([9,10,11])\n",
    "\n",
    "pd.to_pickle({\"train\": train,\n",
    "             \"test\" : test},\"my_pickle.pickle\")\n",
    "%ls my_pickle.pickle"
   ]
  },
  {
   "cell_type": "code",
   "execution_count": null,
   "metadata": {
    "collapsed": true
   },
   "outputs": [],
   "source": [
    "my_pickle = pd.read_pickle(\"my_pickle.pickle\")\n",
    "my_pickle.keys()"
   ]
  },
  {
   "cell_type": "code",
   "execution_count": null,
   "metadata": {
    "collapsed": true
   },
   "outputs": [],
   "source": [
    "type(my_pickle['train'])"
   ]
  },
  {
   "cell_type": "markdown",
   "metadata": {},
   "source": [
    "\n"
   ]
  },
  {
   "cell_type": "markdown",
   "metadata": {
    "nbpresent": {
     "id": "df1a4b94-e692-4ef6-9046-b2f35e334be2"
    }
   },
   "source": [
    "### Examples with DataFrames\n",
    "\n",
    "We will go through these examples using a real dataset. \n",
    "\n",
    "Remember from Series examples that we loaded a csv. \n",
    "\n",
    "We did it using <code> csv </code> library, however, Pandas provide the necessary tools to read a csv file and output a DataFrame. \n",
    "\n",
    "Let's see an example using [OpenFlight](http://openflights.org/data.html) data. \n",
    "\n",
    "The data is structured as follows:\n",
    "\n",
    "* **Airport ID**\tUnique OpenFlights identifier for this airport.\n",
    "* **Name**\tName of airport. May or may not contain the City name.\n",
    "* **City**\tMain city served by airport. May be spelled differently from Name.\n",
    "* **Country**\tCountry or territory where airport is located.\n",
    "* **IATA/FAA**\t3-letter FAA code, for airports located in Country \"United States of America\". 3-letter IATA code, for all other airports. Blank if not assigned.\n",
    "* **ICAO**\t4-letter ICAO code. Blank if not assigned.\n",
    "* **Latitude**\tDecimal degrees, usually to six significant digits. Negative is South, positive is North.\n",
    "* **Longitude**\tDecimal degrees, usually to six significant digits. Negative is West, positive is East.\n",
    "* **Altitude**\tIn feet.\n",
    "* **Timezone**\tHours offset from UTC. Fractional hours are expressed as decimals, eg. India is 5.5.\n",
    "* **DST**\tDaylight savings time. One of E (Europe), A (US/Canada), S (South America), O (Australia), Z (New Zealand), N (None) or U (Unknown). See also: Help: Time\n",
    "* **Tz database time zone**\tTimezone in \"tz\" (Olson) format, eg. \"America/Los_Angeles\"."
   ]
  },
  {
   "cell_type": "code",
   "execution_count": 297,
   "metadata": {
    "collapsed": true,
    "nbpresent": {
     "id": "8e01b645-1f98-4484-a1ad-58a75c26e3fe"
    }
   },
   "outputs": [
    {
     "data": {
      "text/html": [
       "<div>\n",
       "<style scoped>\n",
       "    .dataframe tbody tr th:only-of-type {\n",
       "        vertical-align: middle;\n",
       "    }\n",
       "\n",
       "    .dataframe tbody tr th {\n",
       "        vertical-align: top;\n",
       "    }\n",
       "\n",
       "    .dataframe thead th {\n",
       "        text-align: right;\n",
       "    }\n",
       "</style>\n",
       "<table border=\"1\" class=\"dataframe\">\n",
       "  <thead>\n",
       "    <tr style=\"text-align: right;\">\n",
       "      <th></th>\n",
       "      <th>Name</th>\n",
       "      <th>City</th>\n",
       "      <th>Country</th>\n",
       "      <th>IATA/FAA</th>\n",
       "      <th>ICAO</th>\n",
       "      <th>Latitude</th>\n",
       "      <th>Longitude</th>\n",
       "      <th>Altitude</th>\n",
       "      <th>DST</th>\n",
       "      <th>unk</th>\n",
       "      <th>Timezone</th>\n",
       "      <th>Type</th>\n",
       "      <th>Source</th>\n",
       "    </tr>\n",
       "  </thead>\n",
       "  <tbody>\n",
       "    <tr>\n",
       "      <th>1</th>\n",
       "      <td>Goroka Airport</td>\n",
       "      <td>Goroka</td>\n",
       "      <td>Papua New Guinea</td>\n",
       "      <td>GKA</td>\n",
       "      <td>AYGA</td>\n",
       "      <td>-6.081690</td>\n",
       "      <td>145.391998</td>\n",
       "      <td>5282</td>\n",
       "      <td>10</td>\n",
       "      <td>U</td>\n",
       "      <td>Pacific/Port_Moresby</td>\n",
       "      <td>airport</td>\n",
       "      <td>OurAirports</td>\n",
       "    </tr>\n",
       "    <tr>\n",
       "      <th>2</th>\n",
       "      <td>Madang Airport</td>\n",
       "      <td>Madang</td>\n",
       "      <td>Papua New Guinea</td>\n",
       "      <td>MAG</td>\n",
       "      <td>AYMD</td>\n",
       "      <td>-5.207080</td>\n",
       "      <td>145.789001</td>\n",
       "      <td>20</td>\n",
       "      <td>10</td>\n",
       "      <td>U</td>\n",
       "      <td>Pacific/Port_Moresby</td>\n",
       "      <td>airport</td>\n",
       "      <td>OurAirports</td>\n",
       "    </tr>\n",
       "    <tr>\n",
       "      <th>3</th>\n",
       "      <td>Mount Hagen Kagamuga Airport</td>\n",
       "      <td>Mount Hagen</td>\n",
       "      <td>Papua New Guinea</td>\n",
       "      <td>HGU</td>\n",
       "      <td>AYMH</td>\n",
       "      <td>-5.826790</td>\n",
       "      <td>144.296005</td>\n",
       "      <td>5388</td>\n",
       "      <td>10</td>\n",
       "      <td>U</td>\n",
       "      <td>Pacific/Port_Moresby</td>\n",
       "      <td>airport</td>\n",
       "      <td>OurAirports</td>\n",
       "    </tr>\n",
       "    <tr>\n",
       "      <th>4</th>\n",
       "      <td>Nadzab Airport</td>\n",
       "      <td>Nadzab</td>\n",
       "      <td>Papua New Guinea</td>\n",
       "      <td>LAE</td>\n",
       "      <td>AYNZ</td>\n",
       "      <td>-6.569803</td>\n",
       "      <td>146.725977</td>\n",
       "      <td>239</td>\n",
       "      <td>10</td>\n",
       "      <td>U</td>\n",
       "      <td>Pacific/Port_Moresby</td>\n",
       "      <td>airport</td>\n",
       "      <td>OurAirports</td>\n",
       "    </tr>\n",
       "    <tr>\n",
       "      <th>5</th>\n",
       "      <td>Port Moresby Jacksons International Airport</td>\n",
       "      <td>Port Moresby</td>\n",
       "      <td>Papua New Guinea</td>\n",
       "      <td>POM</td>\n",
       "      <td>AYPY</td>\n",
       "      <td>-9.443380</td>\n",
       "      <td>147.220001</td>\n",
       "      <td>146</td>\n",
       "      <td>10</td>\n",
       "      <td>U</td>\n",
       "      <td>Pacific/Port_Moresby</td>\n",
       "      <td>airport</td>\n",
       "      <td>OurAirports</td>\n",
       "    </tr>\n",
       "  </tbody>\n",
       "</table>\n",
       "</div>"
      ],
      "text/plain": [
       "                                          Name          City  \\\n",
       "1                               Goroka Airport        Goroka   \n",
       "2                               Madang Airport        Madang   \n",
       "3                 Mount Hagen Kagamuga Airport   Mount Hagen   \n",
       "4                               Nadzab Airport        Nadzab   \n",
       "5  Port Moresby Jacksons International Airport  Port Moresby   \n",
       "\n",
       "            Country IATA/FAA  ICAO  Latitude   Longitude  Altitude DST unk  \\\n",
       "1  Papua New Guinea      GKA  AYGA -6.081690  145.391998      5282  10   U   \n",
       "2  Papua New Guinea      MAG  AYMD -5.207080  145.789001        20  10   U   \n",
       "3  Papua New Guinea      HGU  AYMH -5.826790  144.296005      5388  10   U   \n",
       "4  Papua New Guinea      LAE  AYNZ -6.569803  146.725977       239  10   U   \n",
       "5  Papua New Guinea      POM  AYPY -9.443380  147.220001       146  10   U   \n",
       "\n",
       "               Timezone     Type       Source  \n",
       "1  Pacific/Port_Moresby  airport  OurAirports  \n",
       "2  Pacific/Port_Moresby  airport  OurAirports  \n",
       "3  Pacific/Port_Moresby  airport  OurAirports  \n",
       "4  Pacific/Port_Moresby  airport  OurAirports  \n",
       "5  Pacific/Port_Moresby  airport  OurAirports  "
      ]
     },
     "execution_count": 297,
     "metadata": {},
     "output_type": "execute_result"
    }
   ],
   "source": [
    "import pandas as pd\n",
    "import requests\n",
    "import io\n",
    "\n",
    "url = 'https://raw.githubusercontent.com/jpatokal/openflights/master/data/airports.dat'\n",
    "response = requests.get(url).content\n",
    "head = [\"Name\", \"City\", \"Country\",  \"IATA/FAA\", \"ICAO\", \"Latitude\", \"Longitude\", \n",
    "        \"Altitude\", \"DST\", \"unk\", \"Timezone\", \"Type\", \"Source\"]\n",
    "data_frame = pd.read_csv(io.BytesIO(response), names=head,)\n",
    "data_frame.head()"
   ]
  },
  {
   "cell_type": "code",
   "execution_count": 298,
   "metadata": {
    "collapsed": true
   },
   "outputs": [
    {
     "data": {
      "text/plain": [
       "Name          object\n",
       "City          object\n",
       "Country       object\n",
       "IATA/FAA      object\n",
       "ICAO          object\n",
       "Latitude     float64\n",
       "Longitude    float64\n",
       "Altitude       int64\n",
       "DST           object\n",
       "unk           object\n",
       "Timezone      object\n",
       "Type          object\n",
       "Source        object\n",
       "dtype: object"
      ]
     },
     "execution_count": 298,
     "metadata": {},
     "output_type": "execute_result"
    }
   ],
   "source": [
    "data_frame.dtypes"
   ]
  },
  {
   "cell_type": "code",
   "execution_count": 299,
   "metadata": {
    "collapsed": true,
    "nbpresent": {
     "id": "f335cc81-3b6f-416e-93b9-7090a4b0694b"
    }
   },
   "outputs": [
    {
     "data": {
      "text/plain": [
       "1                                 Goroka Airport\n",
       "2                                 Madang Airport\n",
       "3                   Mount Hagen Kagamuga Airport\n",
       "4                                 Nadzab Airport\n",
       "5    Port Moresby Jacksons International Airport\n",
       "Name: Name, dtype: object"
      ]
     },
     "execution_count": 299,
     "metadata": {},
     "output_type": "execute_result"
    }
   ],
   "source": [
    "data_frame[\"Name\"].head()"
   ]
  },
  {
   "cell_type": "code",
   "execution_count": 300,
   "metadata": {
    "collapsed": true,
    "nbpresent": {
     "id": "ddfffe5c-4038-4090-942d-08197ba325c1"
    }
   },
   "outputs": [
    {
     "data": {
      "text/plain": [
       "1                                 Goroka AirportAYGA\n",
       "2                                 Madang AirportAYMD\n",
       "3                   Mount Hagen Kagamuga AirportAYMH\n",
       "4                                 Nadzab AirportAYNZ\n",
       "5    Port Moresby Jacksons International AirportAYPY\n",
       "dtype: object"
      ]
     },
     "execution_count": 300,
     "metadata": {},
     "output_type": "execute_result"
    }
   ],
   "source": [
    "(data_frame[\"Name\"] + data_frame[\"ICAO\"]).head()"
   ]
  },
  {
   "cell_type": "code",
   "execution_count": 301,
   "metadata": {
    "collapsed": true,
    "nbpresent": {
     "id": "e3792d37-cf2a-4cc2-8ff8-bdfec9d8a0cc"
    }
   },
   "outputs": [
    {
     "data": {
      "text/html": [
       "<div>\n",
       "<style scoped>\n",
       "    .dataframe tbody tr th:only-of-type {\n",
       "        vertical-align: middle;\n",
       "    }\n",
       "\n",
       "    .dataframe tbody tr th {\n",
       "        vertical-align: top;\n",
       "    }\n",
       "\n",
       "    .dataframe thead th {\n",
       "        text-align: right;\n",
       "    }\n",
       "</style>\n",
       "<table border=\"1\" class=\"dataframe\">\n",
       "  <thead>\n",
       "    <tr style=\"text-align: right;\">\n",
       "      <th></th>\n",
       "      <th>Name</th>\n",
       "      <th>City</th>\n",
       "      <th>Country</th>\n",
       "      <th>IATA/FAA</th>\n",
       "      <th>ICAO</th>\n",
       "      <th>Latitude</th>\n",
       "      <th>Longitude</th>\n",
       "      <th>Altitude</th>\n",
       "      <th>DST</th>\n",
       "      <th>unk</th>\n",
       "      <th>Timezone</th>\n",
       "      <th>Type</th>\n",
       "      <th>Source</th>\n",
       "      <th>Altitude (m)</th>\n",
       "      <th>Seaside</th>\n",
       "    </tr>\n",
       "  </thead>\n",
       "  <tbody>\n",
       "    <tr>\n",
       "      <th>2</th>\n",
       "      <td>Madang Airport</td>\n",
       "      <td>Madang</td>\n",
       "      <td>Papua New Guinea</td>\n",
       "      <td>MAG</td>\n",
       "      <td>AYMD</td>\n",
       "      <td>-5.207080</td>\n",
       "      <td>145.789001</td>\n",
       "      <td>20</td>\n",
       "      <td>10</td>\n",
       "      <td>U</td>\n",
       "      <td>Pacific/Port_Moresby</td>\n",
       "      <td>airport</td>\n",
       "      <td>OurAirports</td>\n",
       "      <td>6.0960</td>\n",
       "      <td>True</td>\n",
       "    </tr>\n",
       "    <tr>\n",
       "      <th>6</th>\n",
       "      <td>Wewak International Airport</td>\n",
       "      <td>Wewak</td>\n",
       "      <td>Papua New Guinea</td>\n",
       "      <td>WWK</td>\n",
       "      <td>AYWK</td>\n",
       "      <td>-3.583830</td>\n",
       "      <td>143.669006</td>\n",
       "      <td>19</td>\n",
       "      <td>10</td>\n",
       "      <td>U</td>\n",
       "      <td>Pacific/Port_Moresby</td>\n",
       "      <td>airport</td>\n",
       "      <td>OurAirports</td>\n",
       "      <td>5.7912</td>\n",
       "      <td>True</td>\n",
       "    </tr>\n",
       "    <tr>\n",
       "      <th>11</th>\n",
       "      <td>Akureyri Airport</td>\n",
       "      <td>Akureyri</td>\n",
       "      <td>Iceland</td>\n",
       "      <td>AEY</td>\n",
       "      <td>BIAR</td>\n",
       "      <td>65.660004</td>\n",
       "      <td>-18.072701</td>\n",
       "      <td>6</td>\n",
       "      <td>0</td>\n",
       "      <td>N</td>\n",
       "      <td>Atlantic/Reykjavik</td>\n",
       "      <td>airport</td>\n",
       "      <td>OurAirports</td>\n",
       "      <td>1.8288</td>\n",
       "      <td>True</td>\n",
       "    </tr>\n",
       "    <tr>\n",
       "      <th>13</th>\n",
       "      <td>Hornafjörður Airport</td>\n",
       "      <td>Hofn</td>\n",
       "      <td>Iceland</td>\n",
       "      <td>HFN</td>\n",
       "      <td>BIHN</td>\n",
       "      <td>64.295601</td>\n",
       "      <td>-15.227200</td>\n",
       "      <td>24</td>\n",
       "      <td>0</td>\n",
       "      <td>N</td>\n",
       "      <td>Atlantic/Reykjavik</td>\n",
       "      <td>airport</td>\n",
       "      <td>OurAirports</td>\n",
       "      <td>7.3152</td>\n",
       "      <td>True</td>\n",
       "    </tr>\n",
       "    <tr>\n",
       "      <th>14</th>\n",
       "      <td>Húsavík Airport</td>\n",
       "      <td>Husavik</td>\n",
       "      <td>Iceland</td>\n",
       "      <td>HZK</td>\n",
       "      <td>BIHU</td>\n",
       "      <td>65.952301</td>\n",
       "      <td>-17.426001</td>\n",
       "      <td>48</td>\n",
       "      <td>0</td>\n",
       "      <td>N</td>\n",
       "      <td>Atlantic/Reykjavik</td>\n",
       "      <td>airport</td>\n",
       "      <td>OurAirports</td>\n",
       "      <td>14.6304</td>\n",
       "      <td>True</td>\n",
       "    </tr>\n",
       "  </tbody>\n",
       "</table>\n",
       "</div>"
      ],
      "text/plain": [
       "                           Name      City           Country IATA/FAA  ICAO  \\\n",
       "2                Madang Airport    Madang  Papua New Guinea      MAG  AYMD   \n",
       "6   Wewak International Airport     Wewak  Papua New Guinea      WWK  AYWK   \n",
       "11             Akureyri Airport  Akureyri           Iceland      AEY  BIAR   \n",
       "13         Hornafjörður Airport      Hofn           Iceland      HFN  BIHN   \n",
       "14              Húsavík Airport   Husavik           Iceland      HZK  BIHU   \n",
       "\n",
       "     Latitude   Longitude  Altitude DST unk              Timezone     Type  \\\n",
       "2   -5.207080  145.789001        20  10   U  Pacific/Port_Moresby  airport   \n",
       "6   -3.583830  143.669006        19  10   U  Pacific/Port_Moresby  airport   \n",
       "11  65.660004  -18.072701         6   0   N    Atlantic/Reykjavik  airport   \n",
       "13  64.295601  -15.227200        24   0   N    Atlantic/Reykjavik  airport   \n",
       "14  65.952301  -17.426001        48   0   N    Atlantic/Reykjavik  airport   \n",
       "\n",
       "         Source  Altitude (m)  Seaside  \n",
       "2   OurAirports        6.0960     True  \n",
       "6   OurAirports        5.7912     True  \n",
       "11  OurAirports        1.8288     True  \n",
       "13  OurAirports        7.3152     True  \n",
       "14  OurAirports       14.6304     True  "
      ]
     },
     "execution_count": 301,
     "metadata": {},
     "output_type": "execute_result"
    }
   ],
   "source": [
    "data_frame[\"Altitude (m)\"] = (data_frame[\"Altitude\"] * 0.3048)\n",
    "data_frame[\"Seaside\"] = data_frame[\"Altitude (m)\"] < 20\n",
    "data_frame[data_frame[\"Seaside\"]].head()"
   ]
  },
  {
   "cell_type": "code",
   "execution_count": 302,
   "metadata": {
    "collapsed": true,
    "nbpresent": {
     "id": "cecb8865-f251-4554-b4ec-86ca41c5abf5"
    }
   },
   "outputs": [
    {
     "name": "stdout",
     "output_type": "stream",
     "text": [
      "1    False\n",
      "2     True\n",
      "3    False\n",
      "4    False\n",
      "5    False\n",
      "Name: Seaside, dtype: bool\n"
     ]
    },
    {
     "data": {
      "text/html": [
       "<div>\n",
       "<style scoped>\n",
       "    .dataframe tbody tr th:only-of-type {\n",
       "        vertical-align: middle;\n",
       "    }\n",
       "\n",
       "    .dataframe tbody tr th {\n",
       "        vertical-align: top;\n",
       "    }\n",
       "\n",
       "    .dataframe thead th {\n",
       "        text-align: right;\n",
       "    }\n",
       "</style>\n",
       "<table border=\"1\" class=\"dataframe\">\n",
       "  <thead>\n",
       "    <tr style=\"text-align: right;\">\n",
       "      <th></th>\n",
       "      <th>Name</th>\n",
       "      <th>City</th>\n",
       "      <th>Country</th>\n",
       "      <th>IATA/FAA</th>\n",
       "      <th>ICAO</th>\n",
       "      <th>Latitude</th>\n",
       "      <th>Longitude</th>\n",
       "      <th>DST</th>\n",
       "      <th>unk</th>\n",
       "      <th>Timezone</th>\n",
       "      <th>Type</th>\n",
       "      <th>Source</th>\n",
       "      <th>Altitude (m)</th>\n",
       "    </tr>\n",
       "  </thead>\n",
       "  <tbody>\n",
       "    <tr>\n",
       "      <th>1</th>\n",
       "      <td>Goroka Airport</td>\n",
       "      <td>Goroka</td>\n",
       "      <td>Papua New Guinea</td>\n",
       "      <td>GKA</td>\n",
       "      <td>AYGA</td>\n",
       "      <td>-6.081690</td>\n",
       "      <td>145.391998</td>\n",
       "      <td>10</td>\n",
       "      <td>U</td>\n",
       "      <td>Pacific/Port_Moresby</td>\n",
       "      <td>airport</td>\n",
       "      <td>OurAirports</td>\n",
       "      <td>1609.9536</td>\n",
       "    </tr>\n",
       "    <tr>\n",
       "      <th>2</th>\n",
       "      <td>Madang Airport</td>\n",
       "      <td>Madang</td>\n",
       "      <td>Papua New Guinea</td>\n",
       "      <td>MAG</td>\n",
       "      <td>AYMD</td>\n",
       "      <td>-5.207080</td>\n",
       "      <td>145.789001</td>\n",
       "      <td>10</td>\n",
       "      <td>U</td>\n",
       "      <td>Pacific/Port_Moresby</td>\n",
       "      <td>airport</td>\n",
       "      <td>OurAirports</td>\n",
       "      <td>6.0960</td>\n",
       "    </tr>\n",
       "    <tr>\n",
       "      <th>3</th>\n",
       "      <td>Mount Hagen Kagamuga Airport</td>\n",
       "      <td>Mount Hagen</td>\n",
       "      <td>Papua New Guinea</td>\n",
       "      <td>HGU</td>\n",
       "      <td>AYMH</td>\n",
       "      <td>-5.826790</td>\n",
       "      <td>144.296005</td>\n",
       "      <td>10</td>\n",
       "      <td>U</td>\n",
       "      <td>Pacific/Port_Moresby</td>\n",
       "      <td>airport</td>\n",
       "      <td>OurAirports</td>\n",
       "      <td>1642.2624</td>\n",
       "    </tr>\n",
       "    <tr>\n",
       "      <th>4</th>\n",
       "      <td>Nadzab Airport</td>\n",
       "      <td>Nadzab</td>\n",
       "      <td>Papua New Guinea</td>\n",
       "      <td>LAE</td>\n",
       "      <td>AYNZ</td>\n",
       "      <td>-6.569803</td>\n",
       "      <td>146.725977</td>\n",
       "      <td>10</td>\n",
       "      <td>U</td>\n",
       "      <td>Pacific/Port_Moresby</td>\n",
       "      <td>airport</td>\n",
       "      <td>OurAirports</td>\n",
       "      <td>72.8472</td>\n",
       "    </tr>\n",
       "    <tr>\n",
       "      <th>5</th>\n",
       "      <td>Port Moresby Jacksons International Airport</td>\n",
       "      <td>Port Moresby</td>\n",
       "      <td>Papua New Guinea</td>\n",
       "      <td>POM</td>\n",
       "      <td>AYPY</td>\n",
       "      <td>-9.443380</td>\n",
       "      <td>147.220001</td>\n",
       "      <td>10</td>\n",
       "      <td>U</td>\n",
       "      <td>Pacific/Port_Moresby</td>\n",
       "      <td>airport</td>\n",
       "      <td>OurAirports</td>\n",
       "      <td>44.5008</td>\n",
       "    </tr>\n",
       "  </tbody>\n",
       "</table>\n",
       "</div>"
      ],
      "text/plain": [
       "                                          Name          City  \\\n",
       "1                               Goroka Airport        Goroka   \n",
       "2                               Madang Airport        Madang   \n",
       "3                 Mount Hagen Kagamuga Airport   Mount Hagen   \n",
       "4                               Nadzab Airport        Nadzab   \n",
       "5  Port Moresby Jacksons International Airport  Port Moresby   \n",
       "\n",
       "            Country IATA/FAA  ICAO  Latitude   Longitude DST unk  \\\n",
       "1  Papua New Guinea      GKA  AYGA -6.081690  145.391998  10   U   \n",
       "2  Papua New Guinea      MAG  AYMD -5.207080  145.789001  10   U   \n",
       "3  Papua New Guinea      HGU  AYMH -5.826790  144.296005  10   U   \n",
       "4  Papua New Guinea      LAE  AYNZ -6.569803  146.725977  10   U   \n",
       "5  Papua New Guinea      POM  AYPY -9.443380  147.220001  10   U   \n",
       "\n",
       "               Timezone     Type       Source  Altitude (m)  \n",
       "1  Pacific/Port_Moresby  airport  OurAirports     1609.9536  \n",
       "2  Pacific/Port_Moresby  airport  OurAirports        6.0960  \n",
       "3  Pacific/Port_Moresby  airport  OurAirports     1642.2624  \n",
       "4  Pacific/Port_Moresby  airport  OurAirports       72.8472  \n",
       "5  Pacific/Port_Moresby  airport  OurAirports       44.5008  "
      ]
     },
     "execution_count": 302,
     "metadata": {},
     "output_type": "execute_result"
    }
   ],
   "source": [
    "# Columns can be deleted or popped like with a dict:\n",
    "del data_frame[\"Altitude\"]\n",
    "seaside = data_frame.pop('Seaside')\n",
    "print(seaside.head())\n",
    "data_frame.head()"
   ]
  },
  {
   "cell_type": "code",
   "execution_count": 303,
   "metadata": {
    "collapsed": true,
    "nbpresent": {
     "id": "71eb786e-4e50-43b3-b094-4993ed9a1b4d"
    }
   },
   "outputs": [],
   "source": [
    "# When inserting a scalar value, it will naturally be propagated to fill the column:\n",
    "data_frame[\"Infrastructure\"] = \"Airport\" "
   ]
  },
  {
   "cell_type": "markdown",
   "metadata": {
    "nbpresent": {
     "id": "c3166b7b-6c17-4bfc-b53f-87d8fe4a532a"
    }
   },
   "source": [
    "## Exercises\n",
    "\n",
    "**Exercise 1:** Load iqsize.csv using csv library. The result should be a DataFrame.\n",
    "\n",
    "**Exercise 2:** Identify dataset variables. Resolve type problems. Can you change types?\n",
    "\n",
    "**Exercise 3:** Check the range of quantitative variables. Are they correct? If not correct how would you correct it (don't expend many time). \n",
    "\n",
    "**Exercise 4:** Check the labels of qualitative variables. Are they correct? If not correct them, how would you correct them?\n",
    "\n",
    "**Exercise 5:** For quantitative variables, compute the mean and median.\n",
    "\n",
    "**Exercise 6:** For qualitative variables, count how many observations of each label exist.\n",
    "\n",
    "**Exercise 7:** Compute Exercise 7 statistics, but now for each label in Sex variable."
   ]
  },
  {
   "cell_type": "markdown",
   "metadata": {},
   "source": [
    "## References\n",
    "* Pandas API Reference: https://pandas.pydata.org/pandas-docs/stable/reference/index.html\n",
    "* Getting Started with Pandas: https://pandas.pydata.org/pandas-docs/stable/getting_started/index.html"
   ]
  }
 ],
 "metadata": {
  "anaconda-cloud": {},
  "kernelspec": {
   "display_name": "Python 3",
   "language": "python",
   "name": "python3"
  },
  "language_info": {
   "codemirror_mode": {
    "name": "ipython",
    "version": 3
   },
   "file_extension": ".py",
   "mimetype": "text/x-python",
   "name": "python",
   "nbconvert_exporter": "python",
   "pygments_lexer": "ipython3",
   "version": "3.7.3"
  },
  "nbpresent": {
   "slides": {
    "011c8727-f965-4fd0-8c50-91c0ba7c7a32": {
     "id": "011c8727-f965-4fd0-8c50-91c0ba7c7a32",
     "prev": "34afc7e7-ac06-49ae-8f64-e56a69dc9d86",
     "regions": {
      "9ed3afbb-0e55-4f68-9beb-9c45b3a09ac0": {
       "attrs": {
        "height": 0.8,
        "width": 0.8,
        "x": 0.1,
        "y": 0.1
       },
       "content": {
        "cell": "7c739655-fd1a-4abd-b78f-272b24837db2",
        "part": "whole"
       },
       "id": "9ed3afbb-0e55-4f68-9beb-9c45b3a09ac0"
      }
     }
    },
    "01fa3c56-6d56-401e-a30f-e1612c83c20e": {
     "id": "01fa3c56-6d56-401e-a30f-e1612c83c20e",
     "prev": "97469b78-4591-4efd-88f4-51b0f21fc2ae",
     "regions": {
      "1dbc1686-e249-464e-8af6-908ddddd882e": {
       "attrs": {
        "height": 0.8,
        "width": 0.8,
        "x": 0.1,
        "y": 0.1
       },
       "content": {
        "cell": "492be9ec-9520-44d5-bbfe-34de68194ecc",
        "part": "whole"
       },
       "id": "1dbc1686-e249-464e-8af6-908ddddd882e"
      }
     }
    },
    "05f523ea-8ad1-453d-845a-8a2430ea477f": {
     "id": "05f523ea-8ad1-453d-845a-8a2430ea477f",
     "prev": "ac8f8be9-dd87-4089-a64f-930161bc9b03",
     "regions": {
      "bbe13655-b7c4-473e-8be2-586f7bdc9c9a": {
       "attrs": {
        "height": 0.8,
        "width": 0.8,
        "x": 0.1,
        "y": 0.1
       },
       "content": {
        "cell": "315b80fa-b8eb-481b-8604-ccdf4eae22a0",
        "part": "whole"
       },
       "id": "bbe13655-b7c4-473e-8be2-586f7bdc9c9a"
      }
     }
    },
    "076e6896-2153-4fab-8a77-1b24c8d0459d": {
     "id": "076e6896-2153-4fab-8a77-1b24c8d0459d",
     "prev": "900fa4e4-2bb1-4c05-90f2-c302018978a7",
     "regions": {
      "d8a09924-6f6b-4711-be80-a9de2ff71660": {
       "attrs": {
        "height": 0.8,
        "width": 0.8,
        "x": 0.1,
        "y": 0.1
       },
       "content": {
        "cell": "ce9d988a-c3ef-4ef0-9016-efb9c613d46f",
        "part": "whole"
       },
       "id": "d8a09924-6f6b-4711-be80-a9de2ff71660"
      }
     }
    },
    "124bac25-96b5-40f9-90f3-39a8d79d025e": {
     "id": "124bac25-96b5-40f9-90f3-39a8d79d025e",
     "prev": "30f526d8-db32-4a99-aa43-4221d6eef28a",
     "regions": {
      "6143108b-f682-4825-bacf-15e19c8c7ffa": {
       "attrs": {
        "height": 0.8,
        "width": 0.8,
        "x": 0.1,
        "y": 0.1
       },
       "content": {
        "cell": "bf30951f-995e-4b18-8f0a-bf55609041c4",
        "part": "whole"
       },
       "id": "6143108b-f682-4825-bacf-15e19c8c7ffa"
      }
     }
    },
    "13325a8d-74bd-4eeb-bd68-2a0cad9a12b3": {
     "id": "13325a8d-74bd-4eeb-bd68-2a0cad9a12b3",
     "prev": "7b8400b6-3343-44d0-81d7-0b8554e22f3e",
     "regions": {
      "8418a59c-2461-4c14-b22d-f004d467da17": {
       "attrs": {
        "height": 0.8,
        "width": 0.8,
        "x": 0.1,
        "y": 0.1
       },
       "content": {
        "cell": "884cac48-25de-4feb-a174-687a6ff8593c",
        "part": "whole"
       },
       "id": "8418a59c-2461-4c14-b22d-f004d467da17"
      }
     }
    },
    "13920123-db95-4d44-8fe8-c57d1de8d7f4": {
     "id": "13920123-db95-4d44-8fe8-c57d1de8d7f4",
     "prev": "ce785417-0b45-42f6-a55b-c711baafdffe",
     "regions": {
      "103eae19-444f-45c4-b670-7f0e9343ab3d": {
       "attrs": {
        "height": 0.8,
        "width": 0.8,
        "x": 0.1,
        "y": 0.1
       },
       "content": {
        "cell": "f97dacea-46ab-4b8d-af8b-7242e1128ea8",
        "part": "whole"
       },
       "id": "103eae19-444f-45c4-b670-7f0e9343ab3d"
      }
     }
    },
    "1df2a58a-eb45-44be-b076-d871d6d86f51": {
     "id": "1df2a58a-eb45-44be-b076-d871d6d86f51",
     "prev": "214d6dad-9146-4a7b-8177-49f6a612a75d",
     "regions": {
      "3372d9b4-3bad-4b85-bb35-3cef1ded8f5c": {
       "attrs": {
        "height": 0.8,
        "width": 0.8,
        "x": 0.1,
        "y": 0.1
       },
       "content": {
        "cell": "95d10725-9a88-406e-9dd7-aa6e4c0634ab",
        "part": "whole"
       },
       "id": "3372d9b4-3bad-4b85-bb35-3cef1ded8f5c"
      }
     }
    },
    "1e11bdcd-54dd-43e3-8cf8-83998eaacd02": {
     "id": "1e11bdcd-54dd-43e3-8cf8-83998eaacd02",
     "prev": "d4c252c5-1666-43f0-b83a-ea7fe591b2a7",
     "regions": {
      "bec7fe16-9bed-477b-96d5-c35621b2b634": {
       "attrs": {
        "height": 0.8,
        "width": 0.8,
        "x": 0.1,
        "y": 0.1
       },
       "content": {
        "cell": "8e01b645-1f98-4484-a1ad-58a75c26e3fe",
        "part": "whole"
       },
       "id": "bec7fe16-9bed-477b-96d5-c35621b2b634"
      }
     }
    },
    "214d6dad-9146-4a7b-8177-49f6a612a75d": {
     "id": "214d6dad-9146-4a7b-8177-49f6a612a75d",
     "prev": "d5c98acb-8a48-4e84-8aab-5aaa37e53b84",
     "regions": {
      "a1ea698d-ea7a-4862-bb66-7f66fcd1f67e": {
       "attrs": {
        "height": 0.8,
        "width": 0.8,
        "x": 0.1,
        "y": 0.1
       },
       "content": {
        "cell": "589f9200-7fb5-4587-ab20-7be44d624e4e",
        "part": "whole"
       },
       "id": "a1ea698d-ea7a-4862-bb66-7f66fcd1f67e"
      }
     }
    },
    "21551084-b654-4f9a-ac8c-2975b15abab7": {
     "id": "21551084-b654-4f9a-ac8c-2975b15abab7",
     "prev": "f19d8cd7-db60-4f5d-a9d8-7ebe1c3f2626",
     "regions": {
      "e26c891f-7862-49e7-9082-92a092575f2c": {
       "attrs": {
        "height": 0.8,
        "width": 0.8,
        "x": 0.1,
        "y": 0.1
       },
       "content": {
        "cell": "827a51a0-3318-4c76-9533-0f748366cf22",
        "part": "whole"
       },
       "id": "e26c891f-7862-49e7-9082-92a092575f2c"
      }
     }
    },
    "22a72d88-54da-4817-87cb-60e8f116805a": {
     "id": "22a72d88-54da-4817-87cb-60e8f116805a",
     "prev": "21551084-b654-4f9a-ac8c-2975b15abab7",
     "regions": {
      "566e60de-7c6a-4e82-9842-5441718fa04c": {
       "attrs": {
        "height": 0.8,
        "width": 0.8,
        "x": 0.1,
        "y": 0.1
       },
       "content": {
        "cell": "7b9d9c9e-36fa-4dcc-8435-b2d2c6b81b1e",
        "part": "whole"
       },
       "id": "566e60de-7c6a-4e82-9842-5441718fa04c"
      }
     }
    },
    "30eb2758-6cda-4835-ae47-7e620498c8e0": {
     "id": "30eb2758-6cda-4835-ae47-7e620498c8e0",
     "prev": "f86a8786-c627-4785-9f50-f4c39a214174",
     "regions": {
      "c589312f-64f0-488e-b159-a3a49e09d611": {
       "attrs": {
        "height": 0.8,
        "width": 0.8,
        "x": 0.1,
        "y": 0.1
       },
       "content": {
        "cell": "3548594b-4995-4a6d-9ec1-c13a1f516d23",
        "part": "whole"
       },
       "id": "c589312f-64f0-488e-b159-a3a49e09d611"
      }
     }
    },
    "30f526d8-db32-4a99-aa43-4221d6eef28a": {
     "id": "30f526d8-db32-4a99-aa43-4221d6eef28a",
     "prev": "3feccf76-d9a3-4596-b94c-1fcfb5c8e8c9",
     "regions": {
      "d0216624-2419-47af-a5bc-698fb157a6ec": {
       "attrs": {
        "height": 0.8,
        "width": 0.8,
        "x": 0.1,
        "y": 0.1
       },
       "content": {
        "cell": "3055a60b-069f-4d48-adf5-e0d9b4a234f5",
        "part": "whole"
       },
       "id": "d0216624-2419-47af-a5bc-698fb157a6ec"
      }
     }
    },
    "340add32-8623-491b-9735-9861f8eb6022": {
     "id": "340add32-8623-491b-9735-9861f8eb6022",
     "prev": "9d6a83c5-b173-4e17-acfd-19018b7321b5",
     "regions": {
      "f435d45a-64a5-4533-9728-ce19c25aba50": {
       "attrs": {
        "height": 0.8,
        "width": 0.8,
        "x": 0.1,
        "y": 0.1
       },
       "content": {
        "cell": "ccd589a2-9878-4eec-9993-84cfa97a6285",
        "part": "whole"
       },
       "id": "f435d45a-64a5-4533-9728-ce19c25aba50"
      }
     }
    },
    "34afc7e7-ac06-49ae-8f64-e56a69dc9d86": {
     "id": "34afc7e7-ac06-49ae-8f64-e56a69dc9d86",
     "prev": "878b2b07-6812-4a44-9210-a95108c09439",
     "regions": {
      "e5f289ad-8dfd-4529-beb2-8dc325dfc2dc": {
       "attrs": {
        "height": 0.8,
        "width": 0.8,
        "x": 0.1,
        "y": 0.1
       },
       "content": {
        "cell": "26fc1a5b-0b99-4a53-8106-daf566aa32a4",
        "part": "whole"
       },
       "id": "e5f289ad-8dfd-4529-beb2-8dc325dfc2dc"
      }
     }
    },
    "34d55b76-985d-4729-b285-99d60d7a77b6": {
     "id": "34d55b76-985d-4729-b285-99d60d7a77b6",
     "prev": "1df2a58a-eb45-44be-b076-d871d6d86f51",
     "regions": {
      "d1275e1c-ba3a-4be5-b923-674c913c3716": {
       "attrs": {
        "height": 0.8,
        "width": 0.8,
        "x": 0.1,
        "y": 0.1
       },
       "content": {
        "cell": "cffd08d4-c45f-4727-b277-fdaef38197d6",
        "part": "whole"
       },
       "id": "d1275e1c-ba3a-4be5-b923-674c913c3716"
      }
     }
    },
    "34f18634-4db8-4d19-b458-3b140fba3deb": {
     "id": "34f18634-4db8-4d19-b458-3b140fba3deb",
     "prev": "63d6179a-6dc1-41f1-9711-03ff49171001",
     "regions": {
      "ade0522c-ce46-482a-aa65-107feef55e9e": {
       "attrs": {
        "height": 0.8,
        "width": 0.8,
        "x": 0.1,
        "y": 0.1
       },
       "content": {
        "cell": "93c4bbfc-5a8b-4818-8742-ba9a83f82c16",
        "part": "whole"
       },
       "id": "ade0522c-ce46-482a-aa65-107feef55e9e"
      }
     }
    },
    "359c2ec2-0e90-4944-8fe0-057f81092aa4": {
     "id": "359c2ec2-0e90-4944-8fe0-057f81092aa4",
     "prev": "394b3949-fa52-4d6b-87f3-9c80f7725583",
     "regions": {
      "8377ba1f-3624-41d6-a690-cdf50a3e8110": {
       "attrs": {
        "height": 0.8,
        "width": 0.8,
        "x": 0.1,
        "y": 0.1
       },
       "content": {
        "cell": "5a51257f-1c22-4f37-bc81-58495a2ae106",
        "part": "whole"
       },
       "id": "8377ba1f-3624-41d6-a690-cdf50a3e8110"
      }
     }
    },
    "394b3949-fa52-4d6b-87f3-9c80f7725583": {
     "id": "394b3949-fa52-4d6b-87f3-9c80f7725583",
     "prev": "9ddf68a9-f07f-4c64-abb2-1ec6a8e184ce",
     "regions": {
      "1b2eace8-78a3-426b-926f-410f3c292731": {
       "attrs": {
        "height": 0.8,
        "width": 0.8,
        "x": 0.1,
        "y": 0.1
       },
       "content": {
        "cell": "36d96c20-0526-40a6-b381-1164436e0963",
        "part": "whole"
       },
       "id": "1b2eace8-78a3-426b-926f-410f3c292731"
      }
     }
    },
    "3feccf76-d9a3-4596-b94c-1fcfb5c8e8c9": {
     "id": "3feccf76-d9a3-4596-b94c-1fcfb5c8e8c9",
     "prev": "95fe36b6-11b2-415b-8433-cfa5cd1848d6",
     "regions": {
      "686d9096-93c0-4cd7-9e8c-8404d68cf779": {
       "attrs": {
        "height": 0.8,
        "width": 0.8,
        "x": 0.1,
        "y": 0.1
       },
       "content": {
        "cell": "4bd4cb3a-5c7b-4f14-aa70-b00b4955f66b",
        "part": "whole"
       },
       "id": "686d9096-93c0-4cd7-9e8c-8404d68cf779"
      }
     }
    },
    "40680e1b-48a1-4937-90f1-42701d6c5ca4": {
     "id": "40680e1b-48a1-4937-90f1-42701d6c5ca4",
     "prev": "45f14017-f7e2-4221-830a-6b747f4884be",
     "regions": {
      "bbc1c65e-5d57-411f-b7a3-c5f35560006c": {
       "attrs": {
        "height": 0.8,
        "width": 0.8,
        "x": 0.1,
        "y": 0.1
       },
       "content": {
        "cell": "79579b3c-ce92-4dde-ae57-3951d03aeff7",
        "part": "whole"
       },
       "id": "bbc1c65e-5d57-411f-b7a3-c5f35560006c"
      }
     }
    },
    "45f14017-f7e2-4221-830a-6b747f4884be": {
     "id": "45f14017-f7e2-4221-830a-6b747f4884be",
     "prev": "6181b8e3-6f2e-4405-a9e7-1a6fcff01e61",
     "regions": {
      "28d9c548-2c20-4e36-8fad-d9ea7297339d": {
       "attrs": {
        "height": 0.8,
        "width": 0.8,
        "x": 0.1,
        "y": 0.1
       },
       "content": {
        "cell": "c8d39764-d5ec-4b96-aaf3-2468ac086ecc",
        "part": "whole"
       },
       "id": "28d9c548-2c20-4e36-8fad-d9ea7297339d"
      }
     }
    },
    "45fcf5ff-b8f3-4719-98d6-a23ab1850020": {
     "id": "45fcf5ff-b8f3-4719-98d6-a23ab1850020",
     "prev": "6b96d2f9-bb4e-4f7c-bd5f-0d25d956fc75",
     "regions": {
      "0014ad36-9459-4005-9662-28d25cff5d94": {
       "attrs": {
        "height": 0.8,
        "width": 0.8,
        "x": 0.1,
        "y": 0.1
       },
       "content": {
        "cell": "3da91f71-d048-421b-ad16-171231c0a398",
        "part": "whole"
       },
       "id": "0014ad36-9459-4005-9662-28d25cff5d94"
      }
     }
    },
    "4a086749-7d79-43b5-a1ab-ed56166f513c": {
     "id": "4a086749-7d79-43b5-a1ab-ed56166f513c",
     "prev": "91798617-d54a-48d5-ac23-1fdf48faf5ae",
     "regions": {
      "20dbf272-04f8-4540-a38b-718c263275a3": {
       "attrs": {
        "height": 0.8,
        "width": 0.8,
        "x": 0.1,
        "y": 0.1
       },
       "content": {
        "cell": "71eb786e-4e50-43b3-b094-4993ed9a1b4d",
        "part": "whole"
       },
       "id": "20dbf272-04f8-4540-a38b-718c263275a3"
      }
     }
    },
    "4adf7dce-8289-4885-9f49-617d4dd973af": {
     "id": "4adf7dce-8289-4885-9f49-617d4dd973af",
     "prev": "c0d898f8-f3fd-4d90-8d7f-fe1cf580abe6",
     "regions": {
      "31347bd2-b51b-4bd3-9929-f14101768441": {
       "attrs": {
        "height": 0.8,
        "width": 0.8,
        "x": 0.1,
        "y": 0.1
       },
       "content": {
        "cell": "1c8e673b-78a0-4b90-84e3-a984a31b931e",
        "part": "whole"
       },
       "id": "31347bd2-b51b-4bd3-9929-f14101768441"
      }
     }
    },
    "551fb2af-a20e-4ae1-984d-bf2b6287b29c": {
     "id": "551fb2af-a20e-4ae1-984d-bf2b6287b29c",
     "prev": "fdbbad22-3a91-475b-8a97-92354e1e5d0f",
     "regions": {
      "a611c5ee-668e-49af-aa8d-a09b0c0ff973": {
       "attrs": {
        "height": 0.8,
        "width": 0.8,
        "x": 0.1,
        "y": 0.1
       },
       "content": {
        "cell": "1aae5ddc-e526-4065-b81f-4177f6d57c04",
        "part": "whole"
       },
       "id": "a611c5ee-668e-49af-aa8d-a09b0c0ff973"
      }
     }
    },
    "59264b08-16aa-472f-87d2-b9fbce48d8f3": {
     "id": "59264b08-16aa-472f-87d2-b9fbce48d8f3",
     "prev": "34d55b76-985d-4729-b285-99d60d7a77b6",
     "regions": {
      "812b73bf-eb8d-40bb-99c9-e2e45506ddea": {
       "attrs": {
        "height": 0.8,
        "width": 0.8,
        "x": 0.1,
        "y": 0.1
       },
       "content": {
        "cell": "7bc9087e-ee3e-4d0f-8099-462299599b64",
        "part": "whole"
       },
       "id": "812b73bf-eb8d-40bb-99c9-e2e45506ddea"
      }
     }
    },
    "597fc827-6cb1-4dae-8060-f1dfd4cc4bd9": {
     "id": "597fc827-6cb1-4dae-8060-f1dfd4cc4bd9",
     "prev": "d1ba85ed-b354-415e-a0b3-0dc66c7cc928",
     "regions": {
      "edcbf5a9-0c9b-4b46-a37a-5493d47034bc": {
       "attrs": {
        "height": 0.8,
        "width": 0.8,
        "x": 0.1,
        "y": 0.1
       },
       "content": {
        "cell": "19ce7b5f-8eeb-42cb-8b2b-416a60ace56b",
        "part": "whole"
       },
       "id": "edcbf5a9-0c9b-4b46-a37a-5493d47034bc"
      }
     }
    },
    "5f59e6fc-b8d8-4b7c-8a86-026f4b5f02bb": {
     "id": "5f59e6fc-b8d8-4b7c-8a86-026f4b5f02bb",
     "prev": "bd7b6d80-e5ee-4343-84a3-9413d9f8cf17",
     "regions": {
      "99e20f68-6f6d-4c5e-8d86-49273f1591d8": {
       "attrs": {
        "height": 0.8,
        "width": 0.8,
        "x": 0.1,
        "y": 0.1
       },
       "content": {
        "cell": "3d90bd7c-c9ba-4e7f-b0b2-8b6641f3230b",
        "part": "whole"
       },
       "id": "99e20f68-6f6d-4c5e-8d86-49273f1591d8"
      }
     }
    },
    "6181b8e3-6f2e-4405-a9e7-1a6fcff01e61": {
     "id": "6181b8e3-6f2e-4405-a9e7-1a6fcff01e61",
     "prev": "b87236c5-c132-4abd-966f-26eae940d3dc",
     "regions": {
      "2c59ef3d-c7d3-4ec8-9699-0c212590d98e": {
       "attrs": {
        "height": 0.8,
        "width": 0.8,
        "x": 0.1,
        "y": 0.1
       },
       "content": {
        "cell": "e6e49cb0-fae8-4ef7-8a32-80878b2237c2",
        "part": "whole"
       },
       "id": "2c59ef3d-c7d3-4ec8-9699-0c212590d98e"
      }
     }
    },
    "63d6179a-6dc1-41f1-9711-03ff49171001": {
     "id": "63d6179a-6dc1-41f1-9711-03ff49171001",
     "prev": null,
     "regions": {
      "56ee1929-6956-4b88-a5c1-825ad276dcc7": {
       "attrs": {
        "height": 0.8,
        "width": 0.8,
        "x": 0.1,
        "y": 0.1
       },
       "content": {
        "cell": "460d8967-e03b-4220-9d1c-2df3242fb783",
        "part": "whole"
       },
       "id": "56ee1929-6956-4b88-a5c1-825ad276dcc7"
      }
     }
    },
    "6957fea0-eae9-46d6-ad69-99667a291082": {
     "id": "6957fea0-eae9-46d6-ad69-99667a291082",
     "prev": "359c2ec2-0e90-4944-8fe0-057f81092aa4",
     "regions": {
      "714493d5-49b4-4884-8b70-b829cd0a65ee": {
       "attrs": {
        "height": 0.8,
        "width": 0.8,
        "x": 0.1,
        "y": 0.1
       },
       "content": {
        "cell": "385d5592-6342-4a8c-b043-166a864eb751",
        "part": "whole"
       },
       "id": "714493d5-49b4-4884-8b70-b829cd0a65ee"
      }
     }
    },
    "6b96d2f9-bb4e-4f7c-bd5f-0d25d956fc75": {
     "id": "6b96d2f9-bb4e-4f7c-bd5f-0d25d956fc75",
     "prev": "d56ef0cf-3df2-44f5-9a46-d0ae437c9e56",
     "regions": {
      "fb81aec5-ee88-494b-9dd4-08922a27e7bd": {
       "attrs": {
        "height": 0.8,
        "width": 0.8,
        "x": 0.1,
        "y": 0.1
       },
       "content": {
        "cell": "f9c4f5d2-dfb2-4cde-b87b-aa5ee8721a47",
        "part": "whole"
       },
       "id": "fb81aec5-ee88-494b-9dd4-08922a27e7bd"
      }
     }
    },
    "7b8400b6-3343-44d0-81d7-0b8554e22f3e": {
     "id": "7b8400b6-3343-44d0-81d7-0b8554e22f3e",
     "prev": "45fcf5ff-b8f3-4719-98d6-a23ab1850020",
     "regions": {
      "1780523c-ad63-48f8-9bc9-dbcc4f0daab0": {
       "attrs": {
        "height": 0.8,
        "width": 0.8,
        "x": 0.1,
        "y": 0.1
       },
       "content": {
        "cell": "b9d874cf-5fc8-4898-9ff9-c50b7ab0995d",
        "part": "whole"
       },
       "id": "1780523c-ad63-48f8-9bc9-dbcc4f0daab0"
      }
     }
    },
    "7d9ee3e4-7648-4848-b021-7b83273bbd48": {
     "id": "7d9ee3e4-7648-4848-b021-7b83273bbd48",
     "prev": "40680e1b-48a1-4937-90f1-42701d6c5ca4",
     "regions": {
      "f6b9442d-4435-459f-b955-7f1b2d56c16f": {
       "attrs": {
        "height": 0.8,
        "width": 0.8,
        "x": 0.1,
        "y": 0.1
       },
       "content": {
        "cell": "114f5947-57e1-4653-ba88-ffb1a8f58d2a",
        "part": "whole"
       },
       "id": "f6b9442d-4435-459f-b955-7f1b2d56c16f"
      }
     }
    },
    "81c4a0c4-9f5f-4642-b45c-ed5accfff323": {
     "id": "81c4a0c4-9f5f-4642-b45c-ed5accfff323",
     "prev": "34f18634-4db8-4d19-b458-3b140fba3deb",
     "regions": {
      "61bac054-3939-48a7-9b44-dc2a3c8e7a52": {
       "attrs": {
        "height": 0.8,
        "width": 0.8,
        "x": 0.1,
        "y": 0.1
       },
       "content": {
        "cell": "9cd5db80-3ea7-4812-a69e-1caee37a3bc4",
        "part": "whole"
       },
       "id": "61bac054-3939-48a7-9b44-dc2a3c8e7a52"
      }
     }
    },
    "878b2b07-6812-4a44-9210-a95108c09439": {
     "id": "878b2b07-6812-4a44-9210-a95108c09439",
     "prev": "4a086749-7d79-43b5-a1ab-ed56166f513c",
     "regions": {
      "915a5950-49a6-418b-9eba-39722dabcc5c": {
       "attrs": {
        "height": 0.8,
        "width": 0.8,
        "x": 0.1,
        "y": 0.1
       },
       "content": {
        "cell": "40cc8c79-a51f-43af-a9ed-5a1108d15230",
        "part": "whole"
       },
       "id": "915a5950-49a6-418b-9eba-39722dabcc5c"
      }
     }
    },
    "89aa661e-ff6f-4a2c-af72-eddf05cc8fdd": {
     "id": "89aa661e-ff6f-4a2c-af72-eddf05cc8fdd",
     "prev": "1e11bdcd-54dd-43e3-8cf8-83998eaacd02",
     "regions": {
      "b111c826-d63e-42c8-a2f3-708bf0227fdd": {
       "attrs": {
        "height": 0.8,
        "width": 0.8,
        "x": 0.1,
        "y": 0.1
       },
       "content": {
        "cell": "f335cc81-3b6f-416e-93b9-7090a4b0694b",
        "part": "whole"
       },
       "id": "b111c826-d63e-42c8-a2f3-708bf0227fdd"
      }
     }
    },
    "8a43bcb3-b71b-4699-9c1d-cb7f4dc12379": {
     "id": "8a43bcb3-b71b-4699-9c1d-cb7f4dc12379",
     "prev": "f262e418-d1f7-4f3a-9cab-e5fcab5547a9",
     "regions": {
      "fc12c4eb-cc70-4dd0-95fc-e3ede2a0d818": {
       "attrs": {
        "height": 0.8,
        "width": 0.8,
        "x": 0.1,
        "y": 0.1
       },
       "content": {
        "cell": "c2048b1d-09e3-4596-b339-ee39ee5e1ab1",
        "part": "whole"
       },
       "id": "fc12c4eb-cc70-4dd0-95fc-e3ede2a0d818"
      }
     }
    },
    "8bfb6905-78fc-4fea-9c06-197b0f2d3c7d": {
     "id": "8bfb6905-78fc-4fea-9c06-197b0f2d3c7d",
     "prev": "89aa661e-ff6f-4a2c-af72-eddf05cc8fdd",
     "regions": {
      "1a30edf0-ecc8-4d77-8e2c-266bb6967666": {
       "attrs": {
        "height": 0.8,
        "width": 0.8,
        "x": 0.1,
        "y": 0.1
       },
       "content": {
        "cell": "ddfffe5c-4038-4090-942d-08197ba325c1",
        "part": "whole"
       },
       "id": "1a30edf0-ecc8-4d77-8e2c-266bb6967666"
      }
     }
    },
    "900fa4e4-2bb1-4c05-90f2-c302018978a7": {
     "id": "900fa4e4-2bb1-4c05-90f2-c302018978a7",
     "prev": "597fc827-6cb1-4dae-8060-f1dfd4cc4bd9",
     "regions": {
      "5e00ee5e-3e43-4261-9271-84fba4ca89e4": {
       "attrs": {
        "height": 0.8,
        "width": 0.8,
        "x": 0.1,
        "y": 0.1
       },
       "content": {
        "cell": "6d1a1e8c-03b1-4867-ae88-ea6662d3cdf6",
        "part": "whole"
       },
       "id": "5e00ee5e-3e43-4261-9271-84fba4ca89e4"
      }
     }
    },
    "91798617-d54a-48d5-ac23-1fdf48faf5ae": {
     "id": "91798617-d54a-48d5-ac23-1fdf48faf5ae",
     "prev": "c36e9624-14d0-4189-84a6-5a168032289d",
     "regions": {
      "4f1b1324-d358-467d-9936-5ea1a9c0e591": {
       "attrs": {
        "height": 0.8,
        "width": 0.8,
        "x": 0.1,
        "y": 0.1
       },
       "content": {
        "cell": "cecb8865-f251-4554-b4ec-86ca41c5abf5",
        "part": "whole"
       },
       "id": "4f1b1324-d358-467d-9936-5ea1a9c0e591"
      }
     }
    },
    "95fe36b6-11b2-415b-8433-cfa5cd1848d6": {
     "id": "95fe36b6-11b2-415b-8433-cfa5cd1848d6",
     "prev": "7d9ee3e4-7648-4848-b021-7b83273bbd48",
     "regions": {
      "84b9faea-90a0-4ff5-a17f-2de5380ddbde": {
       "attrs": {
        "height": 0.8,
        "width": 0.8,
        "x": 0.1,
        "y": 0.1
       },
       "content": {
        "cell": "988795c7-daac-4445-8c56-922fb7b6a679",
        "part": "whole"
       },
       "id": "84b9faea-90a0-4ff5-a17f-2de5380ddbde"
      }
     }
    },
    "97469b78-4591-4efd-88f4-51b0f21fc2ae": {
     "id": "97469b78-4591-4efd-88f4-51b0f21fc2ae",
     "prev": "9f124f0a-89b4-42f3-b740-3a6916ca572a",
     "regions": {
      "b64d9bd9-f141-49cd-a7cb-547c7f5ebbb8": {
       "attrs": {
        "height": 0.8,
        "width": 0.8,
        "x": 0.1,
        "y": 0.1
       },
       "content": {
        "cell": "1f77d63e-b497-4e96-ac9c-5dbec371ddda",
        "part": "whole"
       },
       "id": "b64d9bd9-f141-49cd-a7cb-547c7f5ebbb8"
      }
     }
    },
    "9d6a83c5-b173-4e17-acfd-19018b7321b5": {
     "id": "9d6a83c5-b173-4e17-acfd-19018b7321b5",
     "prev": "cdb6fda6-e4ad-488d-a186-f06c2f2d6fbf",
     "regions": {
      "6f9f35a1-acea-49a8-9ccd-fb3d8d8e72a2": {
       "attrs": {
        "height": 0.8,
        "width": 0.8,
        "x": 0.1,
        "y": 0.1
       },
       "content": {
        "cell": "90edde86-4314-49c9-90a6-2408bccd1b1c",
        "part": "whole"
       },
       "id": "6f9f35a1-acea-49a8-9ccd-fb3d8d8e72a2"
      }
     }
    },
    "9ddf68a9-f07f-4c64-abb2-1ec6a8e184ce": {
     "id": "9ddf68a9-f07f-4c64-abb2-1ec6a8e184ce",
     "prev": "bbaa39c3-2387-40af-983f-773a8f5f3ecb",
     "regions": {
      "b69f9c40-722e-4315-bbb6-1b6f6f2e6eb0": {
       "attrs": {
        "height": 0.8,
        "width": 0.8,
        "x": 0.1,
        "y": 0.1
       },
       "content": {
        "cell": "87e730c2-a246-4e83-9496-7db7e842a8d7",
        "part": "whole"
       },
       "id": "b69f9c40-722e-4315-bbb6-1b6f6f2e6eb0"
      }
     }
    },
    "9f124f0a-89b4-42f3-b740-3a6916ca572a": {
     "id": "9f124f0a-89b4-42f3-b740-3a6916ca572a",
     "prev": "c9950279-854c-4dc1-8ded-d6d798075548",
     "regions": {
      "035a9868-e0be-4aec-a50b-7a653e582f72": {
       "attrs": {
        "height": 0.8,
        "width": 0.8,
        "x": 0.1,
        "y": 0.1
       },
       "content": {
        "cell": "92fb3c51-2e79-408f-88e2-1d5cb3747cb3",
        "part": "whole"
       },
       "id": "035a9868-e0be-4aec-a50b-7a653e582f72"
      }
     }
    },
    "9f1b76cf-4c20-4cf7-b7c4-6aa98a959aed": {
     "id": "9f1b76cf-4c20-4cf7-b7c4-6aa98a959aed",
     "prev": "ba8b7342-7638-4602-8dde-c8afb10be733",
     "regions": {
      "8241e7f9-53c5-4320-a3d1-b294ba8cd405": {
       "attrs": {
        "height": 0.8,
        "width": 0.8,
        "x": 0.1,
        "y": 0.1
       },
       "content": {
        "cell": "180e9ec5-44cd-48df-81d9-f1a09794036c",
        "part": "whole"
       },
       "id": "8241e7f9-53c5-4320-a3d1-b294ba8cd405"
      }
     }
    },
    "a1e55107-e244-425e-a403-de892691cb62": {
     "id": "a1e55107-e244-425e-a403-de892691cb62",
     "prev": "cfd4314a-c374-49cb-a54d-d8904bea09cf",
     "regions": {
      "f07865ae-aed7-485f-8650-15feedc54e47": {
       "attrs": {
        "height": 0.8,
        "width": 0.8,
        "x": 0.1,
        "y": 0.1
       },
       "content": {
        "cell": "05eb0fe1-ad20-4fef-913d-e9ffa13e6040",
        "part": "whole"
       },
       "id": "f07865ae-aed7-485f-8650-15feedc54e47"
      }
     }
    },
    "ac8f8be9-dd87-4089-a64f-930161bc9b03": {
     "id": "ac8f8be9-dd87-4089-a64f-930161bc9b03",
     "prev": "f4a7a20b-1ee7-420b-b7cf-b29a26eea6ad",
     "regions": {
      "05fa5568-a46e-49f3-a469-748f86f426a3": {
       "attrs": {
        "height": 0.8,
        "width": 0.8,
        "x": 0.1,
        "y": 0.1
       },
       "content": {
        "cell": "36e51e4d-7af1-4bb8-8124-db5bd9e624e4",
        "part": "whole"
       },
       "id": "05fa5568-a46e-49f3-a469-748f86f426a3"
      }
     }
    },
    "b1ca65c3-e209-45ea-8e6b-47447cc040a7": {
     "id": "b1ca65c3-e209-45ea-8e6b-47447cc040a7",
     "prev": "e024759e-4744-4d82-aabe-fc1e8811cbc5",
     "regions": {
      "c29a91ae-10c5-4509-872a-a249a7cf399c": {
       "attrs": {
        "height": 0.8,
        "width": 0.8,
        "x": 0.1,
        "y": 0.1
       },
       "content": {
        "cell": "961ddc3d-44b1-4a94-8627-43896c8588ea",
        "part": "whole"
       },
       "id": "c29a91ae-10c5-4509-872a-a249a7cf399c"
      }
     }
    },
    "b25d3965-4786-464e-a00f-ad30e957429e": {
     "id": "b25d3965-4786-464e-a00f-ad30e957429e",
     "prev": "5f59e6fc-b8d8-4b7c-8a86-026f4b5f02bb",
     "regions": {
      "1230a139-45a4-48ab-806f-ca6d45bdaaad": {
       "attrs": {
        "height": 0.8,
        "width": 0.8,
        "x": 0.1,
        "y": 0.1
       },
       "content": {
        "cell": "054c0226-e49d-46f4-8c3b-b11354e77002",
        "part": "whole"
       },
       "id": "1230a139-45a4-48ab-806f-ca6d45bdaaad"
      }
     }
    },
    "b87236c5-c132-4abd-966f-26eae940d3dc": {
     "id": "b87236c5-c132-4abd-966f-26eae940d3dc",
     "prev": "d2180ebb-fb09-4dc3-bc7a-32110781da5c",
     "regions": {
      "0c451c81-a916-4762-8bd7-8d6d70d1dfb9": {
       "attrs": {
        "height": 0.8,
        "width": 0.8,
        "x": 0.1,
        "y": 0.1
       },
       "content": {
        "cell": "a660dec2-1c39-4b1b-89bc-7c1a569e4dbd",
        "part": "whole"
       },
       "id": "0c451c81-a916-4762-8bd7-8d6d70d1dfb9"
      }
     }
    },
    "ba8b7342-7638-4602-8dde-c8afb10be733": {
     "id": "ba8b7342-7638-4602-8dde-c8afb10be733",
     "prev": "22a72d88-54da-4817-87cb-60e8f116805a",
     "regions": {
      "3eb30342-1cb5-4395-9937-b1f2b881b24e": {
       "attrs": {
        "height": 0.8,
        "width": 0.8,
        "x": 0.1,
        "y": 0.1
       },
       "content": {
        "cell": "91fa47ac-2ef9-4ce1-9c9f-27a863686a5d",
        "part": "whole"
       },
       "id": "3eb30342-1cb5-4395-9937-b1f2b881b24e"
      }
     }
    },
    "bbaa39c3-2387-40af-983f-773a8f5f3ecb": {
     "id": "bbaa39c3-2387-40af-983f-773a8f5f3ecb",
     "prev": "f5f5bf91-2012-4880-805e-d68ded6ee40b",
     "regions": {
      "ac85f538-54b8-4736-b212-e4b126daf005": {
       "attrs": {
        "height": 0.8,
        "width": 0.8,
        "x": 0.1,
        "y": 0.1
       },
       "content": {
        "cell": "6e0fca55-163b-4c20-9902-e79dd7b86d5b",
        "part": "whole"
       },
       "id": "ac85f538-54b8-4736-b212-e4b126daf005"
      }
     }
    },
    "bd7b6d80-e5ee-4343-84a3-9413d9f8cf17": {
     "id": "bd7b6d80-e5ee-4343-84a3-9413d9f8cf17",
     "prev": "076e6896-2153-4fab-8a77-1b24c8d0459d",
     "regions": {
      "2ceee27e-5e33-4fc0-abc0-9de33982aeb0": {
       "attrs": {
        "height": 0.8,
        "width": 0.8,
        "x": 0.1,
        "y": 0.1
       },
       "content": {
        "cell": "f8379142-73a8-4b37-9bfc-1767aa82ce22",
        "part": "whole"
       },
       "id": "2ceee27e-5e33-4fc0-abc0-9de33982aeb0"
      }
     }
    },
    "bd8ef16d-527d-4909-8e06-11568cbaac20": {
     "id": "bd8ef16d-527d-4909-8e06-11568cbaac20",
     "prev": "c1745c0d-b9ed-4498-bb3a-1ef447e8715d",
     "regions": {
      "075ab624-44ba-4f1a-a4ce-3f87ada641fd": {
       "attrs": {
        "height": 0.8,
        "width": 0.8,
        "x": 0.1,
        "y": 0.1
       },
       "content": {
        "cell": "ddbc9cb7-f2cd-4c1b-98dd-453d86d8c02e",
        "part": "whole"
       },
       "id": "075ab624-44ba-4f1a-a4ce-3f87ada641fd"
      }
     }
    },
    "c0cb3c54-f61d-46e9-be18-8ec4d24f2756": {
     "id": "c0cb3c54-f61d-46e9-be18-8ec4d24f2756",
     "prev": "8a43bcb3-b71b-4699-9c1d-cb7f4dc12379",
     "regions": {
      "3df856c3-24e4-4108-adba-1665077d0368": {
       "attrs": {
        "height": 0.8,
        "width": 0.8,
        "x": 0.1,
        "y": 0.1
       },
       "content": {
        "cell": "d5b9d35b-fce3-42b7-97ae-e4bd89f524ad",
        "part": "whole"
       },
       "id": "3df856c3-24e4-4108-adba-1665077d0368"
      }
     }
    },
    "c0d898f8-f3fd-4d90-8d7f-fe1cf580abe6": {
     "id": "c0d898f8-f3fd-4d90-8d7f-fe1cf580abe6",
     "prev": "05f523ea-8ad1-453d-845a-8a2430ea477f",
     "regions": {
      "2053a661-29ab-4ed4-8b34-8eabf03d33a2": {
       "attrs": {
        "height": 0.8,
        "width": 0.8,
        "x": 0.1,
        "y": 0.1
       },
       "content": {
        "cell": "1eb153cb-d228-430b-b977-8500e4b9fc14",
        "part": "whole"
       },
       "id": "2053a661-29ab-4ed4-8b34-8eabf03d33a2"
      }
     }
    },
    "c1745c0d-b9ed-4498-bb3a-1ef447e8715d": {
     "id": "c1745c0d-b9ed-4498-bb3a-1ef447e8715d",
     "prev": "59264b08-16aa-472f-87d2-b9fbce48d8f3",
     "regions": {
      "c6045b9c-e1a2-43e1-a2d9-ccf5c6b1f22e": {
       "attrs": {
        "height": 0.8,
        "width": 0.8,
        "x": 0.1,
        "y": 0.1
       },
       "content": {
        "cell": "9a2a346c-d87d-4e11-b9a3-108c0c867413",
        "part": "whole"
       },
       "id": "c6045b9c-e1a2-43e1-a2d9-ccf5c6b1f22e"
      }
     }
    },
    "c20c6a07-d803-43e8-b74f-e84a6c1ad090": {
     "id": "c20c6a07-d803-43e8-b74f-e84a6c1ad090",
     "prev": "c98dda4d-37ee-4f11-98c9-598e18f641b1",
     "regions": {
      "48dc0ea9-bc94-471f-a6fe-1bfd45db53bb": {
       "attrs": {
        "height": 0.8,
        "width": 0.8,
        "x": 0.1,
        "y": 0.1
       },
       "content": {
        "cell": "420dfa09-a1a6-454a-a840-bdfc04711b85",
        "part": "whole"
       },
       "id": "48dc0ea9-bc94-471f-a6fe-1bfd45db53bb"
      }
     }
    },
    "c273aeee-7be1-44b3-a29c-f39dde472246": {
     "id": "c273aeee-7be1-44b3-a29c-f39dde472246",
     "prev": "fbe65756-51dd-458b-ae9d-799f6685bd61",
     "regions": {
      "08626b12-3b5d-4696-b7ea-aa7b773e262d": {
       "attrs": {
        "height": 0.8,
        "width": 0.8,
        "x": 0.1,
        "y": 0.1
       },
       "content": {
        "cell": "085101b3-9840-4b69-8a68-933f4cba671d",
        "part": "whole"
       },
       "id": "08626b12-3b5d-4696-b7ea-aa7b773e262d"
      }
     }
    },
    "c36e9624-14d0-4189-84a6-5a168032289d": {
     "id": "c36e9624-14d0-4189-84a6-5a168032289d",
     "prev": "8bfb6905-78fc-4fea-9c06-197b0f2d3c7d",
     "regions": {
      "9ede79fa-b447-480c-9754-318c7f4a0485": {
       "attrs": {
        "height": 0.8,
        "width": 0.8,
        "x": 0.1,
        "y": 0.1
       },
       "content": {
        "cell": "e3792d37-cf2a-4cc2-8ff8-bdfec9d8a0cc",
        "part": "whole"
       },
       "id": "9ede79fa-b447-480c-9754-318c7f4a0485"
      }
     }
    },
    "c48d8b90-2a24-4f1d-a569-cf33efc2d407": {
     "id": "c48d8b90-2a24-4f1d-a569-cf33efc2d407",
     "prev": "13920123-db95-4d44-8fe8-c57d1de8d7f4",
     "regions": {
      "f23ebb73-64de-413c-864c-7465b46322a9": {
       "attrs": {
        "height": 0.8,
        "width": 0.8,
        "x": 0.1,
        "y": 0.1
       },
       "content": {
        "cell": "98fa0ab9-3feb-4a2f-9667-ad6c4a97c1bc",
        "part": "whole"
       },
       "id": "f23ebb73-64de-413c-864c-7465b46322a9"
      }
     }
    },
    "c98dda4d-37ee-4f11-98c9-598e18f641b1": {
     "id": "c98dda4d-37ee-4f11-98c9-598e18f641b1",
     "prev": "e5671ea1-5e98-48b8-bf21-99ce2405f506",
     "regions": {
      "2edaee01-66c8-4897-821e-a683f9175526": {
       "attrs": {
        "height": 0.8,
        "width": 0.8,
        "x": 0.1,
        "y": 0.1
       },
       "content": {
        "cell": "d2b20d93-da12-4928-b0dd-4214a33497f9",
        "part": "whole"
       },
       "id": "2edaee01-66c8-4897-821e-a683f9175526"
      }
     }
    },
    "c9950279-854c-4dc1-8ded-d6d798075548": {
     "id": "c9950279-854c-4dc1-8ded-d6d798075548",
     "prev": "c20c6a07-d803-43e8-b74f-e84a6c1ad090",
     "regions": {
      "e5ec579a-7ca6-47b3-a300-1ade702b57b1": {
       "attrs": {
        "height": 0.8,
        "width": 0.8,
        "x": 0.1,
        "y": 0.1
       },
       "content": {
        "cell": "68a5e109-f83c-45bd-8aff-da067c190463",
        "part": "whole"
       },
       "id": "e5ec579a-7ca6-47b3-a300-1ade702b57b1"
      }
     }
    },
    "cdb6fda6-e4ad-488d-a186-f06c2f2d6fbf": {
     "id": "cdb6fda6-e4ad-488d-a186-f06c2f2d6fbf",
     "prev": "c0cb3c54-f61d-46e9-be18-8ec4d24f2756",
     "regions": {
      "2fe7b8f1-2e9c-448c-ad14-2f56cb691162": {
       "attrs": {
        "height": 0.8,
        "width": 0.8,
        "x": 0.1,
        "y": 0.1
       },
       "content": {
        "cell": "c2d865f5-be7f-4258-8014-fe1b01b8b89c",
        "part": "whole"
       },
       "id": "2fe7b8f1-2e9c-448c-ad14-2f56cb691162"
      }
     }
    },
    "ce785417-0b45-42f6-a55b-c711baafdffe": {
     "id": "ce785417-0b45-42f6-a55b-c711baafdffe",
     "prev": "81c4a0c4-9f5f-4642-b45c-ed5accfff323",
     "regions": {
      "4f912aa8-c986-4801-b418-1f80230b8482": {
       "attrs": {
        "height": 0.8,
        "width": 0.8,
        "x": 0.1,
        "y": 0.1
       },
       "content": {
        "cell": "ae53f425-b430-45a4-96e7-707b3165ab6b",
        "part": "whole"
       },
       "id": "4f912aa8-c986-4801-b418-1f80230b8482"
      }
     }
    },
    "cfd4314a-c374-49cb-a54d-d8904bea09cf": {
     "id": "cfd4314a-c374-49cb-a54d-d8904bea09cf",
     "prev": "c273aeee-7be1-44b3-a29c-f39dde472246",
     "regions": {
      "2d4ef199-a904-48a4-abad-8bf05e6d768e": {
       "attrs": {
        "height": 0.8,
        "width": 0.8,
        "x": 0.1,
        "y": 0.1
       },
       "content": {
        "cell": "0d2dceb4-cb9f-462b-b5f1-b179b573105c",
        "part": "whole"
       },
       "id": "2d4ef199-a904-48a4-abad-8bf05e6d768e"
      }
     }
    },
    "d1ba85ed-b354-415e-a0b3-0dc66c7cc928": {
     "id": "d1ba85ed-b354-415e-a0b3-0dc66c7cc928",
     "prev": "d5d59df0-d3af-489c-9a96-01ce00d7cb0a",
     "regions": {
      "84a0d4cc-0148-4872-8f83-7bc3ed98f963": {
       "attrs": {
        "height": 0.8,
        "width": 0.8,
        "x": 0.1,
        "y": 0.1
       },
       "content": {
        "cell": "7f4368f7-a3ff-4d05-8e12-ba49b2c1cfde",
        "part": "whole"
       },
       "id": "84a0d4cc-0148-4872-8f83-7bc3ed98f963"
      }
     }
    },
    "d2180ebb-fb09-4dc3-bc7a-32110781da5c": {
     "id": "d2180ebb-fb09-4dc3-bc7a-32110781da5c",
     "prev": "551fb2af-a20e-4ae1-984d-bf2b6287b29c",
     "regions": {
      "5232a528-672d-45cb-934a-b92235dfb73e": {
       "attrs": {
        "height": 0.8,
        "width": 0.8,
        "x": 0.1,
        "y": 0.1
       },
       "content": {
        "cell": "d9fb9ef4-fcd3-4800-a9d4-315dc219b613",
        "part": "whole"
       },
       "id": "5232a528-672d-45cb-934a-b92235dfb73e"
      }
     }
    },
    "d4c252c5-1666-43f0-b83a-ea7fe591b2a7": {
     "id": "d4c252c5-1666-43f0-b83a-ea7fe591b2a7",
     "prev": "bd8ef16d-527d-4909-8e06-11568cbaac20",
     "regions": {
      "a5b0d08a-3239-401e-9af0-8b705b606695": {
       "attrs": {
        "height": 0.8,
        "width": 0.8,
        "x": 0.1,
        "y": 0.1
       },
       "content": {
        "cell": "df1a4b94-e692-4ef6-9046-b2f35e334be2",
        "part": "whole"
       },
       "id": "a5b0d08a-3239-401e-9af0-8b705b606695"
      }
     }
    },
    "d56ef0cf-3df2-44f5-9a46-d0ae437c9e56": {
     "id": "d56ef0cf-3df2-44f5-9a46-d0ae437c9e56",
     "prev": "30eb2758-6cda-4835-ae47-7e620498c8e0",
     "regions": {
      "3bc3d622-699e-4be1-a4cc-f4f719a4484f": {
       "attrs": {
        "height": 0.8,
        "width": 0.8,
        "x": 0.1,
        "y": 0.1
       },
       "content": {
        "cell": "fe3e5df6-4c87-4406-9e8c-2ba1ba0fee0c",
        "part": "whole"
       },
       "id": "3bc3d622-699e-4be1-a4cc-f4f719a4484f"
      }
     }
    },
    "d5c98acb-8a48-4e84-8aab-5aaa37e53b84": {
     "id": "d5c98acb-8a48-4e84-8aab-5aaa37e53b84",
     "prev": "f2fbd273-b4bf-4644-b38d-f17104544b69",
     "regions": {
      "8d3eb57f-2fd9-49ad-a228-d0aec67b6325": {
       "attrs": {
        "height": 0.8,
        "width": 0.8,
        "x": 0.1,
        "y": 0.1
       },
       "content": {
        "cell": "64745e83-b13f-4300-b7c9-5c18cd5c7357",
        "part": "whole"
       },
       "id": "8d3eb57f-2fd9-49ad-a228-d0aec67b6325"
      }
     }
    },
    "d5d59df0-d3af-489c-9a96-01ce00d7cb0a": {
     "id": "d5d59df0-d3af-489c-9a96-01ce00d7cb0a",
     "prev": "01fa3c56-6d56-401e-a30f-e1612c83c20e",
     "regions": {
      "fe57eb8e-ac81-4d05-ab13-ad8c76327d43": {
       "attrs": {
        "height": 0.8,
        "width": 0.8,
        "x": 0.1,
        "y": 0.1
       },
       "content": {
        "cell": "6717a91d-1594-4399-adf3-b06f9bacd848",
        "part": "whole"
       },
       "id": "fe57eb8e-ac81-4d05-ab13-ad8c76327d43"
      }
     }
    },
    "e024759e-4744-4d82-aabe-fc1e8811cbc5": {
     "id": "e024759e-4744-4d82-aabe-fc1e8811cbc5",
     "prev": "6957fea0-eae9-46d6-ad69-99667a291082",
     "regions": {
      "441a5a0b-af5b-491a-b132-fc5298d9c7f6": {
       "attrs": {
        "height": 0.8,
        "width": 0.8,
        "x": 0.1,
        "y": 0.1
       },
       "content": {
        "cell": "29c50b82-871b-4212-bc5f-30f2f243386a",
        "part": "whole"
       },
       "id": "441a5a0b-af5b-491a-b132-fc5298d9c7f6"
      }
     }
    },
    "e0d40fe4-3f25-408e-87e2-80e58e530c4c": {
     "id": "e0d40fe4-3f25-408e-87e2-80e58e530c4c",
     "prev": "a1e55107-e244-425e-a403-de892691cb62",
     "regions": {
      "4968cf14-0c8e-4c55-aeab-83150045f0df": {
       "attrs": {
        "height": 0.8,
        "width": 0.8,
        "x": 0.1,
        "y": 0.1
       },
       "content": {
        "cell": "51fc4011-00ec-4c89-9952-46d9416ee240",
        "part": "whole"
       },
       "id": "4968cf14-0c8e-4c55-aeab-83150045f0df"
      }
     }
    },
    "e3c4a2f2-98ff-4c1f-ba1b-1143f4534876": {
     "id": "e3c4a2f2-98ff-4c1f-ba1b-1143f4534876",
     "prev": "011c8727-f965-4fd0-8c50-91c0ba7c7a32",
     "regions": {
      "b0f9fe87-099e-4a48-80cb-b7d9a421af77": {
       "attrs": {
        "height": 0.8,
        "width": 0.8,
        "x": 0.1,
        "y": 0.1
       },
       "content": {
        "cell": "c3166b7b-6c17-4bfc-b53f-87d8fe4a532a",
        "part": "whole"
       },
       "id": "b0f9fe87-099e-4a48-80cb-b7d9a421af77"
      }
     }
    },
    "e5671ea1-5e98-48b8-bf21-99ce2405f506": {
     "id": "e5671ea1-5e98-48b8-bf21-99ce2405f506",
     "prev": "4adf7dce-8289-4885-9f49-617d4dd973af",
     "regions": {
      "bb8e7d6a-e8b5-4b55-b23e-6ebbc6fa68ea": {
       "attrs": {
        "height": 0.8,
        "width": 0.8,
        "x": 0.1,
        "y": 0.1
       },
       "content": {
        "cell": "c043c4b0-02e0-4f39-b242-6bdeca1be2ba",
        "part": "whole"
       },
       "id": "bb8e7d6a-e8b5-4b55-b23e-6ebbc6fa68ea"
      }
     }
    },
    "e8026a70-a900-4cfe-8779-4eed3147dcb7": {
     "id": "e8026a70-a900-4cfe-8779-4eed3147dcb7",
     "prev": "124bac25-96b5-40f9-90f3-39a8d79d025e",
     "regions": {
      "21e0d56c-ca25-4dec-a9fd-c51aba160b32": {
       "attrs": {
        "height": 0.8,
        "width": 0.8,
        "x": 0.1,
        "y": 0.1
       },
       "content": {
        "cell": "939da919-ffa0-4712-a909-81f9364db52c",
        "part": "whole"
       },
       "id": "21e0d56c-ca25-4dec-a9fd-c51aba160b32"
      }
     }
    },
    "f19d8cd7-db60-4f5d-a9d8-7ebe1c3f2626": {
     "id": "f19d8cd7-db60-4f5d-a9d8-7ebe1c3f2626",
     "prev": "b25d3965-4786-464e-a00f-ad30e957429e",
     "regions": {
      "df0fd453-f224-40b4-840d-6627e1def671": {
       "attrs": {
        "height": 0.8,
        "width": 0.8,
        "x": 0.1,
        "y": 0.1
       },
       "content": {
        "cell": "89d6f43a-c13d-4fa4-bf0c-22c24724762c",
        "part": "whole"
       },
       "id": "df0fd453-f224-40b4-840d-6627e1def671"
      }
     }
    },
    "f262e418-d1f7-4f3a-9cab-e5fcab5547a9": {
     "id": "f262e418-d1f7-4f3a-9cab-e5fcab5547a9",
     "prev": "e0d40fe4-3f25-408e-87e2-80e58e530c4c",
     "regions": {
      "00400072-3711-4183-8c8e-5b850a685266": {
       "attrs": {
        "height": 0.8,
        "width": 0.8,
        "x": 0.1,
        "y": 0.1
       },
       "content": {
        "cell": "ce6b38da-a8ae-43f0-94c1-32d78ce8cd07",
        "part": "whole"
       },
       "id": "00400072-3711-4183-8c8e-5b850a685266"
      }
     }
    },
    "f2fbd273-b4bf-4644-b38d-f17104544b69": {
     "id": "f2fbd273-b4bf-4644-b38d-f17104544b69",
     "prev": "e8026a70-a900-4cfe-8779-4eed3147dcb7",
     "regions": {
      "59e02517-e6b5-4789-aca7-71b3cbb8994d": {
       "attrs": {
        "height": 0.8,
        "width": 0.8,
        "x": 0.1,
        "y": 0.1
       },
       "content": {
        "cell": "546dfaeb-86eb-4018-bc53-c7ef2728936b",
        "part": "whole"
       },
       "id": "59e02517-e6b5-4789-aca7-71b3cbb8994d"
      }
     }
    },
    "f4a7a20b-1ee7-420b-b7cf-b29a26eea6ad": {
     "id": "f4a7a20b-1ee7-420b-b7cf-b29a26eea6ad",
     "prev": "340add32-8623-491b-9735-9861f8eb6022",
     "regions": {
      "2686248a-a2f1-4f7f-bd5b-055648d1c3c5": {
       "attrs": {
        "height": 0.8,
        "width": 0.8,
        "x": 0.1,
        "y": 0.1
       },
       "content": {
        "cell": "600309f8-9d06-4879-babd-837cebc81e73",
        "part": "whole"
       },
       "id": "2686248a-a2f1-4f7f-bd5b-055648d1c3c5"
      }
     }
    },
    "f5f5bf91-2012-4880-805e-d68ded6ee40b": {
     "id": "f5f5bf91-2012-4880-805e-d68ded6ee40b",
     "prev": "13325a8d-74bd-4eeb-bd68-2a0cad9a12b3",
     "regions": {
      "16276ffc-5aac-49a2-addf-579bb0732221": {
       "attrs": {
        "height": 0.8,
        "width": 0.8,
        "x": 0.1,
        "y": 0.1
       },
       "content": {
        "cell": "e0536967-e923-4503-8062-52054c00a067",
        "part": "whole"
       },
       "id": "16276ffc-5aac-49a2-addf-579bb0732221"
      }
     }
    },
    "f86a8786-c627-4785-9f50-f4c39a214174": {
     "id": "f86a8786-c627-4785-9f50-f4c39a214174",
     "prev": "9f1b76cf-4c20-4cf7-b7c4-6aa98a959aed",
     "regions": {
      "b93711e6-3dd4-41dc-9f2a-6e1ed09df7b7": {
       "attrs": {
        "height": 0.8,
        "width": 0.8,
        "x": 0.1,
        "y": 0.1
       },
       "content": {
        "cell": "6d0faa7f-adf7-4fd6-9e43-509cd0173dca",
        "part": "whole"
       },
       "id": "b93711e6-3dd4-41dc-9f2a-6e1ed09df7b7"
      }
     }
    },
    "fbe65756-51dd-458b-ae9d-799f6685bd61": {
     "id": "fbe65756-51dd-458b-ae9d-799f6685bd61",
     "prev": "c48d8b90-2a24-4f1d-a569-cf33efc2d407",
     "regions": {
      "1bcb4b71-896a-4b20-9815-bbd5e93b1926": {
       "attrs": {
        "height": 0.8,
        "width": 0.8,
        "x": 0.1,
        "y": 0.1
       },
       "content": {
        "cell": "a229ac0d-fde3-4912-a36c-722816ce7f5e",
        "part": "whole"
       },
       "id": "1bcb4b71-896a-4b20-9815-bbd5e93b1926"
      }
     }
    },
    "fdbbad22-3a91-475b-8a97-92354e1e5d0f": {
     "id": "fdbbad22-3a91-475b-8a97-92354e1e5d0f",
     "prev": "b1ca65c3-e209-45ea-8e6b-47447cc040a7",
     "regions": {
      "d70abc29-f0dc-4d50-93fa-ec543d0be1d5": {
       "attrs": {
        "height": 0.8,
        "width": 0.8,
        "x": 0.1,
        "y": 0.1
       },
       "content": {
        "cell": "b249e00c-af32-4e86-8928-1f3ebe10ba31",
        "part": "whole"
       },
       "id": "d70abc29-f0dc-4d50-93fa-ec543d0be1d5"
      }
     }
    }
   },
   "themes": {}
  }
 },
 "nbformat": 4,
 "nbformat_minor": 1
}
